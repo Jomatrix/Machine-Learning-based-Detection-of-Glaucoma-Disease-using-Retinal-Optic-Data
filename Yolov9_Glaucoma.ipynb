{
  "nbformat": 4,
  "nbformat_minor": 0,
  "metadata": {
    "colab": {
      "provenance": [],
      "gpuType": "T4",
      "authorship_tag": "ABX9TyMnTmVnZ/EOjxKtFXDVUqRX",
      "include_colab_link": true
    },
    "kernelspec": {
      "name": "python3",
      "display_name": "Python 3"
    },
    "language_info": {
      "name": "python"
    },
    "accelerator": "GPU"
  },
  "cells": [
    {
      "cell_type": "markdown",
      "metadata": {
        "id": "view-in-github",
        "colab_type": "text"
      },
      "source": [
        "<a href=\"https://colab.research.google.com/github/Jomatrix/Machine-Learning-based-Detection-of-Glaucoma-Disease-using-Retinal-Optic-Data/blob/main/Yolov9_Glaucoma.ipynb\" target=\"_parent\"><img src=\"https://colab.research.google.com/assets/colab-badge.svg\" alt=\"Open In Colab\"/></a>"
      ]
    },
    {
      "cell_type": "code",
      "source": [
        "!pip install roboflow\n",
        "!pip install ultralytics"
      ],
      "metadata": {
        "colab": {
          "base_uri": "https://localhost:8080/"
        },
        "id": "d8eMIg6hPtfn",
        "outputId": "6615b0fd-646f-4716-fbd5-d43f457254eb",
        "collapsed": true
      },
      "execution_count": null,
      "outputs": [
        {
          "output_type": "stream",
          "name": "stdout",
          "text": [
            "Collecting roboflow\n",
            "  Downloading roboflow-1.1.49-py3-none-any.whl.metadata (9.7 kB)\n",
            "Requirement already satisfied: certifi in /usr/local/lib/python3.10/dist-packages (from roboflow) (2024.8.30)\n",
            "Collecting idna==3.7 (from roboflow)\n",
            "  Downloading idna-3.7-py3-none-any.whl.metadata (9.9 kB)\n",
            "Requirement already satisfied: cycler in /usr/local/lib/python3.10/dist-packages (from roboflow) (0.12.1)\n",
            "Requirement already satisfied: kiwisolver>=1.3.1 in /usr/local/lib/python3.10/dist-packages (from roboflow) (1.4.7)\n",
            "Requirement already satisfied: matplotlib in /usr/local/lib/python3.10/dist-packages (from roboflow) (3.8.0)\n",
            "Requirement already satisfied: numpy>=1.18.5 in /usr/local/lib/python3.10/dist-packages (from roboflow) (1.26.4)\n",
            "Requirement already satisfied: opencv-python-headless==4.10.0.84 in /usr/local/lib/python3.10/dist-packages (from roboflow) (4.10.0.84)\n",
            "Requirement already satisfied: Pillow>=7.1.2 in /usr/local/lib/python3.10/dist-packages (from roboflow) (10.4.0)\n",
            "Requirement already satisfied: python-dateutil in /usr/local/lib/python3.10/dist-packages (from roboflow) (2.8.2)\n",
            "Collecting python-dotenv (from roboflow)\n",
            "  Downloading python_dotenv-1.0.1-py3-none-any.whl.metadata (23 kB)\n",
            "Requirement already satisfied: requests in /usr/local/lib/python3.10/dist-packages (from roboflow) (2.32.3)\n",
            "Requirement already satisfied: six in /usr/local/lib/python3.10/dist-packages (from roboflow) (1.16.0)\n",
            "Requirement already satisfied: urllib3>=1.26.6 in /usr/local/lib/python3.10/dist-packages (from roboflow) (2.2.3)\n",
            "Requirement already satisfied: tqdm>=4.41.0 in /usr/local/lib/python3.10/dist-packages (from roboflow) (4.66.6)\n",
            "Requirement already satisfied: PyYAML>=5.3.1 in /usr/local/lib/python3.10/dist-packages (from roboflow) (6.0.2)\n",
            "Requirement already satisfied: requests-toolbelt in /usr/local/lib/python3.10/dist-packages (from roboflow) (1.0.0)\n",
            "Collecting filetype (from roboflow)\n",
            "  Downloading filetype-1.2.0-py2.py3-none-any.whl.metadata (6.5 kB)\n",
            "Requirement already satisfied: contourpy>=1.0.1 in /usr/local/lib/python3.10/dist-packages (from matplotlib->roboflow) (1.3.0)\n",
            "Requirement already satisfied: fonttools>=4.22.0 in /usr/local/lib/python3.10/dist-packages (from matplotlib->roboflow) (4.54.1)\n",
            "Requirement already satisfied: packaging>=20.0 in /usr/local/lib/python3.10/dist-packages (from matplotlib->roboflow) (24.1)\n",
            "Requirement already satisfied: pyparsing>=2.3.1 in /usr/local/lib/python3.10/dist-packages (from matplotlib->roboflow) (3.2.0)\n",
            "Requirement already satisfied: charset-normalizer<4,>=2 in /usr/local/lib/python3.10/dist-packages (from requests->roboflow) (3.4.0)\n",
            "Downloading roboflow-1.1.49-py3-none-any.whl (80 kB)\n",
            "\u001b[2K   \u001b[90m━━━━━━━━━━━━━━━━━━━━━━━━━━━━━━━━━━━━━━━━\u001b[0m \u001b[32m80.9/80.9 kB\u001b[0m \u001b[31m3.3 MB/s\u001b[0m eta \u001b[36m0:00:00\u001b[0m\n",
            "\u001b[?25hDownloading idna-3.7-py3-none-any.whl (66 kB)\n",
            "\u001b[2K   \u001b[90m━━━━━━━━━━━━━━━━━━━━━━━━━━━━━━━━━━━━━━━━\u001b[0m \u001b[32m66.8/66.8 kB\u001b[0m \u001b[31m4.7 MB/s\u001b[0m eta \u001b[36m0:00:00\u001b[0m\n",
            "\u001b[?25hDownloading filetype-1.2.0-py2.py3-none-any.whl (19 kB)\n",
            "Downloading python_dotenv-1.0.1-py3-none-any.whl (19 kB)\n",
            "Installing collected packages: filetype, python-dotenv, idna, roboflow\n",
            "  Attempting uninstall: idna\n",
            "    Found existing installation: idna 3.10\n",
            "    Uninstalling idna-3.10:\n",
            "      Successfully uninstalled idna-3.10\n",
            "Successfully installed filetype-1.2.0 idna-3.7 python-dotenv-1.0.1 roboflow-1.1.49\n",
            "Collecting ultralytics\n",
            "  Downloading ultralytics-8.3.27-py3-none-any.whl.metadata (35 kB)\n",
            "Requirement already satisfied: numpy>=1.23.0 in /usr/local/lib/python3.10/dist-packages (from ultralytics) (1.26.4)\n",
            "Requirement already satisfied: matplotlib>=3.3.0 in /usr/local/lib/python3.10/dist-packages (from ultralytics) (3.8.0)\n",
            "Requirement already satisfied: opencv-python>=4.6.0 in /usr/local/lib/python3.10/dist-packages (from ultralytics) (4.10.0.84)\n",
            "Requirement already satisfied: pillow>=7.1.2 in /usr/local/lib/python3.10/dist-packages (from ultralytics) (10.4.0)\n",
            "Requirement already satisfied: pyyaml>=5.3.1 in /usr/local/lib/python3.10/dist-packages (from ultralytics) (6.0.2)\n",
            "Requirement already satisfied: requests>=2.23.0 in /usr/local/lib/python3.10/dist-packages (from ultralytics) (2.32.3)\n",
            "Requirement already satisfied: scipy>=1.4.1 in /usr/local/lib/python3.10/dist-packages (from ultralytics) (1.13.1)\n",
            "Requirement already satisfied: torch>=1.8.0 in /usr/local/lib/python3.10/dist-packages (from ultralytics) (2.5.0+cu121)\n",
            "Requirement already satisfied: torchvision>=0.9.0 in /usr/local/lib/python3.10/dist-packages (from ultralytics) (0.20.0+cu121)\n",
            "Requirement already satisfied: tqdm>=4.64.0 in /usr/local/lib/python3.10/dist-packages (from ultralytics) (4.66.6)\n",
            "Requirement already satisfied: psutil in /usr/local/lib/python3.10/dist-packages (from ultralytics) (5.9.5)\n",
            "Requirement already satisfied: py-cpuinfo in /usr/local/lib/python3.10/dist-packages (from ultralytics) (9.0.0)\n",
            "Requirement already satisfied: pandas>=1.1.4 in /usr/local/lib/python3.10/dist-packages (from ultralytics) (2.2.2)\n",
            "Requirement already satisfied: seaborn>=0.11.0 in /usr/local/lib/python3.10/dist-packages (from ultralytics) (0.13.2)\n",
            "Collecting ultralytics-thop>=2.0.0 (from ultralytics)\n",
            "  Downloading ultralytics_thop-2.0.10-py3-none-any.whl.metadata (9.4 kB)\n",
            "Requirement already satisfied: contourpy>=1.0.1 in /usr/local/lib/python3.10/dist-packages (from matplotlib>=3.3.0->ultralytics) (1.3.0)\n",
            "Requirement already satisfied: cycler>=0.10 in /usr/local/lib/python3.10/dist-packages (from matplotlib>=3.3.0->ultralytics) (0.12.1)\n",
            "Requirement already satisfied: fonttools>=4.22.0 in /usr/local/lib/python3.10/dist-packages (from matplotlib>=3.3.0->ultralytics) (4.54.1)\n",
            "Requirement already satisfied: kiwisolver>=1.0.1 in /usr/local/lib/python3.10/dist-packages (from matplotlib>=3.3.0->ultralytics) (1.4.7)\n",
            "Requirement already satisfied: packaging>=20.0 in /usr/local/lib/python3.10/dist-packages (from matplotlib>=3.3.0->ultralytics) (24.1)\n",
            "Requirement already satisfied: pyparsing>=2.3.1 in /usr/local/lib/python3.10/dist-packages (from matplotlib>=3.3.0->ultralytics) (3.2.0)\n",
            "Requirement already satisfied: python-dateutil>=2.7 in /usr/local/lib/python3.10/dist-packages (from matplotlib>=3.3.0->ultralytics) (2.8.2)\n",
            "Requirement already satisfied: pytz>=2020.1 in /usr/local/lib/python3.10/dist-packages (from pandas>=1.1.4->ultralytics) (2024.2)\n",
            "Requirement already satisfied: tzdata>=2022.7 in /usr/local/lib/python3.10/dist-packages (from pandas>=1.1.4->ultralytics) (2024.2)\n",
            "Requirement already satisfied: charset-normalizer<4,>=2 in /usr/local/lib/python3.10/dist-packages (from requests>=2.23.0->ultralytics) (3.4.0)\n",
            "Requirement already satisfied: idna<4,>=2.5 in /usr/local/lib/python3.10/dist-packages (from requests>=2.23.0->ultralytics) (3.7)\n",
            "Requirement already satisfied: urllib3<3,>=1.21.1 in /usr/local/lib/python3.10/dist-packages (from requests>=2.23.0->ultralytics) (2.2.3)\n",
            "Requirement already satisfied: certifi>=2017.4.17 in /usr/local/lib/python3.10/dist-packages (from requests>=2.23.0->ultralytics) (2024.8.30)\n",
            "Requirement already satisfied: filelock in /usr/local/lib/python3.10/dist-packages (from torch>=1.8.0->ultralytics) (3.16.1)\n",
            "Requirement already satisfied: typing-extensions>=4.8.0 in /usr/local/lib/python3.10/dist-packages (from torch>=1.8.0->ultralytics) (4.12.2)\n",
            "Requirement already satisfied: networkx in /usr/local/lib/python3.10/dist-packages (from torch>=1.8.0->ultralytics) (3.4.2)\n",
            "Requirement already satisfied: jinja2 in /usr/local/lib/python3.10/dist-packages (from torch>=1.8.0->ultralytics) (3.1.4)\n",
            "Requirement already satisfied: fsspec in /usr/local/lib/python3.10/dist-packages (from torch>=1.8.0->ultralytics) (2024.10.0)\n",
            "Requirement already satisfied: sympy==1.13.1 in /usr/local/lib/python3.10/dist-packages (from torch>=1.8.0->ultralytics) (1.13.1)\n",
            "Requirement already satisfied: mpmath<1.4,>=1.1.0 in /usr/local/lib/python3.10/dist-packages (from sympy==1.13.1->torch>=1.8.0->ultralytics) (1.3.0)\n",
            "Requirement already satisfied: six>=1.5 in /usr/local/lib/python3.10/dist-packages (from python-dateutil>=2.7->matplotlib>=3.3.0->ultralytics) (1.16.0)\n",
            "Requirement already satisfied: MarkupSafe>=2.0 in /usr/local/lib/python3.10/dist-packages (from jinja2->torch>=1.8.0->ultralytics) (3.0.2)\n",
            "Downloading ultralytics-8.3.27-py3-none-any.whl (878 kB)\n",
            "\u001b[2K   \u001b[90m━━━━━━━━━━━━━━━━━━━━━━━━━━━━━━━━━━━━━━━━\u001b[0m \u001b[32m879.0/879.0 kB\u001b[0m \u001b[31m14.6 MB/s\u001b[0m eta \u001b[36m0:00:00\u001b[0m\n",
            "\u001b[?25hDownloading ultralytics_thop-2.0.10-py3-none-any.whl (26 kB)\n",
            "Installing collected packages: ultralytics-thop, ultralytics\n",
            "Successfully installed ultralytics-8.3.27 ultralytics-thop-2.0.10\n"
          ]
        }
      ]
    },
    {
      "cell_type": "code",
      "source": [
        "from roboflow import Roboflow\n",
        "import torch\n",
        "from ultralytics import YOLO\n",
        "import matplotlib.pyplot as plt\n",
        "import cv2\n",
        "from google.colab.patches import cv2_imshow\n",
        "import numpy as np\n",
        "import os\n",
        "import glob\n",
        "import pandas as pd\n",
        "from sklearn.svm import SVC\n",
        "from sklearn.metrics import (accuracy_score, classification_report, confusion_matrix,\n",
        "                             roc_auc_score, roc_curve)\n",
        "from sklearn.preprocessing import StandardScaler\n",
        "import seaborn as sns\n",
        "from sklearn.model_selection import StratifiedKFold"
      ],
      "metadata": {
        "id": "t6aCJOtWX23x",
        "colab": {
          "base_uri": "https://localhost:8080/"
        },
        "outputId": "4016e39e-19f0-468a-83ff-c3fa18a95d68"
      },
      "execution_count": null,
      "outputs": [
        {
          "output_type": "stream",
          "name": "stdout",
          "text": [
            "Creating new Ultralytics Settings v0.0.6 file ✅ \n",
            "View Ultralytics Settings with 'yolo settings' or at '/root/.config/Ultralytics/settings.json'\n",
            "Update Settings with 'yolo settings key=value', i.e. 'yolo settings runs_dir=path/to/dir'. For help see https://docs.ultralytics.com/quickstart/#ultralytics-settings.\n"
          ]
        }
      ]
    },
    {
      "cell_type": "code",
      "source": [
        "!unzip M_G-DS-1-4.zip"
      ],
      "metadata": {
        "colab": {
          "base_uri": "https://localhost:8080/"
        },
        "collapsed": true,
        "id": "9VrtIkOwuxHi",
        "outputId": "4df38802-e042-4360-ba43-784107b2a475"
      },
      "execution_count": null,
      "outputs": [
        {
          "output_type": "stream",
          "name": "stdout",
          "text": [
            "Archive:  M_G-DS-1-4.zip\n",
            "   creating: M_G-DS-1-4/\n",
            "  inflating: M_G-DS-1-4/data.yaml    \n",
            "  inflating: M_G-DS-1-4/README.dataset.txt  \n",
            "  inflating: M_G-DS-1-4/README.roboflow.txt  \n",
            "   creating: M_G-DS-1-4/test/\n",
            "   creating: M_G-DS-1-4/test/images/\n",
            "  inflating: M_G-DS-1-4/test/images/074_jpg.rf.f548e0760b0d00e24e9010f89c88f2fe.jpg  \n",
            "  inflating: M_G-DS-1-4/test/images/078_jpg.rf.0337ecf415370f16477c6bf40a7c4c9b.jpg  \n",
            "  inflating: M_G-DS-1-4/test/images/081_jpg.rf.cc3be1cfc85b489514ea913189f80769.jpg  \n",
            "  inflating: M_G-DS-1-4/test/images/101_jpg.rf.4b1a7fe14f562fe82791a82e0f26dcf3.jpg  \n",
            "  inflating: M_G-DS-1-4/test/images/106_jpg.rf.80e19aaa1e0c07357db09e5f2bfc70ec.jpg  \n",
            "  inflating: M_G-DS-1-4/test/images/107_jpg.rf.2e2af3b621f5265b2b4f59085e8d31d4.jpg  \n",
            "  inflating: M_G-DS-1-4/test/images/111_jpg.rf.3e34dcef512a07bbc4b0df8e2270fa4b.jpg  \n",
            "  inflating: M_G-DS-1-4/test/images/117_jpg.rf.9cae682ea4bec4f9e2b8fffc88fbe60e.jpg  \n",
            "  inflating: M_G-DS-1-4/test/images/362_g_jpg.rf.9ca9d70200a39a862d0826363231eadd.jpg  \n",
            "  inflating: M_G-DS-1-4/test/images/366_g_jpg.rf.570e05864120d59443998205d4ef8208.jpg  \n",
            "  inflating: M_G-DS-1-4/test/images/381_g_jpg.rf.2b64212662610c9de4c7d89fe2d0f79a.jpg  \n",
            "  inflating: M_G-DS-1-4/test/images/389_g_jpg.rf.1202996575f630d59d42a10c21d094db.jpg  \n",
            "  inflating: M_G-DS-1-4/test/images/390_g_jpg.rf.35c6867b79a35b8b2032af00c9486a43.jpg  \n",
            "  inflating: M_G-DS-1-4/test/images/402_g_jpg.rf.d4046c963fdb042016f74e02668dd439.jpg  \n",
            "  inflating: M_G-DS-1-4/test/images/407_g_jpg.rf.7e83b94e6bfcfd2ebad6e797e2f751a3.jpg  \n",
            "  inflating: M_G-DS-1-4/test/images/424_g_jpg.rf.8f31a60125eea3ba6491e6b25f761783.jpg  \n",
            "  inflating: M_G-DS-1-4/test/images/drishtiGS_019_g_jpg.rf.90f23f604c6f7b2fba1a7e5a75f060df.jpg  \n",
            "  inflating: M_G-DS-1-4/test/images/drishtiGS_020_g_jpg.rf.bff95d1e6cf27791cf45e07734c70ca5.jpg  \n",
            "  inflating: M_G-DS-1-4/test/images/drishtiGS_021_g_jpg.rf.f927ccfd9c3ac2e0808603d194ba10b1.jpg  \n",
            "  inflating: M_G-DS-1-4/test/images/drishtiGS_022_g_jpg.rf.8f46c3d52581a0cc525ae7b4888bf543.jpg  \n",
            "  inflating: M_G-DS-1-4/test/images/drishtiGS_023_g_jpg.rf.a65caf9ac8784d01b5740aec4c96065a.jpg  \n",
            "  inflating: M_G-DS-1-4/test/images/drishtiGS_024_g_jpg.rf.63e9b39843a9e5e1c0e96c8918fddd0f.jpg  \n",
            "  inflating: M_G-DS-1-4/test/images/drishtiGS_025_g_jpg.rf.a6cbcffc072016b39de4e969c4f07b8e.jpg  \n",
            "  inflating: M_G-DS-1-4/test/images/drishtiGS_026_g_jpg.rf.54c2377755119bc1e842e592bd71e8f0.jpg  \n",
            "  inflating: M_G-DS-1-4/test/images/drishtiGS_027_g_jpg.rf.81c55038d8b1a036b6af43035ca709b5.jpg  \n",
            "  inflating: M_G-DS-1-4/test/images/drishtiGS_028_g_jpg.rf.9dc80dc3563b0da4dc657d3772d0d093.jpg  \n",
            "  inflating: M_G-DS-1-4/test/images/drishtiGS_033_jpg.rf.2162d91eb5b7e0539ea2e50552fa632c.jpg  \n",
            "  inflating: M_G-DS-1-4/test/images/drishtiGS_035_jpg.rf.37ff786d71fc86bb68965085159fc8ed.jpg  \n",
            "  inflating: M_G-DS-1-4/test/images/drishtiGS_036_jpg.rf.d2552c0497a59cbfeb8d804c8e71c407.jpg  \n",
            "  inflating: M_G-DS-1-4/test/images/drishtiGS_037_jpg.rf.cfdab993b542ee72875a969f204245bf.jpg  \n",
            "  inflating: M_G-DS-1-4/test/images/Im051_ACRIMA_jpg.rf.c7ec01f64c36f95540586531aa1653ac.jpg  \n",
            "  inflating: M_G-DS-1-4/test/images/Im052_ACRIMA_jpg.rf.8d062a871ee7c41fdd18c7c9d71dc959.jpg  \n",
            "  inflating: M_G-DS-1-4/test/images/Im059_ACRIMA_jpg.rf.a8552dae0e80cf678a5907b3a9b30575.jpg  \n",
            "  inflating: M_G-DS-1-4/test/images/Im063_ACRIMA_jpg.rf.58e863bcc27a8b1b183915dfcd8b94e1.jpg  \n",
            "  inflating: M_G-DS-1-4/test/images/Im064_ACRIMA_jpg.rf.b730afd0bd67bd819b97c0dcab6c495c.jpg  \n",
            "  inflating: M_G-DS-1-4/test/images/Im073_ACRIMA_jpg.rf.39271fcc8ade9d0f90c7c38c351045f2.jpg  \n",
            "  inflating: M_G-DS-1-4/test/images/Im074_ACRIMA_jpg.rf.50a3ea2598a84cb1117d9b4e5a8da13a.jpg  \n",
            "  inflating: M_G-DS-1-4/test/images/Im374_g_ACRIMA_jpg.rf.19fc27099501927905c0f9ab5b0265c9.jpg  \n",
            "  inflating: M_G-DS-1-4/test/images/Im380_g_ACRIMA_jpg.rf.cfff2a608e16609e5e8b14e619f4a7a8.jpg  \n",
            "  inflating: M_G-DS-1-4/test/images/Im389_g_ACRIMA_jpg.rf.db77f96fa0150c1fbebb93a758aa71ef.jpg  \n",
            "  inflating: M_G-DS-1-4/test/images/Im390_g_ACRIMA_jpg.rf.dd6a9ddf6938ff7ebe59dbd0500a779c.jpg  \n",
            "  inflating: M_G-DS-1-4/test/images/Im400_g_ACRIMA_jpg.rf.7c300b63cc44d5752b1c24a7d8524311.jpg  \n",
            "  inflating: M_G-DS-1-4/test/images/Im401_g_ACRIMA_jpg.rf.90da4494fa7239cfdc598aff2b5a9578.jpg  \n",
            "  inflating: M_G-DS-1-4/test/images/Im408_g_ACRIMA_jpg.rf.0bfa1d68f0a362fff42e0e32213ce78f.jpg  \n",
            "  inflating: M_G-DS-1-4/test/images/SHMC_13_jpg.rf.fc41aa92575a85567cfb68158eb09b58.jpg  \n",
            "  inflating: M_G-DS-1-4/test/images/SHMC_14_jpg.rf.7521dc7a6a3e076fa93d0431b967a09d.jpg  \n",
            "  inflating: M_G-DS-1-4/test/images/SHMC_15_jpg.rf.59c07bf6d3be89d24ec248c765e0e1dd.jpg  \n",
            "  inflating: M_G-DS-1-4/test/images/SHMC_16_jpg.rf.4e0f53f59154cb2c6efa0ad09f623b2c.jpg  \n",
            "  inflating: M_G-DS-1-4/test/images/SHMC_17_jpg.rf.cc050680a4dc34eeeccc561ea32d3659.jpg  \n",
            "  inflating: M_G-DS-1-4/test/images/SHMC_18_jpg.rf.23e84c93ad1b991a89f2671915b7e44f.jpg  \n",
            "  inflating: M_G-DS-1-4/test/images/SHMC_19_jpg.rf.11261b1ce2a6e9de510e0bd6dadd0997.jpg  \n",
            "  inflating: M_G-DS-1-4/test/images/SHMC_20_jpg.rf.bf750f901127858faba9ad43b53fa94e.jpg  \n",
            "  inflating: M_G-DS-1-4/test/images/SHMC_21_jpg.rf.2dc5434f4bf36b24a5adac7aafab6206.jpg  \n",
            "  inflating: M_G-DS-1-4/test/images/SHMC_28_jpg.rf.9b8b8bea48623d6a1c33585c70ad04cc.jpg  \n",
            "  inflating: M_G-DS-1-4/test/images/SHMC_30_jpg.rf.53d6c119c55305fa2f4e4a65205e068c.jpg  \n",
            "  inflating: M_G-DS-1-4/test/images/SHMC_93_g_jpg.rf.872d0ed17d42061bbeb52c16b33e9482.jpg  \n",
            "  inflating: M_G-DS-1-4/test/images/SHMC_94_g_jpg.rf.0615437f340852fb760220693ba566b1.jpg  \n",
            "  inflating: M_G-DS-1-4/test/images/SHMC_95_g_jpg.rf.7d4e0df2bf685444c009f083a60c8c4b.jpg  \n",
            "  inflating: M_G-DS-1-4/test/images/SHMC_96_g_jpg.rf.a08eea4c0e292e750148b977160453f6.jpg  \n",
            "   creating: M_G-DS-1-4/test/labels/\n",
            "  inflating: M_G-DS-1-4/test/labels/074_jpg.rf.f548e0760b0d00e24e9010f89c88f2fe.txt  \n",
            "  inflating: M_G-DS-1-4/test/labels/078_jpg.rf.0337ecf415370f16477c6bf40a7c4c9b.txt  \n",
            "  inflating: M_G-DS-1-4/test/labels/081_jpg.rf.cc3be1cfc85b489514ea913189f80769.txt  \n",
            "  inflating: M_G-DS-1-4/test/labels/101_jpg.rf.4b1a7fe14f562fe82791a82e0f26dcf3.txt  \n",
            "  inflating: M_G-DS-1-4/test/labels/106_jpg.rf.80e19aaa1e0c07357db09e5f2bfc70ec.txt  \n",
            "  inflating: M_G-DS-1-4/test/labels/107_jpg.rf.2e2af3b621f5265b2b4f59085e8d31d4.txt  \n",
            "  inflating: M_G-DS-1-4/test/labels/111_jpg.rf.3e34dcef512a07bbc4b0df8e2270fa4b.txt  \n",
            "  inflating: M_G-DS-1-4/test/labels/117_jpg.rf.9cae682ea4bec4f9e2b8fffc88fbe60e.txt  \n",
            "  inflating: M_G-DS-1-4/test/labels/362_g_jpg.rf.9ca9d70200a39a862d0826363231eadd.txt  \n",
            "  inflating: M_G-DS-1-4/test/labels/366_g_jpg.rf.570e05864120d59443998205d4ef8208.txt  \n",
            "  inflating: M_G-DS-1-4/test/labels/381_g_jpg.rf.2b64212662610c9de4c7d89fe2d0f79a.txt  \n",
            "  inflating: M_G-DS-1-4/test/labels/389_g_jpg.rf.1202996575f630d59d42a10c21d094db.txt  \n",
            "  inflating: M_G-DS-1-4/test/labels/390_g_jpg.rf.35c6867b79a35b8b2032af00c9486a43.txt  \n",
            "  inflating: M_G-DS-1-4/test/labels/402_g_jpg.rf.d4046c963fdb042016f74e02668dd439.txt  \n",
            "  inflating: M_G-DS-1-4/test/labels/407_g_jpg.rf.7e83b94e6bfcfd2ebad6e797e2f751a3.txt  \n",
            "  inflating: M_G-DS-1-4/test/labels/424_g_jpg.rf.8f31a60125eea3ba6491e6b25f761783.txt  \n",
            "  inflating: M_G-DS-1-4/test/labels/drishtiGS_019_g_jpg.rf.90f23f604c6f7b2fba1a7e5a75f060df.txt  \n",
            "  inflating: M_G-DS-1-4/test/labels/drishtiGS_020_g_jpg.rf.bff95d1e6cf27791cf45e07734c70ca5.txt  \n",
            "  inflating: M_G-DS-1-4/test/labels/drishtiGS_021_g_jpg.rf.f927ccfd9c3ac2e0808603d194ba10b1.txt  \n",
            "  inflating: M_G-DS-1-4/test/labels/drishtiGS_022_g_jpg.rf.8f46c3d52581a0cc525ae7b4888bf543.txt  \n",
            "  inflating: M_G-DS-1-4/test/labels/drishtiGS_023_g_jpg.rf.a65caf9ac8784d01b5740aec4c96065a.txt  \n",
            "  inflating: M_G-DS-1-4/test/labels/drishtiGS_024_g_jpg.rf.63e9b39843a9e5e1c0e96c8918fddd0f.txt  \n",
            "  inflating: M_G-DS-1-4/test/labels/drishtiGS_025_g_jpg.rf.a6cbcffc072016b39de4e969c4f07b8e.txt  \n",
            "  inflating: M_G-DS-1-4/test/labels/drishtiGS_026_g_jpg.rf.54c2377755119bc1e842e592bd71e8f0.txt  \n",
            "  inflating: M_G-DS-1-4/test/labels/drishtiGS_027_g_jpg.rf.81c55038d8b1a036b6af43035ca709b5.txt  \n",
            "  inflating: M_G-DS-1-4/test/labels/drishtiGS_028_g_jpg.rf.9dc80dc3563b0da4dc657d3772d0d093.txt  \n",
            "  inflating: M_G-DS-1-4/test/labels/drishtiGS_033_jpg.rf.2162d91eb5b7e0539ea2e50552fa632c.txt  \n",
            "  inflating: M_G-DS-1-4/test/labels/drishtiGS_035_jpg.rf.37ff786d71fc86bb68965085159fc8ed.txt  \n",
            "  inflating: M_G-DS-1-4/test/labels/drishtiGS_036_jpg.rf.d2552c0497a59cbfeb8d804c8e71c407.txt  \n",
            "  inflating: M_G-DS-1-4/test/labels/drishtiGS_037_jpg.rf.cfdab993b542ee72875a969f204245bf.txt  \n",
            "  inflating: M_G-DS-1-4/test/labels/Im051_ACRIMA_jpg.rf.c7ec01f64c36f95540586531aa1653ac.txt  \n",
            "  inflating: M_G-DS-1-4/test/labels/Im052_ACRIMA_jpg.rf.8d062a871ee7c41fdd18c7c9d71dc959.txt  \n",
            "  inflating: M_G-DS-1-4/test/labels/Im059_ACRIMA_jpg.rf.a8552dae0e80cf678a5907b3a9b30575.txt  \n",
            "  inflating: M_G-DS-1-4/test/labels/Im063_ACRIMA_jpg.rf.58e863bcc27a8b1b183915dfcd8b94e1.txt  \n",
            "  inflating: M_G-DS-1-4/test/labels/Im064_ACRIMA_jpg.rf.b730afd0bd67bd819b97c0dcab6c495c.txt  \n",
            "  inflating: M_G-DS-1-4/test/labels/Im073_ACRIMA_jpg.rf.39271fcc8ade9d0f90c7c38c351045f2.txt  \n",
            "  inflating: M_G-DS-1-4/test/labels/Im074_ACRIMA_jpg.rf.50a3ea2598a84cb1117d9b4e5a8da13a.txt  \n",
            "  inflating: M_G-DS-1-4/test/labels/Im374_g_ACRIMA_jpg.rf.19fc27099501927905c0f9ab5b0265c9.txt  \n",
            "  inflating: M_G-DS-1-4/test/labels/Im380_g_ACRIMA_jpg.rf.cfff2a608e16609e5e8b14e619f4a7a8.txt  \n",
            "  inflating: M_G-DS-1-4/test/labels/Im389_g_ACRIMA_jpg.rf.db77f96fa0150c1fbebb93a758aa71ef.txt  \n",
            "  inflating: M_G-DS-1-4/test/labels/Im390_g_ACRIMA_jpg.rf.dd6a9ddf6938ff7ebe59dbd0500a779c.txt  \n",
            "  inflating: M_G-DS-1-4/test/labels/Im400_g_ACRIMA_jpg.rf.7c300b63cc44d5752b1c24a7d8524311.txt  \n",
            "  inflating: M_G-DS-1-4/test/labels/Im401_g_ACRIMA_jpg.rf.90da4494fa7239cfdc598aff2b5a9578.txt  \n",
            "  inflating: M_G-DS-1-4/test/labels/Im408_g_ACRIMA_jpg.rf.0bfa1d68f0a362fff42e0e32213ce78f.txt  \n",
            "  inflating: M_G-DS-1-4/test/labels/SHMC_13_jpg.rf.fc41aa92575a85567cfb68158eb09b58.txt  \n",
            "  inflating: M_G-DS-1-4/test/labels/SHMC_14_jpg.rf.7521dc7a6a3e076fa93d0431b967a09d.txt  \n",
            "  inflating: M_G-DS-1-4/test/labels/SHMC_15_jpg.rf.59c07bf6d3be89d24ec248c765e0e1dd.txt  \n",
            "  inflating: M_G-DS-1-4/test/labels/SHMC_16_jpg.rf.4e0f53f59154cb2c6efa0ad09f623b2c.txt  \n",
            "  inflating: M_G-DS-1-4/test/labels/SHMC_17_jpg.rf.cc050680a4dc34eeeccc561ea32d3659.txt  \n",
            "  inflating: M_G-DS-1-4/test/labels/SHMC_18_jpg.rf.23e84c93ad1b991a89f2671915b7e44f.txt  \n",
            "  inflating: M_G-DS-1-4/test/labels/SHMC_19_jpg.rf.11261b1ce2a6e9de510e0bd6dadd0997.txt  \n",
            "  inflating: M_G-DS-1-4/test/labels/SHMC_20_jpg.rf.bf750f901127858faba9ad43b53fa94e.txt  \n",
            "  inflating: M_G-DS-1-4/test/labels/SHMC_21_jpg.rf.2dc5434f4bf36b24a5adac7aafab6206.txt  \n",
            "  inflating: M_G-DS-1-4/test/labels/SHMC_28_jpg.rf.9b8b8bea48623d6a1c33585c70ad04cc.txt  \n",
            "  inflating: M_G-DS-1-4/test/labels/SHMC_30_jpg.rf.53d6c119c55305fa2f4e4a65205e068c.txt  \n",
            "  inflating: M_G-DS-1-4/test/labels/SHMC_93_g_jpg.rf.872d0ed17d42061bbeb52c16b33e9482.txt  \n",
            "  inflating: M_G-DS-1-4/test/labels/SHMC_94_g_jpg.rf.0615437f340852fb760220693ba566b1.txt  \n",
            "  inflating: M_G-DS-1-4/test/labels/SHMC_95_g_jpg.rf.7d4e0df2bf685444c009f083a60c8c4b.txt  \n",
            "  inflating: M_G-DS-1-4/test/labels/SHMC_96_g_jpg.rf.a08eea4c0e292e750148b977160453f6.txt  \n",
            "   creating: M_G-DS-1-4/train/\n",
            "   creating: M_G-DS-1-4/train/images/\n",
            "  inflating: M_G-DS-1-4/train/images/002_jpg.rf.1fb8853bfc18b937e2c2b83974ef59c5.jpg  \n",
            "  inflating: M_G-DS-1-4/train/images/008_jpg.rf.5665f059b0f35966e827b1c04d760547.jpg  \n",
            "  inflating: M_G-DS-1-4/train/images/011_jpg.rf.5b113465bc3f4cad4a8342d578f634fb.jpg  \n",
            "  inflating: M_G-DS-1-4/train/images/012_jpg.rf.9fd8edaa09319854320e368cfec9f49c.jpg  \n",
            "  inflating: M_G-DS-1-4/train/images/013_jpg.rf.83470b9af7a07efcc8c39bb9714bcaf7.jpg  \n",
            "  inflating: M_G-DS-1-4/train/images/023_jpg.rf.f3b3d88a815ca2c22f3a66c1dd9584db.jpg  \n",
            "  inflating: M_G-DS-1-4/train/images/024_jpg.rf.2090f0f2b12a23879c12cf7ad3032085.jpg  \n",
            "  inflating: M_G-DS-1-4/train/images/026_jpg.rf.bd08adadb705da438f9f196c4a2d7eba.jpg  \n",
            "  inflating: M_G-DS-1-4/train/images/050_g_jpg.rf.e9e1d7448596fe8b78afb0df292d86d7.jpg  \n",
            "  inflating: M_G-DS-1-4/train/images/053_jpg.rf.9e5603e2197585c13767a2fb3256d014.jpg  \n",
            "  inflating: M_G-DS-1-4/train/images/056_jpg.rf.203d40819a2ee48c6e67c8aee6afbee2.jpg  \n",
            "  inflating: M_G-DS-1-4/train/images/061_jpg.rf.f18b6e336cab014fb9e6e466fb7b7ca0.jpg  \n",
            "  inflating: M_G-DS-1-4/train/images/062_jpg.rf.de6989ebd7ce5b2cc6c9f9688eb5d640.jpg  \n",
            "  inflating: M_G-DS-1-4/train/images/063_jpg.rf.8a8f2a6adff44d434be10ae8922c4d12.jpg  \n",
            "  inflating: M_G-DS-1-4/train/images/065_jpg.rf.01944046ab9991fc49a5f4c4b1ed8363.jpg  \n",
            "  inflating: M_G-DS-1-4/train/images/069_g_jpg.rf.2543fe47ea408edecb99612bfdb5cb86.jpg  \n",
            "  inflating: M_G-DS-1-4/train/images/073_jpg.rf.2dfd0b665d193d69bb54cec8f34c306d.jpg  \n",
            "  inflating: M_G-DS-1-4/train/images/076_g_jpg.rf.bf710094679793f97a177f907976e252.jpg  \n",
            "  inflating: M_G-DS-1-4/train/images/086_g_jpg.rf.3e960fda6f6014628bf60d18529129d1.jpg  \n",
            "  inflating: M_G-DS-1-4/train/images/087_g_jpg.rf.aae5265264d1e3f01436a53d0d7e8e02.jpg  \n",
            "  inflating: M_G-DS-1-4/train/images/093_g_jpg.rf.dfb0b95ab26d659c48faa8b5b83dc97a.jpg  \n",
            "  inflating: M_G-DS-1-4/train/images/094_g_jpg.rf.7c95186f5906a26f6a58a515b90cd64f.jpg  \n",
            "  inflating: M_G-DS-1-4/train/images/110_g_jpg.rf.bc9d2ca31c5e0c4d583e231814ecbaa0.jpg  \n",
            "  inflating: M_G-DS-1-4/train/images/126_jpg.rf.e5b2ac56a193210180bc4bf24f23915e.jpg  \n",
            "  inflating: M_G-DS-1-4/train/images/127_jpg.rf.9978b876b89064c5057ebd2653136a21.jpg  \n",
            "  inflating: M_G-DS-1-4/train/images/155_jpg.rf.c1db196d69b1facb0815e5bc54ed4482.jpg  \n",
            "  inflating: M_G-DS-1-4/train/images/179_jpg.rf.3c872b80cdd216367fd9542058376ad3.jpg  \n",
            "  inflating: M_G-DS-1-4/train/images/185_jpg.rf.5a53053a7c991e9b6600a4d759c3233d.jpg  \n",
            "  inflating: M_G-DS-1-4/train/images/204_jpg.rf.d5bc47a9a29497a18878f04c9ffc99d5.jpg  \n",
            "  inflating: M_G-DS-1-4/train/images/206_jpg.rf.d8eb6f168417373cd97723c6fb513bca.jpg  \n",
            "  inflating: M_G-DS-1-4/train/images/207_jpg.rf.89acabeb331edcf8fd309a593489f807.jpg  \n",
            "  inflating: M_G-DS-1-4/train/images/209_jpg.rf.99e36efd6b65e74a9d1ceaf81d0ab801.jpg  \n",
            "  inflating: M_G-DS-1-4/train/images/228_g_jpg.rf.6460ffe6adec21d4b979984e651f039c.jpg  \n",
            "  inflating: M_G-DS-1-4/train/images/229_g_jpg.rf.751d4540a8a90dac007502c872574cf8.jpg  \n",
            "  inflating: M_G-DS-1-4/train/images/257_jpg.rf.c8f3ffe280523fd307ca88e271735e22.jpg  \n",
            "  inflating: M_G-DS-1-4/train/images/258_jpg.rf.11739a692001f24aed3ec30f720387f4.jpg  \n",
            "  inflating: M_G-DS-1-4/train/images/269_g_jpg.rf.f10cb8cee7ea4bed8641577538945846.jpg  \n",
            "  inflating: M_G-DS-1-4/train/images/270_g_jpg.rf.bba60ef781fc2b8685f9bd81a89ce923.jpg  \n",
            "  inflating: M_G-DS-1-4/train/images/277_g_jpg.rf.3c3e9183fd941d6cd00461d18db16df4.jpg  \n",
            "  inflating: M_G-DS-1-4/train/images/278_g_jpg.rf.6c8de454668c54bb51e287de07af28e4.jpg  \n",
            "  inflating: M_G-DS-1-4/train/images/289_g_jpg.rf.8c147f07f3de10fb171e9cf113d15807.jpg  \n",
            "  inflating: M_G-DS-1-4/train/images/298_jpg.rf.d0ae49cdddbbf3a6b087bd796a02671a.jpg  \n",
            "  inflating: M_G-DS-1-4/train/images/299_jpg.rf.7a2d142851fe8cf67b85b5792a1ce805.jpg  \n",
            "  inflating: M_G-DS-1-4/train/images/302_jpg.rf.312acc12110cc1e8d8da4c4f968dd1bb.jpg  \n",
            "  inflating: M_G-DS-1-4/train/images/303_jpg.rf.85edf5de3e5a6d6b48dcb1de2ac50df8.jpg  \n",
            "  inflating: M_G-DS-1-4/train/images/338_jpg.rf.2d24a8130ee2fa8e82078d8ca7d4b9e1.jpg  \n",
            "  inflating: M_G-DS-1-4/train/images/396_jpg.rf.81968ea847196e0731ec8709d9c9102b.jpg  \n",
            "  inflating: M_G-DS-1-4/train/images/400_jpg.rf.58880c5e5a45d836c112d52beab6d0c3.jpg  \n",
            "  inflating: M_G-DS-1-4/train/images/429_g_jpg.rf.e750e43f8036659171624f91eb34a9e2.jpg  \n",
            "  inflating: M_G-DS-1-4/train/images/450_jpg.rf.b9997727436b62dcf1cef7d3d8e3559b.jpg  \n",
            "  inflating: M_G-DS-1-4/train/images/454_jpg.rf.30b28b9c28c9a00f43f2d0acd7bac738.jpg  \n",
            "  inflating: M_G-DS-1-4/train/images/457_g_jpg.rf.e2bd72b77423c3e2411b71f514dacce5.jpg  \n",
            "  inflating: M_G-DS-1-4/train/images/458_g_jpg.rf.f17b15f370c98c8df1494a7dd35a144f.jpg  \n",
            "  inflating: M_G-DS-1-4/train/images/474_g_jpg.rf.8b2cf20263c2196003138e3581c6b1d0.jpg  \n",
            "  inflating: M_G-DS-1-4/train/images/480_g_jpg.rf.84d021eb6dd26bb9580b249ba6e3fb0b.jpg  \n",
            "  inflating: M_G-DS-1-4/train/images/507_g_jpg.rf.311e4bfbd55344fd3ff16cb34fdf7a73.jpg  \n",
            "  inflating: M_G-DS-1-4/train/images/514_g_jpg.rf.25fe81fdba88e2e8203e05fba1f13aba.jpg  \n",
            "  inflating: M_G-DS-1-4/train/images/549_g_jpg.rf.5f656e5c95ce81e3a83915c169988e9a.jpg  \n",
            "  inflating: M_G-DS-1-4/train/images/550_g_jpg.rf.da63c8af360cd495a02b96b71e4eef03.jpg  \n",
            "  inflating: M_G-DS-1-4/train/images/556_g_jpg.rf.b5678ecfa0efcb29cd5b43b6929d08c1.jpg  \n",
            "  inflating: M_G-DS-1-4/train/images/571_g_jpg.rf.096fa10c70d1faa0058494a5e2da9d0d.jpg  \n",
            "  inflating: M_G-DS-1-4/train/images/572_g_jpg.rf.da5cba4ca7af142ec79c9beb5f538f2d.jpg  \n",
            "  inflating: M_G-DS-1-4/train/images/588_g_jpg.rf.fb30873b139e59b62fc4cb5e0d5ddda8.jpg  \n",
            "  inflating: M_G-DS-1-4/train/images/593_g_jpg.rf.abde13532b548dfed8a773c4b5284787.jpg  \n",
            "  inflating: M_G-DS-1-4/train/images/624_g_jpg.rf.153955902c402b1b3ae0a37f40fe28ec.jpg  \n",
            "  inflating: M_G-DS-1-4/train/images/626_g_jpg.rf.b861de914bbd49c0d80f24a3dac2932a.jpg  \n",
            "  inflating: M_G-DS-1-4/train/images/641_g_jpg.rf.468d3f64e293332176914f795e4c4b63.jpg  \n",
            "  inflating: M_G-DS-1-4/train/images/644_g_jpg.rf.bfc08441c773040424db3bb1a590bb83.jpg  \n",
            "  inflating: M_G-DS-1-4/train/images/645_g_jpg.rf.18a96a30ec0f57d5c275e1beeaeb5ffa.jpg  \n",
            "  inflating: M_G-DS-1-4/train/images/646_g_jpg.rf.fb15da5be1462c50eb71235dd5731ab8.jpg  \n",
            "  inflating: M_G-DS-1-4/train/images/drishtiGS_016_g_jpg.rf.f6d106249e397ea4528b5a1c227dd2be.jpg  \n",
            "  inflating: M_G-DS-1-4/train/images/drishtiGS_018_jpg.rf.71519a28937a4831d47b28145ef1f190.jpg  \n",
            "  inflating: M_G-DS-1-4/train/images/drishtiGS_029_g_jpg.rf.a6fd5f626b6819aac98dfb717d556a9b.jpg  \n",
            "  inflating: M_G-DS-1-4/train/images/drishtiGS_030_g_jpg.rf.c57610eee959caf23cd3b97357a0f629.jpg  \n",
            "  inflating: M_G-DS-1-4/train/images/drishtiGS_031_g_jpg.rf.30d7c914a48e28fc0534f80eb67b4e50.jpg  \n",
            "  inflating: M_G-DS-1-4/train/images/drishtiGS_032_g_jpg.rf.cc04f0c2411e85dba969c277d9f4c2d3.jpg  \n",
            "  inflating: M_G-DS-1-4/train/images/drishtiGS_034_g_jpg.rf.133a0c06016e50cf079719eefe873eeb.jpg  \n",
            "  inflating: M_G-DS-1-4/train/images/drishtiGS_038_g_jpg.rf.e637a18d181eab330fbb8eaf321b5605.jpg  \n",
            "  inflating: M_G-DS-1-4/train/images/drishtiGS_039_g_jpg.rf.a4a79e7d666ca6b7edcdd7a834cff58e.jpg  \n",
            "  inflating: M_G-DS-1-4/train/images/drishtiGS_040_g_jpg.rf.3aba0c27d0fb92f94720c9372b9dfd15.jpg  \n",
            "  inflating: M_G-DS-1-4/train/images/drishtiGS_041_jpg.rf.007f9f869b3166817639a6ffe4a6867b.jpg  \n",
            "  inflating: M_G-DS-1-4/train/images/drishtiGS_042_jpg.rf.ec663eb5a4a474178615de8b7241363d.jpg  \n",
            "  inflating: M_G-DS-1-4/train/images/drishtiGS_043_g_jpg.rf.687cf9161c50ab67c5d6599fd8bca715.jpg  \n",
            "  inflating: M_G-DS-1-4/train/images/drishtiGS_044_g_jpg.rf.4c8a248402e3e09f6f0d4cf1941c8acc.jpg  \n",
            "  inflating: M_G-DS-1-4/train/images/drishtiGS_045_g_jpg.rf.9e1138ac847028c47389d3f32d7aaca9.jpg  \n",
            "  inflating: M_G-DS-1-4/train/images/drishtiGS_046_jpg.rf.f2d379915c738da2c7e6e3ca70b451ed.jpg  \n",
            "  inflating: M_G-DS-1-4/train/images/drishtiGS_047_jpg.rf.318c7cc5acf137214726e9a76636fe58.jpg  \n",
            "  inflating: M_G-DS-1-4/train/images/drishtiGS_048_g_jpg.rf.770c76095487fc02f95f1eca2a898f99.jpg  \n",
            "  inflating: M_G-DS-1-4/train/images/drishtiGS_049_g_jpg.rf.0a9f7e012248047c529369ef187081df.jpg  \n",
            "  inflating: M_G-DS-1-4/train/images/drishtiGS_050_g_jpg.rf.46f219526eeabc79ca54da696270f305.jpg  \n",
            "  inflating: M_G-DS-1-4/train/images/drishtiGS_051_g_jpg.rf.6f751f63a9c586daa4a9f2462379c63d.jpg  \n",
            "  inflating: M_G-DS-1-4/train/images/drishtiGS_052_g_jpg.rf.7b1b3a6c515c01626027096f663df70c.jpg  \n",
            "  inflating: M_G-DS-1-4/train/images/drishtiGS_053_g_jpg.rf.52be85d6a136b6db9aafb888e4c1885a.jpg  \n",
            "  inflating: M_G-DS-1-4/train/images/drishtiGS_054_g_jpg.rf.317f79375382f55fb874eb0f551cce6b.jpg  \n",
            "  inflating: M_G-DS-1-4/train/images/drishtiGS_055_g_jpg.rf.5d9061d028dae05436bceba9c952d4c9.jpg  \n",
            "  inflating: M_G-DS-1-4/train/images/drishtiGS_056_g_jpg.rf.7578f15def3855d617a3d83b2fd7aaaf.jpg  \n",
            "  inflating: M_G-DS-1-4/train/images/drishtiGS_057_jpg.rf.5b2508895b1f32356381a0caa8cba8f5.jpg  \n",
            "  inflating: M_G-DS-1-4/train/images/drishtiGS_058_g_jpg.rf.f5aa601a626647824b25aa6345e67da3.jpg  \n",
            "  inflating: M_G-DS-1-4/train/images/drishtiGS_059_g_jpg.rf.8da2eb50d3117b7e8b584ea7b12cc0a5.jpg  \n",
            "  inflating: M_G-DS-1-4/train/images/drishtiGS_060_g_jpg.rf.01a985e4ec61def370a6bbf3d74b7dbf.jpg  \n",
            "  inflating: M_G-DS-1-4/train/images/drishtiGS_061_g_jpg.rf.13e8602bf0ce7adf0c1873fce906c02c.jpg  \n",
            "  inflating: M_G-DS-1-4/train/images/drishtiGS_062_g_jpg.rf.96d70d0b171694031500548807c6044b.jpg  \n",
            "  inflating: M_G-DS-1-4/train/images/drishtiGS_063_g_jpg.rf.382c574d808db44515a985f374c058fc.jpg  \n",
            "  inflating: M_G-DS-1-4/train/images/drishtiGS_064_g_jpg.rf.6097f340d205bab4c4163f539fc2287f.jpg  \n",
            "  inflating: M_G-DS-1-4/train/images/drishtiGS_065_g_jpg.rf.b8797d5ba4538e39b2028a669f86899b.jpg  \n",
            "  inflating: M_G-DS-1-4/train/images/drishtiGS_066_g_jpg.rf.40521e65e78e4d60bb231fa0d0b32ee9.jpg  \n",
            "  inflating: M_G-DS-1-4/train/images/drishtiGS_067_g_jpg.rf.4a311a8d19c9b9ef8fa06e47c25dce85.jpg  \n",
            "  inflating: M_G-DS-1-4/train/images/drishtiGS_068_g_jpg.rf.ee7cca946d973b2a48390d4c676f7bd8.jpg  \n",
            "  inflating: M_G-DS-1-4/train/images/drishtiGS_069_g_jpg.rf.2aadbefb03bbcfb6deb974d05d454540.jpg  \n",
            "  inflating: M_G-DS-1-4/train/images/drishtiGS_070_g_jpg.rf.7c22e83a46f7ae9a4a6363b508845cb0.jpg  \n",
            "  inflating: M_G-DS-1-4/train/images/drishtiGS_071_g_jpg.rf.ec8296ac9480ecd05a86b0321019ef24.jpg  \n",
            "  inflating: M_G-DS-1-4/train/images/drishtiGS_072_jpg.rf.725a0d3bb8f38291f43294807a72e3f9.jpg  \n",
            "  inflating: M_G-DS-1-4/train/images/drishtiGS_073_g_jpg.rf.840acb9a8378a1414c110fcd8e80dd45.jpg  \n",
            "  inflating: M_G-DS-1-4/train/images/drishtiGS_074_g_jpg.rf.4d2bb587fc875a48f2a0d797d72f87a4.jpg  \n",
            "  inflating: M_G-DS-1-4/train/images/drishtiGS_075_jpg.rf.1438f057145b28c32ba01d1616905106.jpg  \n",
            "  inflating: M_G-DS-1-4/train/images/drishtiGS_076_g_jpg.rf.6719bc491b59f4f34bcb5e0c3791b388.jpg  \n",
            "  inflating: M_G-DS-1-4/train/images/drishtiGS_077_g_jpg.rf.96e9a530047ebc942b349e8d51c61de4.jpg  \n",
            "  inflating: M_G-DS-1-4/train/images/drishtiGS_078_jpg.rf.4ec0984fddfdb3bb2c3489cc01f4f290.jpg  \n",
            "  inflating: M_G-DS-1-4/train/images/drishtiGS_079_g_jpg.rf.6a71254f80f653a1b7643485fed0f9a7.jpg  \n",
            "  inflating: M_G-DS-1-4/train/images/drishtiGS_080_g_jpg.rf.bbb95f046db7b2ed2cf8ae2c71d734ac.jpg  \n",
            "  inflating: M_G-DS-1-4/train/images/drishtiGS_081_g_jpg.rf.1c7d21097a1226be8c82d1f0b2f1a94f.jpg  \n",
            "  inflating: M_G-DS-1-4/train/images/drishtiGS_082_g_jpg.rf.caa0076ddd3d717d42c4eaaf241ee1ec.jpg  \n",
            "  inflating: M_G-DS-1-4/train/images/drishtiGS_083_g_jpg.rf.8e13c8eb3623ef73553795aa3b4f7289.jpg  \n",
            "  inflating: M_G-DS-1-4/train/images/drishtiGS_084_g_jpg.rf.42ec76b7f21bfd04105de27f70b8fa40.jpg  \n",
            "  inflating: M_G-DS-1-4/train/images/drishtiGS_085_jpg.rf.e50dfb9e299e75ddf56979bd203bf206.jpg  \n",
            "  inflating: M_G-DS-1-4/train/images/drishtiGS_086_g_jpg.rf.01b2ca9f47eb8c60f98330a1bef90ccd.jpg  \n",
            "  inflating: M_G-DS-1-4/train/images/drishtiGS_087_g_jpg.rf.34cc5a45f0f0a01f96821f78e23d8d95.jpg  \n",
            "  inflating: M_G-DS-1-4/train/images/drishtiGS_088_g_jpg.rf.12077259e48d918a84f2f7487680b6fb.jpg  \n",
            "  inflating: M_G-DS-1-4/train/images/drishtiGS_089_jpg.rf.e70b81f92ddd9e322bd6a630dd2d11aa.jpg  \n",
            "  inflating: M_G-DS-1-4/train/images/drishtiGS_090_jpg.rf.808866e838d15696c1fb48dfc2ae1a16.jpg  \n",
            "  inflating: M_G-DS-1-4/train/images/drishtiGS_091_jpg.rf.7197bb291344a5f28ff3ea35635b5c7a.jpg  \n",
            "  inflating: M_G-DS-1-4/train/images/drishtiGS_092_jpg.rf.c5603085367252cbe3140da7c28cc2ed.jpg  \n",
            "  inflating: M_G-DS-1-4/train/images/drishtiGS_093_jpg.rf.949dd6df1c13f30fd80333ebb443b747.jpg  \n",
            "  inflating: M_G-DS-1-4/train/images/drishtiGS_094_jpg.rf.c507fb161262ca6027fb8c8ad249c61c.jpg  \n",
            "  inflating: M_G-DS-1-4/train/images/drishtiGS_095_jpg.rf.19d9337372e759db04b0e4d9b9feba55.jpg  \n",
            "  inflating: M_G-DS-1-4/train/images/drishtiGS_096_jpg.rf.02be3b6611754c90320193f914d7331c.jpg  \n",
            "  inflating: M_G-DS-1-4/train/images/drishtiGS_097_jpg.rf.9d90a2151a142698b447eac835477fbf.jpg  \n",
            "  inflating: M_G-DS-1-4/train/images/drishtiGS_098_jpg.rf.9b3603e236150723d671b5ac1c76e0af.jpg  \n",
            "  inflating: M_G-DS-1-4/train/images/drishtiGS_099_jpg.rf.f3f8477fd669c6ae5233d94df0733999.jpg  \n",
            "  inflating: M_G-DS-1-4/train/images/drishtiGS_100_jpg.rf.abe5957969c0c655ccc8318bc34bdcf7.jpg  \n",
            "  inflating: M_G-DS-1-4/train/images/Im082_ACRIMA_jpg.rf.559aca85fe49295a99c1de6238714a22.jpg  \n",
            "  inflating: M_G-DS-1-4/train/images/Im091_ACRIMA_jpg.rf.76dc34248cabeebac223d4a872dd9b78.jpg  \n",
            "  inflating: M_G-DS-1-4/train/images/Im100_ACRIMA_jpg.rf.d7a714d87b928c6fb4e14eacd6f918af.jpg  \n",
            "  inflating: M_G-DS-1-4/train/images/Im103_ACRIMA_jpg.rf.0bf0df874eb096e4ebc3f46e50611178.jpg  \n",
            "  inflating: M_G-DS-1-4/train/images/Im104_ACRIMA_jpg.rf.58d3ea38d0569ca3ea0bca6c95f3ac02.jpg  \n",
            "  inflating: M_G-DS-1-4/train/images/Im119_ACRIMA_jpg.rf.f249eae5d5974db4a16d446711eddfd7.jpg  \n",
            "  inflating: M_G-DS-1-4/train/images/Im138_ACRIMA_jpg.rf.478e97673f04b7d121348f2c249244b5.jpg  \n",
            "  inflating: M_G-DS-1-4/train/images/Im139_ACRIMA_jpg.rf.7842ba08000ffb763716f84f8cb2085c.jpg  \n",
            "  inflating: M_G-DS-1-4/train/images/Im171_ACRIMA_jpg.rf.d45172a88ed82fdc4a0ea30a818ac558.jpg  \n",
            "  inflating: M_G-DS-1-4/train/images/Im172_ACRIMA_jpg.rf.13a7ad9f80372f12fb93ca4536b59edc.jpg  \n",
            "  inflating: M_G-DS-1-4/train/images/Im180_ACRIMA_jpg.rf.d4885ac682e69c3ee4da2ae261df2ca4.jpg  \n",
            "  inflating: M_G-DS-1-4/train/images/Im187_ACRIMA_jpg.rf.1e0c73349eee70cbc1289f4ec4149007.jpg  \n",
            "  inflating: M_G-DS-1-4/train/images/Im188_ACRIMA_jpg.rf.f7b2ba5023bd37cda650f36130144b9e.jpg  \n",
            "  inflating: M_G-DS-1-4/train/images/Im192_ACRIMA_jpg.rf.9151d3b3bdbd86e94ab7f3719a32b795.jpg  \n",
            "  inflating: M_G-DS-1-4/train/images/Im193_ACRIMA_jpg.rf.47ce74a25f7fca89423397575af9eaec.jpg  \n",
            "  inflating: M_G-DS-1-4/train/images/Im197_ACRIMA_jpg.rf.5fdf0f47cfa27b808d1c3da1d5f74f0a.jpg  \n",
            "  inflating: M_G-DS-1-4/train/images/Im198_ACRIMA_jpg.rf.1b7ddd85da82b3088dba4439e27ff462.jpg  \n",
            "  inflating: M_G-DS-1-4/train/images/Im199_ACRIMA_jpg.rf.5bbed3c460951da192301321935023bb.jpg  \n",
            "  inflating: M_G-DS-1-4/train/images/Im204_ACRIMA_jpg.rf.0506f7484a0b4dfb66e3d105c02bcf8d.jpg  \n",
            "  inflating: M_G-DS-1-4/train/images/Im205_ACRIMA_jpg.rf.7cea54c7686a497e1a079b47a7417801.jpg  \n",
            "  inflating: M_G-DS-1-4/train/images/Im210_ACRIMA_jpg.rf.21adf4c6611df303ff955be38f3b3c89.jpg  \n",
            "  inflating: M_G-DS-1-4/train/images/Im211_ACRIMA_jpg.rf.2c2343d0983f34570782fe38922f4731.jpg  \n",
            "  inflating: M_G-DS-1-4/train/images/Im222_ACRIMA_jpg.rf.8d6518c9b98ac81b425009c91d594bc0.jpg  \n",
            "  inflating: M_G-DS-1-4/train/images/Im236_ACRIMA_jpg.rf.49cd0d8dfcb47b076644ddfe21bc82e8.jpg  \n",
            "  inflating: M_G-DS-1-4/train/images/Im237_ACRIMA_jpg.rf.1d4cd31cef437f148e519c42d99b3858.jpg  \n",
            "  inflating: M_G-DS-1-4/train/images/Im261_ACRIMA_jpg.rf.7040b90e0d7a57943b1c3fb11a717418.jpg  \n",
            "  inflating: M_G-DS-1-4/train/images/Im262_ACRIMA_jpg.rf.ff92af7da129f6955cd8d32df2c0a016.jpg  \n",
            "  inflating: M_G-DS-1-4/train/images/Im276_ACRIMA_jpg.rf.281f1d18e0b03e72154f05a84d76af32.jpg  \n",
            "  inflating: M_G-DS-1-4/train/images/Im285_ACRIMA_jpg.rf.ac034248f23d48a28c3f77632c010f93.jpg  \n",
            "  inflating: M_G-DS-1-4/train/images/Im286_ACRIMA_jpg.rf.3c5f18808ce12ac8988f7ffac04e0d9e.jpg  \n",
            "  inflating: M_G-DS-1-4/train/images/Im290_ACRIMA_jpg.rf.5bb732ff98bc545dbb7e85bc200bebe1.jpg  \n",
            "  inflating: M_G-DS-1-4/train/images/Im294_ACRIMA_jpg.rf.a178197c54dca9b151cada1882a77b6d.jpg  \n",
            "  inflating: M_G-DS-1-4/train/images/Im295_ACRIMA_jpg.rf.5651c544b995ebf8dae31cc5c2d286ef.jpg  \n",
            "  inflating: M_G-DS-1-4/train/images/Im300_ACRIMA_jpg.rf.3b067068b153a64c06c12e36a81307f8.jpg  \n",
            "  inflating: M_G-DS-1-4/train/images/Im301_ACRIMA_jpg.rf.062034f5749e44cfff433fc0747b13af.jpg  \n",
            "  inflating: M_G-DS-1-4/train/images/Im409_g_ACRIMA_jpg.rf.9165330c0650d7492b630ab02d012e08.jpg  \n",
            "  inflating: M_G-DS-1-4/train/images/Im468_g_ACRIMA_jpg.rf.ec54939dc57087ffd881e846534ab18b.jpg  \n",
            "  inflating: M_G-DS-1-4/train/images/Im470_g_ACRIMA_jpg.rf.e97368c31149ef7bfc7fbb8594b90d17.jpg  \n",
            "  inflating: M_G-DS-1-4/train/images/Im477_g_ACRIMA_jpg.rf.c2abc6043d7976abeb446bd96624b3eb.jpg  \n",
            "  inflating: M_G-DS-1-4/train/images/Im482_g_ACRIMA_jpg.rf.0047e5ea25ab709a688f0c51a7cd87d7.jpg  \n",
            "  inflating: M_G-DS-1-4/train/images/Im490_g_ACRIMA_jpg.rf.e5248d1a23173d50f22eeb5ff98808fe.jpg  \n",
            "  inflating: M_G-DS-1-4/train/images/Im505_g_ACRIMA_jpg.rf.5f632e46381fd2d6db30e5f6f8e8b263.jpg  \n",
            "  inflating: M_G-DS-1-4/train/images/Im525_g_ACRIMA_jpg.rf.ceec570764e7d430b8c10823eddc3824.jpg  \n",
            "  inflating: M_G-DS-1-4/train/images/Im531_g_ACRIMA_jpg.rf.93a7c9b4a5fd311f2875c8fc3fa43934.jpg  \n",
            "  inflating: M_G-DS-1-4/train/images/Im549_g_ACRIMA_jpg.rf.33107f4bef7019505874ff0d120762d2.jpg  \n",
            "  inflating: M_G-DS-1-4/train/images/Im550_g_ACRIMA_jpg.rf.fbcd7860fdbb2e371ffe3bb3c350b1e6.jpg  \n",
            "  inflating: M_G-DS-1-4/train/images/Im559_g_ACRIMA_jpg.rf.b60cb50c442844213e32415103fb5bb4.jpg  \n",
            "  inflating: M_G-DS-1-4/train/images/Im576_g_ACRIMA_jpg.rf.3d5e51c8f100ab955c8a37d74ee9bc58.jpg  \n",
            "  inflating: M_G-DS-1-4/train/images/Im590_g_ACRIMA_jpg.rf.dfc83301f4cb366af64b3d25bbfcf536.jpg  \n",
            "  inflating: M_G-DS-1-4/train/images/Im599_g_ACRIMA_jpg.rf.9fc853afee08bda2ca590f7b104fa363.jpg  \n",
            "  inflating: M_G-DS-1-4/train/images/Im600_g_ACRIMA_jpg.rf.5e3da440d311e92cc913b8c230cac3e2.jpg  \n",
            "  inflating: M_G-DS-1-4/train/images/Im610_g_ACRIMA_jpg.rf.2c123d74ea84a9aa4e6cb30d094a72d8.jpg  \n",
            "  inflating: M_G-DS-1-4/train/images/Im611_g_ACRIMA_jpg.rf.1bd1cac1c0ed984b995aab97ac801ccc.jpg  \n",
            "  inflating: M_G-DS-1-4/train/images/Im612_g_ACRIMA_jpg.rf.1edcb8738029f78e8057fa86924f231d.jpg  \n",
            "  inflating: M_G-DS-1-4/train/images/Im618_g_ACRIMA_jpg.rf.59583d041da2f2fbcb2aa31655bfe0ce.jpg  \n",
            "  inflating: M_G-DS-1-4/train/images/Im629_g_ACRIMA_jpg.rf.34ca2da439d6889b2efd3d8c4bfb7cf5.jpg  \n",
            "  inflating: M_G-DS-1-4/train/images/Im634_g_ACRIMA_jpg.rf.9ca2a6a5fb574c99a9b530a5030dd874.jpg  \n",
            "  inflating: M_G-DS-1-4/train/images/Im635_g_ACRIMA_jpg.rf.a93bbdbe9f55731d170734b0c8994184.jpg  \n",
            "  inflating: M_G-DS-1-4/train/images/Im637_g_ACRIMA_jpg.rf.dfbe759f37dadab49c39585b088821d6.jpg  \n",
            "  inflating: M_G-DS-1-4/train/images/Im638_g_ACRIMA_jpg.rf.bc86f5bda9a4e5c5508786b3d3f714e9.jpg  \n",
            "  inflating: M_G-DS-1-4/train/images/Im647_g_ACRIMA_jpg.rf.c49b2033d3bcc4a88b7d06a00b675c9b.jpg  \n",
            "  inflating: M_G-DS-1-4/train/images/Im656_g_ACRIMA_jpg.rf.1aeceb646ad4c343503234b5b30329a9.jpg  \n",
            "  inflating: M_G-DS-1-4/train/images/Im657_g_ACRIMA_jpg.rf.5b2b892f647fc647016b154d901be0db.jpg  \n",
            "  inflating: M_G-DS-1-4/train/images/Im666_g_ACRIMA_jpg.rf.7abb53aeb683b189cea43a3e4389c401.jpg  \n",
            "  inflating: M_G-DS-1-4/train/images/Im667_g_ACRIMA_jpg.rf.e3049e74ec42ab03d00313883714da78.jpg  \n",
            "  inflating: M_G-DS-1-4/train/images/Im670_g_ACRIMA_jpg.rf.f7259faa9b4e7c511ade52c3cf0ba6e8.jpg  \n",
            "  inflating: M_G-DS-1-4/train/images/Im671_g_ACRIMA_jpg.rf.e528d507c9cac9c0d6fbbfdb060b787f.jpg  \n",
            "  inflating: M_G-DS-1-4/train/images/Im675_g_ACRIMA_jpg.rf.19c43358a1e96dbdd69bb8fb914d03e6.jpg  \n",
            "  inflating: M_G-DS-1-4/train/images/Im697_g_ACRIMA_jpg.rf.8f0de2a90aeba31da279a32578f5b9ea.jpg  \n",
            "  inflating: M_G-DS-1-4/train/images/Im698_g_ACRIMA_jpg.rf.16b6d78125033facb56feee3e272c1b0.jpg  \n",
            "  inflating: M_G-DS-1-4/train/images/SHMC_102_g_jpg.rf.67b91d866f46ade68f5434b20b4cbbbc.jpg  \n",
            "  inflating: M_G-DS-1-4/train/images/SHMC_105_g_jpg.rf.afdecf08e67f02ffe4690c5c29d2933d.jpg  \n",
            "  inflating: M_G-DS-1-4/train/images/SHMC_107_g_jpg.rf.aa0beaf035abd07ad8647be658d2e2cd.jpg  \n",
            "  inflating: M_G-DS-1-4/train/images/SHMC_110_jpg.rf.87f72a8214a377d46c52ff09303e3864.jpg  \n",
            "  inflating: M_G-DS-1-4/train/images/SHMC_111_jpg.rf.d9dbefe4b0e5857b6a5d3cf039242789.jpg  \n",
            "  inflating: M_G-DS-1-4/train/images/SHMC_112_jpg.rf.97447ed0565b1136c5cd5abfde04bb29.jpg  \n",
            "  inflating: M_G-DS-1-4/train/images/SHMC_113_jpg.rf.a11ba3c4b54e5fcdbd9585f59db5d61a.jpg  \n",
            "  inflating: M_G-DS-1-4/train/images/SHMC_114_g_jpg.rf.594a620350c702a0bb9aeba03ada5833.jpg  \n",
            "  inflating: M_G-DS-1-4/train/images/SHMC_115_jpg.rf.adc202fa2c031a64da92489158dfd350.jpg  \n",
            "  inflating: M_G-DS-1-4/train/images/SHMC_116_g_jpg.rf.dcf95c5c62bf5c26a0c814a5a2aba62e.jpg  \n",
            "  inflating: M_G-DS-1-4/train/images/SHMC_117_jpg.rf.71ea607b8b6e5fad74c56afb8f6be333.jpg  \n",
            "  inflating: M_G-DS-1-4/train/images/SHMC_119_jpg.rf.7b4310da45650ddf88d3545efa0a3709.jpg  \n",
            "  inflating: M_G-DS-1-4/train/images/SHMC_120_jpg.rf.fceadca94aed45c29487eb533ae0a360.jpg  \n",
            "  inflating: M_G-DS-1-4/train/images/SHMC_121_jpg.rf.ba40938172589bf54fc8e141c7b81153.jpg  \n",
            "  inflating: M_G-DS-1-4/train/images/SHMC_122_jpg.rf.bdc9112e8356ff6f70eed1d4c2976e67.jpg  \n",
            "  inflating: M_G-DS-1-4/train/images/SHMC_123_jpg.rf.6289cddbc913b5cef71f4bc7921f91ce.jpg  \n",
            "  inflating: M_G-DS-1-4/train/images/SHMC_125_jpg.rf.e2b22b2f224e137dc276c3a843571bf3.jpg  \n",
            "  inflating: M_G-DS-1-4/train/images/SHMC_127_jpg.rf.8d966d40b905727e09a980a50eee96dc.jpg  \n",
            "  inflating: M_G-DS-1-4/train/images/SHMC_128_jpg.rf.c0011ad0c86fce6f0b251d1db970177f.jpg  \n",
            "  inflating: M_G-DS-1-4/train/images/SHMC_129_jpg.rf.dc156335249474a6153a1050216dfedd.jpg  \n",
            "  inflating: M_G-DS-1-4/train/images/SHMC_130_jpg.rf.12d06e22ff4d4c56c41af6f90cba6f3b.jpg  \n",
            "  inflating: M_G-DS-1-4/train/images/SHMC_131_g_jpg.rf.394b44ea2c50d5c996ba46469efcc01c.jpg  \n",
            "  inflating: M_G-DS-1-4/train/images/SHMC_134_jpg.rf.ba0a3a8528d3d795a3c973cf20660245.jpg  \n",
            "  inflating: M_G-DS-1-4/train/images/SHMC_139_jpg.rf.3f4e3918e41e01d507a95ca1dfa13d80.jpg  \n",
            "  inflating: M_G-DS-1-4/train/images/SHMC_141_jpg.rf.340c5a4aad00f87e522ecf14f19d985c.jpg  \n",
            "  inflating: M_G-DS-1-4/train/images/SHMC_142_jpg.rf.c0380ad86a343811c57660990682a92c.jpg  \n",
            "  inflating: M_G-DS-1-4/train/images/SHMC_143_jpg.rf.3663e734b34d2e6841812d437cc48842.jpg  \n",
            "  inflating: M_G-DS-1-4/train/images/SHMC_144_jpg.rf.2c9655a208d47de2133174e5b4405125.jpg  \n",
            "  inflating: M_G-DS-1-4/train/images/SHMC_145_g_jpg.rf.0de88f4a49f69b5ea094d1fbe2ab37d0.jpg  \n",
            "  inflating: M_G-DS-1-4/train/images/SHMC_151_jpg.rf.f6f07254286001bad971e3d88eff1a7d.jpg  \n",
            "  inflating: M_G-DS-1-4/train/images/SHMC_22_g_jpg.rf.cd1cba43c1572c5389bcdbfc6baba2e1.jpg  \n",
            "  inflating: M_G-DS-1-4/train/images/SHMC_24_g_jpg.rf.1bce67d4885d5e390acba4be07a06861.jpg  \n",
            "  inflating: M_G-DS-1-4/train/images/SHMC_25_g_jpg.rf.581a01e4d63643e99bdad62bda50a0ff.jpg  \n",
            "  inflating: M_G-DS-1-4/train/images/SHMC_26_g_jpg.rf.b14990f469063528c4920f555a9137e0.jpg  \n",
            "  inflating: M_G-DS-1-4/train/images/SHMC_31_jpg.rf.0a6da33ee7e4b5204d2a0ead51e1810d.jpg  \n",
            "  inflating: M_G-DS-1-4/train/images/SHMC_33_jpg.rf.e25312d052e967b15e4436f38171662c.jpg  \n",
            "  inflating: M_G-DS-1-4/train/images/SHMC_35_jpg.rf.6e54a196389ed314c31b55fcc11667f8.jpg  \n",
            "  inflating: M_G-DS-1-4/train/images/SHMC_36_jpg.rf.1767dc73a4ee6d26d25fef765538a147.jpg  \n",
            "  inflating: M_G-DS-1-4/train/images/SHMC_38_jpg.rf.5bac020248a13d9bf39a215189d6ad30.jpg  \n",
            "  inflating: M_G-DS-1-4/train/images/SHMC_42_jpg.rf.1f295289bbfce671cda3080a74c67cf6.jpg  \n",
            "  inflating: M_G-DS-1-4/train/images/SHMC_45_jpg.rf.496c0734535373ecf6b59ed02068bf66.jpg  \n",
            "  inflating: M_G-DS-1-4/train/images/SHMC_46_jpg.rf.d04e749428d30cfd3273e92bcd4239bd.jpg  \n",
            "  inflating: M_G-DS-1-4/train/images/SHMC_48_jpg.rf.33a623d12b0a8e62a7865da775717d5d.jpg  \n",
            "  inflating: M_G-DS-1-4/train/images/SHMC_49_jpg.rf.81818ee7d0cc17c32c650081ea566cdc.jpg  \n",
            "  inflating: M_G-DS-1-4/train/images/SHMC_50_jpg.rf.f6f4ee61f55b629f0499aea9b18b13bc.jpg  \n",
            "  inflating: M_G-DS-1-4/train/images/SHMC_51_jpg.rf.446cfc4cd72c39e7eff45f2be0aa87d9.jpg  \n",
            "  inflating: M_G-DS-1-4/train/images/SHMC_52_jpg.rf.7cd822a6f072c35931a910191f0d9f44.jpg  \n",
            "  inflating: M_G-DS-1-4/train/images/SHMC_53_jpg.rf.f5d82c0cf17228f63c86d28c8abe1335.jpg  \n",
            "  inflating: M_G-DS-1-4/train/images/SHMC_54_jpg.rf.ecca78e9fc87f22c4baff6b970e24173.jpg  \n",
            "  inflating: M_G-DS-1-4/train/images/SHMC_5_g_jpg.rf.3883667851dc50b099b1a722b4a0991d.jpg  \n",
            "  inflating: M_G-DS-1-4/train/images/SHMC_62_jpg.rf.485fe72cc608d1eb449e54f4fdadc387.jpg  \n",
            "  inflating: M_G-DS-1-4/train/images/SHMC_64_jpg.rf.53694031cdbbd6b3f538a23fda81d32e.jpg  \n",
            "  inflating: M_G-DS-1-4/train/images/SHMC_68_jpg.rf.ac97fe40ec133dc10ad75838239ceb2c.jpg  \n",
            "  inflating: M_G-DS-1-4/train/images/SHMC_69_jpg.rf.710332d0cf64b320fa41426a96877e36.jpg  \n",
            "  inflating: M_G-DS-1-4/train/images/SHMC_70_jpg.rf.e08b125bcac3cfab67cc0cc170b9f9ad.jpg  \n",
            "  inflating: M_G-DS-1-4/train/images/SHMC_71_jpg.rf.d4c2e14bb15bf282ec3e93c6d45c7ebf.jpg  \n",
            "  inflating: M_G-DS-1-4/train/images/SHMC_78_jpg.rf.fe9d37795695925ae322f74d35bc45b5.jpg  \n",
            "  inflating: M_G-DS-1-4/train/images/SHMC_79_jpg.rf.46886e6834d3a0d3b3ca5a9c7592f04c.jpg  \n",
            "  inflating: M_G-DS-1-4/train/images/SHMC_81_jpg.rf.706dadcb9da17e78e36ed898052045f7.jpg  \n",
            "  inflating: M_G-DS-1-4/train/images/SHMC_82_jpg.rf.befccf01bf6a9363cc242acb72b13745.jpg  \n",
            "  inflating: M_G-DS-1-4/train/images/SHMC_83_jpg.rf.0f09f183ff25e17ba7277418fce04f0a.jpg  \n",
            "  inflating: M_G-DS-1-4/train/images/SHMC_84_g_jpg.rf.7eca6c5523042682f81bd0d97a6477da.jpg  \n",
            "  inflating: M_G-DS-1-4/train/images/SHMC_85_g_jpg.rf.8ee238c12b793042c70c3a9862ebea77.jpg  \n",
            "  inflating: M_G-DS-1-4/train/images/SHMC_86_jpg.rf.c295df4a64b6e7dc57cd32bfad45d502.jpg  \n",
            "  inflating: M_G-DS-1-4/train/images/SHMC_89_g_jpg.rf.a52ed7655beb3a358ed9791f059d5443.jpg  \n",
            "  inflating: M_G-DS-1-4/train/images/SHMC_90_g_jpg.rf.626d315b8b6f64ae94767d3d6db5d827.jpg  \n",
            "  inflating: M_G-DS-1-4/train/images/SHMC_91_g_jpg.rf.3b6eb41f5a0a95f17d656914c7b9eed9.jpg  \n",
            "  inflating: M_G-DS-1-4/train/images/SHMC_92_g_jpg.rf.1cd4e0a526ee29724506c5b94baa055d.jpg  \n",
            "  inflating: M_G-DS-1-4/train/images/SHMC_98_g_jpg.rf.a060b76eed19da3d18a280ed37ce8f15.jpg  \n",
            "  inflating: M_G-DS-1-4/train/images/SHMC_99_g_jpg.rf.bfe29facebcc6a3d8a43c0992b4b81da.jpg  \n",
            "   creating: M_G-DS-1-4/train/labels/\n",
            "  inflating: M_G-DS-1-4/train/labels/002_jpg.rf.1fb8853bfc18b937e2c2b83974ef59c5.txt  \n",
            "  inflating: M_G-DS-1-4/train/labels/008_jpg.rf.5665f059b0f35966e827b1c04d760547.txt  \n",
            "  inflating: M_G-DS-1-4/train/labels/011_jpg.rf.5b113465bc3f4cad4a8342d578f634fb.txt  \n",
            "  inflating: M_G-DS-1-4/train/labels/012_jpg.rf.9fd8edaa09319854320e368cfec9f49c.txt  \n",
            "  inflating: M_G-DS-1-4/train/labels/013_jpg.rf.83470b9af7a07efcc8c39bb9714bcaf7.txt  \n",
            "  inflating: M_G-DS-1-4/train/labels/023_jpg.rf.f3b3d88a815ca2c22f3a66c1dd9584db.txt  \n",
            "  inflating: M_G-DS-1-4/train/labels/024_jpg.rf.2090f0f2b12a23879c12cf7ad3032085.txt  \n",
            "  inflating: M_G-DS-1-4/train/labels/026_jpg.rf.bd08adadb705da438f9f196c4a2d7eba.txt  \n",
            "  inflating: M_G-DS-1-4/train/labels/050_g_jpg.rf.e9e1d7448596fe8b78afb0df292d86d7.txt  \n",
            "  inflating: M_G-DS-1-4/train/labels/053_jpg.rf.9e5603e2197585c13767a2fb3256d014.txt  \n",
            "  inflating: M_G-DS-1-4/train/labels/056_jpg.rf.203d40819a2ee48c6e67c8aee6afbee2.txt  \n",
            "  inflating: M_G-DS-1-4/train/labels/061_jpg.rf.f18b6e336cab014fb9e6e466fb7b7ca0.txt  \n",
            "  inflating: M_G-DS-1-4/train/labels/062_jpg.rf.de6989ebd7ce5b2cc6c9f9688eb5d640.txt  \n",
            "  inflating: M_G-DS-1-4/train/labels/063_jpg.rf.8a8f2a6adff44d434be10ae8922c4d12.txt  \n",
            "  inflating: M_G-DS-1-4/train/labels/065_jpg.rf.01944046ab9991fc49a5f4c4b1ed8363.txt  \n",
            "  inflating: M_G-DS-1-4/train/labels/069_g_jpg.rf.2543fe47ea408edecb99612bfdb5cb86.txt  \n",
            "  inflating: M_G-DS-1-4/train/labels/073_jpg.rf.2dfd0b665d193d69bb54cec8f34c306d.txt  \n",
            "  inflating: M_G-DS-1-4/train/labels/076_g_jpg.rf.bf710094679793f97a177f907976e252.txt  \n",
            "  inflating: M_G-DS-1-4/train/labels/086_g_jpg.rf.3e960fda6f6014628bf60d18529129d1.txt  \n",
            "  inflating: M_G-DS-1-4/train/labels/087_g_jpg.rf.aae5265264d1e3f01436a53d0d7e8e02.txt  \n",
            "  inflating: M_G-DS-1-4/train/labels/093_g_jpg.rf.dfb0b95ab26d659c48faa8b5b83dc97a.txt  \n",
            "  inflating: M_G-DS-1-4/train/labels/094_g_jpg.rf.7c95186f5906a26f6a58a515b90cd64f.txt  \n",
            "  inflating: M_G-DS-1-4/train/labels/110_g_jpg.rf.bc9d2ca31c5e0c4d583e231814ecbaa0.txt  \n",
            "  inflating: M_G-DS-1-4/train/labels/126_jpg.rf.e5b2ac56a193210180bc4bf24f23915e.txt  \n",
            "  inflating: M_G-DS-1-4/train/labels/127_jpg.rf.9978b876b89064c5057ebd2653136a21.txt  \n",
            "  inflating: M_G-DS-1-4/train/labels/155_jpg.rf.c1db196d69b1facb0815e5bc54ed4482.txt  \n",
            "  inflating: M_G-DS-1-4/train/labels/179_jpg.rf.3c872b80cdd216367fd9542058376ad3.txt  \n",
            "  inflating: M_G-DS-1-4/train/labels/185_jpg.rf.5a53053a7c991e9b6600a4d759c3233d.txt  \n",
            "  inflating: M_G-DS-1-4/train/labels/204_jpg.rf.d5bc47a9a29497a18878f04c9ffc99d5.txt  \n",
            "  inflating: M_G-DS-1-4/train/labels/206_jpg.rf.d8eb6f168417373cd97723c6fb513bca.txt  \n",
            "  inflating: M_G-DS-1-4/train/labels/207_jpg.rf.89acabeb331edcf8fd309a593489f807.txt  \n",
            "  inflating: M_G-DS-1-4/train/labels/209_jpg.rf.99e36efd6b65e74a9d1ceaf81d0ab801.txt  \n",
            "  inflating: M_G-DS-1-4/train/labels/228_g_jpg.rf.6460ffe6adec21d4b979984e651f039c.txt  \n",
            "  inflating: M_G-DS-1-4/train/labels/229_g_jpg.rf.751d4540a8a90dac007502c872574cf8.txt  \n",
            "  inflating: M_G-DS-1-4/train/labels/257_jpg.rf.c8f3ffe280523fd307ca88e271735e22.txt  \n",
            "  inflating: M_G-DS-1-4/train/labels/258_jpg.rf.11739a692001f24aed3ec30f720387f4.txt  \n",
            "  inflating: M_G-DS-1-4/train/labels/269_g_jpg.rf.f10cb8cee7ea4bed8641577538945846.txt  \n",
            "  inflating: M_G-DS-1-4/train/labels/270_g_jpg.rf.bba60ef781fc2b8685f9bd81a89ce923.txt  \n",
            "  inflating: M_G-DS-1-4/train/labels/277_g_jpg.rf.3c3e9183fd941d6cd00461d18db16df4.txt  \n",
            "  inflating: M_G-DS-1-4/train/labels/278_g_jpg.rf.6c8de454668c54bb51e287de07af28e4.txt  \n",
            "  inflating: M_G-DS-1-4/train/labels/289_g_jpg.rf.8c147f07f3de10fb171e9cf113d15807.txt  \n",
            "  inflating: M_G-DS-1-4/train/labels/298_jpg.rf.d0ae49cdddbbf3a6b087bd796a02671a.txt  \n",
            "  inflating: M_G-DS-1-4/train/labels/299_jpg.rf.7a2d142851fe8cf67b85b5792a1ce805.txt  \n",
            "  inflating: M_G-DS-1-4/train/labels/302_jpg.rf.312acc12110cc1e8d8da4c4f968dd1bb.txt  \n",
            "  inflating: M_G-DS-1-4/train/labels/303_jpg.rf.85edf5de3e5a6d6b48dcb1de2ac50df8.txt  \n",
            "  inflating: M_G-DS-1-4/train/labels/338_jpg.rf.2d24a8130ee2fa8e82078d8ca7d4b9e1.txt  \n",
            "  inflating: M_G-DS-1-4/train/labels/396_jpg.rf.81968ea847196e0731ec8709d9c9102b.txt  \n",
            "  inflating: M_G-DS-1-4/train/labels/400_jpg.rf.58880c5e5a45d836c112d52beab6d0c3.txt  \n",
            "  inflating: M_G-DS-1-4/train/labels/429_g_jpg.rf.e750e43f8036659171624f91eb34a9e2.txt  \n",
            "  inflating: M_G-DS-1-4/train/labels/450_jpg.rf.b9997727436b62dcf1cef7d3d8e3559b.txt  \n",
            "  inflating: M_G-DS-1-4/train/labels/454_jpg.rf.30b28b9c28c9a00f43f2d0acd7bac738.txt  \n",
            "  inflating: M_G-DS-1-4/train/labels/457_g_jpg.rf.e2bd72b77423c3e2411b71f514dacce5.txt  \n",
            "  inflating: M_G-DS-1-4/train/labels/458_g_jpg.rf.f17b15f370c98c8df1494a7dd35a144f.txt  \n",
            "  inflating: M_G-DS-1-4/train/labels/474_g_jpg.rf.8b2cf20263c2196003138e3581c6b1d0.txt  \n",
            "  inflating: M_G-DS-1-4/train/labels/480_g_jpg.rf.84d021eb6dd26bb9580b249ba6e3fb0b.txt  \n",
            "  inflating: M_G-DS-1-4/train/labels/507_g_jpg.rf.311e4bfbd55344fd3ff16cb34fdf7a73.txt  \n",
            "  inflating: M_G-DS-1-4/train/labels/514_g_jpg.rf.25fe81fdba88e2e8203e05fba1f13aba.txt  \n",
            "  inflating: M_G-DS-1-4/train/labels/549_g_jpg.rf.5f656e5c95ce81e3a83915c169988e9a.txt  \n",
            "  inflating: M_G-DS-1-4/train/labels/550_g_jpg.rf.da63c8af360cd495a02b96b71e4eef03.txt  \n",
            "  inflating: M_G-DS-1-4/train/labels/556_g_jpg.rf.b5678ecfa0efcb29cd5b43b6929d08c1.txt  \n",
            "  inflating: M_G-DS-1-4/train/labels/571_g_jpg.rf.096fa10c70d1faa0058494a5e2da9d0d.txt  \n",
            "  inflating: M_G-DS-1-4/train/labels/572_g_jpg.rf.da5cba4ca7af142ec79c9beb5f538f2d.txt  \n",
            "  inflating: M_G-DS-1-4/train/labels/588_g_jpg.rf.fb30873b139e59b62fc4cb5e0d5ddda8.txt  \n",
            "  inflating: M_G-DS-1-4/train/labels/593_g_jpg.rf.abde13532b548dfed8a773c4b5284787.txt  \n",
            "  inflating: M_G-DS-1-4/train/labels/624_g_jpg.rf.153955902c402b1b3ae0a37f40fe28ec.txt  \n",
            "  inflating: M_G-DS-1-4/train/labels/626_g_jpg.rf.b861de914bbd49c0d80f24a3dac2932a.txt  \n",
            "  inflating: M_G-DS-1-4/train/labels/641_g_jpg.rf.468d3f64e293332176914f795e4c4b63.txt  \n",
            "  inflating: M_G-DS-1-4/train/labels/644_g_jpg.rf.bfc08441c773040424db3bb1a590bb83.txt  \n",
            "  inflating: M_G-DS-1-4/train/labels/645_g_jpg.rf.18a96a30ec0f57d5c275e1beeaeb5ffa.txt  \n",
            "  inflating: M_G-DS-1-4/train/labels/646_g_jpg.rf.fb15da5be1462c50eb71235dd5731ab8.txt  \n",
            "  inflating: M_G-DS-1-4/train/labels/drishtiGS_016_g_jpg.rf.f6d106249e397ea4528b5a1c227dd2be.txt  \n",
            "  inflating: M_G-DS-1-4/train/labels/drishtiGS_018_jpg.rf.71519a28937a4831d47b28145ef1f190.txt  \n",
            "  inflating: M_G-DS-1-4/train/labels/drishtiGS_029_g_jpg.rf.a6fd5f626b6819aac98dfb717d556a9b.txt  \n",
            "  inflating: M_G-DS-1-4/train/labels/drishtiGS_030_g_jpg.rf.c57610eee959caf23cd3b97357a0f629.txt  \n",
            "  inflating: M_G-DS-1-4/train/labels/drishtiGS_031_g_jpg.rf.30d7c914a48e28fc0534f80eb67b4e50.txt  \n",
            "  inflating: M_G-DS-1-4/train/labels/drishtiGS_032_g_jpg.rf.cc04f0c2411e85dba969c277d9f4c2d3.txt  \n",
            "  inflating: M_G-DS-1-4/train/labels/drishtiGS_034_g_jpg.rf.133a0c06016e50cf079719eefe873eeb.txt  \n",
            "  inflating: M_G-DS-1-4/train/labels/drishtiGS_038_g_jpg.rf.e637a18d181eab330fbb8eaf321b5605.txt  \n",
            "  inflating: M_G-DS-1-4/train/labels/drishtiGS_039_g_jpg.rf.a4a79e7d666ca6b7edcdd7a834cff58e.txt  \n",
            "  inflating: M_G-DS-1-4/train/labels/drishtiGS_040_g_jpg.rf.3aba0c27d0fb92f94720c9372b9dfd15.txt  \n",
            "  inflating: M_G-DS-1-4/train/labels/drishtiGS_041_jpg.rf.007f9f869b3166817639a6ffe4a6867b.txt  \n",
            "  inflating: M_G-DS-1-4/train/labels/drishtiGS_042_jpg.rf.ec663eb5a4a474178615de8b7241363d.txt  \n",
            "  inflating: M_G-DS-1-4/train/labels/drishtiGS_043_g_jpg.rf.687cf9161c50ab67c5d6599fd8bca715.txt  \n",
            "  inflating: M_G-DS-1-4/train/labels/drishtiGS_044_g_jpg.rf.4c8a248402e3e09f6f0d4cf1941c8acc.txt  \n",
            "  inflating: M_G-DS-1-4/train/labels/drishtiGS_045_g_jpg.rf.9e1138ac847028c47389d3f32d7aaca9.txt  \n",
            "  inflating: M_G-DS-1-4/train/labels/drishtiGS_046_jpg.rf.f2d379915c738da2c7e6e3ca70b451ed.txt  \n",
            "  inflating: M_G-DS-1-4/train/labels/drishtiGS_047_jpg.rf.318c7cc5acf137214726e9a76636fe58.txt  \n",
            "  inflating: M_G-DS-1-4/train/labels/drishtiGS_048_g_jpg.rf.770c76095487fc02f95f1eca2a898f99.txt  \n",
            "  inflating: M_G-DS-1-4/train/labels/drishtiGS_049_g_jpg.rf.0a9f7e012248047c529369ef187081df.txt  \n",
            "  inflating: M_G-DS-1-4/train/labels/drishtiGS_050_g_jpg.rf.46f219526eeabc79ca54da696270f305.txt  \n",
            "  inflating: M_G-DS-1-4/train/labels/drishtiGS_051_g_jpg.rf.6f751f63a9c586daa4a9f2462379c63d.txt  \n",
            "  inflating: M_G-DS-1-4/train/labels/drishtiGS_052_g_jpg.rf.7b1b3a6c515c01626027096f663df70c.txt  \n",
            "  inflating: M_G-DS-1-4/train/labels/drishtiGS_053_g_jpg.rf.52be85d6a136b6db9aafb888e4c1885a.txt  \n",
            "  inflating: M_G-DS-1-4/train/labels/drishtiGS_054_g_jpg.rf.317f79375382f55fb874eb0f551cce6b.txt  \n",
            "  inflating: M_G-DS-1-4/train/labels/drishtiGS_055_g_jpg.rf.5d9061d028dae05436bceba9c952d4c9.txt  \n",
            "  inflating: M_G-DS-1-4/train/labels/drishtiGS_056_g_jpg.rf.7578f15def3855d617a3d83b2fd7aaaf.txt  \n",
            "  inflating: M_G-DS-1-4/train/labels/drishtiGS_057_jpg.rf.5b2508895b1f32356381a0caa8cba8f5.txt  \n",
            "  inflating: M_G-DS-1-4/train/labels/drishtiGS_058_g_jpg.rf.f5aa601a626647824b25aa6345e67da3.txt  \n",
            "  inflating: M_G-DS-1-4/train/labels/drishtiGS_059_g_jpg.rf.8da2eb50d3117b7e8b584ea7b12cc0a5.txt  \n",
            "  inflating: M_G-DS-1-4/train/labels/drishtiGS_060_g_jpg.rf.01a985e4ec61def370a6bbf3d74b7dbf.txt  \n",
            "  inflating: M_G-DS-1-4/train/labels/drishtiGS_061_g_jpg.rf.13e8602bf0ce7adf0c1873fce906c02c.txt  \n",
            "  inflating: M_G-DS-1-4/train/labels/drishtiGS_062_g_jpg.rf.96d70d0b171694031500548807c6044b.txt  \n",
            "  inflating: M_G-DS-1-4/train/labels/drishtiGS_063_g_jpg.rf.382c574d808db44515a985f374c058fc.txt  \n",
            "  inflating: M_G-DS-1-4/train/labels/drishtiGS_064_g_jpg.rf.6097f340d205bab4c4163f539fc2287f.txt  \n",
            "  inflating: M_G-DS-1-4/train/labels/drishtiGS_065_g_jpg.rf.b8797d5ba4538e39b2028a669f86899b.txt  \n",
            "  inflating: M_G-DS-1-4/train/labels/drishtiGS_066_g_jpg.rf.40521e65e78e4d60bb231fa0d0b32ee9.txt  \n",
            "  inflating: M_G-DS-1-4/train/labels/drishtiGS_067_g_jpg.rf.4a311a8d19c9b9ef8fa06e47c25dce85.txt  \n",
            "  inflating: M_G-DS-1-4/train/labels/drishtiGS_068_g_jpg.rf.ee7cca946d973b2a48390d4c676f7bd8.txt  \n",
            "  inflating: M_G-DS-1-4/train/labels/drishtiGS_069_g_jpg.rf.2aadbefb03bbcfb6deb974d05d454540.txt  \n",
            "  inflating: M_G-DS-1-4/train/labels/drishtiGS_070_g_jpg.rf.7c22e83a46f7ae9a4a6363b508845cb0.txt  \n",
            "  inflating: M_G-DS-1-4/train/labels/drishtiGS_071_g_jpg.rf.ec8296ac9480ecd05a86b0321019ef24.txt  \n",
            "  inflating: M_G-DS-1-4/train/labels/drishtiGS_072_jpg.rf.725a0d3bb8f38291f43294807a72e3f9.txt  \n",
            "  inflating: M_G-DS-1-4/train/labels/drishtiGS_073_g_jpg.rf.840acb9a8378a1414c110fcd8e80dd45.txt  \n",
            "  inflating: M_G-DS-1-4/train/labels/drishtiGS_074_g_jpg.rf.4d2bb587fc875a48f2a0d797d72f87a4.txt  \n",
            "  inflating: M_G-DS-1-4/train/labels/drishtiGS_075_jpg.rf.1438f057145b28c32ba01d1616905106.txt  \n",
            "  inflating: M_G-DS-1-4/train/labels/drishtiGS_076_g_jpg.rf.6719bc491b59f4f34bcb5e0c3791b388.txt  \n",
            "  inflating: M_G-DS-1-4/train/labels/drishtiGS_077_g_jpg.rf.96e9a530047ebc942b349e8d51c61de4.txt  \n",
            "  inflating: M_G-DS-1-4/train/labels/drishtiGS_078_jpg.rf.4ec0984fddfdb3bb2c3489cc01f4f290.txt  \n",
            "  inflating: M_G-DS-1-4/train/labels/drishtiGS_079_g_jpg.rf.6a71254f80f653a1b7643485fed0f9a7.txt  \n",
            "  inflating: M_G-DS-1-4/train/labels/drishtiGS_080_g_jpg.rf.bbb95f046db7b2ed2cf8ae2c71d734ac.txt  \n",
            "  inflating: M_G-DS-1-4/train/labels/drishtiGS_081_g_jpg.rf.1c7d21097a1226be8c82d1f0b2f1a94f.txt  \n",
            "  inflating: M_G-DS-1-4/train/labels/drishtiGS_082_g_jpg.rf.caa0076ddd3d717d42c4eaaf241ee1ec.txt  \n",
            "  inflating: M_G-DS-1-4/train/labels/drishtiGS_083_g_jpg.rf.8e13c8eb3623ef73553795aa3b4f7289.txt  \n",
            "  inflating: M_G-DS-1-4/train/labels/drishtiGS_084_g_jpg.rf.42ec76b7f21bfd04105de27f70b8fa40.txt  \n",
            "  inflating: M_G-DS-1-4/train/labels/drishtiGS_085_jpg.rf.e50dfb9e299e75ddf56979bd203bf206.txt  \n",
            "  inflating: M_G-DS-1-4/train/labels/drishtiGS_086_g_jpg.rf.01b2ca9f47eb8c60f98330a1bef90ccd.txt  \n",
            "  inflating: M_G-DS-1-4/train/labels/drishtiGS_087_g_jpg.rf.34cc5a45f0f0a01f96821f78e23d8d95.txt  \n",
            "  inflating: M_G-DS-1-4/train/labels/drishtiGS_088_g_jpg.rf.12077259e48d918a84f2f7487680b6fb.txt  \n",
            "  inflating: M_G-DS-1-4/train/labels/drishtiGS_089_jpg.rf.e70b81f92ddd9e322bd6a630dd2d11aa.txt  \n",
            "  inflating: M_G-DS-1-4/train/labels/drishtiGS_090_jpg.rf.808866e838d15696c1fb48dfc2ae1a16.txt  \n",
            "  inflating: M_G-DS-1-4/train/labels/drishtiGS_091_jpg.rf.7197bb291344a5f28ff3ea35635b5c7a.txt  \n",
            "  inflating: M_G-DS-1-4/train/labels/drishtiGS_092_jpg.rf.c5603085367252cbe3140da7c28cc2ed.txt  \n",
            "  inflating: M_G-DS-1-4/train/labels/drishtiGS_093_jpg.rf.949dd6df1c13f30fd80333ebb443b747.txt  \n",
            "  inflating: M_G-DS-1-4/train/labels/drishtiGS_094_jpg.rf.c507fb161262ca6027fb8c8ad249c61c.txt  \n",
            "  inflating: M_G-DS-1-4/train/labels/drishtiGS_095_jpg.rf.19d9337372e759db04b0e4d9b9feba55.txt  \n",
            "  inflating: M_G-DS-1-4/train/labels/drishtiGS_096_jpg.rf.02be3b6611754c90320193f914d7331c.txt  \n",
            "  inflating: M_G-DS-1-4/train/labels/drishtiGS_097_jpg.rf.9d90a2151a142698b447eac835477fbf.txt  \n",
            "  inflating: M_G-DS-1-4/train/labels/drishtiGS_098_jpg.rf.9b3603e236150723d671b5ac1c76e0af.txt  \n",
            "  inflating: M_G-DS-1-4/train/labels/drishtiGS_099_jpg.rf.f3f8477fd669c6ae5233d94df0733999.txt  \n",
            "  inflating: M_G-DS-1-4/train/labels/drishtiGS_100_jpg.rf.abe5957969c0c655ccc8318bc34bdcf7.txt  \n",
            "  inflating: M_G-DS-1-4/train/labels/Im082_ACRIMA_jpg.rf.559aca85fe49295a99c1de6238714a22.txt  \n",
            "  inflating: M_G-DS-1-4/train/labels/Im091_ACRIMA_jpg.rf.76dc34248cabeebac223d4a872dd9b78.txt  \n",
            "  inflating: M_G-DS-1-4/train/labels/Im100_ACRIMA_jpg.rf.d7a714d87b928c6fb4e14eacd6f918af.txt  \n",
            "  inflating: M_G-DS-1-4/train/labels/Im103_ACRIMA_jpg.rf.0bf0df874eb096e4ebc3f46e50611178.txt  \n",
            "  inflating: M_G-DS-1-4/train/labels/Im104_ACRIMA_jpg.rf.58d3ea38d0569ca3ea0bca6c95f3ac02.txt  \n",
            "  inflating: M_G-DS-1-4/train/labels/Im119_ACRIMA_jpg.rf.f249eae5d5974db4a16d446711eddfd7.txt  \n",
            "  inflating: M_G-DS-1-4/train/labels/Im138_ACRIMA_jpg.rf.478e97673f04b7d121348f2c249244b5.txt  \n",
            "  inflating: M_G-DS-1-4/train/labels/Im139_ACRIMA_jpg.rf.7842ba08000ffb763716f84f8cb2085c.txt  \n",
            "  inflating: M_G-DS-1-4/train/labels/Im171_ACRIMA_jpg.rf.d45172a88ed82fdc4a0ea30a818ac558.txt  \n",
            "  inflating: M_G-DS-1-4/train/labels/Im172_ACRIMA_jpg.rf.13a7ad9f80372f12fb93ca4536b59edc.txt  \n",
            "  inflating: M_G-DS-1-4/train/labels/Im180_ACRIMA_jpg.rf.d4885ac682e69c3ee4da2ae261df2ca4.txt  \n",
            "  inflating: M_G-DS-1-4/train/labels/Im187_ACRIMA_jpg.rf.1e0c73349eee70cbc1289f4ec4149007.txt  \n",
            "  inflating: M_G-DS-1-4/train/labels/Im188_ACRIMA_jpg.rf.f7b2ba5023bd37cda650f36130144b9e.txt  \n",
            "  inflating: M_G-DS-1-4/train/labels/Im192_ACRIMA_jpg.rf.9151d3b3bdbd86e94ab7f3719a32b795.txt  \n",
            "  inflating: M_G-DS-1-4/train/labels/Im193_ACRIMA_jpg.rf.47ce74a25f7fca89423397575af9eaec.txt  \n",
            "  inflating: M_G-DS-1-4/train/labels/Im197_ACRIMA_jpg.rf.5fdf0f47cfa27b808d1c3da1d5f74f0a.txt  \n",
            "  inflating: M_G-DS-1-4/train/labels/Im198_ACRIMA_jpg.rf.1b7ddd85da82b3088dba4439e27ff462.txt  \n",
            "  inflating: M_G-DS-1-4/train/labels/Im199_ACRIMA_jpg.rf.5bbed3c460951da192301321935023bb.txt  \n",
            "  inflating: M_G-DS-1-4/train/labels/Im204_ACRIMA_jpg.rf.0506f7484a0b4dfb66e3d105c02bcf8d.txt  \n",
            "  inflating: M_G-DS-1-4/train/labels/Im205_ACRIMA_jpg.rf.7cea54c7686a497e1a079b47a7417801.txt  \n",
            "  inflating: M_G-DS-1-4/train/labels/Im210_ACRIMA_jpg.rf.21adf4c6611df303ff955be38f3b3c89.txt  \n",
            "  inflating: M_G-DS-1-4/train/labels/Im211_ACRIMA_jpg.rf.2c2343d0983f34570782fe38922f4731.txt  \n",
            "  inflating: M_G-DS-1-4/train/labels/Im222_ACRIMA_jpg.rf.8d6518c9b98ac81b425009c91d594bc0.txt  \n",
            "  inflating: M_G-DS-1-4/train/labels/Im236_ACRIMA_jpg.rf.49cd0d8dfcb47b076644ddfe21bc82e8.txt  \n",
            "  inflating: M_G-DS-1-4/train/labels/Im237_ACRIMA_jpg.rf.1d4cd31cef437f148e519c42d99b3858.txt  \n",
            "  inflating: M_G-DS-1-4/train/labels/Im261_ACRIMA_jpg.rf.7040b90e0d7a57943b1c3fb11a717418.txt  \n",
            "  inflating: M_G-DS-1-4/train/labels/Im262_ACRIMA_jpg.rf.ff92af7da129f6955cd8d32df2c0a016.txt  \n",
            "  inflating: M_G-DS-1-4/train/labels/Im276_ACRIMA_jpg.rf.281f1d18e0b03e72154f05a84d76af32.txt  \n",
            "  inflating: M_G-DS-1-4/train/labels/Im285_ACRIMA_jpg.rf.ac034248f23d48a28c3f77632c010f93.txt  \n",
            "  inflating: M_G-DS-1-4/train/labels/Im286_ACRIMA_jpg.rf.3c5f18808ce12ac8988f7ffac04e0d9e.txt  \n",
            "  inflating: M_G-DS-1-4/train/labels/Im290_ACRIMA_jpg.rf.5bb732ff98bc545dbb7e85bc200bebe1.txt  \n",
            "  inflating: M_G-DS-1-4/train/labels/Im294_ACRIMA_jpg.rf.a178197c54dca9b151cada1882a77b6d.txt  \n",
            "  inflating: M_G-DS-1-4/train/labels/Im295_ACRIMA_jpg.rf.5651c544b995ebf8dae31cc5c2d286ef.txt  \n",
            "  inflating: M_G-DS-1-4/train/labels/Im300_ACRIMA_jpg.rf.3b067068b153a64c06c12e36a81307f8.txt  \n",
            "  inflating: M_G-DS-1-4/train/labels/Im301_ACRIMA_jpg.rf.062034f5749e44cfff433fc0747b13af.txt  \n",
            "  inflating: M_G-DS-1-4/train/labels/Im409_g_ACRIMA_jpg.rf.9165330c0650d7492b630ab02d012e08.txt  \n",
            "  inflating: M_G-DS-1-4/train/labels/Im468_g_ACRIMA_jpg.rf.ec54939dc57087ffd881e846534ab18b.txt  \n",
            "  inflating: M_G-DS-1-4/train/labels/Im470_g_ACRIMA_jpg.rf.e97368c31149ef7bfc7fbb8594b90d17.txt  \n",
            "  inflating: M_G-DS-1-4/train/labels/Im477_g_ACRIMA_jpg.rf.c2abc6043d7976abeb446bd96624b3eb.txt  \n",
            "  inflating: M_G-DS-1-4/train/labels/Im482_g_ACRIMA_jpg.rf.0047e5ea25ab709a688f0c51a7cd87d7.txt  \n",
            "  inflating: M_G-DS-1-4/train/labels/Im490_g_ACRIMA_jpg.rf.e5248d1a23173d50f22eeb5ff98808fe.txt  \n",
            "  inflating: M_G-DS-1-4/train/labels/Im505_g_ACRIMA_jpg.rf.5f632e46381fd2d6db30e5f6f8e8b263.txt  \n",
            "  inflating: M_G-DS-1-4/train/labels/Im525_g_ACRIMA_jpg.rf.ceec570764e7d430b8c10823eddc3824.txt  \n",
            "  inflating: M_G-DS-1-4/train/labels/Im531_g_ACRIMA_jpg.rf.93a7c9b4a5fd311f2875c8fc3fa43934.txt  \n",
            "  inflating: M_G-DS-1-4/train/labels/Im549_g_ACRIMA_jpg.rf.33107f4bef7019505874ff0d120762d2.txt  \n",
            "  inflating: M_G-DS-1-4/train/labels/Im550_g_ACRIMA_jpg.rf.fbcd7860fdbb2e371ffe3bb3c350b1e6.txt  \n",
            "  inflating: M_G-DS-1-4/train/labels/Im559_g_ACRIMA_jpg.rf.b60cb50c442844213e32415103fb5bb4.txt  \n",
            "  inflating: M_G-DS-1-4/train/labels/Im576_g_ACRIMA_jpg.rf.3d5e51c8f100ab955c8a37d74ee9bc58.txt  \n",
            "  inflating: M_G-DS-1-4/train/labels/Im590_g_ACRIMA_jpg.rf.dfc83301f4cb366af64b3d25bbfcf536.txt  \n",
            "  inflating: M_G-DS-1-4/train/labels/Im599_g_ACRIMA_jpg.rf.9fc853afee08bda2ca590f7b104fa363.txt  \n",
            "  inflating: M_G-DS-1-4/train/labels/Im600_g_ACRIMA_jpg.rf.5e3da440d311e92cc913b8c230cac3e2.txt  \n",
            "  inflating: M_G-DS-1-4/train/labels/Im610_g_ACRIMA_jpg.rf.2c123d74ea84a9aa4e6cb30d094a72d8.txt  \n",
            "  inflating: M_G-DS-1-4/train/labels/Im611_g_ACRIMA_jpg.rf.1bd1cac1c0ed984b995aab97ac801ccc.txt  \n",
            "  inflating: M_G-DS-1-4/train/labels/Im612_g_ACRIMA_jpg.rf.1edcb8738029f78e8057fa86924f231d.txt  \n",
            "  inflating: M_G-DS-1-4/train/labels/Im618_g_ACRIMA_jpg.rf.59583d041da2f2fbcb2aa31655bfe0ce.txt  \n",
            "  inflating: M_G-DS-1-4/train/labels/Im629_g_ACRIMA_jpg.rf.34ca2da439d6889b2efd3d8c4bfb7cf5.txt  \n",
            "  inflating: M_G-DS-1-4/train/labels/Im634_g_ACRIMA_jpg.rf.9ca2a6a5fb574c99a9b530a5030dd874.txt  \n",
            "  inflating: M_G-DS-1-4/train/labels/Im635_g_ACRIMA_jpg.rf.a93bbdbe9f55731d170734b0c8994184.txt  \n",
            "  inflating: M_G-DS-1-4/train/labels/Im637_g_ACRIMA_jpg.rf.dfbe759f37dadab49c39585b088821d6.txt  \n",
            "  inflating: M_G-DS-1-4/train/labels/Im638_g_ACRIMA_jpg.rf.bc86f5bda9a4e5c5508786b3d3f714e9.txt  \n",
            "  inflating: M_G-DS-1-4/train/labels/Im647_g_ACRIMA_jpg.rf.c49b2033d3bcc4a88b7d06a00b675c9b.txt  \n",
            "  inflating: M_G-DS-1-4/train/labels/Im656_g_ACRIMA_jpg.rf.1aeceb646ad4c343503234b5b30329a9.txt  \n",
            "  inflating: M_G-DS-1-4/train/labels/Im657_g_ACRIMA_jpg.rf.5b2b892f647fc647016b154d901be0db.txt  \n",
            "  inflating: M_G-DS-1-4/train/labels/Im666_g_ACRIMA_jpg.rf.7abb53aeb683b189cea43a3e4389c401.txt  \n",
            "  inflating: M_G-DS-1-4/train/labels/Im667_g_ACRIMA_jpg.rf.e3049e74ec42ab03d00313883714da78.txt  \n",
            "  inflating: M_G-DS-1-4/train/labels/Im670_g_ACRIMA_jpg.rf.f7259faa9b4e7c511ade52c3cf0ba6e8.txt  \n",
            "  inflating: M_G-DS-1-4/train/labels/Im671_g_ACRIMA_jpg.rf.e528d507c9cac9c0d6fbbfdb060b787f.txt  \n",
            "  inflating: M_G-DS-1-4/train/labels/Im675_g_ACRIMA_jpg.rf.19c43358a1e96dbdd69bb8fb914d03e6.txt  \n",
            "  inflating: M_G-DS-1-4/train/labels/Im697_g_ACRIMA_jpg.rf.8f0de2a90aeba31da279a32578f5b9ea.txt  \n",
            "  inflating: M_G-DS-1-4/train/labels/Im698_g_ACRIMA_jpg.rf.16b6d78125033facb56feee3e272c1b0.txt  \n",
            "  inflating: M_G-DS-1-4/train/labels/SHMC_102_g_jpg.rf.67b91d866f46ade68f5434b20b4cbbbc.txt  \n",
            "  inflating: M_G-DS-1-4/train/labels/SHMC_105_g_jpg.rf.afdecf08e67f02ffe4690c5c29d2933d.txt  \n",
            "  inflating: M_G-DS-1-4/train/labels/SHMC_107_g_jpg.rf.aa0beaf035abd07ad8647be658d2e2cd.txt  \n",
            "  inflating: M_G-DS-1-4/train/labels/SHMC_110_jpg.rf.87f72a8214a377d46c52ff09303e3864.txt  \n",
            "  inflating: M_G-DS-1-4/train/labels/SHMC_111_jpg.rf.d9dbefe4b0e5857b6a5d3cf039242789.txt  \n",
            "  inflating: M_G-DS-1-4/train/labels/SHMC_112_jpg.rf.97447ed0565b1136c5cd5abfde04bb29.txt  \n",
            "  inflating: M_G-DS-1-4/train/labels/SHMC_113_jpg.rf.a11ba3c4b54e5fcdbd9585f59db5d61a.txt  \n",
            "  inflating: M_G-DS-1-4/train/labels/SHMC_114_g_jpg.rf.594a620350c702a0bb9aeba03ada5833.txt  \n",
            "  inflating: M_G-DS-1-4/train/labels/SHMC_115_jpg.rf.adc202fa2c031a64da92489158dfd350.txt  \n",
            "  inflating: M_G-DS-1-4/train/labels/SHMC_116_g_jpg.rf.dcf95c5c62bf5c26a0c814a5a2aba62e.txt  \n",
            "  inflating: M_G-DS-1-4/train/labels/SHMC_117_jpg.rf.71ea607b8b6e5fad74c56afb8f6be333.txt  \n",
            "  inflating: M_G-DS-1-4/train/labels/SHMC_119_jpg.rf.7b4310da45650ddf88d3545efa0a3709.txt  \n",
            "  inflating: M_G-DS-1-4/train/labels/SHMC_120_jpg.rf.fceadca94aed45c29487eb533ae0a360.txt  \n",
            "  inflating: M_G-DS-1-4/train/labels/SHMC_121_jpg.rf.ba40938172589bf54fc8e141c7b81153.txt  \n",
            "  inflating: M_G-DS-1-4/train/labels/SHMC_122_jpg.rf.bdc9112e8356ff6f70eed1d4c2976e67.txt  \n",
            "  inflating: M_G-DS-1-4/train/labels/SHMC_123_jpg.rf.6289cddbc913b5cef71f4bc7921f91ce.txt  \n",
            "  inflating: M_G-DS-1-4/train/labels/SHMC_125_jpg.rf.e2b22b2f224e137dc276c3a843571bf3.txt  \n",
            "  inflating: M_G-DS-1-4/train/labels/SHMC_127_g_jpg.rf.8d966d40b905727e09a980a50eee96dc.txt  \n",
            "  inflating: M_G-DS-1-4/train/labels/SHMC_128_jpg.rf.c0011ad0c86fce6f0b251d1db970177f.txt  \n",
            "  inflating: M_G-DS-1-4/train/labels/SHMC_129_jpg.rf.dc156335249474a6153a1050216dfedd.txt  \n",
            "  inflating: M_G-DS-1-4/train/labels/SHMC_130_jpg.rf.12d06e22ff4d4c56c41af6f90cba6f3b.txt  \n",
            "  inflating: M_G-DS-1-4/train/labels/SHMC_131_jpg.rf.394b44ea2c50d5c996ba46469efcc01c.txt  \n",
            "  inflating: M_G-DS-1-4/train/labels/SHMC_134_jpg.rf.ba0a3a8528d3d795a3c973cf20660245.txt  \n",
            "  inflating: M_G-DS-1-4/train/labels/SHMC_139_jpg.rf.3f4e3918e41e01d507a95ca1dfa13d80.txt  \n",
            "  inflating: M_G-DS-1-4/train/labels/SHMC_141_jpg.rf.340c5a4aad00f87e522ecf14f19d985c.txt  \n",
            "  inflating: M_G-DS-1-4/train/labels/SHMC_142_jpg.rf.c0380ad86a343811c57660990682a92c.txt  \n",
            "  inflating: M_G-DS-1-4/train/labels/SHMC_143_g_jpg.rf.3663e734b34d2e6841812d437cc48842.txt  \n",
            "  inflating: M_G-DS-1-4/train/labels/SHMC_144_jpg.rf.2c9655a208d47de2133174e5b4405125.txt  \n",
            "  inflating: M_G-DS-1-4/train/labels/SHMC_145_g_jpg.rf.0de88f4a49f69b5ea094d1fbe2ab37d0.txt  \n",
            "  inflating: M_G-DS-1-4/train/labels/SHMC_151_jpg.rf.f6f07254286001bad971e3d88eff1a7d.txt  \n",
            "  inflating: M_G-DS-1-4/train/labels/SHMC_22_g_jpg.rf.cd1cba43c1572c5389bcdbfc6baba2e1.txt  \n",
            "  inflating: M_G-DS-1-4/train/labels/SHMC_24_g_jpg.rf.1bce67d4885d5e390acba4be07a06861.txt  \n",
            "  inflating: M_G-DS-1-4/train/labels/SHMC_25_g_jpg.rf.581a01e4d63643e99bdad62bda50a0ff.txt  \n",
            "  inflating: M_G-DS-1-4/train/labels/SHMC_26_g_jpg.rf.b14990f469063528c4920f555a9137e0.txt  \n",
            "  inflating: M_G-DS-1-4/train/labels/SHMC_31_jpg.rf.0a6da33ee7e4b5204d2a0ead51e1810d.txt  \n",
            "  inflating: M_G-DS-1-4/train/labels/SHMC_33_jpg.rf.e25312d052e967b15e4436f38171662c.txt  \n",
            "  inflating: M_G-DS-1-4/train/labels/SHMC_35_jpg.rf.6e54a196389ed314c31b55fcc11667f8.txt  \n",
            "  inflating: M_G-DS-1-4/train/labels/SHMC_36_jpg.rf.1767dc73a4ee6d26d25fef765538a147.txt  \n",
            "  inflating: M_G-DS-1-4/train/labels/SHMC_38_jpg.rf.5bac020248a13d9bf39a215189d6ad30.txt  \n",
            "  inflating: M_G-DS-1-4/train/labels/SHMC_42_jpg.rf.1f295289bbfce671cda3080a74c67cf6.txt  \n",
            "  inflating: M_G-DS-1-4/train/labels/SHMC_45_jpg.rf.496c0734535373ecf6b59ed02068bf66.txt  \n",
            "  inflating: M_G-DS-1-4/train/labels/SHMC_46_jpg.rf.d04e749428d30cfd3273e92bcd4239bd.txt  \n",
            "  inflating: M_G-DS-1-4/train/labels/SHMC_48_jpg.rf.33a623d12b0a8e62a7865da775717d5d.txt  \n",
            "  inflating: M_G-DS-1-4/train/labels/SHMC_49_jpg.rf.81818ee7d0cc17c32c650081ea566cdc.txt  \n",
            "  inflating: M_G-DS-1-4/train/labels/SHMC_50_jpg.rf.f6f4ee61f55b629f0499aea9b18b13bc.txt  \n",
            "  inflating: M_G-DS-1-4/train/labels/SHMC_51_jpg.rf.446cfc4cd72c39e7eff45f2be0aa87d9.txt  \n",
            "  inflating: M_G-DS-1-4/train/labels/SHMC_52_jpg.rf.7cd822a6f072c35931a910191f0d9f44.txt  \n",
            "  inflating: M_G-DS-1-4/train/labels/SHMC_53_jpg.rf.f5d82c0cf17228f63c86d28c8abe1335.txt  \n",
            "  inflating: M_G-DS-1-4/train/labels/SHMC_54_jpg.rf.ecca78e9fc87f22c4baff6b970e24173.txt  \n",
            "  inflating: M_G-DS-1-4/train/labels/SHMC_5_g_jpg.rf.3883667851dc50b099b1a722b4a0991d.txt  \n",
            "  inflating: M_G-DS-1-4/train/labels/SHMC_62_jpg.rf.485fe72cc608d1eb449e54f4fdadc387.txt  \n",
            "  inflating: M_G-DS-1-4/train/labels/SHMC_64_jpg.rf.53694031cdbbd6b3f538a23fda81d32e.txt  \n",
            "  inflating: M_G-DS-1-4/train/labels/SHMC_68_jpg.rf.ac97fe40ec133dc10ad75838239ceb2c.txt  \n",
            "  inflating: M_G-DS-1-4/train/labels/SHMC_69_jpg.rf.710332d0cf64b320fa41426a96877e36.txt  \n",
            "  inflating: M_G-DS-1-4/train/labels/SHMC_70_jpg.rf.e08b125bcac3cfab67cc0cc170b9f9ad.txt  \n",
            "  inflating: M_G-DS-1-4/train/labels/SHMC_71_jpg.rf.d4c2e14bb15bf282ec3e93c6d45c7ebf.txt  \n",
            "  inflating: M_G-DS-1-4/train/labels/SHMC_78_jpg.rf.fe9d37795695925ae322f74d35bc45b5.txt  \n",
            "  inflating: M_G-DS-1-4/train/labels/SHMC_79_jpg.rf.46886e6834d3a0d3b3ca5a9c7592f04c.txt  \n",
            "  inflating: M_G-DS-1-4/train/labels/SHMC_81_jpg.rf.706dadcb9da17e78e36ed898052045f7.txt  \n",
            "  inflating: M_G-DS-1-4/train/labels/SHMC_82_jpg.rf.befccf01bf6a9363cc242acb72b13745.txt  \n",
            "  inflating: M_G-DS-1-4/train/labels/SHMC_83_jpg.rf.0f09f183ff25e17ba7277418fce04f0a.txt  \n",
            "  inflating: M_G-DS-1-4/train/labels/SHMC_84_g_jpg.rf.7eca6c5523042682f81bd0d97a6477da.txt  \n",
            "  inflating: M_G-DS-1-4/train/labels/SHMC_85_g_jpg.rf.8ee238c12b793042c70c3a9862ebea77.txt  \n",
            "  inflating: M_G-DS-1-4/train/labels/SHMC_86_jpg.rf.c295df4a64b6e7dc57cd32bfad45d502.txt  \n",
            "  inflating: M_G-DS-1-4/train/labels/SHMC_89_g_jpg.rf.a52ed7655beb3a358ed9791f059d5443.txt  \n",
            "  inflating: M_G-DS-1-4/train/labels/SHMC_90_g_jpg.rf.626d315b8b6f64ae94767d3d6db5d827.txt  \n",
            "  inflating: M_G-DS-1-4/train/labels/SHMC_91_g_jpg.rf.3b6eb41f5a0a95f17d656914c7b9eed9.txt  \n",
            "  inflating: M_G-DS-1-4/train/labels/SHMC_92_g_jpg.rf.1cd4e0a526ee29724506c5b94baa055d.txt  \n",
            "  inflating: M_G-DS-1-4/train/labels/SHMC_98_g_jpg.rf.a060b76eed19da3d18a280ed37ce8f15.txt  \n",
            "  inflating: M_G-DS-1-4/train/labels/SHMC_99_g_jpg.rf.bfe29facebcc6a3d8a43c0992b4b81da.txt  \n",
            "   creating: M_G-DS-1-4/valid/\n",
            "   creating: M_G-DS-1-4/valid/images/\n",
            "  inflating: M_G-DS-1-4/valid/images/027_jpg.rf.ddea28fe3c87fc0d23f0711e07b0537d.jpg  \n",
            "  inflating: M_G-DS-1-4/valid/images/028_jpg.rf.cced93eefa78884b2b4267f690654137.jpg  \n",
            "  inflating: M_G-DS-1-4/valid/images/043_jpg.rf.bdf25bec5ed12e0b57dfcde60b650518.jpg  \n",
            "  inflating: M_G-DS-1-4/valid/images/044_jpg.rf.c7c3d7f4c83d485f56c81f792637f3c1.jpg  \n",
            "  inflating: M_G-DS-1-4/valid/images/045_jpg.rf.e13e0a15b73843ab7d3bc61d50bab1c5.jpg  \n",
            "  inflating: M_G-DS-1-4/valid/images/046_jpg.rf.d631ea16c324030f27e624f6bfcab18c.jpg  \n",
            "  inflating: M_G-DS-1-4/valid/images/047_jpg.rf.94c17df27aaec16a17609a47ea68de29.jpg  \n",
            "  inflating: M_G-DS-1-4/valid/images/116_g_jpg.rf.646a756cdb4bd8613ef5c0f164fe53e2.jpg  \n",
            "  inflating: M_G-DS-1-4/valid/images/158_g_jpg.rf.000f2c164522360d9deb24be3c5706f9.jpg  \n",
            "  inflating: M_G-DS-1-4/valid/images/159_g_jpg.rf.41457067946fefa5d8eec5c86e04ba13.jpg  \n",
            "  inflating: M_G-DS-1-4/valid/images/160_g_jpg.rf.98ed52b8402e7164ecfe1e4abf783f8c.jpg  \n",
            "  inflating: M_G-DS-1-4/valid/images/168_g_jpg.rf.656f1e3e49f56380d81f9b88b578966f.jpg  \n",
            "  inflating: M_G-DS-1-4/valid/images/208_g_jpg.rf.9cbab6febb5236ea5124a8e6174231b2.jpg  \n",
            "  inflating: M_G-DS-1-4/valid/images/225_g_jpg.rf.5fd129831d92996bb0b67964f7a221c6.jpg  \n",
            "  inflating: M_G-DS-1-4/valid/images/drishtiGS_001_g_jpg.rf.79b6ecfbc70c90f5f90fc3126faecb08.jpg  \n",
            "  inflating: M_G-DS-1-4/valid/images/drishtiGS_002_g_jpg.rf.f62654fb659e2d608fdf3e4d6d64d855.jpg  \n",
            "  inflating: M_G-DS-1-4/valid/images/drishtiGS_003_g_jpg.rf.09622f9a65f2b1f8d16f671e30b97ee2.jpg  \n",
            "  inflating: M_G-DS-1-4/valid/images/drishtiGS_004_g_jpg.rf.79b73e1cc80dc31540cd2b8816319ac5.jpg  \n",
            "  inflating: M_G-DS-1-4/valid/images/drishtiGS_005_g_jpg.rf.1dbf0075a0965a693ac79370501475cd.jpg  \n",
            "  inflating: M_G-DS-1-4/valid/images/drishtiGS_006_g_jpg.rf.b8bd00d773bb792af8eb8c94980a5de1.jpg  \n",
            "  inflating: M_G-DS-1-4/valid/images/drishtiGS_007_jpg.rf.46f83ce0ed5ff25bedbedd08072ad460.jpg  \n",
            "  inflating: M_G-DS-1-4/valid/images/drishtiGS_008_jpg.rf.641b6677394248521e42712258671921.jpg  \n",
            "  inflating: M_G-DS-1-4/valid/images/drishtiGS_009_jpg.rf.b8a9e7ab326820141412f24d1b6fafe9.jpg  \n",
            "  inflating: M_G-DS-1-4/valid/images/drishtiGS_010_g_jpg.rf.5451fd1a6a0bdc585f37881f2505e917.jpg  \n",
            "  inflating: M_G-DS-1-4/valid/images/drishtiGS_011_g_jpg.rf.b6c12034b2b4d502f2c818031b66474f.jpg  \n",
            "  inflating: M_G-DS-1-4/valid/images/drishtiGS_012_g_jpg.rf.649816e8f593910ec0c359ede3e5b5c4.jpg  \n",
            "  inflating: M_G-DS-1-4/valid/images/drishtiGS_013_jpg.rf.78b3fe3cbd6f221e29bc3f5a4c82551b.jpg  \n",
            "  inflating: M_G-DS-1-4/valid/images/drishtiGS_014_g_jpg.rf.59fa1262a07f3a722ef69866d1c9d854.jpg  \n",
            "  inflating: M_G-DS-1-4/valid/images/drishtiGS_015_g_jpg.rf.3ebe940bb5a825f0f7411c5356932fda.jpg  \n",
            "  inflating: M_G-DS-1-4/valid/images/drishtiGS_017_jpg.rf.72d8c67c8ba42c4e2e9a83407ac359fa.jpg  \n",
            "  inflating: M_G-DS-1-4/valid/images/Im012_ACRIMA_jpg.rf.7f8d0666f893d1af74f1e072cc9b3f35.jpg  \n",
            "  inflating: M_G-DS-1-4/valid/images/Im016_ACRIMA_jpg.rf.00fbd9003bfe9cb36d5416fa9c8325b2.jpg  \n",
            "  inflating: M_G-DS-1-4/valid/images/Im017_ACRIMA_jpg.rf.3af09bfaa0eef1623fe47162f54d088e.jpg  \n",
            "  inflating: M_G-DS-1-4/valid/images/Im026_ACRIMA_jpg.rf.cd5d50fbbe9d2308515c23cf4bcfef1c.jpg  \n",
            "  inflating: M_G-DS-1-4/valid/images/Im027_ACRIMA_jpg.rf.280e67373414c2fd13a277527d6bceae.jpg  \n",
            "  inflating: M_G-DS-1-4/valid/images/Im030_ACRIMA_jpg.rf.60df8901867673b6f84963aa9149e439.jpg  \n",
            "  inflating: M_G-DS-1-4/valid/images/Im031_ACRIMA_jpg.rf.02a7f46c4bc0f2b4a54b9d0e4f155854.jpg  \n",
            "  inflating: M_G-DS-1-4/valid/images/Im039_ACRIMA_jpg.rf.fbfa5b0259360119df3023306598f58b.jpg  \n",
            "  inflating: M_G-DS-1-4/valid/images/Im313_g_ACRIMA_jpg.rf.dc1d7445f42d76fd86bf08346d9e0f72.jpg  \n",
            "  inflating: M_G-DS-1-4/valid/images/Im314_g_ACRIMA_jpg.rf.ec858a06ad1fb57884561105838ba8dc.jpg  \n",
            "  inflating: M_G-DS-1-4/valid/images/Im324_g_ACRIMA_jpg.rf.02e6bb67d6603bcbd1570f397a6f327f.jpg  \n",
            "  inflating: M_G-DS-1-4/valid/images/Im325_g_ACRIMA_jpg.rf.20836ec24ff5c87b5474c6c309220e94.jpg  \n",
            "  inflating: M_G-DS-1-4/valid/images/Im327_g_ACRIMA_jpg.rf.b1bb6e5bd68ac9fc62cfaa319c87f09e.jpg  \n",
            "  inflating: M_G-DS-1-4/valid/images/Im334_g_ACRIMA_jpg.rf.7d9f73428ea743e6825a45ce24c79e4d.jpg  \n",
            "  inflating: M_G-DS-1-4/valid/images/Im338_g_ACRIMA_jpg.rf.9cbcba267d94804b55256ebbdca427f7.jpg  \n",
            "  inflating: M_G-DS-1-4/valid/images/Im373_g_ACRIMA_jpg.rf.96873b0a3bfd5a9b2844beecc1a21bb0.jpg  \n",
            "  inflating: M_G-DS-1-4/valid/images/SHMC_10_jpg.rf.51beb3dbde2c376727f163d71fbe25de.jpg  \n",
            "  inflating: M_G-DS-1-4/valid/images/SHMC_11_jpg.rf.181848dc22c4babc9cbe8ce13aa045a3.jpg  \n",
            "  inflating: M_G-DS-1-4/valid/images/SHMC_12_jpg.rf.43e5a37c000d44c95ff8bb3247775fe2.jpg  \n",
            "  inflating: M_G-DS-1-4/valid/images/SHMC_146_g_jpg.rf.4ef5a44939f5617d349791822103cba1.jpg  \n",
            "  inflating: M_G-DS-1-4/valid/images/SHMC_147_g_jpg.rf.6e21d7a5763276304b765dd2d317d95b.jpg  \n",
            "  inflating: M_G-DS-1-4/valid/images/SHMC_149_g_jpg.rf.d2de4b6f6ddc53b7256443baa33d9464.jpg  \n",
            "  inflating: M_G-DS-1-4/valid/images/SHMC_150_g_jpg.rf.041f771f7be8070868e385225dc82717.jpg  \n",
            "  inflating: M_G-DS-1-4/valid/images/SHMC_1_jpg.rf.e39f7afd14aea7c307e25da5a1c65b73.jpg  \n",
            "  inflating: M_G-DS-1-4/valid/images/SHMC_2_jpg.rf.17293abc7781eda2129ef2123e1d9102.jpg  \n",
            "  inflating: M_G-DS-1-4/valid/images/SHMC_3_jpg.rf.8a690185b4ddfc5d5ad7b47572f1ed05.jpg  \n",
            "  inflating: M_G-DS-1-4/valid/images/SHMC_4_jpg.rf.6745c3466f84f9e9f98bbd0116d0113f.jpg  \n",
            "  inflating: M_G-DS-1-4/valid/images/SHMC_6_jpg.rf.bc825b3f1dd6e8d5e6aefa8544010070.jpg  \n",
            "  inflating: M_G-DS-1-4/valid/images/SHMC_7_jpg.rf.9719eeed40cdf8555a90434fe1ef9de4.jpg  \n",
            "  inflating: M_G-DS-1-4/valid/images/SHMC_8_jpg.rf.3511a1fd40a5967d131496d8b143235d.jpg  \n",
            "  inflating: M_G-DS-1-4/valid/images/SHMC_9_jpg.rf.55b396d8d331d3003fdf59ffd97c40af.jpg  \n",
            "   creating: M_G-DS-1-4/valid/labels/\n",
            "  inflating: M_G-DS-1-4/valid/labels/027_jpg.rf.ddea28fe3c87fc0d23f0711e07b0537d.txt  \n",
            "  inflating: M_G-DS-1-4/valid/labels/028_jpg.rf.cced93eefa78884b2b4267f690654137.txt  \n",
            "  inflating: M_G-DS-1-4/valid/labels/043_jpg.rf.bdf25bec5ed12e0b57dfcde60b650518.txt  \n",
            "  inflating: M_G-DS-1-4/valid/labels/044_jpg.rf.c7c3d7f4c83d485f56c81f792637f3c1.txt  \n",
            "  inflating: M_G-DS-1-4/valid/labels/045_jpg.rf.e13e0a15b73843ab7d3bc61d50bab1c5.txt  \n",
            "  inflating: M_G-DS-1-4/valid/labels/046_jpg.rf.d631ea16c324030f27e624f6bfcab18c.txt  \n",
            "  inflating: M_G-DS-1-4/valid/labels/047_jpg.rf.94c17df27aaec16a17609a47ea68de29.txt  \n",
            "  inflating: M_G-DS-1-4/valid/labels/116_g_jpg.rf.646a756cdb4bd8613ef5c0f164fe53e2.txt  \n",
            "  inflating: M_G-DS-1-4/valid/labels/158_g_jpg.rf.000f2c164522360d9deb24be3c5706f9.txt  \n",
            "  inflating: M_G-DS-1-4/valid/labels/159_g_jpg.rf.41457067946fefa5d8eec5c86e04ba13.txt  \n",
            "  inflating: M_G-DS-1-4/valid/labels/160_g_jpg.rf.98ed52b8402e7164ecfe1e4abf783f8c.txt  \n",
            "  inflating: M_G-DS-1-4/valid/labels/168_g_jpg.rf.656f1e3e49f56380d81f9b88b578966f.txt  \n",
            "  inflating: M_G-DS-1-4/valid/labels/208_g_jpg.rf.9cbab6febb5236ea5124a8e6174231b2.txt  \n",
            "  inflating: M_G-DS-1-4/valid/labels/225_g_jpg.rf.5fd129831d92996bb0b67964f7a221c6.txt  \n",
            "  inflating: M_G-DS-1-4/valid/labels/drishtiGS_001_g_jpg.rf.79b6ecfbc70c90f5f90fc3126faecb08.txt  \n",
            "  inflating: M_G-DS-1-4/valid/labels/drishtiGS_002_g_jpg.rf.f62654fb659e2d608fdf3e4d6d64d855.txt  \n",
            "  inflating: M_G-DS-1-4/valid/labels/drishtiGS_003_g_jpg.rf.09622f9a65f2b1f8d16f671e30b97ee2.txt  \n",
            "  inflating: M_G-DS-1-4/valid/labels/drishtiGS_004_g_jpg.rf.79b73e1cc80dc31540cd2b8816319ac5.txt  \n",
            "  inflating: M_G-DS-1-4/valid/labels/drishtiGS_005_g_jpg.rf.1dbf0075a0965a693ac79370501475cd.txt  \n",
            "  inflating: M_G-DS-1-4/valid/labels/drishtiGS_006_g_jpg.rf.b8bd00d773bb792af8eb8c94980a5de1.txt  \n",
            "  inflating: M_G-DS-1-4/valid/labels/drishtiGS_007_jpg.rf.46f83ce0ed5ff25bedbedd08072ad460.txt  \n",
            "  inflating: M_G-DS-1-4/valid/labels/drishtiGS_008_jpg.rf.641b6677394248521e42712258671921.txt  \n",
            "  inflating: M_G-DS-1-4/valid/labels/drishtiGS_009_jpg.rf.b8a9e7ab326820141412f24d1b6fafe9.txt  \n",
            "  inflating: M_G-DS-1-4/valid/labels/drishtiGS_010_g_jpg.rf.5451fd1a6a0bdc585f37881f2505e917.txt  \n",
            "  inflating: M_G-DS-1-4/valid/labels/drishtiGS_011_g_jpg.rf.b6c12034b2b4d502f2c818031b66474f.txt  \n",
            "  inflating: M_G-DS-1-4/valid/labels/drishtiGS_012_g_jpg.rf.649816e8f593910ec0c359ede3e5b5c4.txt  \n",
            "  inflating: M_G-DS-1-4/valid/labels/drishtiGS_013_jpg.rf.78b3fe3cbd6f221e29bc3f5a4c82551b.txt  \n",
            "  inflating: M_G-DS-1-4/valid/labels/drishtiGS_014_g_jpg.rf.59fa1262a07f3a722ef69866d1c9d854.txt  \n",
            "  inflating: M_G-DS-1-4/valid/labels/drishtiGS_015_g_jpg.rf.3ebe940bb5a825f0f7411c5356932fda.txt  \n",
            "  inflating: M_G-DS-1-4/valid/labels/drishtiGS_017_jpg.rf.72d8c67c8ba42c4e2e9a83407ac359fa.txt  \n",
            "  inflating: M_G-DS-1-4/valid/labels/Im012_ACRIMA_jpg.rf.7f8d0666f893d1af74f1e072cc9b3f35.txt  \n",
            "  inflating: M_G-DS-1-4/valid/labels/Im016_ACRIMA_jpg.rf.00fbd9003bfe9cb36d5416fa9c8325b2.txt  \n",
            "  inflating: M_G-DS-1-4/valid/labels/Im017_ACRIMA_jpg.rf.3af09bfaa0eef1623fe47162f54d088e.txt  \n",
            "  inflating: M_G-DS-1-4/valid/labels/Im026_ACRIMA_jpg.rf.cd5d50fbbe9d2308515c23cf4bcfef1c.txt  \n",
            "  inflating: M_G-DS-1-4/valid/labels/Im027_ACRIMA_jpg.rf.280e67373414c2fd13a277527d6bceae.txt  \n",
            "  inflating: M_G-DS-1-4/valid/labels/Im030_ACRIMA_jpg.rf.60df8901867673b6f84963aa9149e439.txt  \n",
            "  inflating: M_G-DS-1-4/valid/labels/Im031_ACRIMA_jpg.rf.02a7f46c4bc0f2b4a54b9d0e4f155854.txt  \n",
            "  inflating: M_G-DS-1-4/valid/labels/Im039_ACRIMA_jpg.rf.fbfa5b0259360119df3023306598f58b.txt  \n",
            "  inflating: M_G-DS-1-4/valid/labels/Im313_g_ACRIMA_jpg.rf.dc1d7445f42d76fd86bf08346d9e0f72.txt  \n",
            "  inflating: M_G-DS-1-4/valid/labels/Im314_g_ACRIMA_jpg.rf.ec858a06ad1fb57884561105838ba8dc.txt  \n",
            "  inflating: M_G-DS-1-4/valid/labels/Im324_g_ACRIMA_jpg.rf.02e6bb67d6603bcbd1570f397a6f327f.txt  \n",
            "  inflating: M_G-DS-1-4/valid/labels/Im325_g_ACRIMA_jpg.rf.20836ec24ff5c87b5474c6c309220e94.txt  \n",
            "  inflating: M_G-DS-1-4/valid/labels/Im327_g_ACRIMA_jpg.rf.b1bb6e5bd68ac9fc62cfaa319c87f09e.txt  \n",
            "  inflating: M_G-DS-1-4/valid/labels/Im334_g_ACRIMA_jpg.rf.7d9f73428ea743e6825a45ce24c79e4d.txt  \n",
            "  inflating: M_G-DS-1-4/valid/labels/Im338_g_ACRIMA_jpg.rf.9cbcba267d94804b55256ebbdca427f7.txt  \n",
            "  inflating: M_G-DS-1-4/valid/labels/Im373_g_ACRIMA_jpg.rf.96873b0a3bfd5a9b2844beecc1a21bb0.txt  \n",
            "  inflating: M_G-DS-1-4/valid/labels/SHMC_10_jpg.rf.51beb3dbde2c376727f163d71fbe25de.txt  \n",
            "  inflating: M_G-DS-1-4/valid/labels/SHMC_11_jpg.rf.181848dc22c4babc9cbe8ce13aa045a3.txt  \n",
            "  inflating: M_G-DS-1-4/valid/labels/SHMC_12_jpg.rf.43e5a37c000d44c95ff8bb3247775fe2.txt  \n",
            "  inflating: M_G-DS-1-4/valid/labels/SHMC_146_g_jpg.rf.4ef5a44939f5617d349791822103cba1.txt  \n",
            "  inflating: M_G-DS-1-4/valid/labels/SHMC_147_g_jpg.rf.6e21d7a5763276304b765dd2d317d95b.txt  \n",
            "  inflating: M_G-DS-1-4/valid/labels/SHMC_149_g_jpg.rf.d2de4b6f6ddc53b7256443baa33d9464.txt  \n",
            "  inflating: M_G-DS-1-4/valid/labels/SHMC_150_g_jpg.rf.041f771f7be8070868e385225dc82717.txt  \n",
            "  inflating: M_G-DS-1-4/valid/labels/SHMC_1_jpg.rf.e39f7afd14aea7c307e25da5a1c65b73.txt  \n",
            "  inflating: M_G-DS-1-4/valid/labels/SHMC_2_jpg.rf.17293abc7781eda2129ef2123e1d9102.txt  \n",
            "  inflating: M_G-DS-1-4/valid/labels/SHMC_3_jpg.rf.8a690185b4ddfc5d5ad7b47572f1ed05.txt  \n",
            "  inflating: M_G-DS-1-4/valid/labels/SHMC_4_jpg.rf.6745c3466f84f9e9f98bbd0116d0113f.txt  \n",
            "  inflating: M_G-DS-1-4/valid/labels/SHMC_6_jpg.rf.bc825b3f1dd6e8d5e6aefa8544010070.txt  \n",
            "  inflating: M_G-DS-1-4/valid/labels/SHMC_7_jpg.rf.9719eeed40cdf8555a90434fe1ef9de4.txt  \n",
            "  inflating: M_G-DS-1-4/valid/labels/SHMC_8_jpg.rf.3511a1fd40a5967d131496d8b143235d.txt  \n",
            "  inflating: M_G-DS-1-4/valid/labels/SHMC_9_jpg.rf.55b396d8d331d3003fdf59ffd97c40af.txt  \n"
          ]
        }
      ]
    },
    {
      "cell_type": "code",
      "source": [
        "!unzip runs.zip"
      ],
      "metadata": {
        "colab": {
          "base_uri": "https://localhost:8080/"
        },
        "collapsed": true,
        "id": "4B_RwgDxUXyS",
        "outputId": "9d519f07-8663-4179-b6c2-6ebf1c10a34f"
      },
      "execution_count": null,
      "outputs": [
        {
          "output_type": "stream",
          "name": "stdout",
          "text": [
            "Archive:  runs.zip\n",
            "   creating: segment/\n",
            "   creating: segment/train/\n",
            "   creating: segment/train/weights/\n",
            "  inflating: segment/train/train_batch1621.jpg  \n",
            "  inflating: segment/train/val_batch0_labels.jpg  \n",
            "  inflating: segment/train/MaskR_curve.png  \n",
            "  inflating: segment/train/BoxPR_curve.png  \n",
            "  inflating: segment/train/results.csv  \n",
            "  inflating: segment/train/results.png  \n",
            "  inflating: segment/train/val_batch1_pred.jpg  \n",
            "  inflating: segment/train/train_batch1620.jpg  \n",
            "  inflating: segment/train/train_batch1622.jpg  \n",
            "  inflating: segment/train/BoxP_curve.png  \n",
            "  inflating: segment/train/train_batch2.jpg  \n",
            "  inflating: segment/train/val_batch0_pred.jpg  \n",
            "  inflating: segment/train/BoxR_curve.png  \n",
            "  inflating: segment/train/events.out.tfevents.1730292894.39de453ead9d.1073.0  \n",
            "  inflating: segment/train/MaskP_curve.png  \n",
            "  inflating: segment/train/labels.jpg  \n",
            "  inflating: segment/train/train_batch0.jpg  \n",
            "  inflating: segment/train/confusion_matrix_normalized.png  \n",
            "  inflating: segment/train/args.yaml  \n",
            "  inflating: segment/train/MaskPR_curve.png  \n",
            "  inflating: segment/train/val_batch1_labels.jpg  \n",
            "  inflating: segment/train/confusion_matrix.png  \n",
            "  inflating: segment/train/BoxF1_curve.png  \n",
            "  inflating: segment/train/train_batch1.jpg  \n",
            "  inflating: segment/train/MaskF1_curve.png  \n",
            "  inflating: segment/train/labels_correlogram.jpg  \n",
            "  inflating: segment/train/weights/best.pt  \n",
            "  inflating: segment/train/weights/last.pt  \n"
          ]
        }
      ]
    },
    {
      "cell_type": "code",
      "execution_count": null,
      "metadata": {
        "colab": {
          "base_uri": "https://localhost:8080/"
        },
        "id": "1cRGcInToKB9",
        "outputId": "9419bfc6-38d1-482c-d30d-c0344f12b197"
      },
      "outputs": [
        {
          "output_type": "stream",
          "name": "stdout",
          "text": [
            "Tue Nov  5 23:51:47 2024       \n",
            "+---------------------------------------------------------------------------------------+\n",
            "| NVIDIA-SMI 535.104.05             Driver Version: 535.104.05   CUDA Version: 12.2     |\n",
            "|-----------------------------------------+----------------------+----------------------+\n",
            "| GPU  Name                 Persistence-M | Bus-Id        Disp.A | Volatile Uncorr. ECC |\n",
            "| Fan  Temp   Perf          Pwr:Usage/Cap |         Memory-Usage | GPU-Util  Compute M. |\n",
            "|                                         |                      |               MIG M. |\n",
            "|=========================================+======================+======================|\n",
            "|   0  Tesla T4                       Off | 00000000:00:04.0 Off |                    0 |\n",
            "| N/A   39C    P8               9W /  70W |      0MiB / 15360MiB |      0%      Default |\n",
            "|                                         |                      |                  N/A |\n",
            "+-----------------------------------------+----------------------+----------------------+\n",
            "                                                                                         \n",
            "+---------------------------------------------------------------------------------------+\n",
            "| Processes:                                                                            |\n",
            "|  GPU   GI   CI        PID   Type   Process name                            GPU Memory |\n",
            "|        ID   ID                                                             Usage      |\n",
            "|=======================================================================================|\n",
            "|  No running processes found                                                           |\n",
            "+---------------------------------------------------------------------------------------+\n"
          ]
        }
      ],
      "source": [
        "!nvidia-smi"
      ]
    },
    {
      "cell_type": "code",
      "source": [
        "rf = Roboflow(api_key=\"tjE1Jb1mIVV0c7jL4Wii\")\n",
        "project = rf.workspace(\"glaucoma-kmplx\").project(\"m_g-ds-1\")\n",
        "version = project.version(4)\n",
        "dataset = version.download(\"yolov9\")\n"
      ],
      "metadata": {
        "colab": {
          "base_uri": "https://localhost:8080/"
        },
        "id": "0R051B6o1yf3",
        "outputId": "23b94b29-bd04-492c-e886-6c24dc73392d"
      },
      "execution_count": null,
      "outputs": [
        {
          "output_type": "stream",
          "name": "stdout",
          "text": [
            "loading Roboflow workspace...\n",
            "loading Roboflow project...\n"
          ]
        },
        {
          "output_type": "stream",
          "name": "stderr",
          "text": [
            "Downloading Dataset Version Zip in M_G-DS-1-4 to yolov9:: 100%|██████████| 16312/16312 [00:00<00:00, 26618.77it/s]"
          ]
        },
        {
          "output_type": "stream",
          "name": "stdout",
          "text": [
            "\n"
          ]
        },
        {
          "output_type": "stream",
          "name": "stderr",
          "text": [
            "\n",
            "Extracting Dataset Version Zip to M_G-DS-1-4 in yolov9:: 100%|██████████| 812/812 [00:00<00:00, 3839.07it/s]\n"
          ]
        }
      ]
    },
    {
      "cell_type": "code",
      "source": [
        "!cat /content/M_G-DS-1-4/data.yaml"
      ],
      "metadata": {
        "colab": {
          "base_uri": "https://localhost:8080/"
        },
        "id": "o56GB1-V3Ruw",
        "outputId": "3322ae69-d761-42e4-c765-bf06a6d39fff"
      },
      "execution_count": null,
      "outputs": [
        {
          "output_type": "stream",
          "name": "stdout",
          "text": [
            "names:\n",
            "- cup\n",
            "- disc\n",
            "nc: 2\n",
            "roboflow:\n",
            "  license: CC BY 4.0\n",
            "  project: m_g-ds-1\n",
            "  url: https://universe.roboflow.com/glaucoma-kmplx/m_g-ds-1/dataset/4\n",
            "  version: 4\n",
            "  workspace: glaucoma-kmplx\n",
            "test: ../test/images\n",
            "train: ../train/images\n",
            "val: ../valid/images\n"
          ]
        }
      ]
    },
    {
      "cell_type": "code",
      "source": [
        "# Build a YOLOv9c model from scratch\n",
        "model = YOLO(\"yolov9c-seg.pt\")\n",
        "\n",
        "# Display model information (optional)\n",
        "model.info()\n",
        "\n",
        "# Train the model\n",
        "results = model.train(data='/content/M_G-DS-1-4/data.yaml', epochs=100, imgsz=640, batch=16)\n"
      ],
      "metadata": {
        "colab": {
          "base_uri": "https://localhost:8080/"
        },
        "id": "1r2Bi15v0A9T",
        "outputId": "e5bf326b-b87a-4192-8dc6-bce38ea330e2"
      },
      "execution_count": null,
      "outputs": [
        {
          "output_type": "stream",
          "name": "stdout",
          "text": [
            "Downloading https://github.com/ultralytics/assets/releases/download/v8.3.0/yolov9c-seg.pt to 'yolov9c-seg.pt'...\n"
          ]
        },
        {
          "output_type": "stream",
          "name": "stderr",
          "text": [
            "100%|██████████| 53.9M/53.9M [00:02<00:00, 25.7MB/s]\n"
          ]
        },
        {
          "output_type": "stream",
          "name": "stdout",
          "text": [
            "YOLOv9c-seg summary: 654 layers, 27,897,120 parameters, 0 gradients, 159.4 GFLOPs\n",
            "Ultralytics 8.3.24 🚀 Python-3.10.12 torch-2.5.0+cu121 CUDA:0 (Tesla T4, 15102MiB)\n",
            "\u001b[34m\u001b[1mengine/trainer: \u001b[0mtask=segment, mode=train, model=yolov9c-seg.pt, data=/content/M_G-DS-1-4/data.yaml, epochs=100, time=None, patience=100, batch=16, imgsz=640, save=True, save_period=-1, cache=False, device=None, workers=8, project=None, name=train, exist_ok=False, pretrained=True, optimizer=auto, verbose=True, seed=0, deterministic=True, single_cls=False, rect=False, cos_lr=False, close_mosaic=10, resume=False, amp=True, fraction=1.0, profile=False, freeze=None, multi_scale=False, overlap_mask=True, mask_ratio=4, dropout=0.0, val=True, split=val, save_json=False, save_hybrid=False, conf=None, iou=0.7, max_det=300, half=False, dnn=False, plots=True, source=None, vid_stride=1, stream_buffer=False, visualize=False, augment=False, agnostic_nms=False, classes=None, retina_masks=False, embed=None, show=False, save_frames=False, save_txt=False, save_conf=False, save_crop=False, show_labels=True, show_conf=True, show_boxes=True, line_width=None, format=torchscript, keras=False, optimize=False, int8=False, dynamic=False, simplify=True, opset=None, workspace=4, nms=False, lr0=0.01, lrf=0.01, momentum=0.937, weight_decay=0.0005, warmup_epochs=3.0, warmup_momentum=0.8, warmup_bias_lr=0.1, box=7.5, cls=0.5, dfl=1.5, pose=12.0, kobj=1.0, label_smoothing=0.0, nbs=64, hsv_h=0.015, hsv_s=0.7, hsv_v=0.4, degrees=0.0, translate=0.1, scale=0.5, shear=0.0, perspective=0.0, flipud=0.0, fliplr=0.5, bgr=0.0, mosaic=1.0, mixup=0.0, copy_paste=0.0, copy_paste_mode=flip, auto_augment=randaugment, erasing=0.4, crop_fraction=1.0, cfg=None, tracker=botsort.yaml, save_dir=runs/segment/train\n",
            "Downloading https://ultralytics.com/assets/Arial.ttf to '/root/.config/Ultralytics/Arial.ttf'...\n"
          ]
        },
        {
          "output_type": "stream",
          "name": "stderr",
          "text": [
            "100%|██████████| 755k/755k [00:00<00:00, 48.0MB/s]\n"
          ]
        },
        {
          "output_type": "stream",
          "name": "stdout",
          "text": [
            "Overriding model.yaml nc=80 with nc=2\n",
            "\n",
            "                   from  n    params  module                                       arguments                     \n",
            "  0                  -1  1      1856  ultralytics.nn.modules.conv.Conv             [3, 64, 3, 2]                 \n",
            "  1                  -1  1     73984  ultralytics.nn.modules.conv.Conv             [64, 128, 3, 2]               \n",
            "  2                  -1  1    212864  ultralytics.nn.modules.block.RepNCSPELAN4    [128, 256, 128, 64, 1]        \n",
            "  3                  -1  1    164352  ultralytics.nn.modules.block.ADown           [256, 256]                    \n",
            "  4                  -1  1    847616  ultralytics.nn.modules.block.RepNCSPELAN4    [256, 512, 256, 128, 1]       \n",
            "  5                  -1  1    656384  ultralytics.nn.modules.block.ADown           [512, 512]                    \n",
            "  6                  -1  1   2857472  ultralytics.nn.modules.block.RepNCSPELAN4    [512, 512, 512, 256, 1]       \n",
            "  7                  -1  1    656384  ultralytics.nn.modules.block.ADown           [512, 512]                    \n",
            "  8                  -1  1   2857472  ultralytics.nn.modules.block.RepNCSPELAN4    [512, 512, 512, 256, 1]       \n",
            "  9                  -1  1    656896  ultralytics.nn.modules.block.SPPELAN         [512, 512, 256]               \n",
            " 10                  -1  1         0  torch.nn.modules.upsampling.Upsample         [None, 2, 'nearest']          \n",
            " 11             [-1, 6]  1         0  ultralytics.nn.modules.conv.Concat           [1]                           \n",
            " 12                  -1  1   3119616  ultralytics.nn.modules.block.RepNCSPELAN4    [1024, 512, 512, 256, 1]      \n",
            " 13                  -1  1         0  torch.nn.modules.upsampling.Upsample         [None, 2, 'nearest']          \n",
            " 14             [-1, 4]  1         0  ultralytics.nn.modules.conv.Concat           [1]                           \n",
            " 15                  -1  1    912640  ultralytics.nn.modules.block.RepNCSPELAN4    [1024, 256, 256, 128, 1]      \n",
            " 16                  -1  1    164352  ultralytics.nn.modules.block.ADown           [256, 256]                    \n",
            " 17            [-1, 12]  1         0  ultralytics.nn.modules.conv.Concat           [1]                           \n",
            " 18                  -1  1   2988544  ultralytics.nn.modules.block.RepNCSPELAN4    [768, 512, 512, 256, 1]       \n",
            " 19                  -1  1    656384  ultralytics.nn.modules.block.ADown           [512, 512]                    \n",
            " 20             [-1, 9]  1         0  ultralytics.nn.modules.conv.Concat           [1]                           \n",
            " 21                  -1  1   3119616  ultralytics.nn.modules.block.RepNCSPELAN4    [1024, 512, 512, 256, 1]      \n",
            " 22        [15, 18, 21]  1   7890550  ultralytics.nn.modules.head.Segment          [2, 32, 256, [256, 512, 512]] \n",
            "YOLOv9c-seg summary: 654 layers, 27,836,982 parameters, 27,836,966 gradients, 159.1 GFLOPs\n",
            "\n",
            "Transferred 993/999 items from pretrained weights\n",
            "\u001b[34m\u001b[1mTensorBoard: \u001b[0mStart with 'tensorboard --logdir runs/segment/train', view at http://localhost:6006/\n",
            "Freezing layer 'model.22.dfl.conv.weight'\n",
            "\u001b[34m\u001b[1mAMP: \u001b[0mrunning Automatic Mixed Precision (AMP) checks...\n",
            "Downloading https://github.com/ultralytics/assets/releases/download/v8.3.0/yolo11n.pt to 'yolo11n.pt'...\n"
          ]
        },
        {
          "output_type": "stream",
          "name": "stderr",
          "text": [
            "100%|██████████| 5.35M/5.35M [00:00<00:00, 218MB/s]\n"
          ]
        },
        {
          "output_type": "stream",
          "name": "stdout",
          "text": [
            "\u001b[34m\u001b[1mAMP: \u001b[0mchecks passed ✅\n"
          ]
        },
        {
          "output_type": "stream",
          "name": "stderr",
          "text": [
            "\u001b[34m\u001b[1mtrain: \u001b[0mScanning /content/M_G-DS-1-4/train/labels... 280 images, 0 backgrounds, 0 corrupt: 100%|██████████| 280/280 [00:00<00:00, 1598.82it/s]\n"
          ]
        },
        {
          "output_type": "stream",
          "name": "stdout",
          "text": [
            "\u001b[34m\u001b[1mtrain: \u001b[0mNew cache created: /content/M_G-DS-1-4/train/labels.cache\n",
            "\u001b[34m\u001b[1malbumentations: \u001b[0mBlur(p=0.01, blur_limit=(3, 7)), MedianBlur(p=0.01, blur_limit=(3, 7)), ToGray(p=0.01, num_output_channels=3, method='weighted_average'), CLAHE(p=0.01, clip_limit=(1, 4.0), tile_grid_size=(8, 8))\n"
          ]
        },
        {
          "output_type": "stream",
          "name": "stderr",
          "text": [
            "A new version of Albumentations is available: 1.4.20 (you have 1.4.15). Upgrade using: pip install -U albumentations. To disable automatic update checks, set the environment variable NO_ALBUMENTATIONS_UPDATE to 1.\n",
            "\u001b[34m\u001b[1mval: \u001b[0mScanning /content/M_G-DS-1-4/valid/labels... 56 images, 0 backgrounds, 0 corrupt: 100%|██████████| 56/56 [00:00<00:00, 1771.24it/s]"
          ]
        },
        {
          "output_type": "stream",
          "name": "stdout",
          "text": [
            "\u001b[34m\u001b[1mval: \u001b[0mNew cache created: /content/M_G-DS-1-4/valid/labels.cache\n"
          ]
        },
        {
          "output_type": "stream",
          "name": "stderr",
          "text": [
            "\n"
          ]
        },
        {
          "output_type": "stream",
          "name": "stdout",
          "text": [
            "Plotting labels to runs/segment/train/labels.jpg... \n",
            "\u001b[34m\u001b[1moptimizer:\u001b[0m 'optimizer=auto' found, ignoring 'lr0=0.01' and 'momentum=0.937' and determining best 'optimizer', 'lr0' and 'momentum' automatically... \n",
            "\u001b[34m\u001b[1moptimizer:\u001b[0m AdamW(lr=0.001667, momentum=0.9) with parameter groups 163 weight(decay=0.0), 174 weight(decay=0.0005), 173 bias(decay=0.0)\n",
            "\u001b[34m\u001b[1mTensorBoard: \u001b[0mmodel graph visualization added ✅\n",
            "Image sizes 640 train, 640 val\n",
            "Using 2 dataloader workers\n",
            "Logging results to \u001b[1mruns/segment/train\u001b[0m\n",
            "Starting training for 100 epochs...\n",
            "\n",
            "      Epoch    GPU_mem   box_loss   seg_loss   cls_loss   dfl_loss  Instances       Size\n"
          ]
        },
        {
          "output_type": "stream",
          "name": "stderr",
          "text": [
            "      1/100      12.8G      2.059      5.526      4.279      2.435         36        640: 100%|██████████| 18/18 [00:23<00:00,  1.33s/it]\n",
            "                 Class     Images  Instances      Box(P          R      mAP50  mAP50-95)     Mask(P          R      mAP50  mAP50-95): 100%|██████████| 2/2 [00:02<00:00,  1.03s/it]"
          ]
        },
        {
          "output_type": "stream",
          "name": "stdout",
          "text": [
            "                   all         56        112          0          0          0          0          0          0          0          0\n"
          ]
        },
        {
          "output_type": "stream",
          "name": "stderr",
          "text": [
            "\n"
          ]
        },
        {
          "output_type": "stream",
          "name": "stdout",
          "text": [
            "\n",
            "      Epoch    GPU_mem   box_loss   seg_loss   cls_loss   dfl_loss  Instances       Size\n"
          ]
        },
        {
          "output_type": "stream",
          "name": "stderr",
          "text": [
            "      2/100      12.7G      1.949      4.255      2.794      2.228         44        640: 100%|██████████| 18/18 [00:18<00:00,  1.04s/it]\n",
            "                 Class     Images  Instances      Box(P          R      mAP50  mAP50-95)     Mask(P          R      mAP50  mAP50-95): 100%|██████████| 2/2 [00:01<00:00,  1.22it/s]"
          ]
        },
        {
          "output_type": "stream",
          "name": "stdout",
          "text": [
            "                   all         56        112   2.98e-05    0.00893   1.52e-05   1.52e-06          0          0          0          0\n"
          ]
        },
        {
          "output_type": "stream",
          "name": "stderr",
          "text": [
            "\n"
          ]
        },
        {
          "output_type": "stream",
          "name": "stdout",
          "text": [
            "\n",
            "      Epoch    GPU_mem   box_loss   seg_loss   cls_loss   dfl_loss  Instances       Size\n"
          ]
        },
        {
          "output_type": "stream",
          "name": "stderr",
          "text": [
            "      3/100      12.7G      1.844      3.794      2.233      2.126         34        640: 100%|██████████| 18/18 [00:20<00:00,  1.16s/it]\n",
            "                 Class     Images  Instances      Box(P          R      mAP50  mAP50-95)     Mask(P          R      mAP50  mAP50-95): 100%|██████████| 2/2 [00:01<00:00,  1.15it/s]"
          ]
        },
        {
          "output_type": "stream",
          "name": "stdout",
          "text": [
            "                   all         56        112   2.98e-05    0.00893   1.52e-05   1.52e-06          0          0          0          0\n"
          ]
        },
        {
          "output_type": "stream",
          "name": "stderr",
          "text": [
            "\n"
          ]
        },
        {
          "output_type": "stream",
          "name": "stdout",
          "text": [
            "\n",
            "      Epoch    GPU_mem   box_loss   seg_loss   cls_loss   dfl_loss  Instances       Size\n"
          ]
        },
        {
          "output_type": "stream",
          "name": "stderr",
          "text": [
            "      4/100      12.7G      1.728      3.498       1.98      2.007         34        640: 100%|██████████| 18/18 [00:19<00:00,  1.07s/it]\n",
            "                 Class     Images  Instances      Box(P          R      mAP50  mAP50-95)     Mask(P          R      mAP50  mAP50-95): 100%|██████████| 2/2 [00:01<00:00,  1.29it/s]"
          ]
        },
        {
          "output_type": "stream",
          "name": "stdout",
          "text": [
            "                   all         56        112   0.000123     0.0357   8.52e-05   1.79e-05   0.000123     0.0357   8.48e-05   2.54e-05\n"
          ]
        },
        {
          "output_type": "stream",
          "name": "stderr",
          "text": [
            "\n"
          ]
        },
        {
          "output_type": "stream",
          "name": "stdout",
          "text": [
            "\n",
            "      Epoch    GPU_mem   box_loss   seg_loss   cls_loss   dfl_loss  Instances       Size\n"
          ]
        },
        {
          "output_type": "stream",
          "name": "stderr",
          "text": [
            "      5/100      12.7G      1.679      3.474      1.702      1.938         29        640: 100%|██████████| 18/18 [00:18<00:00,  1.04s/it]\n",
            "                 Class     Images  Instances      Box(P          R      mAP50  mAP50-95)     Mask(P          R      mAP50  mAP50-95): 100%|██████████| 2/2 [00:01<00:00,  1.15it/s]"
          ]
        },
        {
          "output_type": "stream",
          "name": "stdout",
          "text": [
            "                   all         56        112    0.00551        0.5    0.00396    0.00189   0.000906      0.259   0.000781   0.000174\n"
          ]
        },
        {
          "output_type": "stream",
          "name": "stderr",
          "text": [
            "\n"
          ]
        },
        {
          "output_type": "stream",
          "name": "stdout",
          "text": [
            "\n",
            "      Epoch    GPU_mem   box_loss   seg_loss   cls_loss   dfl_loss  Instances       Size\n"
          ]
        },
        {
          "output_type": "stream",
          "name": "stderr",
          "text": [
            "      6/100      12.8G      1.643      3.385      1.623      1.968         30        640: 100%|██████████| 18/18 [00:19<00:00,  1.08s/it]\n",
            "                 Class     Images  Instances      Box(P          R      mAP50  mAP50-95)     Mask(P          R      mAP50  mAP50-95): 100%|██████████| 2/2 [00:01<00:00,  1.27it/s]"
          ]
        },
        {
          "output_type": "stream",
          "name": "stdout",
          "text": [
            "                   all         56        112     0.0124      0.429     0.0148    0.00668   0.000704     0.0982   0.000426   8.52e-05\n"
          ]
        },
        {
          "output_type": "stream",
          "name": "stderr",
          "text": [
            "\n"
          ]
        },
        {
          "output_type": "stream",
          "name": "stdout",
          "text": [
            "\n",
            "      Epoch    GPU_mem   box_loss   seg_loss   cls_loss   dfl_loss  Instances       Size\n"
          ]
        },
        {
          "output_type": "stream",
          "name": "stderr",
          "text": [
            "      7/100      12.7G      1.627      3.289       1.52      1.904         38        640: 100%|██████████| 18/18 [00:18<00:00,  1.05s/it]\n",
            "                 Class     Images  Instances      Box(P          R      mAP50  mAP50-95)     Mask(P          R      mAP50  mAP50-95): 100%|██████████| 2/2 [00:01<00:00,  1.27it/s]"
          ]
        },
        {
          "output_type": "stream",
          "name": "stdout",
          "text": [
            "                   all         56        112     0.0269      0.438     0.0164     0.0047    0.00715      0.161    0.00438    0.00106\n"
          ]
        },
        {
          "output_type": "stream",
          "name": "stderr",
          "text": [
            "\n"
          ]
        },
        {
          "output_type": "stream",
          "name": "stdout",
          "text": [
            "\n",
            "      Epoch    GPU_mem   box_loss   seg_loss   cls_loss   dfl_loss  Instances       Size\n"
          ]
        },
        {
          "output_type": "stream",
          "name": "stderr",
          "text": [
            "      8/100      12.8G      1.543      3.158      1.511       1.86         32        640: 100%|██████████| 18/18 [00:19<00:00,  1.06s/it]\n",
            "                 Class     Images  Instances      Box(P          R      mAP50  mAP50-95)     Mask(P          R      mAP50  mAP50-95): 100%|██████████| 2/2 [00:01<00:00,  1.23it/s]"
          ]
        },
        {
          "output_type": "stream",
          "name": "stdout",
          "text": [
            "                   all         56        112      0.785       0.25      0.299      0.177      0.604      0.134     0.0946     0.0206\n"
          ]
        },
        {
          "output_type": "stream",
          "name": "stderr",
          "text": [
            "\n"
          ]
        },
        {
          "output_type": "stream",
          "name": "stdout",
          "text": [
            "\n",
            "      Epoch    GPU_mem   box_loss   seg_loss   cls_loss   dfl_loss  Instances       Size\n"
          ]
        },
        {
          "output_type": "stream",
          "name": "stderr",
          "text": [
            "      9/100      12.7G       1.49      3.079      1.399      1.796         21        640: 100%|██████████| 18/18 [00:18<00:00,  1.05s/it]\n",
            "                 Class     Images  Instances      Box(P          R      mAP50  mAP50-95)     Mask(P          R      mAP50  mAP50-95): 100%|██████████| 2/2 [00:01<00:00,  1.31it/s]"
          ]
        },
        {
          "output_type": "stream",
          "name": "stdout",
          "text": [
            "                   all         56        112      0.184      0.255      0.188     0.0796      0.649     0.0268     0.0237    0.00395\n"
          ]
        },
        {
          "output_type": "stream",
          "name": "stderr",
          "text": [
            "\n"
          ]
        },
        {
          "output_type": "stream",
          "name": "stdout",
          "text": [
            "\n",
            "      Epoch    GPU_mem   box_loss   seg_loss   cls_loss   dfl_loss  Instances       Size\n"
          ]
        },
        {
          "output_type": "stream",
          "name": "stderr",
          "text": [
            "     10/100      12.7G      1.431      2.973      1.358      1.728         51        640: 100%|██████████| 18/18 [00:18<00:00,  1.05s/it]\n",
            "                 Class     Images  Instances      Box(P          R      mAP50  mAP50-95)     Mask(P          R      mAP50  mAP50-95): 100%|██████████| 2/2 [00:01<00:00,  1.30it/s]"
          ]
        },
        {
          "output_type": "stream",
          "name": "stdout",
          "text": [
            "                   all         56        112      0.803      0.366      0.367      0.236      0.197      0.205      0.113     0.0168\n"
          ]
        },
        {
          "output_type": "stream",
          "name": "stderr",
          "text": [
            "\n"
          ]
        },
        {
          "output_type": "stream",
          "name": "stdout",
          "text": [
            "\n",
            "      Epoch    GPU_mem   box_loss   seg_loss   cls_loss   dfl_loss  Instances       Size\n"
          ]
        },
        {
          "output_type": "stream",
          "name": "stderr",
          "text": [
            "     11/100      12.7G      1.347      2.969       1.28      1.667         44        640: 100%|██████████| 18/18 [00:19<00:00,  1.08s/it]\n",
            "                 Class     Images  Instances      Box(P          R      mAP50  mAP50-95)     Mask(P          R      mAP50  mAP50-95): 100%|██████████| 2/2 [00:01<00:00,  1.18it/s]"
          ]
        },
        {
          "output_type": "stream",
          "name": "stdout",
          "text": [
            "                   all         56        112      0.738      0.473      0.585      0.367      0.224      0.429       0.24     0.0558\n"
          ]
        },
        {
          "output_type": "stream",
          "name": "stderr",
          "text": [
            "\n"
          ]
        },
        {
          "output_type": "stream",
          "name": "stdout",
          "text": [
            "\n",
            "      Epoch    GPU_mem   box_loss   seg_loss   cls_loss   dfl_loss  Instances       Size\n"
          ]
        },
        {
          "output_type": "stream",
          "name": "stderr",
          "text": [
            "     12/100      12.8G      1.351      2.948       1.26      1.662         44        640: 100%|██████████| 18/18 [00:18<00:00,  1.03s/it]\n",
            "                 Class     Images  Instances      Box(P          R      mAP50  mAP50-95)     Mask(P          R      mAP50  mAP50-95): 100%|██████████| 2/2 [00:01<00:00,  1.31it/s]"
          ]
        },
        {
          "output_type": "stream",
          "name": "stdout",
          "text": [
            "                   all         56        112      0.743      0.464      0.539      0.302      0.457      0.286      0.228     0.0437\n"
          ]
        },
        {
          "output_type": "stream",
          "name": "stderr",
          "text": [
            "\n"
          ]
        },
        {
          "output_type": "stream",
          "name": "stdout",
          "text": [
            "\n",
            "      Epoch    GPU_mem   box_loss   seg_loss   cls_loss   dfl_loss  Instances       Size\n"
          ]
        },
        {
          "output_type": "stream",
          "name": "stderr",
          "text": [
            "     13/100      12.7G      1.342       2.77      1.189      1.685         44        640: 100%|██████████| 18/18 [00:18<00:00,  1.04s/it]\n",
            "                 Class     Images  Instances      Box(P          R      mAP50  mAP50-95)     Mask(P          R      mAP50  mAP50-95): 100%|██████████| 2/2 [00:01<00:00,  1.31it/s]"
          ]
        },
        {
          "output_type": "stream",
          "name": "stdout",
          "text": [
            "                   all         56        112      0.671      0.746      0.767      0.457      0.583      0.638      0.617      0.191\n"
          ]
        },
        {
          "output_type": "stream",
          "name": "stderr",
          "text": [
            "\n"
          ]
        },
        {
          "output_type": "stream",
          "name": "stdout",
          "text": [
            "\n",
            "      Epoch    GPU_mem   box_loss   seg_loss   cls_loss   dfl_loss  Instances       Size\n"
          ]
        },
        {
          "output_type": "stream",
          "name": "stderr",
          "text": [
            "     14/100      12.8G      1.335      2.755      1.133      1.665         41        640: 100%|██████████| 18/18 [00:18<00:00,  1.04s/it]\n",
            "                 Class     Images  Instances      Box(P          R      mAP50  mAP50-95)     Mask(P          R      mAP50  mAP50-95): 100%|██████████| 2/2 [00:01<00:00,  1.23it/s]"
          ]
        },
        {
          "output_type": "stream",
          "name": "stdout",
          "text": [
            "                   all         56        112      0.804      0.723      0.792      0.443      0.673      0.607      0.594      0.186\n"
          ]
        },
        {
          "output_type": "stream",
          "name": "stderr",
          "text": [
            "\n"
          ]
        },
        {
          "output_type": "stream",
          "name": "stdout",
          "text": [
            "\n",
            "      Epoch    GPU_mem   box_loss   seg_loss   cls_loss   dfl_loss  Instances       Size\n"
          ]
        },
        {
          "output_type": "stream",
          "name": "stderr",
          "text": [
            "     15/100      12.7G       1.26      2.645      1.064      1.646         29        640: 100%|██████████| 18/18 [00:18<00:00,  1.05s/it]\n",
            "                 Class     Images  Instances      Box(P          R      mAP50  mAP50-95)     Mask(P          R      mAP50  mAP50-95): 100%|██████████| 2/2 [00:01<00:00,  1.14it/s]"
          ]
        },
        {
          "output_type": "stream",
          "name": "stdout",
          "text": [
            "                   all         56        112      0.659      0.857      0.836      0.504      0.528      0.661      0.541      0.194\n"
          ]
        },
        {
          "output_type": "stream",
          "name": "stderr",
          "text": [
            "\n"
          ]
        },
        {
          "output_type": "stream",
          "name": "stdout",
          "text": [
            "\n",
            "      Epoch    GPU_mem   box_loss   seg_loss   cls_loss   dfl_loss  Instances       Size\n"
          ]
        },
        {
          "output_type": "stream",
          "name": "stderr",
          "text": [
            "     16/100      12.8G       1.26      2.617     0.9966      1.599         41        640: 100%|██████████| 18/18 [00:18<00:00,  1.04s/it]\n",
            "                 Class     Images  Instances      Box(P          R      mAP50  mAP50-95)     Mask(P          R      mAP50  mAP50-95): 100%|██████████| 2/2 [00:01<00:00,  1.35it/s]"
          ]
        },
        {
          "output_type": "stream",
          "name": "stdout",
          "text": [
            "                   all         56        112       0.74       0.59      0.796      0.489      0.382      0.545       0.58       0.21\n"
          ]
        },
        {
          "output_type": "stream",
          "name": "stderr",
          "text": [
            "\n"
          ]
        },
        {
          "output_type": "stream",
          "name": "stdout",
          "text": [
            "\n",
            "      Epoch    GPU_mem   box_loss   seg_loss   cls_loss   dfl_loss  Instances       Size\n"
          ]
        },
        {
          "output_type": "stream",
          "name": "stderr",
          "text": [
            "     17/100      12.7G      1.261      2.615     0.9956      1.601         35        640: 100%|██████████| 18/18 [00:18<00:00,  1.04s/it]\n",
            "                 Class     Images  Instances      Box(P          R      mAP50  mAP50-95)     Mask(P          R      mAP50  mAP50-95): 100%|██████████| 2/2 [00:01<00:00,  1.34it/s]"
          ]
        },
        {
          "output_type": "stream",
          "name": "stdout",
          "text": [
            "                   all         56        112      0.765      0.911      0.914      0.589      0.755      0.723        0.8      0.327\n"
          ]
        },
        {
          "output_type": "stream",
          "name": "stderr",
          "text": [
            "\n"
          ]
        },
        {
          "output_type": "stream",
          "name": "stdout",
          "text": [
            "\n",
            "      Epoch    GPU_mem   box_loss   seg_loss   cls_loss   dfl_loss  Instances       Size\n"
          ]
        },
        {
          "output_type": "stream",
          "name": "stderr",
          "text": [
            "     18/100      12.7G      1.174      2.541     0.9413      1.539         39        640: 100%|██████████| 18/18 [00:18<00:00,  1.04s/it]\n",
            "                 Class     Images  Instances      Box(P          R      mAP50  mAP50-95)     Mask(P          R      mAP50  mAP50-95): 100%|██████████| 2/2 [00:01<00:00,  1.33it/s]"
          ]
        },
        {
          "output_type": "stream",
          "name": "stdout",
          "text": [
            "                   all         56        112      0.789      0.938      0.918      0.613      0.771      0.839      0.828      0.355\n"
          ]
        },
        {
          "output_type": "stream",
          "name": "stderr",
          "text": [
            "\n"
          ]
        },
        {
          "output_type": "stream",
          "name": "stdout",
          "text": [
            "\n",
            "      Epoch    GPU_mem   box_loss   seg_loss   cls_loss   dfl_loss  Instances       Size\n"
          ]
        },
        {
          "output_type": "stream",
          "name": "stderr",
          "text": [
            "     19/100      12.7G      1.214      2.522     0.9472      1.568         38        640: 100%|██████████| 18/18 [00:18<00:00,  1.05s/it]\n",
            "                 Class     Images  Instances      Box(P          R      mAP50  mAP50-95)     Mask(P          R      mAP50  mAP50-95): 100%|██████████| 2/2 [00:01<00:00,  1.14it/s]"
          ]
        },
        {
          "output_type": "stream",
          "name": "stdout",
          "text": [
            "                   all         56        112      0.916      0.822       0.93      0.588      0.827      0.741      0.803      0.352\n"
          ]
        },
        {
          "output_type": "stream",
          "name": "stderr",
          "text": [
            "\n"
          ]
        },
        {
          "output_type": "stream",
          "name": "stdout",
          "text": [
            "\n",
            "      Epoch    GPU_mem   box_loss   seg_loss   cls_loss   dfl_loss  Instances       Size\n"
          ]
        },
        {
          "output_type": "stream",
          "name": "stderr",
          "text": [
            "     20/100      12.8G      1.228      2.534      0.926      1.555         28        640: 100%|██████████| 18/18 [00:18<00:00,  1.04s/it]\n",
            "                 Class     Images  Instances      Box(P          R      mAP50  mAP50-95)     Mask(P          R      mAP50  mAP50-95): 100%|██████████| 2/2 [00:01<00:00,  1.35it/s]"
          ]
        },
        {
          "output_type": "stream",
          "name": "stdout",
          "text": [
            "                   all         56        112      0.835        0.9      0.926      0.588      0.764      0.777      0.803      0.334\n"
          ]
        },
        {
          "output_type": "stream",
          "name": "stderr",
          "text": [
            "\n"
          ]
        },
        {
          "output_type": "stream",
          "name": "stdout",
          "text": [
            "\n",
            "      Epoch    GPU_mem   box_loss   seg_loss   cls_loss   dfl_loss  Instances       Size\n"
          ]
        },
        {
          "output_type": "stream",
          "name": "stderr",
          "text": [
            "     21/100      12.7G      1.179      2.434     0.9089      1.579         34        640: 100%|██████████| 18/18 [00:18<00:00,  1.04s/it]\n",
            "                 Class     Images  Instances      Box(P          R      mAP50  mAP50-95)     Mask(P          R      mAP50  mAP50-95): 100%|██████████| 2/2 [00:01<00:00,  1.34it/s]"
          ]
        },
        {
          "output_type": "stream",
          "name": "stdout",
          "text": [
            "                   all         56        112      0.774      0.931      0.932      0.575      0.671      0.795      0.743      0.324\n"
          ]
        },
        {
          "output_type": "stream",
          "name": "stderr",
          "text": [
            "\n"
          ]
        },
        {
          "output_type": "stream",
          "name": "stdout",
          "text": [
            "\n",
            "      Epoch    GPU_mem   box_loss   seg_loss   cls_loss   dfl_loss  Instances       Size\n"
          ]
        },
        {
          "output_type": "stream",
          "name": "stderr",
          "text": [
            "     22/100      12.8G      1.181      2.424     0.8767      1.544         39        640: 100%|██████████| 18/18 [00:18<00:00,  1.04s/it]\n",
            "                 Class     Images  Instances      Box(P          R      mAP50  mAP50-95)     Mask(P          R      mAP50  mAP50-95): 100%|██████████| 2/2 [00:01<00:00,  1.13it/s]"
          ]
        },
        {
          "output_type": "stream",
          "name": "stdout",
          "text": [
            "                   all         56        112      0.863       0.92      0.947       0.62      0.817      0.857      0.856      0.348\n"
          ]
        },
        {
          "output_type": "stream",
          "name": "stderr",
          "text": [
            "\n"
          ]
        },
        {
          "output_type": "stream",
          "name": "stdout",
          "text": [
            "\n",
            "      Epoch    GPU_mem   box_loss   seg_loss   cls_loss   dfl_loss  Instances       Size\n"
          ]
        },
        {
          "output_type": "stream",
          "name": "stderr",
          "text": [
            "     23/100      12.7G      1.146      2.467     0.8736      1.517         30        640: 100%|██████████| 18/18 [00:18<00:00,  1.05s/it]\n",
            "                 Class     Images  Instances      Box(P          R      mAP50  mAP50-95)     Mask(P          R      mAP50  mAP50-95): 100%|██████████| 2/2 [00:01<00:00,  1.17it/s]"
          ]
        },
        {
          "output_type": "stream",
          "name": "stdout",
          "text": [
            "                   all         56        112      0.898      0.936      0.968      0.616      0.811      0.883      0.836      0.364\n"
          ]
        },
        {
          "output_type": "stream",
          "name": "stderr",
          "text": [
            "\n"
          ]
        },
        {
          "output_type": "stream",
          "name": "stdout",
          "text": [
            "\n",
            "      Epoch    GPU_mem   box_loss   seg_loss   cls_loss   dfl_loss  Instances       Size\n"
          ]
        },
        {
          "output_type": "stream",
          "name": "stderr",
          "text": [
            "     24/100      12.7G      1.154      2.417     0.8335      1.495         38        640: 100%|██████████| 18/18 [00:18<00:00,  1.03s/it]\n",
            "                 Class     Images  Instances      Box(P          R      mAP50  mAP50-95)     Mask(P          R      mAP50  mAP50-95): 100%|██████████| 2/2 [00:01<00:00,  1.34it/s]"
          ]
        },
        {
          "output_type": "stream",
          "name": "stdout",
          "text": [
            "                   all         56        112      0.918      0.907      0.948      0.618      0.849      0.842      0.856       0.36\n"
          ]
        },
        {
          "output_type": "stream",
          "name": "stderr",
          "text": [
            "\n"
          ]
        },
        {
          "output_type": "stream",
          "name": "stdout",
          "text": [
            "\n",
            "      Epoch    GPU_mem   box_loss   seg_loss   cls_loss   dfl_loss  Instances       Size\n"
          ]
        },
        {
          "output_type": "stream",
          "name": "stderr",
          "text": [
            "     25/100      12.7G      1.192      2.438     0.8477       1.55         28        640: 100%|██████████| 18/18 [00:18<00:00,  1.05s/it]\n",
            "                 Class     Images  Instances      Box(P          R      mAP50  mAP50-95)     Mask(P          R      mAP50  mAP50-95): 100%|██████████| 2/2 [00:01<00:00,  1.31it/s]"
          ]
        },
        {
          "output_type": "stream",
          "name": "stdout",
          "text": [
            "                   all         56        112      0.927      0.932      0.962      0.625      0.885      0.893      0.899      0.393\n"
          ]
        },
        {
          "output_type": "stream",
          "name": "stderr",
          "text": [
            "\n"
          ]
        },
        {
          "output_type": "stream",
          "name": "stdout",
          "text": [
            "\n",
            "      Epoch    GPU_mem   box_loss   seg_loss   cls_loss   dfl_loss  Instances       Size\n"
          ]
        },
        {
          "output_type": "stream",
          "name": "stderr",
          "text": [
            "     26/100      12.7G      1.176      2.371     0.8398      1.542         48        640: 100%|██████████| 18/18 [00:19<00:00,  1.06s/it]\n",
            "                 Class     Images  Instances      Box(P          R      mAP50  mAP50-95)     Mask(P          R      mAP50  mAP50-95): 100%|██████████| 2/2 [00:01<00:00,  1.17it/s]"
          ]
        },
        {
          "output_type": "stream",
          "name": "stdout",
          "text": [
            "                   all         56        112      0.941      0.929      0.986        0.7      0.906      0.893       0.94      0.469\n"
          ]
        },
        {
          "output_type": "stream",
          "name": "stderr",
          "text": [
            "\n"
          ]
        },
        {
          "output_type": "stream",
          "name": "stdout",
          "text": [
            "\n",
            "      Epoch    GPU_mem   box_loss   seg_loss   cls_loss   dfl_loss  Instances       Size\n"
          ]
        },
        {
          "output_type": "stream",
          "name": "stderr",
          "text": [
            "     27/100      12.7G      1.129      2.334     0.7972      1.472         34        640: 100%|██████████| 18/18 [00:18<00:00,  1.04s/it]\n",
            "                 Class     Images  Instances      Box(P          R      mAP50  mAP50-95)     Mask(P          R      mAP50  mAP50-95): 100%|██████████| 2/2 [00:01<00:00,  1.31it/s]"
          ]
        },
        {
          "output_type": "stream",
          "name": "stdout",
          "text": [
            "                   all         56        112      0.903      0.972      0.969      0.662      0.876      0.945      0.924      0.414\n"
          ]
        },
        {
          "output_type": "stream",
          "name": "stderr",
          "text": [
            "\n"
          ]
        },
        {
          "output_type": "stream",
          "name": "stdout",
          "text": [
            "\n",
            "      Epoch    GPU_mem   box_loss   seg_loss   cls_loss   dfl_loss  Instances       Size\n"
          ]
        },
        {
          "output_type": "stream",
          "name": "stderr",
          "text": [
            "     28/100      12.8G       1.13      2.398     0.8223      1.514         20        640: 100%|██████████| 18/18 [00:19<00:00,  1.06s/it]\n",
            "                 Class     Images  Instances      Box(P          R      mAP50  mAP50-95)     Mask(P          R      mAP50  mAP50-95): 100%|██████████| 2/2 [00:01<00:00,  1.15it/s]"
          ]
        },
        {
          "output_type": "stream",
          "name": "stdout",
          "text": [
            "                   all         56        112      0.958      0.951      0.976      0.629      0.852      0.843      0.839      0.315\n"
          ]
        },
        {
          "output_type": "stream",
          "name": "stderr",
          "text": [
            "\n"
          ]
        },
        {
          "output_type": "stream",
          "name": "stdout",
          "text": [
            "\n",
            "      Epoch    GPU_mem   box_loss   seg_loss   cls_loss   dfl_loss  Instances       Size\n"
          ]
        },
        {
          "output_type": "stream",
          "name": "stderr",
          "text": [
            "     29/100      12.7G      1.132       2.33     0.7912      1.501         29        640: 100%|██████████| 18/18 [00:18<00:00,  1.05s/it]\n",
            "                 Class     Images  Instances      Box(P          R      mAP50  mAP50-95)     Mask(P          R      mAP50  mAP50-95): 100%|██████████| 2/2 [00:01<00:00,  1.11it/s]"
          ]
        },
        {
          "output_type": "stream",
          "name": "stdout",
          "text": [
            "                   all         56        112      0.938      0.959       0.98      0.675      0.921      0.943      0.939      0.457\n"
          ]
        },
        {
          "output_type": "stream",
          "name": "stderr",
          "text": [
            "\n"
          ]
        },
        {
          "output_type": "stream",
          "name": "stdout",
          "text": [
            "\n",
            "      Epoch    GPU_mem   box_loss   seg_loss   cls_loss   dfl_loss  Instances       Size\n"
          ]
        },
        {
          "output_type": "stream",
          "name": "stderr",
          "text": [
            "     30/100      12.7G      1.117      2.286     0.7842      1.485         32        640: 100%|██████████| 18/18 [00:18<00:00,  1.03s/it]\n",
            "                 Class     Images  Instances      Box(P          R      mAP50  mAP50-95)     Mask(P          R      mAP50  mAP50-95): 100%|██████████| 2/2 [00:01<00:00,  1.35it/s]"
          ]
        },
        {
          "output_type": "stream",
          "name": "stdout",
          "text": [
            "                   all         56        112      0.864      0.938      0.948        0.6      0.815      0.884      0.891      0.373\n"
          ]
        },
        {
          "output_type": "stream",
          "name": "stderr",
          "text": [
            "\n"
          ]
        },
        {
          "output_type": "stream",
          "name": "stdout",
          "text": [
            "\n",
            "      Epoch    GPU_mem   box_loss   seg_loss   cls_loss   dfl_loss  Instances       Size\n"
          ]
        },
        {
          "output_type": "stream",
          "name": "stderr",
          "text": [
            "     31/100      12.7G      1.177      2.369     0.8441      1.546         29        640: 100%|██████████| 18/18 [00:18<00:00,  1.04s/it]\n",
            "                 Class     Images  Instances      Box(P          R      mAP50  mAP50-95)     Mask(P          R      mAP50  mAP50-95): 100%|██████████| 2/2 [00:01<00:00,  1.23it/s]"
          ]
        },
        {
          "output_type": "stream",
          "name": "stdout",
          "text": [
            "                   all         56        112      0.924      0.952      0.954      0.671      0.872      0.898        0.9      0.439\n"
          ]
        },
        {
          "output_type": "stream",
          "name": "stderr",
          "text": [
            "\n"
          ]
        },
        {
          "output_type": "stream",
          "name": "stdout",
          "text": [
            "\n",
            "      Epoch    GPU_mem   box_loss   seg_loss   cls_loss   dfl_loss  Instances       Size\n"
          ]
        },
        {
          "output_type": "stream",
          "name": "stderr",
          "text": [
            "     32/100      12.8G       1.12      2.306     0.7796       1.45         36        640: 100%|██████████| 18/18 [00:19<00:00,  1.06s/it]\n",
            "                 Class     Images  Instances      Box(P          R      mAP50  mAP50-95)     Mask(P          R      mAP50  mAP50-95): 100%|██████████| 2/2 [00:01<00:00,  1.22it/s]"
          ]
        },
        {
          "output_type": "stream",
          "name": "stdout",
          "text": [
            "                   all         56        112      0.975      0.956      0.982      0.679      0.949      0.929      0.952       0.47\n"
          ]
        },
        {
          "output_type": "stream",
          "name": "stderr",
          "text": [
            "\n"
          ]
        },
        {
          "output_type": "stream",
          "name": "stdout",
          "text": [
            "\n",
            "      Epoch    GPU_mem   box_loss   seg_loss   cls_loss   dfl_loss  Instances       Size\n"
          ]
        },
        {
          "output_type": "stream",
          "name": "stderr",
          "text": [
            "     33/100      12.7G      1.108      2.274     0.7931      1.473         40        640: 100%|██████████| 18/18 [00:18<00:00,  1.04s/it]\n",
            "                 Class     Images  Instances      Box(P          R      mAP50  mAP50-95)     Mask(P          R      mAP50  mAP50-95): 100%|██████████| 2/2 [00:01<00:00,  1.32it/s]"
          ]
        },
        {
          "output_type": "stream",
          "name": "stdout",
          "text": [
            "                   all         56        112      0.944      0.982      0.988      0.692        0.9      0.938      0.941      0.475\n"
          ]
        },
        {
          "output_type": "stream",
          "name": "stderr",
          "text": [
            "\n"
          ]
        },
        {
          "output_type": "stream",
          "name": "stdout",
          "text": [
            "\n",
            "      Epoch    GPU_mem   box_loss   seg_loss   cls_loss   dfl_loss  Instances       Size\n"
          ]
        },
        {
          "output_type": "stream",
          "name": "stderr",
          "text": [
            "     34/100      12.8G      1.052      2.224     0.7336      1.444         38        640: 100%|██████████| 18/18 [00:19<00:00,  1.08s/it]\n",
            "                 Class     Images  Instances      Box(P          R      mAP50  mAP50-95)     Mask(P          R      mAP50  mAP50-95): 100%|██████████| 2/2 [00:01<00:00,  1.21it/s]"
          ]
        },
        {
          "output_type": "stream",
          "name": "stdout",
          "text": [
            "                   all         56        112      0.944       0.96      0.966       0.67      0.899      0.916      0.922      0.429\n"
          ]
        },
        {
          "output_type": "stream",
          "name": "stderr",
          "text": [
            "\n"
          ]
        },
        {
          "output_type": "stream",
          "name": "stdout",
          "text": [
            "\n",
            "      Epoch    GPU_mem   box_loss   seg_loss   cls_loss   dfl_loss  Instances       Size\n"
          ]
        },
        {
          "output_type": "stream",
          "name": "stderr",
          "text": [
            "     35/100      12.7G      1.055      2.198     0.7016       1.45         34        640: 100%|██████████| 18/18 [00:18<00:00,  1.05s/it]\n",
            "                 Class     Images  Instances      Box(P          R      mAP50  mAP50-95)     Mask(P          R      mAP50  mAP50-95): 100%|██████████| 2/2 [00:01<00:00,  1.13it/s]"
          ]
        },
        {
          "output_type": "stream",
          "name": "stdout",
          "text": [
            "                   all         56        112      0.956      0.982      0.983      0.668      0.875      0.902      0.883       0.42\n"
          ]
        },
        {
          "output_type": "stream",
          "name": "stderr",
          "text": [
            "\n"
          ]
        },
        {
          "output_type": "stream",
          "name": "stdout",
          "text": [
            "\n",
            "      Epoch    GPU_mem   box_loss   seg_loss   cls_loss   dfl_loss  Instances       Size\n"
          ]
        },
        {
          "output_type": "stream",
          "name": "stderr",
          "text": [
            "     36/100      12.8G      1.084      2.265     0.7057       1.44         39        640: 100%|██████████| 18/18 [00:19<00:00,  1.06s/it]\n",
            "                 Class     Images  Instances      Box(P          R      mAP50  mAP50-95)     Mask(P          R      mAP50  mAP50-95): 100%|██████████| 2/2 [00:01<00:00,  1.33it/s]"
          ]
        },
        {
          "output_type": "stream",
          "name": "stdout",
          "text": [
            "                   all         56        112      0.953      0.998      0.993      0.724       0.91      0.953      0.942      0.497\n"
          ]
        },
        {
          "output_type": "stream",
          "name": "stderr",
          "text": [
            "\n"
          ]
        },
        {
          "output_type": "stream",
          "name": "stdout",
          "text": [
            "\n",
            "      Epoch    GPU_mem   box_loss   seg_loss   cls_loss   dfl_loss  Instances       Size\n"
          ]
        },
        {
          "output_type": "stream",
          "name": "stderr",
          "text": [
            "     37/100      12.6G      1.051       2.22     0.7227      1.441         35        640: 100%|██████████| 18/18 [00:18<00:00,  1.04s/it]\n",
            "                 Class     Images  Instances      Box(P          R      mAP50  mAP50-95)     Mask(P          R      mAP50  mAP50-95): 100%|██████████| 2/2 [00:01<00:00,  1.32it/s]"
          ]
        },
        {
          "output_type": "stream",
          "name": "stdout",
          "text": [
            "                   all         56        112      0.946      0.946       0.98      0.704      0.902      0.902       0.91      0.451\n"
          ]
        },
        {
          "output_type": "stream",
          "name": "stderr",
          "text": [
            "\n"
          ]
        },
        {
          "output_type": "stream",
          "name": "stdout",
          "text": [
            "\n",
            "      Epoch    GPU_mem   box_loss   seg_loss   cls_loss   dfl_loss  Instances       Size\n"
          ]
        },
        {
          "output_type": "stream",
          "name": "stderr",
          "text": [
            "     38/100      12.8G      1.112      2.243     0.7266      1.447         42        640: 100%|██████████| 18/18 [00:18<00:00,  1.05s/it]\n",
            "                 Class     Images  Instances      Box(P          R      mAP50  mAP50-95)     Mask(P          R      mAP50  mAP50-95): 100%|██████████| 2/2 [00:01<00:00,  1.17it/s]"
          ]
        },
        {
          "output_type": "stream",
          "name": "stdout",
          "text": [
            "                   all         56        112      0.983      0.991      0.994      0.714      0.956      0.964       0.95      0.471\n"
          ]
        },
        {
          "output_type": "stream",
          "name": "stderr",
          "text": [
            "\n"
          ]
        },
        {
          "output_type": "stream",
          "name": "stdout",
          "text": [
            "\n",
            "      Epoch    GPU_mem   box_loss   seg_loss   cls_loss   dfl_loss  Instances       Size\n"
          ]
        },
        {
          "output_type": "stream",
          "name": "stderr",
          "text": [
            "     39/100      12.7G      1.059      2.177      0.678       1.44         39        640: 100%|██████████| 18/18 [00:18<00:00,  1.04s/it]\n",
            "                 Class     Images  Instances      Box(P          R      mAP50  mAP50-95)     Mask(P          R      mAP50  mAP50-95): 100%|██████████| 2/2 [00:01<00:00,  1.31it/s]"
          ]
        },
        {
          "output_type": "stream",
          "name": "stdout",
          "text": [
            "                   all         56        112      0.976      0.991      0.992      0.672      0.931      0.946      0.932       0.48\n"
          ]
        },
        {
          "output_type": "stream",
          "name": "stderr",
          "text": [
            "\n"
          ]
        },
        {
          "output_type": "stream",
          "name": "stdout",
          "text": [
            "\n",
            "      Epoch    GPU_mem   box_loss   seg_loss   cls_loss   dfl_loss  Instances       Size\n"
          ]
        },
        {
          "output_type": "stream",
          "name": "stderr",
          "text": [
            "     40/100      12.7G      1.072      2.235     0.6948      1.424         37        640: 100%|██████████| 18/18 [00:18<00:00,  1.04s/it]\n",
            "                 Class     Images  Instances      Box(P          R      mAP50  mAP50-95)     Mask(P          R      mAP50  mAP50-95): 100%|██████████| 2/2 [00:01<00:00,  1.35it/s]"
          ]
        },
        {
          "output_type": "stream",
          "name": "stdout",
          "text": [
            "                   all         56        112      0.943      0.955      0.984      0.663      0.927      0.938      0.957       0.46\n"
          ]
        },
        {
          "output_type": "stream",
          "name": "stderr",
          "text": [
            "\n"
          ]
        },
        {
          "output_type": "stream",
          "name": "stdout",
          "text": [
            "\n",
            "      Epoch    GPU_mem   box_loss   seg_loss   cls_loss   dfl_loss  Instances       Size\n"
          ]
        },
        {
          "output_type": "stream",
          "name": "stderr",
          "text": [
            "     41/100      12.7G      1.081      2.264     0.7424      1.453         35        640: 100%|██████████| 18/18 [00:18<00:00,  1.05s/it]\n",
            "                 Class     Images  Instances      Box(P          R      mAP50  mAP50-95)     Mask(P          R      mAP50  mAP50-95): 100%|██████████| 2/2 [00:01<00:00,  1.17it/s]"
          ]
        },
        {
          "output_type": "stream",
          "name": "stdout",
          "text": [
            "                   all         56        112      0.942      0.933      0.969       0.67      0.865      0.853      0.878      0.408\n"
          ]
        },
        {
          "output_type": "stream",
          "name": "stderr",
          "text": [
            "\n"
          ]
        },
        {
          "output_type": "stream",
          "name": "stdout",
          "text": [
            "\n",
            "      Epoch    GPU_mem   box_loss   seg_loss   cls_loss   dfl_loss  Instances       Size\n"
          ]
        },
        {
          "output_type": "stream",
          "name": "stderr",
          "text": [
            "     42/100      12.7G      1.114      2.348     0.7228      1.474         40        640: 100%|██████████| 18/18 [00:19<00:00,  1.06s/it]\n",
            "                 Class     Images  Instances      Box(P          R      mAP50  mAP50-95)     Mask(P          R      mAP50  mAP50-95): 100%|██████████| 2/2 [00:01<00:00,  1.19it/s]"
          ]
        },
        {
          "output_type": "stream",
          "name": "stdout",
          "text": [
            "                   all         56        112      0.973      0.988      0.981      0.712      0.938      0.952      0.926      0.467\n"
          ]
        },
        {
          "output_type": "stream",
          "name": "stderr",
          "text": [
            "\n"
          ]
        },
        {
          "output_type": "stream",
          "name": "stdout",
          "text": [
            "\n",
            "      Epoch    GPU_mem   box_loss   seg_loss   cls_loss   dfl_loss  Instances       Size\n"
          ]
        },
        {
          "output_type": "stream",
          "name": "stderr",
          "text": [
            "     43/100      12.7G      1.041      2.179      0.665      1.406         40        640: 100%|██████████| 18/18 [00:18<00:00,  1.04s/it]\n",
            "                 Class     Images  Instances      Box(P          R      mAP50  mAP50-95)     Mask(P          R      mAP50  mAP50-95): 100%|██████████| 2/2 [00:01<00:00,  1.34it/s]"
          ]
        },
        {
          "output_type": "stream",
          "name": "stdout",
          "text": [
            "                   all         56        112      0.991          1      0.995        0.7      0.964      0.973      0.966      0.485\n"
          ]
        },
        {
          "output_type": "stream",
          "name": "stderr",
          "text": [
            "\n"
          ]
        },
        {
          "output_type": "stream",
          "name": "stdout",
          "text": [
            "\n",
            "      Epoch    GPU_mem   box_loss   seg_loss   cls_loss   dfl_loss  Instances       Size\n"
          ]
        },
        {
          "output_type": "stream",
          "name": "stderr",
          "text": [
            "     44/100      12.8G      1.033      2.176     0.6539      1.404         32        640: 100%|██████████| 18/18 [00:18<00:00,  1.04s/it]\n",
            "                 Class     Images  Instances      Box(P          R      mAP50  mAP50-95)     Mask(P          R      mAP50  mAP50-95): 100%|██████████| 2/2 [00:01<00:00,  1.34it/s]"
          ]
        },
        {
          "output_type": "stream",
          "name": "stdout",
          "text": [
            "                   all         56        112      0.936      0.977      0.973        0.7      0.884      0.923      0.915      0.425\n"
          ]
        },
        {
          "output_type": "stream",
          "name": "stderr",
          "text": [
            "\n"
          ]
        },
        {
          "output_type": "stream",
          "name": "stdout",
          "text": [
            "\n",
            "      Epoch    GPU_mem   box_loss   seg_loss   cls_loss   dfl_loss  Instances       Size\n"
          ]
        },
        {
          "output_type": "stream",
          "name": "stderr",
          "text": [
            "     45/100      12.7G     0.9851       2.17     0.6244       1.39         30        640: 100%|██████████| 18/18 [00:18<00:00,  1.05s/it]\n",
            "                 Class     Images  Instances      Box(P          R      mAP50  mAP50-95)     Mask(P          R      mAP50  mAP50-95): 100%|██████████| 2/2 [00:01<00:00,  1.34it/s]"
          ]
        },
        {
          "output_type": "stream",
          "name": "stdout",
          "text": [
            "                   all         56        112      0.985      0.999      0.995      0.719      0.959      0.973      0.963      0.504\n"
          ]
        },
        {
          "output_type": "stream",
          "name": "stderr",
          "text": [
            "\n"
          ]
        },
        {
          "output_type": "stream",
          "name": "stdout",
          "text": [
            "\n",
            "      Epoch    GPU_mem   box_loss   seg_loss   cls_loss   dfl_loss  Instances       Size\n"
          ]
        },
        {
          "output_type": "stream",
          "name": "stderr",
          "text": [
            "     46/100      12.7G      1.006      2.192     0.6401      1.412         40        640: 100%|██████████| 18/18 [00:19<00:00,  1.06s/it]\n",
            "                 Class     Images  Instances      Box(P          R      mAP50  mAP50-95)     Mask(P          R      mAP50  mAP50-95): 100%|██████████| 2/2 [00:01<00:00,  1.11it/s]"
          ]
        },
        {
          "output_type": "stream",
          "name": "stdout",
          "text": [
            "                   all         56        112      0.983      0.991      0.983      0.706      0.957      0.964      0.959       0.51\n"
          ]
        },
        {
          "output_type": "stream",
          "name": "stderr",
          "text": [
            "\n"
          ]
        },
        {
          "output_type": "stream",
          "name": "stdout",
          "text": [
            "\n",
            "      Epoch    GPU_mem   box_loss   seg_loss   cls_loss   dfl_loss  Instances       Size\n"
          ]
        },
        {
          "output_type": "stream",
          "name": "stderr",
          "text": [
            "     47/100      12.7G     0.9996      2.121     0.6225      1.377         50        640: 100%|██████████| 18/18 [00:18<00:00,  1.04s/it]\n",
            "                 Class     Images  Instances      Box(P          R      mAP50  mAP50-95)     Mask(P          R      mAP50  mAP50-95): 100%|██████████| 2/2 [00:01<00:00,  1.24it/s]"
          ]
        },
        {
          "output_type": "stream",
          "name": "stdout",
          "text": [
            "                   all         56        112      0.993          1      0.995      0.729      0.967      0.973      0.972       0.52\n"
          ]
        },
        {
          "output_type": "stream",
          "name": "stderr",
          "text": [
            "\n"
          ]
        },
        {
          "output_type": "stream",
          "name": "stdout",
          "text": [
            "\n",
            "      Epoch    GPU_mem   box_loss   seg_loss   cls_loss   dfl_loss  Instances       Size\n"
          ]
        },
        {
          "output_type": "stream",
          "name": "stderr",
          "text": [
            "     48/100      12.8G      1.011      2.073     0.6333      1.399         32        640: 100%|██████████| 18/18 [00:18<00:00,  1.04s/it]\n",
            "                 Class     Images  Instances      Box(P          R      mAP50  mAP50-95)     Mask(P          R      mAP50  mAP50-95): 100%|██████████| 2/2 [00:01<00:00,  1.33it/s]"
          ]
        },
        {
          "output_type": "stream",
          "name": "stdout",
          "text": [
            "                   all         56        112      0.961      0.991      0.993      0.733      0.926      0.955      0.963      0.515\n"
          ]
        },
        {
          "output_type": "stream",
          "name": "stderr",
          "text": [
            "\n"
          ]
        },
        {
          "output_type": "stream",
          "name": "stdout",
          "text": [
            "\n",
            "      Epoch    GPU_mem   box_loss   seg_loss   cls_loss   dfl_loss  Instances       Size\n"
          ]
        },
        {
          "output_type": "stream",
          "name": "stderr",
          "text": [
            "     49/100      12.7G      1.027      2.134     0.6432      1.391         47        640: 100%|██████████| 18/18 [00:18<00:00,  1.03s/it]\n",
            "                 Class     Images  Instances      Box(P          R      mAP50  mAP50-95)     Mask(P          R      mAP50  mAP50-95): 100%|██████████| 2/2 [00:01<00:00,  1.22it/s]"
          ]
        },
        {
          "output_type": "stream",
          "name": "stdout",
          "text": [
            "                   all         56        112      0.996      0.999      0.995      0.719       0.97      0.972      0.972       0.53\n"
          ]
        },
        {
          "output_type": "stream",
          "name": "stderr",
          "text": [
            "\n"
          ]
        },
        {
          "output_type": "stream",
          "name": "stdout",
          "text": [
            "\n",
            "      Epoch    GPU_mem   box_loss   seg_loss   cls_loss   dfl_loss  Instances       Size\n"
          ]
        },
        {
          "output_type": "stream",
          "name": "stderr",
          "text": [
            "     50/100      12.8G     0.9656      2.048     0.5808      1.352         36        640: 100%|██████████| 18/18 [00:18<00:00,  1.05s/it]\n",
            "                 Class     Images  Instances      Box(P          R      mAP50  mAP50-95)     Mask(P          R      mAP50  mAP50-95): 100%|██████████| 2/2 [00:01<00:00,  1.18it/s]"
          ]
        },
        {
          "output_type": "stream",
          "name": "stdout",
          "text": [
            "                   all         56        112      0.986      0.991      0.986      0.698      0.942      0.946      0.938      0.471\n"
          ]
        },
        {
          "output_type": "stream",
          "name": "stderr",
          "text": [
            "\n"
          ]
        },
        {
          "output_type": "stream",
          "name": "stdout",
          "text": [
            "\n",
            "      Epoch    GPU_mem   box_loss   seg_loss   cls_loss   dfl_loss  Instances       Size\n"
          ]
        },
        {
          "output_type": "stream",
          "name": "stderr",
          "text": [
            "     51/100      12.7G     0.9967      2.073     0.6098       1.39         31        640: 100%|██████████| 18/18 [00:18<00:00,  1.03s/it]\n",
            "                 Class     Images  Instances      Box(P          R      mAP50  mAP50-95)     Mask(P          R      mAP50  mAP50-95): 100%|██████████| 2/2 [00:01<00:00,  1.33it/s]"
          ]
        },
        {
          "output_type": "stream",
          "name": "stdout",
          "text": [
            "                   all         56        112      0.991          1      0.995      0.728      0.982      0.991      0.986      0.525\n"
          ]
        },
        {
          "output_type": "stream",
          "name": "stderr",
          "text": [
            "\n"
          ]
        },
        {
          "output_type": "stream",
          "name": "stdout",
          "text": [
            "\n",
            "      Epoch    GPU_mem   box_loss   seg_loss   cls_loss   dfl_loss  Instances       Size\n"
          ]
        },
        {
          "output_type": "stream",
          "name": "stderr",
          "text": [
            "     52/100      12.8G      1.012      2.091     0.6209      1.387         38        640: 100%|██████████| 18/18 [00:18<00:00,  1.04s/it]\n",
            "                 Class     Images  Instances      Box(P          R      mAP50  mAP50-95)     Mask(P          R      mAP50  mAP50-95): 100%|██████████| 2/2 [00:01<00:00,  1.29it/s]"
          ]
        },
        {
          "output_type": "stream",
          "name": "stdout",
          "text": [
            "                   all         56        112      0.983      0.981      0.983       0.73      0.947      0.958      0.965      0.519\n"
          ]
        },
        {
          "output_type": "stream",
          "name": "stderr",
          "text": [
            "\n"
          ]
        },
        {
          "output_type": "stream",
          "name": "stdout",
          "text": [
            "\n",
            "      Epoch    GPU_mem   box_loss   seg_loss   cls_loss   dfl_loss  Instances       Size\n"
          ]
        },
        {
          "output_type": "stream",
          "name": "stderr",
          "text": [
            "     53/100      12.7G     0.9556      2.042     0.5971      1.349         38        640: 100%|██████████| 18/18 [00:18<00:00,  1.05s/it]\n",
            "                 Class     Images  Instances      Box(P          R      mAP50  mAP50-95)     Mask(P          R      mAP50  mAP50-95): 100%|██████████| 2/2 [00:01<00:00,  1.11it/s]"
          ]
        },
        {
          "output_type": "stream",
          "name": "stdout",
          "text": [
            "                   all         56        112      0.974      0.991      0.983      0.743      0.939      0.955      0.953      0.514\n"
          ]
        },
        {
          "output_type": "stream",
          "name": "stderr",
          "text": [
            "\n"
          ]
        },
        {
          "output_type": "stream",
          "name": "stdout",
          "text": [
            "\n",
            "      Epoch    GPU_mem   box_loss   seg_loss   cls_loss   dfl_loss  Instances       Size\n"
          ]
        },
        {
          "output_type": "stream",
          "name": "stderr",
          "text": [
            "     54/100      12.8G      1.011      2.143     0.6183      1.401         31        640: 100%|██████████| 18/18 [00:18<00:00,  1.05s/it]\n",
            "                 Class     Images  Instances      Box(P          R      mAP50  mAP50-95)     Mask(P          R      mAP50  mAP50-95): 100%|██████████| 2/2 [00:01<00:00,  1.30it/s]"
          ]
        },
        {
          "output_type": "stream",
          "name": "stdout",
          "text": [
            "                   all         56        112      0.996      0.997      0.995      0.749      0.952      0.953      0.959      0.525\n"
          ]
        },
        {
          "output_type": "stream",
          "name": "stderr",
          "text": [
            "\n"
          ]
        },
        {
          "output_type": "stream",
          "name": "stdout",
          "text": [
            "\n",
            "      Epoch    GPU_mem   box_loss   seg_loss   cls_loss   dfl_loss  Instances       Size\n"
          ]
        },
        {
          "output_type": "stream",
          "name": "stderr",
          "text": [
            "     55/100      12.7G     0.9342      2.011     0.5702      1.323         49        640: 100%|██████████| 18/18 [00:18<00:00,  1.04s/it]\n",
            "                 Class     Images  Instances      Box(P          R      mAP50  mAP50-95)     Mask(P          R      mAP50  mAP50-95): 100%|██████████| 2/2 [00:01<00:00,  1.33it/s]"
          ]
        },
        {
          "output_type": "stream",
          "name": "stdout",
          "text": [
            "                   all         56        112      0.974          1      0.993      0.742       0.93      0.955      0.951      0.536\n"
          ]
        },
        {
          "output_type": "stream",
          "name": "stderr",
          "text": [
            "\n"
          ]
        },
        {
          "output_type": "stream",
          "name": "stdout",
          "text": [
            "\n",
            "      Epoch    GPU_mem   box_loss   seg_loss   cls_loss   dfl_loss  Instances       Size\n"
          ]
        },
        {
          "output_type": "stream",
          "name": "stderr",
          "text": [
            "     56/100      12.7G     0.9533      2.033     0.5931      1.373         39        640: 100%|██████████| 18/18 [00:18<00:00,  1.04s/it]\n",
            "                 Class     Images  Instances      Box(P          R      mAP50  mAP50-95)     Mask(P          R      mAP50  mAP50-95): 100%|██████████| 2/2 [00:01<00:00,  1.32it/s]"
          ]
        },
        {
          "output_type": "stream",
          "name": "stdout",
          "text": [
            "                   all         56        112      0.978          1      0.995      0.706      0.942      0.964       0.97      0.515\n"
          ]
        },
        {
          "output_type": "stream",
          "name": "stderr",
          "text": [
            "\n"
          ]
        },
        {
          "output_type": "stream",
          "name": "stdout",
          "text": [
            "\n",
            "      Epoch    GPU_mem   box_loss   seg_loss   cls_loss   dfl_loss  Instances       Size\n"
          ]
        },
        {
          "output_type": "stream",
          "name": "stderr",
          "text": [
            "     57/100      12.7G      1.003      2.083     0.6061      1.378         33        640: 100%|██████████| 18/18 [00:18<00:00,  1.05s/it]\n",
            "                 Class     Images  Instances      Box(P          R      mAP50  mAP50-95)     Mask(P          R      mAP50  mAP50-95): 100%|██████████| 2/2 [00:01<00:00,  1.18it/s]"
          ]
        },
        {
          "output_type": "stream",
          "name": "stdout",
          "text": [
            "                   all         56        112      0.996      0.997      0.995      0.701      0.961      0.961       0.97      0.511\n"
          ]
        },
        {
          "output_type": "stream",
          "name": "stderr",
          "text": [
            "\n"
          ]
        },
        {
          "output_type": "stream",
          "name": "stdout",
          "text": [
            "\n",
            "      Epoch    GPU_mem   box_loss   seg_loss   cls_loss   dfl_loss  Instances       Size\n"
          ]
        },
        {
          "output_type": "stream",
          "name": "stderr",
          "text": [
            "     58/100      12.8G      0.969      2.071     0.5905      1.366         35        640: 100%|██████████| 18/18 [00:18<00:00,  1.05s/it]\n",
            "                 Class     Images  Instances      Box(P          R      mAP50  mAP50-95)     Mask(P          R      mAP50  mAP50-95): 100%|██████████| 2/2 [00:01<00:00,  1.34it/s]"
          ]
        },
        {
          "output_type": "stream",
          "name": "stdout",
          "text": [
            "                   all         56        112      0.995          1      0.995      0.736      0.968      0.973      0.971      0.537\n"
          ]
        },
        {
          "output_type": "stream",
          "name": "stderr",
          "text": [
            "\n"
          ]
        },
        {
          "output_type": "stream",
          "name": "stdout",
          "text": [
            "\n",
            "      Epoch    GPU_mem   box_loss   seg_loss   cls_loss   dfl_loss  Instances       Size\n"
          ]
        },
        {
          "output_type": "stream",
          "name": "stderr",
          "text": [
            "     59/100      12.6G     0.9975      2.152     0.6249      1.395         38        640: 100%|██████████| 18/18 [00:18<00:00,  1.03s/it]\n",
            "                 Class     Images  Instances      Box(P          R      mAP50  mAP50-95)     Mask(P          R      mAP50  mAP50-95): 100%|██████████| 2/2 [00:01<00:00,  1.34it/s]"
          ]
        },
        {
          "output_type": "stream",
          "name": "stdout",
          "text": [
            "                   all         56        112      0.974      0.986      0.995      0.694      0.898       0.92      0.926      0.469\n"
          ]
        },
        {
          "output_type": "stream",
          "name": "stderr",
          "text": [
            "\n"
          ]
        },
        {
          "output_type": "stream",
          "name": "stdout",
          "text": [
            "\n",
            "      Epoch    GPU_mem   box_loss   seg_loss   cls_loss   dfl_loss  Instances       Size\n"
          ]
        },
        {
          "output_type": "stream",
          "name": "stderr",
          "text": [
            "     60/100      12.8G      0.934      2.009     0.5916      1.348         34        640: 100%|██████████| 18/18 [00:18<00:00,  1.05s/it]\n",
            "                 Class     Images  Instances      Box(P          R      mAP50  mAP50-95)     Mask(P          R      mAP50  mAP50-95): 100%|██████████| 2/2 [00:01<00:00,  1.18it/s]"
          ]
        },
        {
          "output_type": "stream",
          "name": "stdout",
          "text": [
            "                   all         56        112      0.983      0.991      0.984       0.76      0.957      0.964      0.962      0.544\n"
          ]
        },
        {
          "output_type": "stream",
          "name": "stderr",
          "text": [
            "\n"
          ]
        },
        {
          "output_type": "stream",
          "name": "stdout",
          "text": [
            "\n",
            "      Epoch    GPU_mem   box_loss   seg_loss   cls_loss   dfl_loss  Instances       Size\n"
          ]
        },
        {
          "output_type": "stream",
          "name": "stderr",
          "text": [
            "     61/100      12.7G     0.9508      1.971     0.5638      1.345         34        640: 100%|██████████| 18/18 [00:18<00:00,  1.02s/it]\n",
            "                 Class     Images  Instances      Box(P          R      mAP50  mAP50-95)     Mask(P          R      mAP50  mAP50-95): 100%|██████████| 2/2 [00:01<00:00,  1.33it/s]"
          ]
        },
        {
          "output_type": "stream",
          "name": "stdout",
          "text": [
            "                   all         56        112      0.979      0.991      0.985      0.738      0.952      0.964       0.96      0.532\n"
          ]
        },
        {
          "output_type": "stream",
          "name": "stderr",
          "text": [
            "\n"
          ]
        },
        {
          "output_type": "stream",
          "name": "stdout",
          "text": [
            "\n",
            "      Epoch    GPU_mem   box_loss   seg_loss   cls_loss   dfl_loss  Instances       Size\n"
          ]
        },
        {
          "output_type": "stream",
          "name": "stderr",
          "text": [
            "     62/100      12.8G     0.9535      1.955     0.5588      1.345         38        640: 100%|██████████| 18/18 [00:18<00:00,  1.05s/it]\n",
            "                 Class     Images  Instances      Box(P          R      mAP50  mAP50-95)     Mask(P          R      mAP50  mAP50-95): 100%|██████████| 2/2 [00:01<00:00,  1.27it/s]"
          ]
        },
        {
          "output_type": "stream",
          "name": "stdout",
          "text": [
            "                   all         56        112      0.995          1      0.995      0.732      0.959      0.964      0.957      0.523\n"
          ]
        },
        {
          "output_type": "stream",
          "name": "stderr",
          "text": [
            "\n"
          ]
        },
        {
          "output_type": "stream",
          "name": "stdout",
          "text": [
            "\n",
            "      Epoch    GPU_mem   box_loss   seg_loss   cls_loss   dfl_loss  Instances       Size\n"
          ]
        },
        {
          "output_type": "stream",
          "name": "stderr",
          "text": [
            "     63/100      12.7G     0.9699      1.957     0.5672      1.375         25        640: 100%|██████████| 18/18 [00:18<00:00,  1.04s/it]\n",
            "                 Class     Images  Instances      Box(P          R      mAP50  mAP50-95)     Mask(P          R      mAP50  mAP50-95): 100%|██████████| 2/2 [00:01<00:00,  1.19it/s]"
          ]
        },
        {
          "output_type": "stream",
          "name": "stdout",
          "text": [
            "                   all         56        112      0.987          1      0.995      0.752      0.952      0.964      0.972      0.578\n"
          ]
        },
        {
          "output_type": "stream",
          "name": "stderr",
          "text": [
            "\n"
          ]
        },
        {
          "output_type": "stream",
          "name": "stdout",
          "text": [
            "\n",
            "      Epoch    GPU_mem   box_loss   seg_loss   cls_loss   dfl_loss  Instances       Size\n"
          ]
        },
        {
          "output_type": "stream",
          "name": "stderr",
          "text": [
            "     64/100      12.8G     0.9367      1.964     0.5578      1.322         39        640: 100%|██████████| 18/18 [00:19<00:00,  1.06s/it]\n",
            "                 Class     Images  Instances      Box(P          R      mAP50  mAP50-95)     Mask(P          R      mAP50  mAP50-95): 100%|██████████| 2/2 [00:01<00:00,  1.10it/s]"
          ]
        },
        {
          "output_type": "stream",
          "name": "stdout",
          "text": [
            "                   all         56        112      0.995          1      0.995      0.752      0.951      0.955      0.965      0.548\n"
          ]
        },
        {
          "output_type": "stream",
          "name": "stderr",
          "text": [
            "\n"
          ]
        },
        {
          "output_type": "stream",
          "name": "stdout",
          "text": [
            "\n",
            "      Epoch    GPU_mem   box_loss   seg_loss   cls_loss   dfl_loss  Instances       Size\n"
          ]
        },
        {
          "output_type": "stream",
          "name": "stderr",
          "text": [
            "     65/100      12.7G     0.9415      2.012     0.5849      1.329         33        640: 100%|██████████| 18/18 [00:19<00:00,  1.08s/it]\n",
            "                 Class     Images  Instances      Box(P          R      mAP50  mAP50-95)     Mask(P          R      mAP50  mAP50-95): 100%|██████████| 2/2 [00:01<00:00,  1.16it/s]"
          ]
        },
        {
          "output_type": "stream",
          "name": "stdout",
          "text": [
            "                   all         56        112      0.994          1      0.995      0.738      0.959      0.964      0.971      0.552\n"
          ]
        },
        {
          "output_type": "stream",
          "name": "stderr",
          "text": [
            "\n"
          ]
        },
        {
          "output_type": "stream",
          "name": "stdout",
          "text": [
            "\n",
            "      Epoch    GPU_mem   box_loss   seg_loss   cls_loss   dfl_loss  Instances       Size\n"
          ]
        },
        {
          "output_type": "stream",
          "name": "stderr",
          "text": [
            "     66/100      12.8G      0.912      1.913     0.5672      1.313         30        640: 100%|██████████| 18/18 [00:18<00:00,  1.03s/it]\n",
            "                 Class     Images  Instances      Box(P          R      mAP50  mAP50-95)     Mask(P          R      mAP50  mAP50-95): 100%|██████████| 2/2 [00:01<00:00,  1.32it/s]"
          ]
        },
        {
          "output_type": "stream",
          "name": "stdout",
          "text": [
            "                   all         56        112      0.973      0.991      0.982      0.732      0.938      0.955      0.959      0.535\n"
          ]
        },
        {
          "output_type": "stream",
          "name": "stderr",
          "text": [
            "\n"
          ]
        },
        {
          "output_type": "stream",
          "name": "stdout",
          "text": [
            "\n",
            "      Epoch    GPU_mem   box_loss   seg_loss   cls_loss   dfl_loss  Instances       Size\n"
          ]
        },
        {
          "output_type": "stream",
          "name": "stderr",
          "text": [
            "     67/100      12.7G     0.9123      1.976     0.5503      1.337         28        640: 100%|██████████| 18/18 [00:18<00:00,  1.03s/it]\n",
            "                 Class     Images  Instances      Box(P          R      mAP50  mAP50-95)     Mask(P          R      mAP50  mAP50-95): 100%|██████████| 2/2 [00:01<00:00,  1.28it/s]"
          ]
        },
        {
          "output_type": "stream",
          "name": "stdout",
          "text": [
            "                   all         56        112      0.994          1      0.995      0.744      0.958      0.964      0.968      0.558\n"
          ]
        },
        {
          "output_type": "stream",
          "name": "stderr",
          "text": [
            "\n"
          ]
        },
        {
          "output_type": "stream",
          "name": "stdout",
          "text": [
            "\n",
            "      Epoch    GPU_mem   box_loss   seg_loss   cls_loss   dfl_loss  Instances       Size\n"
          ]
        },
        {
          "output_type": "stream",
          "name": "stderr",
          "text": [
            "     68/100      12.7G     0.9239      1.911     0.5503      1.334         44        640: 100%|██████████| 18/18 [00:18<00:00,  1.04s/it]\n",
            "                 Class     Images  Instances      Box(P          R      mAP50  mAP50-95)     Mask(P          R      mAP50  mAP50-95): 100%|██████████| 2/2 [00:01<00:00,  1.32it/s]"
          ]
        },
        {
          "output_type": "stream",
          "name": "stdout",
          "text": [
            "                   all         56        112      0.995          1      0.995      0.757      0.959      0.964      0.966      0.556\n"
          ]
        },
        {
          "output_type": "stream",
          "name": "stderr",
          "text": [
            "\n"
          ]
        },
        {
          "output_type": "stream",
          "name": "stdout",
          "text": [
            "\n",
            "      Epoch    GPU_mem   box_loss   seg_loss   cls_loss   dfl_loss  Instances       Size\n"
          ]
        },
        {
          "output_type": "stream",
          "name": "stderr",
          "text": [
            "     69/100      12.7G      0.932      1.975     0.5665      1.323         43        640: 100%|██████████| 18/18 [00:19<00:00,  1.07s/it]\n",
            "                 Class     Images  Instances      Box(P          R      mAP50  mAP50-95)     Mask(P          R      mAP50  mAP50-95): 100%|██████████| 2/2 [00:01<00:00,  1.34it/s]"
          ]
        },
        {
          "output_type": "stream",
          "name": "stdout",
          "text": [
            "                   all         56        112      0.981      0.982      0.988      0.727      0.928      0.929      0.933      0.488\n"
          ]
        },
        {
          "output_type": "stream",
          "name": "stderr",
          "text": [
            "\n"
          ]
        },
        {
          "output_type": "stream",
          "name": "stdout",
          "text": [
            "\n",
            "      Epoch    GPU_mem   box_loss   seg_loss   cls_loss   dfl_loss  Instances       Size\n"
          ]
        },
        {
          "output_type": "stream",
          "name": "stderr",
          "text": [
            "     70/100      12.7G     0.9068      1.984      0.553      1.323         34        640: 100%|██████████| 18/18 [00:18<00:00,  1.04s/it]\n",
            "                 Class     Images  Instances      Box(P          R      mAP50  mAP50-95)     Mask(P          R      mAP50  mAP50-95): 100%|██████████| 2/2 [00:01<00:00,  1.33it/s]"
          ]
        },
        {
          "output_type": "stream",
          "name": "stdout",
          "text": [
            "                   all         56        112      0.995          1      0.995       0.77      0.969      0.973      0.973      0.561\n"
          ]
        },
        {
          "output_type": "stream",
          "name": "stderr",
          "text": [
            "\n"
          ]
        },
        {
          "output_type": "stream",
          "name": "stdout",
          "text": [
            "\n",
            "      Epoch    GPU_mem   box_loss   seg_loss   cls_loss   dfl_loss  Instances       Size\n"
          ]
        },
        {
          "output_type": "stream",
          "name": "stderr",
          "text": [
            "     71/100      12.7G     0.9169       1.98     0.5457      1.311         34        640: 100%|██████████| 18/18 [00:18<00:00,  1.03s/it]\n",
            "                 Class     Images  Instances      Box(P          R      mAP50  mAP50-95)     Mask(P          R      mAP50  mAP50-95): 100%|██████████| 2/2 [00:01<00:00,  1.32it/s]"
          ]
        },
        {
          "output_type": "stream",
          "name": "stdout",
          "text": [
            "                   all         56        112      0.993          1      0.995      0.745      0.975      0.982      0.983       0.53\n"
          ]
        },
        {
          "output_type": "stream",
          "name": "stderr",
          "text": [
            "\n"
          ]
        },
        {
          "output_type": "stream",
          "name": "stdout",
          "text": [
            "\n",
            "      Epoch    GPU_mem   box_loss   seg_loss   cls_loss   dfl_loss  Instances       Size\n"
          ]
        },
        {
          "output_type": "stream",
          "name": "stderr",
          "text": [
            "     72/100      12.8G     0.8846      1.928      0.532      1.309         44        640: 100%|██████████| 18/18 [00:18<00:00,  1.05s/it]\n",
            "                 Class     Images  Instances      Box(P          R      mAP50  mAP50-95)     Mask(P          R      mAP50  mAP50-95): 100%|██████████| 2/2 [00:01<00:00,  1.24it/s]"
          ]
        },
        {
          "output_type": "stream",
          "name": "stdout",
          "text": [
            "                   all         56        112      0.994          1      0.995      0.735      0.959      0.964      0.969      0.534\n"
          ]
        },
        {
          "output_type": "stream",
          "name": "stderr",
          "text": [
            "\n"
          ]
        },
        {
          "output_type": "stream",
          "name": "stdout",
          "text": [
            "\n",
            "      Epoch    GPU_mem   box_loss   seg_loss   cls_loss   dfl_loss  Instances       Size\n"
          ]
        },
        {
          "output_type": "stream",
          "name": "stderr",
          "text": [
            "     73/100      12.7G     0.9301      1.916     0.5273      1.296         34        640: 100%|██████████| 18/18 [00:19<00:00,  1.06s/it]\n",
            "                 Class     Images  Instances      Box(P          R      mAP50  mAP50-95)     Mask(P          R      mAP50  mAP50-95): 100%|██████████| 2/2 [00:01<00:00,  1.18it/s]"
          ]
        },
        {
          "output_type": "stream",
          "name": "stdout",
          "text": [
            "                   all         56        112      0.996          1      0.995      0.754       0.96      0.964      0.971       0.55\n"
          ]
        },
        {
          "output_type": "stream",
          "name": "stderr",
          "text": [
            "\n"
          ]
        },
        {
          "output_type": "stream",
          "name": "stdout",
          "text": [
            "\n",
            "      Epoch    GPU_mem   box_loss   seg_loss   cls_loss   dfl_loss  Instances       Size\n"
          ]
        },
        {
          "output_type": "stream",
          "name": "stderr",
          "text": [
            "     74/100      12.8G     0.8668      1.839     0.4974      1.268         38        640: 100%|██████████| 18/18 [00:18<00:00,  1.03s/it]\n",
            "                 Class     Images  Instances      Box(P          R      mAP50  mAP50-95)     Mask(P          R      mAP50  mAP50-95): 100%|██████████| 2/2 [00:01<00:00,  1.34it/s]"
          ]
        },
        {
          "output_type": "stream",
          "name": "stdout",
          "text": [
            "                   all         56        112      0.995          1      0.995      0.769       0.96      0.964      0.972      0.582\n"
          ]
        },
        {
          "output_type": "stream",
          "name": "stderr",
          "text": [
            "\n"
          ]
        },
        {
          "output_type": "stream",
          "name": "stdout",
          "text": [
            "\n",
            "      Epoch    GPU_mem   box_loss   seg_loss   cls_loss   dfl_loss  Instances       Size\n"
          ]
        },
        {
          "output_type": "stream",
          "name": "stderr",
          "text": [
            "     75/100      12.7G     0.9024      1.917     0.5056      1.294         24        640: 100%|██████████| 18/18 [00:18<00:00,  1.04s/it]\n",
            "                 Class     Images  Instances      Box(P          R      mAP50  mAP50-95)     Mask(P          R      mAP50  mAP50-95): 100%|██████████| 2/2 [00:01<00:00,  1.21it/s]"
          ]
        },
        {
          "output_type": "stream",
          "name": "stdout",
          "text": [
            "                   all         56        112      0.995          1      0.995      0.759      0.959      0.964      0.973      0.576\n"
          ]
        },
        {
          "output_type": "stream",
          "name": "stderr",
          "text": [
            "\n"
          ]
        },
        {
          "output_type": "stream",
          "name": "stdout",
          "text": [
            "\n",
            "      Epoch    GPU_mem   box_loss   seg_loss   cls_loss   dfl_loss  Instances       Size\n"
          ]
        },
        {
          "output_type": "stream",
          "name": "stderr",
          "text": [
            "     76/100      12.8G     0.8971      1.878     0.5213       1.29         42        640: 100%|██████████| 18/18 [00:19<00:00,  1.10s/it]\n",
            "                 Class     Images  Instances      Box(P          R      mAP50  mAP50-95)     Mask(P          R      mAP50  mAP50-95): 100%|██████████| 2/2 [00:01<00:00,  1.15it/s]"
          ]
        },
        {
          "output_type": "stream",
          "name": "stdout",
          "text": [
            "                   all         56        112      0.995          1      0.995      0.771      0.969      0.973       0.98      0.579\n"
          ]
        },
        {
          "output_type": "stream",
          "name": "stderr",
          "text": [
            "\n"
          ]
        },
        {
          "output_type": "stream",
          "name": "stdout",
          "text": [
            "\n",
            "      Epoch    GPU_mem   box_loss   seg_loss   cls_loss   dfl_loss  Instances       Size\n"
          ]
        },
        {
          "output_type": "stream",
          "name": "stderr",
          "text": [
            "     77/100      12.7G     0.8425      1.829     0.5001      1.289         40        640: 100%|██████████| 18/18 [00:18<00:00,  1.03s/it]\n",
            "                 Class     Images  Instances      Box(P          R      mAP50  mAP50-95)     Mask(P          R      mAP50  mAP50-95): 100%|██████████| 2/2 [00:01<00:00,  1.33it/s]"
          ]
        },
        {
          "output_type": "stream",
          "name": "stdout",
          "text": [
            "                   all         56        112      0.995          1      0.995      0.772      0.959      0.964      0.971      0.581\n"
          ]
        },
        {
          "output_type": "stream",
          "name": "stderr",
          "text": [
            "\n"
          ]
        },
        {
          "output_type": "stream",
          "name": "stdout",
          "text": [
            "\n",
            "      Epoch    GPU_mem   box_loss   seg_loss   cls_loss   dfl_loss  Instances       Size\n"
          ]
        },
        {
          "output_type": "stream",
          "name": "stderr",
          "text": [
            "     78/100      12.8G     0.8637      1.885      0.498       1.28         41        640: 100%|██████████| 18/18 [00:18<00:00,  1.04s/it]\n",
            "                 Class     Images  Instances      Box(P          R      mAP50  mAP50-95)     Mask(P          R      mAP50  mAP50-95): 100%|██████████| 2/2 [00:01<00:00,  1.33it/s]"
          ]
        },
        {
          "output_type": "stream",
          "name": "stdout",
          "text": [
            "                   all         56        112      0.995          1      0.995      0.785       0.96      0.964      0.977      0.596\n"
          ]
        },
        {
          "output_type": "stream",
          "name": "stderr",
          "text": [
            "\n"
          ]
        },
        {
          "output_type": "stream",
          "name": "stdout",
          "text": [
            "\n",
            "      Epoch    GPU_mem   box_loss   seg_loss   cls_loss   dfl_loss  Instances       Size\n"
          ]
        },
        {
          "output_type": "stream",
          "name": "stderr",
          "text": [
            "     79/100      12.7G     0.8688      1.847     0.5194      1.288         34        640: 100%|██████████| 18/18 [00:18<00:00,  1.05s/it]\n",
            "                 Class     Images  Instances      Box(P          R      mAP50  mAP50-95)     Mask(P          R      mAP50  mAP50-95): 100%|██████████| 2/2 [00:01<00:00,  1.15it/s]"
          ]
        },
        {
          "output_type": "stream",
          "name": "stdout",
          "text": [
            "                   all         56        112      0.996          1      0.995      0.772       0.96      0.964      0.976      0.572\n"
          ]
        },
        {
          "output_type": "stream",
          "name": "stderr",
          "text": [
            "\n"
          ]
        },
        {
          "output_type": "stream",
          "name": "stdout",
          "text": [
            "\n",
            "      Epoch    GPU_mem   box_loss   seg_loss   cls_loss   dfl_loss  Instances       Size\n"
          ]
        },
        {
          "output_type": "stream",
          "name": "stderr",
          "text": [
            "     80/100      12.8G     0.8522      1.815     0.5019      1.279         25        640: 100%|██████████| 18/18 [00:19<00:00,  1.06s/it]\n",
            "                 Class     Images  Instances      Box(P          R      mAP50  mAP50-95)     Mask(P          R      mAP50  mAP50-95): 100%|██████████| 2/2 [00:01<00:00,  1.16it/s]"
          ]
        },
        {
          "output_type": "stream",
          "name": "stdout",
          "text": [
            "                   all         56        112      0.997          1      0.995      0.777       0.97      0.973      0.981      0.593\n"
          ]
        },
        {
          "output_type": "stream",
          "name": "stderr",
          "text": [
            "\n"
          ]
        },
        {
          "output_type": "stream",
          "name": "stdout",
          "text": [
            "\n",
            "      Epoch    GPU_mem   box_loss   seg_loss   cls_loss   dfl_loss  Instances       Size\n"
          ]
        },
        {
          "output_type": "stream",
          "name": "stderr",
          "text": [
            "     81/100      12.7G     0.8408      1.809     0.5098      1.274         29        640: 100%|██████████| 18/18 [00:18<00:00,  1.03s/it]\n",
            "                 Class     Images  Instances      Box(P          R      mAP50  mAP50-95)     Mask(P          R      mAP50  mAP50-95): 100%|██████████| 2/2 [00:01<00:00,  1.36it/s]"
          ]
        },
        {
          "output_type": "stream",
          "name": "stdout",
          "text": [
            "                   all         56        112      0.997          1      0.995      0.775      0.943      0.946      0.962      0.582\n"
          ]
        },
        {
          "output_type": "stream",
          "name": "stderr",
          "text": [
            "\n"
          ]
        },
        {
          "output_type": "stream",
          "name": "stdout",
          "text": [
            "\n",
            "      Epoch    GPU_mem   box_loss   seg_loss   cls_loss   dfl_loss  Instances       Size\n"
          ]
        },
        {
          "output_type": "stream",
          "name": "stderr",
          "text": [
            "     82/100      12.8G     0.8673       1.84     0.4913      1.266         36        640: 100%|██████████| 18/18 [00:18<00:00,  1.03s/it]\n",
            "                 Class     Images  Instances      Box(P          R      mAP50  mAP50-95)     Mask(P          R      mAP50  mAP50-95): 100%|██████████| 2/2 [00:01<00:00,  1.34it/s]"
          ]
        },
        {
          "output_type": "stream",
          "name": "stdout",
          "text": [
            "                   all         56        112      0.995          1      0.995      0.744       0.96      0.964      0.971      0.535\n"
          ]
        },
        {
          "output_type": "stream",
          "name": "stderr",
          "text": [
            "\n"
          ]
        },
        {
          "output_type": "stream",
          "name": "stdout",
          "text": [
            "\n",
            "      Epoch    GPU_mem   box_loss   seg_loss   cls_loss   dfl_loss  Instances       Size\n"
          ]
        },
        {
          "output_type": "stream",
          "name": "stderr",
          "text": [
            "     83/100      12.7G     0.8388      1.784     0.4809      1.256         34        640: 100%|██████████| 18/18 [00:18<00:00,  1.05s/it]\n",
            "                 Class     Images  Instances      Box(P          R      mAP50  mAP50-95)     Mask(P          R      mAP50  mAP50-95): 100%|██████████| 2/2 [00:01<00:00,  1.14it/s]"
          ]
        },
        {
          "output_type": "stream",
          "name": "stdout",
          "text": [
            "                   all         56        112      0.996          1      0.995      0.782      0.978      0.982      0.982      0.583\n"
          ]
        },
        {
          "output_type": "stream",
          "name": "stderr",
          "text": [
            "\n"
          ]
        },
        {
          "output_type": "stream",
          "name": "stdout",
          "text": [
            "\n",
            "      Epoch    GPU_mem   box_loss   seg_loss   cls_loss   dfl_loss  Instances       Size\n"
          ]
        },
        {
          "output_type": "stream",
          "name": "stderr",
          "text": [
            "     84/100      12.7G     0.8575      1.821     0.4789      1.281         43        640: 100%|██████████| 18/18 [00:18<00:00,  1.03s/it]\n",
            "                 Class     Images  Instances      Box(P          R      mAP50  mAP50-95)     Mask(P          R      mAP50  mAP50-95): 100%|██████████| 2/2 [00:01<00:00,  1.31it/s]"
          ]
        },
        {
          "output_type": "stream",
          "name": "stdout",
          "text": [
            "                   all         56        112      0.996          1      0.995      0.769      0.979      0.982      0.984      0.573\n"
          ]
        },
        {
          "output_type": "stream",
          "name": "stderr",
          "text": [
            "\n"
          ]
        },
        {
          "output_type": "stream",
          "name": "stdout",
          "text": [
            "\n",
            "      Epoch    GPU_mem   box_loss   seg_loss   cls_loss   dfl_loss  Instances       Size\n"
          ]
        },
        {
          "output_type": "stream",
          "name": "stderr",
          "text": [
            "     85/100      12.7G     0.8303      1.758     0.4779      1.245         30        640: 100%|██████████| 18/18 [00:18<00:00,  1.04s/it]\n",
            "                 Class     Images  Instances      Box(P          R      mAP50  mAP50-95)     Mask(P          R      mAP50  mAP50-95): 100%|██████████| 2/2 [00:01<00:00,  1.32it/s]"
          ]
        },
        {
          "output_type": "stream",
          "name": "stdout",
          "text": [
            "                   all         56        112      0.996          1      0.995      0.769       0.96      0.964      0.973      0.575\n"
          ]
        },
        {
          "output_type": "stream",
          "name": "stderr",
          "text": [
            "\n"
          ]
        },
        {
          "output_type": "stream",
          "name": "stdout",
          "text": [
            "\n",
            "      Epoch    GPU_mem   box_loss   seg_loss   cls_loss   dfl_loss  Instances       Size\n"
          ]
        },
        {
          "output_type": "stream",
          "name": "stderr",
          "text": [
            "     86/100      12.7G     0.8651       1.83     0.4819      1.276         28        640: 100%|██████████| 18/18 [00:18<00:00,  1.05s/it]\n",
            "                 Class     Images  Instances      Box(P          R      mAP50  mAP50-95)     Mask(P          R      mAP50  mAP50-95): 100%|██████████| 2/2 [00:01<00:00,  1.17it/s]"
          ]
        },
        {
          "output_type": "stream",
          "name": "stdout",
          "text": [
            "                   all         56        112      0.996          1      0.995      0.769      0.969      0.973      0.981      0.574\n"
          ]
        },
        {
          "output_type": "stream",
          "name": "stderr",
          "text": [
            "\n"
          ]
        },
        {
          "output_type": "stream",
          "name": "stdout",
          "text": [
            "\n",
            "      Epoch    GPU_mem   box_loss   seg_loss   cls_loss   dfl_loss  Instances       Size\n"
          ]
        },
        {
          "output_type": "stream",
          "name": "stderr",
          "text": [
            "     87/100      12.7G     0.8304      1.822     0.4814      1.253         37        640: 100%|██████████| 18/18 [00:18<00:00,  1.04s/it]\n",
            "                 Class     Images  Instances      Box(P          R      mAP50  mAP50-95)     Mask(P          R      mAP50  mAP50-95): 100%|██████████| 2/2 [00:01<00:00,  1.19it/s]"
          ]
        },
        {
          "output_type": "stream",
          "name": "stdout",
          "text": [
            "                   all         56        112      0.996          1      0.995      0.778      0.961      0.964      0.976      0.606\n"
          ]
        },
        {
          "output_type": "stream",
          "name": "stderr",
          "text": [
            "\n"
          ]
        },
        {
          "output_type": "stream",
          "name": "stdout",
          "text": [
            "\n",
            "      Epoch    GPU_mem   box_loss   seg_loss   cls_loss   dfl_loss  Instances       Size\n"
          ]
        },
        {
          "output_type": "stream",
          "name": "stderr",
          "text": [
            "     88/100      12.7G     0.8124      1.739     0.4846      1.271         24        640: 100%|██████████| 18/18 [00:18<00:00,  1.04s/it]\n",
            "                 Class     Images  Instances      Box(P          R      mAP50  mAP50-95)     Mask(P          R      mAP50  mAP50-95): 100%|██████████| 2/2 [00:01<00:00,  1.28it/s]"
          ]
        },
        {
          "output_type": "stream",
          "name": "stdout",
          "text": [
            "                   all         56        112      0.996          1      0.995      0.788       0.96      0.964      0.976      0.595\n"
          ]
        },
        {
          "output_type": "stream",
          "name": "stderr",
          "text": [
            "\n"
          ]
        },
        {
          "output_type": "stream",
          "name": "stdout",
          "text": [
            "\n",
            "      Epoch    GPU_mem   box_loss   seg_loss   cls_loss   dfl_loss  Instances       Size\n"
          ]
        },
        {
          "output_type": "stream",
          "name": "stderr",
          "text": [
            "     89/100      12.7G     0.8378      1.811     0.5022      1.278         29        640: 100%|██████████| 18/18 [00:18<00:00,  1.05s/it]\n",
            "                 Class     Images  Instances      Box(P          R      mAP50  mAP50-95)     Mask(P          R      mAP50  mAP50-95): 100%|██████████| 2/2 [00:01<00:00,  1.25it/s]"
          ]
        },
        {
          "output_type": "stream",
          "name": "stdout",
          "text": [
            "                   all         56        112      0.996          1      0.995      0.795       0.97      0.973      0.979      0.597\n"
          ]
        },
        {
          "output_type": "stream",
          "name": "stderr",
          "text": [
            "\n"
          ]
        },
        {
          "output_type": "stream",
          "name": "stdout",
          "text": [
            "\n",
            "      Epoch    GPU_mem   box_loss   seg_loss   cls_loss   dfl_loss  Instances       Size\n"
          ]
        },
        {
          "output_type": "stream",
          "name": "stderr",
          "text": [
            "     90/100      12.7G     0.8214      1.808     0.4876      1.264         36        640: 100%|██████████| 18/18 [00:18<00:00,  1.05s/it]\n",
            "                 Class     Images  Instances      Box(P          R      mAP50  mAP50-95)     Mask(P          R      mAP50  mAP50-95): 100%|██████████| 2/2 [00:01<00:00,  1.32it/s]"
          ]
        },
        {
          "output_type": "stream",
          "name": "stdout",
          "text": [
            "                   all         56        112      0.996          1      0.995      0.796       0.96      0.964      0.969      0.591\n"
          ]
        },
        {
          "output_type": "stream",
          "name": "stderr",
          "text": [
            "\n"
          ]
        },
        {
          "output_type": "stream",
          "name": "stdout",
          "text": [
            "Closing dataloader mosaic\n",
            "\u001b[34m\u001b[1malbumentations: \u001b[0mBlur(p=0.01, blur_limit=(3, 7)), MedianBlur(p=0.01, blur_limit=(3, 7)), ToGray(p=0.01, num_output_channels=3, method='weighted_average'), CLAHE(p=0.01, clip_limit=(1, 4.0), tile_grid_size=(8, 8))\n",
            "\n",
            "      Epoch    GPU_mem   box_loss   seg_loss   cls_loss   dfl_loss  Instances       Size\n"
          ]
        },
        {
          "output_type": "stream",
          "name": "stderr",
          "text": [
            "     91/100      12.6G     0.7682      1.626     0.4035      1.374         16        640: 100%|██████████| 18/18 [00:20<00:00,  1.14s/it]\n",
            "                 Class     Images  Instances      Box(P          R      mAP50  mAP50-95)     Mask(P          R      mAP50  mAP50-95): 100%|██████████| 2/2 [00:01<00:00,  1.25it/s]"
          ]
        },
        {
          "output_type": "stream",
          "name": "stdout",
          "text": [
            "                   all         56        112      0.996          1      0.995      0.793       0.97      0.973      0.971      0.577\n"
          ]
        },
        {
          "output_type": "stream",
          "name": "stderr",
          "text": [
            "\n"
          ]
        },
        {
          "output_type": "stream",
          "name": "stdout",
          "text": [
            "\n",
            "      Epoch    GPU_mem   box_loss   seg_loss   cls_loss   dfl_loss  Instances       Size\n"
          ]
        },
        {
          "output_type": "stream",
          "name": "stderr",
          "text": [
            "     92/100      12.6G     0.7851      1.632     0.4095      1.397         16        640: 100%|██████████| 18/18 [00:18<00:00,  1.04s/it]\n",
            "                 Class     Images  Instances      Box(P          R      mAP50  mAP50-95)     Mask(P          R      mAP50  mAP50-95): 100%|██████████| 2/2 [00:01<00:00,  1.33it/s]"
          ]
        },
        {
          "output_type": "stream",
          "name": "stdout",
          "text": [
            "                   all         56        112      0.996          1      0.995      0.761      0.978      0.982      0.985      0.566\n"
          ]
        },
        {
          "output_type": "stream",
          "name": "stderr",
          "text": [
            "\n"
          ]
        },
        {
          "output_type": "stream",
          "name": "stdout",
          "text": [
            "\n",
            "      Epoch    GPU_mem   box_loss   seg_loss   cls_loss   dfl_loss  Instances       Size\n"
          ]
        },
        {
          "output_type": "stream",
          "name": "stderr",
          "text": [
            "     93/100      12.6G     0.7507      1.551     0.3888      1.351         16        640: 100%|██████████| 18/18 [00:18<00:00,  1.02s/it]\n",
            "                 Class     Images  Instances      Box(P          R      mAP50  mAP50-95)     Mask(P          R      mAP50  mAP50-95): 100%|██████████| 2/2 [00:01<00:00,  1.20it/s]"
          ]
        },
        {
          "output_type": "stream",
          "name": "stdout",
          "text": [
            "                   all         56        112      0.996          1      0.995        0.8      0.987      0.991      0.992      0.591\n"
          ]
        },
        {
          "output_type": "stream",
          "name": "stderr",
          "text": [
            "\n"
          ]
        },
        {
          "output_type": "stream",
          "name": "stdout",
          "text": [
            "\n",
            "      Epoch    GPU_mem   box_loss   seg_loss   cls_loss   dfl_loss  Instances       Size\n"
          ]
        },
        {
          "output_type": "stream",
          "name": "stderr",
          "text": [
            "     94/100      12.6G     0.7397      1.535      0.351      1.305         16        640: 100%|██████████| 18/18 [00:18<00:00,  1.02s/it]\n",
            "                 Class     Images  Instances      Box(P          R      mAP50  mAP50-95)     Mask(P          R      mAP50  mAP50-95): 100%|██████████| 2/2 [00:01<00:00,  1.32it/s]"
          ]
        },
        {
          "output_type": "stream",
          "name": "stdout",
          "text": [
            "                   all         56        112      0.996          1      0.995      0.792      0.987      0.991      0.991      0.578\n"
          ]
        },
        {
          "output_type": "stream",
          "name": "stderr",
          "text": [
            "\n"
          ]
        },
        {
          "output_type": "stream",
          "name": "stdout",
          "text": [
            "\n",
            "      Epoch    GPU_mem   box_loss   seg_loss   cls_loss   dfl_loss  Instances       Size\n"
          ]
        },
        {
          "output_type": "stream",
          "name": "stderr",
          "text": [
            "     95/100      12.6G     0.7427      1.566     0.3619      1.346         16        640: 100%|██████████| 18/18 [00:18<00:00,  1.03s/it]\n",
            "                 Class     Images  Instances      Box(P          R      mAP50  mAP50-95)     Mask(P          R      mAP50  mAP50-95): 100%|██████████| 2/2 [00:01<00:00,  1.25it/s]"
          ]
        },
        {
          "output_type": "stream",
          "name": "stdout",
          "text": [
            "                   all         56        112      0.996          1      0.995      0.786      0.987      0.991      0.991      0.588\n"
          ]
        },
        {
          "output_type": "stream",
          "name": "stderr",
          "text": [
            "\n"
          ]
        },
        {
          "output_type": "stream",
          "name": "stdout",
          "text": [
            "\n",
            "      Epoch    GPU_mem   box_loss   seg_loss   cls_loss   dfl_loss  Instances       Size\n"
          ]
        },
        {
          "output_type": "stream",
          "name": "stderr",
          "text": [
            "     96/100      12.6G     0.7408      1.579     0.3991      1.386         16        640: 100%|██████████| 18/18 [00:18<00:00,  1.04s/it]\n",
            "                 Class     Images  Instances      Box(P          R      mAP50  mAP50-95)     Mask(P          R      mAP50  mAP50-95): 100%|██████████| 2/2 [00:01<00:00,  1.17it/s]"
          ]
        },
        {
          "output_type": "stream",
          "name": "stdout",
          "text": [
            "                   all         56        112      0.996          1      0.995      0.798      0.969      0.973      0.977      0.605\n"
          ]
        },
        {
          "output_type": "stream",
          "name": "stderr",
          "text": [
            "\n"
          ]
        },
        {
          "output_type": "stream",
          "name": "stdout",
          "text": [
            "\n",
            "      Epoch    GPU_mem   box_loss   seg_loss   cls_loss   dfl_loss  Instances       Size\n"
          ]
        },
        {
          "output_type": "stream",
          "name": "stderr",
          "text": [
            "     97/100      12.6G     0.7092       1.53     0.3613      1.327         16        640: 100%|██████████| 18/18 [00:18<00:00,  1.03s/it]\n",
            "                 Class     Images  Instances      Box(P          R      mAP50  mAP50-95)     Mask(P          R      mAP50  mAP50-95): 100%|██████████| 2/2 [00:01<00:00,  1.32it/s]"
          ]
        },
        {
          "output_type": "stream",
          "name": "stdout",
          "text": [
            "                   all         56        112      0.996          1      0.995      0.793      0.969      0.973       0.98      0.608\n"
          ]
        },
        {
          "output_type": "stream",
          "name": "stderr",
          "text": [
            "\n"
          ]
        },
        {
          "output_type": "stream",
          "name": "stdout",
          "text": [
            "\n",
            "      Epoch    GPU_mem   box_loss   seg_loss   cls_loss   dfl_loss  Instances       Size\n"
          ]
        },
        {
          "output_type": "stream",
          "name": "stderr",
          "text": [
            "     98/100      12.6G     0.6972      1.483     0.3506      1.286         16        640: 100%|██████████| 18/18 [00:19<00:00,  1.07s/it]\n",
            "                 Class     Images  Instances      Box(P          R      mAP50  mAP50-95)     Mask(P          R      mAP50  mAP50-95): 100%|██████████| 2/2 [00:01<00:00,  1.13it/s]"
          ]
        },
        {
          "output_type": "stream",
          "name": "stdout",
          "text": [
            "                   all         56        112      0.996          1      0.995      0.801      0.979      0.982      0.986      0.608\n"
          ]
        },
        {
          "output_type": "stream",
          "name": "stderr",
          "text": [
            "\n"
          ]
        },
        {
          "output_type": "stream",
          "name": "stdout",
          "text": [
            "\n",
            "      Epoch    GPU_mem   box_loss   seg_loss   cls_loss   dfl_loss  Instances       Size\n"
          ]
        },
        {
          "output_type": "stream",
          "name": "stderr",
          "text": [
            "     99/100      12.6G     0.7067      1.518     0.3462      1.309         16        640: 100%|██████████| 18/18 [00:18<00:00,  1.03s/it]\n",
            "                 Class     Images  Instances      Box(P          R      mAP50  mAP50-95)     Mask(P          R      mAP50  mAP50-95): 100%|██████████| 2/2 [00:01<00:00,  1.16it/s]"
          ]
        },
        {
          "output_type": "stream",
          "name": "stdout",
          "text": [
            "                   all         56        112      0.997          1      0.995      0.797       0.97      0.973       0.98      0.612\n"
          ]
        },
        {
          "output_type": "stream",
          "name": "stderr",
          "text": [
            "\n"
          ]
        },
        {
          "output_type": "stream",
          "name": "stdout",
          "text": [
            "\n",
            "      Epoch    GPU_mem   box_loss   seg_loss   cls_loss   dfl_loss  Instances       Size\n"
          ]
        },
        {
          "output_type": "stream",
          "name": "stderr",
          "text": [
            "    100/100      12.6G     0.7019       1.49     0.3461      1.306         16        640: 100%|██████████| 18/18 [00:18<00:00,  1.02s/it]\n",
            "                 Class     Images  Instances      Box(P          R      mAP50  mAP50-95)     Mask(P          R      mAP50  mAP50-95): 100%|██████████| 2/2 [00:01<00:00,  1.35it/s]"
          ]
        },
        {
          "output_type": "stream",
          "name": "stdout",
          "text": [
            "                   all         56        112      0.996          1      0.995       0.79       0.97      0.973       0.98      0.608\n"
          ]
        },
        {
          "output_type": "stream",
          "name": "stderr",
          "text": [
            "\n"
          ]
        },
        {
          "output_type": "stream",
          "name": "stdout",
          "text": [
            "\n",
            "100 epochs completed in 0.656 hours.\n",
            "Optimizer stripped from runs/segment/train/weights/last.pt, 56.2MB\n",
            "Optimizer stripped from runs/segment/train/weights/best.pt, 56.2MB\n",
            "\n",
            "Validating runs/segment/train/weights/best.pt...\n",
            "Ultralytics 8.3.24 🚀 Python-3.10.12 torch-2.5.0+cu121 CUDA:0 (Tesla T4, 15102MiB)\n",
            "YOLOv9c-seg summary (fused): 411 layers, 27,626,070 parameters, 0 gradients, 157.6 GFLOPs\n"
          ]
        },
        {
          "output_type": "stream",
          "name": "stderr",
          "text": [
            "                 Class     Images  Instances      Box(P          R      mAP50  mAP50-95)     Mask(P          R      mAP50  mAP50-95): 100%|██████████| 2/2 [00:02<00:00,  1.03s/it]\n"
          ]
        },
        {
          "output_type": "stream",
          "name": "stdout",
          "text": [
            "                   all         56        112      0.996          1      0.995      0.803      0.979      0.982      0.986      0.609\n",
            "                   cup         56         56      0.999          1      0.995      0.698      0.999          1      0.995      0.674\n",
            "                  disc         56         56      0.994          1      0.995      0.908      0.958      0.964      0.977      0.545\n",
            "Speed: 0.2ms preprocess, 21.8ms inference, 0.0ms loss, 1.7ms postprocess per image\n",
            "Results saved to \u001b[1mruns/segment/train\u001b[0m\n"
          ]
        }
      ]
    },
    {
      "cell_type": "code",
      "source": [
        "import shutil\n",
        "\n",
        "# Compress the 'runs' folder into a zip file\n",
        "shutil.make_archive('/content/M_G-DS-1-4', 'zip', '/content/M_G-DS-1-4')\n",
        "\n",
        "# Download the zip file\n",
        "from google.colab import files\n",
        "files.download('/content/M_G-DS-1-4.zip')"
      ],
      "metadata": {
        "colab": {
          "base_uri": "https://localhost:8080/",
          "height": 17
        },
        "id": "n18Lwkub1efU",
        "outputId": "7a816f83-b16e-4606-d557-46f79f7b7eef"
      },
      "execution_count": null,
      "outputs": [
        {
          "output_type": "display_data",
          "data": {
            "text/plain": [
              "<IPython.core.display.Javascript object>"
            ],
            "application/javascript": [
              "\n",
              "    async function download(id, filename, size) {\n",
              "      if (!google.colab.kernel.accessAllowed) {\n",
              "        return;\n",
              "      }\n",
              "      const div = document.createElement('div');\n",
              "      const label = document.createElement('label');\n",
              "      label.textContent = `Downloading \"${filename}\": `;\n",
              "      div.appendChild(label);\n",
              "      const progress = document.createElement('progress');\n",
              "      progress.max = size;\n",
              "      div.appendChild(progress);\n",
              "      document.body.appendChild(div);\n",
              "\n",
              "      const buffers = [];\n",
              "      let downloaded = 0;\n",
              "\n",
              "      const channel = await google.colab.kernel.comms.open(id);\n",
              "      // Send a message to notify the kernel that we're ready.\n",
              "      channel.send({})\n",
              "\n",
              "      for await (const message of channel.messages) {\n",
              "        // Send a message to notify the kernel that we're ready.\n",
              "        channel.send({})\n",
              "        if (message.buffers) {\n",
              "          for (const buffer of message.buffers) {\n",
              "            buffers.push(buffer);\n",
              "            downloaded += buffer.byteLength;\n",
              "            progress.value = downloaded;\n",
              "          }\n",
              "        }\n",
              "      }\n",
              "      const blob = new Blob(buffers, {type: 'application/binary'});\n",
              "      const a = document.createElement('a');\n",
              "      a.href = window.URL.createObjectURL(blob);\n",
              "      a.download = filename;\n",
              "      div.appendChild(a);\n",
              "      a.click();\n",
              "      div.remove();\n",
              "    }\n",
              "  "
            ]
          },
          "metadata": {}
        },
        {
          "output_type": "display_data",
          "data": {
            "text/plain": [
              "<IPython.core.display.Javascript object>"
            ],
            "application/javascript": [
              "download(\"download_6c44ff25-5417-462a-ab68-f5aa029a3c74\", \"M_G-DS-1-4.zip\", 16582057)"
            ]
          },
          "metadata": {}
        }
      ]
    },
    {
      "cell_type": "code",
      "source": [
        "model = YOLO('/content/segment/train/weights/best.pt')\n",
        "\n",
        "# Run inference with the YOLOv9c model on the 'bus.jpg' image\n",
        "results = model('/content/M_G-DS-1-4/test/images/074_jpg.rf.f548e0760b0d00e24e9010f89c88f2fe.jpg')\n"
      ],
      "metadata": {
        "colab": {
          "base_uri": "https://localhost:8080/"
        },
        "id": "s1nRcHs89w1l",
        "outputId": "d2009c29-6122-4324-aa39-2fdae88192c4"
      },
      "execution_count": null,
      "outputs": [
        {
          "output_type": "stream",
          "name": "stdout",
          "text": [
            "\n",
            "image 1/1 /content/M_G-DS-1-4/test/images/074_jpg.rf.f548e0760b0d00e24e9010f89c88f2fe.jpg: 640x640 1 cup, 1 disc, 62.2ms\n",
            "Speed: 5.5ms preprocess, 62.2ms inference, 735.3ms postprocess per image at shape (1, 3, 640, 640)\n"
          ]
        }
      ]
    },
    {
      "cell_type": "code",
      "source": [
        "# Function to combine cup and disc masks if necessary\n",
        "def ensure_full_disc_mask(cup_mask, disc_mask):\n",
        "    # Ensure the disc mask contains the cup area as well (if cup lies within disc)\n",
        "    combined_mask = cv2.bitwise_or(disc_mask, cup_mask)  # Combining cup and disc regions\n",
        "    return combined_mask\n",
        "\n",
        "# Results contain the predicted masks\n",
        "# For a segmentation task, 'masks' are stored in results.masks.data\n",
        "masks = results[0].masks  # Assuming single image in results\n",
        "\n",
        "# Check if masks exist in the results\n",
        "if masks is not None:\n",
        "    # Get the masks for cup and disc\n",
        "    # Convert the tensor mask to numpy arrays\n",
        "    mask_array = masks.data.cpu().numpy()  # Move masks to CPU and convert to numpy\n",
        "\n",
        "    # For demonstration, assuming mask 0 is for the cup and mask 1 is for the disc\n",
        "    cup_mask = mask_array[1]\n",
        "    disc_mask = mask_array[0]\n",
        "\n",
        "  # Ensure the disc mask fully includes the cup\n",
        "    disc_mask = ensure_full_disc_mask(cup_mask, disc_mask)\n",
        "    # Optionally, you can threshold the mask to make it binary (if needed)\n",
        "    # For binary masks, use a threshold (e.g., 0.5)\n",
        "    cup_mask_binary = (cup_mask > 0.5).astype('uint8')  # Convert to 0 or 1\n",
        "    disc_mask_binary = (disc_mask > 0.5).astype('uint8')  # Convert to 0 or 1\n",
        "\n",
        "    # Display the masks\n",
        "    plt.subplot(1, 2, 1)\n",
        "    plt.imshow(cup_mask_binary, cmap='gray')\n",
        "    plt.title(\"Cup Mask\")\n",
        "\n",
        "    plt.subplot(1, 2, 2)\n",
        "    plt.imshow(disc_mask_binary, cmap='gray')\n",
        "    plt.title(\"Disc Mask\")\n",
        "\n",
        "    plt.show()\n",
        "else:\n",
        "    print(\"No masks found in the results.\")\n",
        "\n",
        "\n",
        "# Display the image with predictions\n",
        "# Extract the annotated image with results\n",
        "annotated_img = results[0].plot()  # 'plot()' returns the image with annotations\n",
        "\n",
        "# Option 1: Display with Matplotlib (recommended for Colab)\n",
        "plt.imshow(annotated_img)\n",
        "plt.axis('off')  # Hide axis\n",
        "plt.show()\n"
      ],
      "metadata": {
        "colab": {
          "base_uri": "https://localhost:8080/",
          "height": 697
        },
        "id": "jBRuAvts__PF",
        "outputId": "f4a44d2d-3b72-4e24-84e9-fa4bd6a70ea6"
      },
      "execution_count": null,
      "outputs": [
        {
          "output_type": "display_data",
          "data": {
            "text/plain": [
              "<Figure size 640x480 with 2 Axes>"
            ],
            "image/png": "[encoded data removed]"
          },
          "metadata": {}
        },
        {
          "output_type": "display_data",
          "data": {
            "text/plain": [
              "<Figure size 640x480 with 1 Axes>"
            ],
            "image/png": "[encoded data removed]"
          },
          "metadata": {}
        }
      ]
    },
    {
      "cell_type": "code",
      "source": [
        "def calculate_diameters_and_area(mask):\n",
        "    # Find contours of the mask\n",
        "    contours, _ = cv2.findContours(mask, cv2.RETR_EXTERNAL, cv2.CHAIN_APPROX_SIMPLE)\n",
        "\n",
        "    if len(contours) == 0:\n",
        "        return None, None, None  # Return None if no contours found\n",
        "\n",
        "    # Get the largest contour (assuming it's the segmented object)\n",
        "    contour = max(contours, key=cv2.contourArea)\n",
        "\n",
        "    # Fit a bounding box to the contour\n",
        "    x, y, w, h = cv2.boundingRect(contour)\n",
        "\n",
        "    # Vertical and Horizontal diameters (height and width of the bounding box)\n",
        "    vertical_diameter = h\n",
        "    horizontal_diameter = w\n",
        "\n",
        "    # Calculate area of the segmented region\n",
        "    area = cv2.contourArea(contour)\n",
        "\n",
        "    return vertical_diameter, horizontal_diameter, area\n",
        "\n",
        "# Function to combine cup and disc masks if necessary\n",
        "def ensure_full_disc_mask(cup_mask, disc_mask):\n",
        "    # Ensure the disc mask contains the cup area as well (if cup lies within disc)\n",
        "    combined_mask = cv2.bitwise_or(disc_mask, cup_mask)  # Combining cup and disc regions\n",
        "    return combined_mask\n",
        "\n",
        "# Assuming cup_mask and disc_mask are your binary segmentation masks\n",
        "# (output from the model after segmentation)\n",
        "cup_mask = cup_mask_binary\n",
        "disc_mask = disc_mask_binary\n",
        "\n",
        "# Ensure the disc mask fully includes the cup\n",
        "adjusted_disc_mask = ensure_full_disc_mask(cup_mask, disc_mask)\n",
        "\n",
        "# Get the diameters and area for cup and disc\n",
        "cup_v_diameter, cup_h_diameter, cup_area = calculate_diameters_and_area(cup_mask)\n",
        "disc_v_diameter, disc_h_diameter, disc_area = calculate_diameters_and_area(adjusted_disc_mask)\n",
        "\n",
        "# Ensure valid results\n",
        "if cup_v_diameter and disc_v_diameter and cup_area and disc_area:\n",
        "    # Calculate VCDR, HCDR, and CDAR\n",
        "    VCDR = cup_v_diameter / (disc_v_diameter)\n",
        "    HCDR = cup_h_diameter / (disc_h_diameter)\n",
        "    CDAR = cup_area / (disc_area)\n",
        "\n",
        "    print(f\"VCDR: {VCDR}\")\n",
        "    print(f\"HCDR: {HCDR}\")\n",
        "    print(f\"CDAR: {CDAR}\")\n",
        "\n",
        "    # Now you can use these values as features for SVM\n",
        "    features = np.array([VCDR, HCDR, CDAR])\n",
        "\n",
        "    # Proceed with storing or using these features for your SVM model\n",
        "else:\n",
        "    print(\"Segmentation failed for either cup or disc.\")\n"
      ],
      "metadata": {
        "colab": {
          "base_uri": "https://localhost:8080/"
        },
        "id": "mrn2nab07e6Y",
        "outputId": "cead4cc3-514e-4c49-d2f8-ab27ff333032"
      },
      "execution_count": null,
      "outputs": [
        {
          "output_type": "stream",
          "name": "stdout",
          "text": [
            "VCDR: 0.4192139737991266\n",
            "HCDR: 0.5\n",
            "CDAR: 0.20325245224574084\n"
          ]
        }
      ]
    },
    {
      "cell_type": "code",
      "source": [
        "# Function to ensure the disc mask fully includes the cup\n",
        "def ensure_full_disc_mask(cup_mask, disc_mask):\n",
        "    combined_mask = cv2.bitwise_or(disc_mask, cup_mask)\n",
        "    return combined_mask\n",
        "\n",
        "# Function to calculate diameters and area from a mask\n",
        "def calculate_diameters_and_area(mask):\n",
        "    contours, _ = cv2.findContours(mask, cv2.RETR_EXTERNAL, cv2.CHAIN_APPROX_SIMPLE)\n",
        "\n",
        "    if len(contours) == 0:\n",
        "        return None, None, None\n",
        "\n",
        "    contour = max(contours, key=cv2.contourArea)\n",
        "\n",
        "    x, y, w, h = cv2.boundingRect(contour)\n",
        "    vertical_diameter = h\n",
        "    horizontal_diameter = w\n",
        "\n",
        "    area = cv2.contourArea(contour)\n",
        "\n",
        "    return vertical_diameter, horizontal_diameter, area\n",
        "\n",
        "# Load your YOLO model\n",
        "model = YOLO('/content/segment/train/weights/best.pt')\n",
        "\n",
        "# Path to your image folder\n",
        "image_folder = '/content/M_G-DS-1-4/train/images'\n",
        "\n",
        "# Get list of all images in the folder\n",
        "image_paths = glob.glob(os.path.join(image_folder, '*.jpg'))\n",
        "\n",
        "# Prepare a list to store the results\n",
        "results_list = []\n",
        "\n",
        "# Loop over all images\n",
        "for image_path in image_paths:\n",
        "    print(f\"Processing {image_path}\")\n",
        "    results = model(image_path)\n",
        "\n",
        "    # Get masks from the results\n",
        "    masks = results[0].masks\n",
        "\n",
        "    if masks is not None:\n",
        "        # Convert masks to NumPy arrays\n",
        "        mask_array = masks.data.cpu().numpy()\n",
        "\n",
        "        # Ensure at least two masks are detected (disc and cup)\n",
        "        if mask_array.shape[0] >= 2:\n",
        "            # Assuming mask_array[0] is disc and mask_array[1] is cup\n",
        "            disc_mask = mask_array[0]\n",
        "            cup_mask = mask_array[1]\n",
        "\n",
        "            # Threshold the masks to get binary values\n",
        "            cup_mask_binary = (cup_mask > 0.5).astype('uint8')\n",
        "            disc_mask_binary = (disc_mask > 0.5).astype('uint8')\n",
        "\n",
        "            # Ensure the disc mask fully includes the cup\n",
        "            adjusted_disc_mask = ensure_full_disc_mask(cup_mask_binary, disc_mask_binary)\n",
        "\n",
        "            # Calculate features\n",
        "            cup_v_diameter, cup_h_diameter, cup_area = calculate_diameters_and_area(cup_mask_binary)\n",
        "            disc_v_diameter, disc_h_diameter, disc_area = calculate_diameters_and_area(adjusted_disc_mask)\n",
        "\n",
        "            if None not in [cup_v_diameter, disc_v_diameter, cup_area, disc_area]:\n",
        "                VCDR = cup_v_diameter / disc_v_diameter\n",
        "                HCDR = cup_h_diameter / disc_h_diameter\n",
        "                CDAR = cup_area / disc_area\n",
        "\n",
        "                print(f\"VCDR: {VCDR}\")\n",
        "                print(f\"HCDR: {HCDR}\")\n",
        "                print(f\"CDAR: {CDAR}\")\n",
        "\n",
        "                # Append the results\n",
        "                results_list.append({\n",
        "                    'Image': os.path.basename(image_path),\n",
        "                    'VCDR': VCDR,\n",
        "                    'HCDR': HCDR,\n",
        "                    'CDAR': CDAR\n",
        "                })\n",
        "            else:\n",
        "                print(\"Segmentation failed for either cup or disc.\")\n",
        "        else:\n",
        "            print(f\"Not enough masks detected in {image_path}\")\n",
        "    else:\n",
        "        print(\"No masks found in the results.\")\n",
        "\n",
        "# Save the results to CSV\n",
        "df = pd.DataFrame(results_list)\n",
        "output_csv_path = '/content/train.csv'\n",
        "df.to_csv(output_csv_path, index=False)\n",
        "print(f\"Features saved to {output_csv_path}\")"
      ],
      "metadata": {
        "colab": {
          "base_uri": "https://localhost:8080/"
        },
        "id": "yi25X-wvNlpJ",
        "outputId": "d4d514a4-6cca-49cd-a839-e5b1e70bdfb2",
        "collapsed": true
      },
      "execution_count": null,
      "outputs": [
        {
          "output_type": "stream",
          "name": "stdout",
          "text": [
            "Processing /content/M_G-DS-1-4/train/images/076_g_jpg.rf.bf710094679793f97a177f907976e252.jpg\n",
            "\n",
            "image 1/1 /content/M_G-DS-1-4/train/images/076_g_jpg.rf.bf710094679793f97a177f907976e252.jpg: 640x640 1 cup, 1 disc, 62.3ms\n",
            "Speed: 2.1ms preprocess, 62.3ms inference, 3.2ms postprocess per image at shape (1, 3, 640, 640)\n",
            "VCDR: 0.6857142857142857\n",
            "HCDR: 0.7846153846153846\n",
            "CDAR: 0.5366249607605722\n",
            "Processing /content/M_G-DS-1-4/train/images/258_jpg.rf.11739a692001f24aed3ec30f720387f4.jpg\n",
            "\n",
            "image 1/1 /content/M_G-DS-1-4/train/images/258_jpg.rf.11739a692001f24aed3ec30f720387f4.jpg: 640x640 1 cup, 1 disc, 55.0ms\n",
            "Speed: 2.1ms preprocess, 55.0ms inference, 3.0ms postprocess per image at shape (1, 3, 640, 640)\n",
            "VCDR: 0.5666666666666667\n",
            "HCDR: 0.6181818181818182\n",
            "CDAR: 0.34722568734095105\n",
            "Processing /content/M_G-DS-1-4/train/images/drishtiGS_050_g_jpg.rf.46f219526eeabc79ca54da696270f305.jpg\n",
            "\n",
            "image 1/1 /content/M_G-DS-1-4/train/images/drishtiGS_050_g_jpg.rf.46f219526eeabc79ca54da696270f305.jpg: 640x640 1 cup, 1 disc, 35.4ms\n",
            "Speed: 2.1ms preprocess, 35.4ms inference, 1.9ms postprocess per image at shape (1, 3, 640, 640)\n",
            "VCDR: 0.7147335423197492\n",
            "HCDR: 0.6857142857142857\n",
            "CDAR: 0.49785018573225304\n",
            "Processing /content/M_G-DS-1-4/train/images/Im300_ACRIMA_jpg.rf.3b067068b153a64c06c12e36a81307f8.jpg\n",
            "\n",
            "image 1/1 /content/M_G-DS-1-4/train/images/Im300_ACRIMA_jpg.rf.3b067068b153a64c06c12e36a81307f8.jpg: 640x640 1 cup, 1 disc, 35.4ms\n",
            "Speed: 1.4ms preprocess, 35.4ms inference, 2.3ms postprocess per image at shape (1, 3, 640, 640)\n",
            "VCDR: 0.45454545454545453\n",
            "HCDR: 0.5393258426966292\n",
            "CDAR: 0.22536056214748995\n",
            "Processing /content/M_G-DS-1-4/train/images/Im670_g_ACRIMA_jpg.rf.f7259faa9b4e7c511ade52c3cf0ba6e8.jpg\n",
            "\n",
            "image 1/1 /content/M_G-DS-1-4/train/images/Im670_g_ACRIMA_jpg.rf.f7259faa9b4e7c511ade52c3cf0ba6e8.jpg: 640x640 1 cup, 1 disc, 35.6ms\n",
            "Speed: 1.3ms preprocess, 35.6ms inference, 1.9ms postprocess per image at shape (1, 3, 640, 640)\n",
            "VCDR: 0.7070707070707071\n",
            "HCDR: 0.711340206185567\n",
            "CDAR: 0.5047575511309765\n",
            "Processing /content/M_G-DS-1-4/train/images/drishtiGS_052_g_jpg.rf.7b1b3a6c515c01626027096f663df70c.jpg\n",
            "\n",
            "image 1/1 /content/M_G-DS-1-4/train/images/drishtiGS_052_g_jpg.rf.7b1b3a6c515c01626027096f663df70c.jpg: 640x640 1 cup, 1 disc, 33.7ms\n",
            "Speed: 1.4ms preprocess, 33.7ms inference, 1.9ms postprocess per image at shape (1, 3, 640, 640)\n",
            "VCDR: 0.6736842105263158\n",
            "HCDR: 0.6703296703296703\n",
            "CDAR: 0.48862477021518674\n",
            "Processing /content/M_G-DS-1-4/train/images/400_jpg.rf.58880c5e5a45d836c112d52beab6d0c3.jpg\n",
            "\n",
            "image 1/1 /content/M_G-DS-1-4/train/images/400_jpg.rf.58880c5e5a45d836c112d52beab6d0c3.jpg: 640x640 1 cup, 1 disc, 32.9ms\n",
            "Speed: 1.9ms preprocess, 32.9ms inference, 1.9ms postprocess per image at shape (1, 3, 640, 640)\n",
            "VCDR: 0.5\n",
            "HCDR: 0.5737704918032787\n",
            "CDAR: 0.2939268867924528\n",
            "Processing /content/M_G-DS-1-4/train/images/drishtiGS_065_g_jpg.rf.b8797d5ba4538e39b2028a669f86899b.jpg\n",
            "\n",
            "image 1/1 /content/M_G-DS-1-4/train/images/drishtiGS_065_g_jpg.rf.b8797d5ba4538e39b2028a669f86899b.jpg: 640x640 1 cup, 1 disc, 31.4ms\n",
            "Speed: 1.4ms preprocess, 31.4ms inference, 1.8ms postprocess per image at shape (1, 3, 640, 640)\n",
            "VCDR: 0.7777777777777778\n",
            "HCDR: 0.75\n",
            "CDAR: 0.5836019316775035\n",
            "Processing /content/M_G-DS-1-4/train/images/Im600_g_ACRIMA_jpg.rf.5e3da440d311e92cc913b8c230cac3e2.jpg\n",
            "\n",
            "image 1/1 /content/M_G-DS-1-4/train/images/Im600_g_ACRIMA_jpg.rf.5e3da440d311e92cc913b8c230cac3e2.jpg: 640x640 1 cup, 1 disc, 33.0ms\n",
            "Speed: 1.8ms preprocess, 33.0ms inference, 1.7ms postprocess per image at shape (1, 3, 640, 640)\n",
            "VCDR: 0.5825242718446602\n",
            "HCDR: 0.6224489795918368\n",
            "CDAR: 0.38187662660825156\n",
            "Processing /content/M_G-DS-1-4/train/images/Im091_ACRIMA_jpg.rf.76dc34248cabeebac223d4a872dd9b78.jpg\n",
            "\n",
            "image 1/1 /content/M_G-DS-1-4/train/images/Im091_ACRIMA_jpg.rf.76dc34248cabeebac223d4a872dd9b78.jpg: 640x640 1 cup, 1 disc, 33.4ms\n",
            "Speed: 1.9ms preprocess, 33.4ms inference, 1.8ms postprocess per image at shape (1, 3, 640, 640)\n",
            "VCDR: 0.43333333333333335\n",
            "HCDR: 0.5666666666666667\n",
            "CDAR: 0.2491906030993979\n",
            "Processing /content/M_G-DS-1-4/train/images/SHMC_114_g_jpg.rf.594a620350c702a0bb9aeba03ada5833.jpg\n",
            "\n",
            "image 1/1 /content/M_G-DS-1-4/train/images/SHMC_114_g_jpg.rf.594a620350c702a0bb9aeba03ada5833.jpg: 640x640 1 cup, 1 disc, 32.3ms\n",
            "Speed: 1.4ms preprocess, 32.3ms inference, 1.9ms postprocess per image at shape (1, 3, 640, 640)\n",
            "VCDR: 0.6818181818181818\n",
            "HCDR: 0.6607142857142857\n",
            "CDAR: 0.4856206516417602\n",
            "Processing /content/M_G-DS-1-4/train/images/571_g_jpg.rf.096fa10c70d1faa0058494a5e2da9d0d.jpg\n",
            "\n",
            "image 1/1 /content/M_G-DS-1-4/train/images/571_g_jpg.rf.096fa10c70d1faa0058494a5e2da9d0d.jpg: 640x640 1 cup, 1 disc, 31.7ms\n",
            "Speed: 1.8ms preprocess, 31.7ms inference, 2.4ms postprocess per image at shape (1, 3, 640, 640)\n",
            "VCDR: 0.7916666666666666\n",
            "HCDR: 0.7692307692307693\n",
            "CDAR: 0.615036208485099\n",
            "Processing /content/M_G-DS-1-4/train/images/drishtiGS_081_g_jpg.rf.1c7d21097a1226be8c82d1f0b2f1a94f.jpg\n",
            "\n",
            "image 1/1 /content/M_G-DS-1-4/train/images/drishtiGS_081_g_jpg.rf.1c7d21097a1226be8c82d1f0b2f1a94f.jpg: 640x640 1 cup, 1 disc, 32.4ms\n",
            "Speed: 1.9ms preprocess, 32.4ms inference, 2.2ms postprocess per image at shape (1, 3, 640, 640)\n",
            "VCDR: 0.7228915662650602\n",
            "HCDR: 0.6775244299674267\n",
            "CDAR: 0.5210305448983658\n",
            "Processing /content/M_G-DS-1-4/train/images/SHMC_82_jpg.rf.befccf01bf6a9363cc242acb72b13745.jpg\n",
            "\n",
            "image 1/1 /content/M_G-DS-1-4/train/images/SHMC_82_jpg.rf.befccf01bf6a9363cc242acb72b13745.jpg: 640x640 1 cup, 1 disc, 31.2ms\n",
            "Speed: 1.5ms preprocess, 31.2ms inference, 2.4ms postprocess per image at shape (1, 3, 640, 640)\n",
            "VCDR: 0.6534653465346535\n",
            "HCDR: 0.6746987951807228\n",
            "CDAR: 0.45861695434785693\n",
            "Processing /content/M_G-DS-1-4/train/images/drishtiGS_041_jpg.rf.007f9f869b3166817639a6ffe4a6867b.jpg\n",
            "\n",
            "image 1/1 /content/M_G-DS-1-4/train/images/drishtiGS_041_jpg.rf.007f9f869b3166817639a6ffe4a6867b.jpg: 640x640 1 cup, 1 disc, 31.7ms\n",
            "Speed: 1.7ms preprocess, 31.7ms inference, 2.4ms postprocess per image at shape (1, 3, 640, 640)\n",
            "VCDR: 0.6\n",
            "HCDR: 0.5777777777777777\n",
            "CDAR: 0.33714933634369887\n",
            "Processing /content/M_G-DS-1-4/train/images/179_jpg.rf.3c872b80cdd216367fd9542058376ad3.jpg\n",
            "\n",
            "image 1/1 /content/M_G-DS-1-4/train/images/179_jpg.rf.3c872b80cdd216367fd9542058376ad3.jpg: 640x640 1 cup, 1 disc, 32.5ms\n",
            "Speed: 1.5ms preprocess, 32.5ms inference, 2.3ms postprocess per image at shape (1, 3, 640, 640)\n",
            "VCDR: 0.4827586206896552\n",
            "HCDR: 0.5263157894736842\n",
            "CDAR: 0.2676487949461839\n",
            "Processing /content/M_G-DS-1-4/train/images/SHMC_142_jpg.rf.c0380ad86a343811c57660990682a92c.jpg\n",
            "\n",
            "image 1/1 /content/M_G-DS-1-4/train/images/SHMC_142_jpg.rf.c0380ad86a343811c57660990682a92c.jpg: 640x640 1 cup, 1 disc, 33.6ms\n",
            "Speed: 1.8ms preprocess, 33.6ms inference, 2.3ms postprocess per image at shape (1, 3, 640, 640)\n",
            "VCDR: 0.632183908045977\n",
            "HCDR: 0.6292134831460674\n",
            "CDAR: 0.4238202032733693\n",
            "Processing /content/M_G-DS-1-4/train/images/277_g_jpg.rf.3c3e9183fd941d6cd00461d18db16df4.jpg\n",
            "\n",
            "image 1/1 /content/M_G-DS-1-4/train/images/277_g_jpg.rf.3c3e9183fd941d6cd00461d18db16df4.jpg: 640x640 1 cup, 1 disc, 32.5ms\n",
            "Speed: 1.5ms preprocess, 32.5ms inference, 2.0ms postprocess per image at shape (1, 3, 640, 640)\n",
            "VCDR: 0.6428571428571429\n",
            "HCDR: 0.6833333333333333\n",
            "CDAR: 0.4476068268868971\n",
            "Processing /content/M_G-DS-1-4/train/images/drishtiGS_039_g_jpg.rf.a4a79e7d666ca6b7edcdd7a834cff58e.jpg\n",
            "\n",
            "image 1/1 /content/M_G-DS-1-4/train/images/drishtiGS_039_g_jpg.rf.a4a79e7d666ca6b7edcdd7a834cff58e.jpg: 640x640 1 cup, 1 disc, 30.9ms\n",
            "Speed: 2.0ms preprocess, 30.9ms inference, 1.9ms postprocess per image at shape (1, 3, 640, 640)\n",
            "VCDR: 0.6435643564356436\n",
            "HCDR: 0.7073170731707317\n",
            "CDAR: 0.47441769953894974\n",
            "Processing /content/M_G-DS-1-4/train/images/Im211_ACRIMA_jpg.rf.2c2343d0983f34570782fe38922f4731.jpg\n",
            "\n",
            "image 1/1 /content/M_G-DS-1-4/train/images/Im211_ACRIMA_jpg.rf.2c2343d0983f34570782fe38922f4731.jpg: 640x640 1 cup, 1 disc, 31.7ms\n",
            "Speed: 1.7ms preprocess, 31.7ms inference, 2.0ms postprocess per image at shape (1, 3, 640, 640)\n",
            "VCDR: 0.59\n",
            "HCDR: 0.5824175824175825\n",
            "CDAR: 0.35165477161056297\n",
            "Processing /content/M_G-DS-1-4/train/images/drishtiGS_046_jpg.rf.f2d379915c738da2c7e6e3ca70b451ed.jpg\n",
            "\n",
            "image 1/1 /content/M_G-DS-1-4/train/images/drishtiGS_046_jpg.rf.f2d379915c738da2c7e6e3ca70b451ed.jpg: 640x640 1 cup, 1 disc, 31.9ms\n",
            "Speed: 1.5ms preprocess, 31.9ms inference, 1.8ms postprocess per image at shape (1, 3, 640, 640)\n",
            "VCDR: 0.5121951219512195\n",
            "HCDR: 0.5263157894736842\n",
            "CDAR: 0.27781969791919786\n",
            "Processing /content/M_G-DS-1-4/train/images/269_g_jpg.rf.f10cb8cee7ea4bed8641577538945846.jpg\n",
            "\n",
            "image 1/1 /content/M_G-DS-1-4/train/images/269_g_jpg.rf.f10cb8cee7ea4bed8641577538945846.jpg: 640x640 1 cup, 1 disc, 32.5ms\n",
            "Speed: 1.5ms preprocess, 32.5ms inference, 1.8ms postprocess per image at shape (1, 3, 640, 640)\n",
            "VCDR: 0.7121212121212122\n",
            "HCDR: 0.7878787878787878\n",
            "CDAR: 0.5763927852024908\n",
            "Processing /content/M_G-DS-1-4/train/images/Im482_g_ACRIMA_jpg.rf.0047e5ea25ab709a688f0c51a7cd87d7.jpg\n",
            "\n",
            "image 1/1 /content/M_G-DS-1-4/train/images/Im482_g_ACRIMA_jpg.rf.0047e5ea25ab709a688f0c51a7cd87d7.jpg: 640x640 1 cup, 1 disc, 32.7ms\n",
            "Speed: 1.5ms preprocess, 32.7ms inference, 1.9ms postprocess per image at shape (1, 3, 640, 640)\n",
            "VCDR: 0.7012987012987013\n",
            "HCDR: 0.6781609195402298\n",
            "CDAR: 0.49196045021478796\n",
            "Processing /content/M_G-DS-1-4/train/images/SHMC_123_jpg.rf.6289cddbc913b5cef71f4bc7921f91ce.jpg\n",
            "\n",
            "image 1/1 /content/M_G-DS-1-4/train/images/SHMC_123_jpg.rf.6289cddbc913b5cef71f4bc7921f91ce.jpg: 640x640 1 cup, 1 disc, 31.7ms\n",
            "Speed: 1.4ms preprocess, 31.7ms inference, 1.8ms postprocess per image at shape (1, 3, 640, 640)\n",
            "VCDR: 0.5865384615384616\n",
            "HCDR: 0.6160714285714286\n",
            "CDAR: 0.374351172675971\n",
            "Processing /content/M_G-DS-1-4/train/images/SHMC_144_jpg.rf.2c9655a208d47de2133174e5b4405125.jpg\n",
            "\n",
            "image 1/1 /content/M_G-DS-1-4/train/images/SHMC_144_jpg.rf.2c9655a208d47de2133174e5b4405125.jpg: 640x640 1 cup, 1 disc, 31.8ms\n",
            "Speed: 1.4ms preprocess, 31.8ms inference, 1.7ms postprocess per image at shape (1, 3, 640, 640)\n",
            "VCDR: 0.7008547008547008\n",
            "HCDR: 0.7383177570093458\n",
            "CDAR: 0.5172250968973183\n",
            "Processing /content/M_G-DS-1-4/train/images/Im210_ACRIMA_jpg.rf.21adf4c6611df303ff955be38f3b3c89.jpg\n",
            "\n",
            "image 1/1 /content/M_G-DS-1-4/train/images/Im210_ACRIMA_jpg.rf.21adf4c6611df303ff955be38f3b3c89.jpg: 640x640 1 cup, 1 disc, 32.2ms\n",
            "Speed: 1.9ms preprocess, 32.2ms inference, 2.2ms postprocess per image at shape (1, 3, 640, 640)\n",
            "VCDR: 0.3883495145631068\n",
            "HCDR: 0.47\n",
            "CDAR: 0.18724269174820157\n",
            "Processing /content/M_G-DS-1-4/train/images/338_jpg.rf.2d24a8130ee2fa8e82078d8ca7d4b9e1.jpg\n",
            "\n",
            "image 1/1 /content/M_G-DS-1-4/train/images/338_jpg.rf.2d24a8130ee2fa8e82078d8ca7d4b9e1.jpg: 640x640 1 cup, 1 disc, 31.0ms\n",
            "Speed: 2.5ms preprocess, 31.0ms inference, 1.7ms postprocess per image at shape (1, 3, 640, 640)\n",
            "VCDR: 0.6363636363636364\n",
            "HCDR: 0.6140350877192983\n",
            "CDAR: 0.3993172217840822\n",
            "Processing /content/M_G-DS-1-4/train/images/Im590_g_ACRIMA_jpg.rf.dfc83301f4cb366af64b3d25bbfcf536.jpg\n",
            "\n",
            "image 1/1 /content/M_G-DS-1-4/train/images/Im590_g_ACRIMA_jpg.rf.dfc83301f4cb366af64b3d25bbfcf536.jpg: 640x640 1 cup, 1 disc, 31.7ms\n",
            "Speed: 1.4ms preprocess, 31.7ms inference, 1.7ms postprocess per image at shape (1, 3, 640, 640)\n",
            "VCDR: 0.7215189873417721\n",
            "HCDR: 0.7349397590361446\n",
            "CDAR: 0.5289758231077634\n",
            "Processing /content/M_G-DS-1-4/train/images/drishtiGS_058_g_jpg.rf.f5aa601a626647824b25aa6345e67da3.jpg\n",
            "\n",
            "image 1/1 /content/M_G-DS-1-4/train/images/drishtiGS_058_g_jpg.rf.f5aa601a626647824b25aa6345e67da3.jpg: 640x640 1 cup, 1 disc, 32.1ms\n",
            "Speed: 1.8ms preprocess, 32.1ms inference, 1.9ms postprocess per image at shape (1, 3, 640, 640)\n",
            "VCDR: 0.8148148148148148\n",
            "HCDR: 0.7567567567567568\n",
            "CDAR: 0.6044345898004435\n",
            "Processing /content/M_G-DS-1-4/train/images/093_g_jpg.rf.dfb0b95ab26d659c48faa8b5b83dc97a.jpg\n",
            "\n",
            "image 1/1 /content/M_G-DS-1-4/train/images/093_g_jpg.rf.dfb0b95ab26d659c48faa8b5b83dc97a.jpg: 640x640 1 cup, 1 disc, 31.5ms\n",
            "Speed: 1.6ms preprocess, 31.5ms inference, 2.0ms postprocess per image at shape (1, 3, 640, 640)\n",
            "VCDR: 0.7419354838709677\n",
            "HCDR: 0.7368421052631579\n",
            "CDAR: 0.54048933761523\n",
            "Processing /content/M_G-DS-1-4/train/images/Im656_g_ACRIMA_jpg.rf.1aeceb646ad4c343503234b5b30329a9.jpg\n",
            "\n",
            "image 1/1 /content/M_G-DS-1-4/train/images/Im656_g_ACRIMA_jpg.rf.1aeceb646ad4c343503234b5b30329a9.jpg: 640x640 1 cup, 1 disc, 32.2ms\n",
            "Speed: 1.5ms preprocess, 32.2ms inference, 1.8ms postprocess per image at shape (1, 3, 640, 640)\n",
            "VCDR: 0.6451612903225806\n",
            "HCDR: 0.6852941176470588\n",
            "CDAR: 0.456857923085047\n",
            "Processing /content/M_G-DS-1-4/train/images/SHMC_116_g_jpg.rf.dcf95c5c62bf5c26a0c814a5a2aba62e.jpg\n",
            "\n",
            "image 1/1 /content/M_G-DS-1-4/train/images/SHMC_116_g_jpg.rf.dcf95c5c62bf5c26a0c814a5a2aba62e.jpg: 640x640 1 cup, 1 disc, 32.3ms\n",
            "Speed: 1.4ms preprocess, 32.3ms inference, 2.4ms postprocess per image at shape (1, 3, 640, 640)\n",
            "VCDR: 0.6929824561403509\n",
            "HCDR: 0.7281553398058253\n",
            "CDAR: 0.4961309259094548\n",
            "Processing /content/M_G-DS-1-4/train/images/Im550_g_ACRIMA_jpg.rf.fbcd7860fdbb2e371ffe3bb3c350b1e6.jpg\n",
            "\n",
            "image 1/1 /content/M_G-DS-1-4/train/images/Im550_g_ACRIMA_jpg.rf.fbcd7860fdbb2e371ffe3bb3c350b1e6.jpg: 640x640 1 cup, 1 disc, 32.1ms\n",
            "Speed: 1.5ms preprocess, 32.1ms inference, 2.4ms postprocess per image at shape (1, 3, 640, 640)\n",
            "VCDR: 0.6333333333333333\n",
            "HCDR: 0.7216494845360825\n",
            "CDAR: 0.4644407206569594\n",
            "Processing /content/M_G-DS-1-4/train/images/062_jpg.rf.de6989ebd7ce5b2cc6c9f9688eb5d640.jpg\n",
            "\n",
            "image 1/1 /content/M_G-DS-1-4/train/images/062_jpg.rf.de6989ebd7ce5b2cc6c9f9688eb5d640.jpg: 640x640 1 cup, 1 disc, 31.6ms\n",
            "Speed: 1.9ms preprocess, 31.6ms inference, 2.2ms postprocess per image at shape (1, 3, 640, 640)\n",
            "VCDR: 0.4107142857142857\n",
            "HCDR: 0.509090909090909\n",
            "CDAR: 0.21441888538662732\n",
            "Processing /content/M_G-DS-1-4/train/images/SHMC_91_g_jpg.rf.3b6eb41f5a0a95f17d656914c7b9eed9.jpg\n",
            "\n",
            "image 1/1 /content/M_G-DS-1-4/train/images/SHMC_91_g_jpg.rf.3b6eb41f5a0a95f17d656914c7b9eed9.jpg: 640x640 1 cup, 1 disc, 30.8ms\n",
            "Speed: 1.6ms preprocess, 30.8ms inference, 2.7ms postprocess per image at shape (1, 3, 640, 640)\n",
            "VCDR: 0.5445544554455446\n",
            "HCDR: 0.6\n",
            "CDAR: 0.30616792064111525\n",
            "Processing /content/M_G-DS-1-4/train/images/110_g_jpg.rf.bc9d2ca31c5e0c4d583e231814ecbaa0.jpg\n",
            "\n",
            "image 1/1 /content/M_G-DS-1-4/train/images/110_g_jpg.rf.bc9d2ca31c5e0c4d583e231814ecbaa0.jpg: 640x640 1 cup, 1 disc, 32.1ms\n",
            "Speed: 2.1ms preprocess, 32.1ms inference, 2.8ms postprocess per image at shape (1, 3, 640, 640)\n",
            "VCDR: 0.5409836065573771\n",
            "HCDR: 0.5932203389830508\n",
            "CDAR: 0.3389297078391669\n",
            "Processing /content/M_G-DS-1-4/train/images/SHMC_26_g_jpg.rf.b14990f469063528c4920f555a9137e0.jpg\n",
            "\n",
            "image 1/1 /content/M_G-DS-1-4/train/images/SHMC_26_g_jpg.rf.b14990f469063528c4920f555a9137e0.jpg: 640x640 1 cup, 1 disc, 31.9ms\n",
            "Speed: 1.9ms preprocess, 31.9ms inference, 2.7ms postprocess per image at shape (1, 3, 640, 640)\n",
            "VCDR: 0.5643564356435643\n",
            "HCDR: 0.5876288659793815\n",
            "CDAR: 0.34055792266259344\n",
            "Processing /content/M_G-DS-1-4/train/images/289_g_jpg.rf.8c147f07f3de10fb171e9cf113d15807.jpg\n",
            "\n",
            "image 1/1 /content/M_G-DS-1-4/train/images/289_g_jpg.rf.8c147f07f3de10fb171e9cf113d15807.jpg: 640x640 1 cup, 1 disc, 32.6ms\n",
            "Speed: 1.6ms preprocess, 32.6ms inference, 2.2ms postprocess per image at shape (1, 3, 640, 640)\n",
            "VCDR: 0.6617647058823529\n",
            "HCDR: 0.6779661016949152\n",
            "CDAR: 0.4418555667001003\n",
            "Processing /content/M_G-DS-1-4/train/images/drishtiGS_066_g_jpg.rf.40521e65e78e4d60bb231fa0d0b32ee9.jpg\n",
            "\n",
            "image 1/1 /content/M_G-DS-1-4/train/images/drishtiGS_066_g_jpg.rf.40521e65e78e4d60bb231fa0d0b32ee9.jpg: 640x640 1 cup, 1 disc, 30.8ms\n",
            "Speed: 1.6ms preprocess, 30.8ms inference, 2.2ms postprocess per image at shape (1, 3, 640, 640)\n",
            "VCDR: 0.7093023255813954\n",
            "HCDR: 0.6216216216216216\n",
            "CDAR: 0.44059430437687114\n",
            "Processing /content/M_G-DS-1-4/train/images/drishtiGS_086_g_jpg.rf.01b2ca9f47eb8c60f98330a1bef90ccd.jpg\n",
            "\n",
            "image 1/1 /content/M_G-DS-1-4/train/images/drishtiGS_086_g_jpg.rf.01b2ca9f47eb8c60f98330a1bef90ccd.jpg: 640x640 1 cup, 1 disc, 32.3ms\n",
            "Speed: 1.5ms preprocess, 32.3ms inference, 1.9ms postprocess per image at shape (1, 3, 640, 640)\n",
            "VCDR: 0.8404255319148937\n",
            "HCDR: 0.8023255813953488\n",
            "CDAR: 0.6535915876335922\n",
            "Processing /content/M_G-DS-1-4/train/images/Im171_ACRIMA_jpg.rf.d45172a88ed82fdc4a0ea30a818ac558.jpg\n",
            "\n",
            "image 1/1 /content/M_G-DS-1-4/train/images/Im171_ACRIMA_jpg.rf.d45172a88ed82fdc4a0ea30a818ac558.jpg: 640x640 1 cup, 1 disc, 31.6ms\n",
            "Speed: 1.5ms preprocess, 31.6ms inference, 1.7ms postprocess per image at shape (1, 3, 640, 640)\n",
            "VCDR: 0.5283018867924528\n",
            "HCDR: 0.6\n",
            "CDAR: 0.3223139458500521\n",
            "Processing /content/M_G-DS-1-4/train/images/645_g_jpg.rf.18a96a30ec0f57d5c275e1beeaeb5ffa.jpg\n",
            "\n",
            "image 1/1 /content/M_G-DS-1-4/train/images/645_g_jpg.rf.18a96a30ec0f57d5c275e1beeaeb5ffa.jpg: 640x640 1 cup, 1 disc, 31.3ms\n",
            "Speed: 1.4ms preprocess, 31.3ms inference, 1.7ms postprocess per image at shape (1, 3, 640, 640)\n",
            "VCDR: 0.6494464944649446\n",
            "HCDR: 0.7205882352941176\n",
            "CDAR: 0.4737266378683397\n",
            "Processing /content/M_G-DS-1-4/train/images/SHMC_92_g_jpg.rf.1cd4e0a526ee29724506c5b94baa055d.jpg\n",
            "\n",
            "image 1/1 /content/M_G-DS-1-4/train/images/SHMC_92_g_jpg.rf.1cd4e0a526ee29724506c5b94baa055d.jpg: 640x640 1 cup, 1 disc, 32.2ms\n",
            "Speed: 1.4ms preprocess, 32.2ms inference, 1.7ms postprocess per image at shape (1, 3, 640, 640)\n",
            "VCDR: 0.6306306306306306\n",
            "HCDR: 0.6862745098039216\n",
            "CDAR: 0.42721974949356617\n",
            "Processing /content/M_G-DS-1-4/train/images/Im199_ACRIMA_jpg.rf.5bbed3c460951da192301321935023bb.jpg\n",
            "\n",
            "image 1/1 /content/M_G-DS-1-4/train/images/Im199_ACRIMA_jpg.rf.5bbed3c460951da192301321935023bb.jpg: 640x640 1 cup, 1 disc, 31.3ms\n",
            "Speed: 1.7ms preprocess, 31.3ms inference, 2.6ms postprocess per image at shape (1, 3, 640, 640)\n",
            "VCDR: 0.6185567010309279\n",
            "HCDR: 0.6\n",
            "CDAR: 0.38084716791565726\n",
            "Processing /content/M_G-DS-1-4/train/images/drishtiGS_090_jpg.rf.808866e838d15696c1fb48dfc2ae1a16.jpg\n",
            "\n",
            "image 1/1 /content/M_G-DS-1-4/train/images/drishtiGS_090_jpg.rf.808866e838d15696c1fb48dfc2ae1a16.jpg: 640x640 1 cup, 1 disc, 32.6ms\n",
            "Speed: 1.5ms preprocess, 32.6ms inference, 1.7ms postprocess per image at shape (1, 3, 640, 640)\n",
            "VCDR: 0.4318181818181818\n",
            "HCDR: 0.5375\n",
            "CDAR: 0.25655620815507696\n",
            "Processing /content/M_G-DS-1-4/train/images/Im261_ACRIMA_jpg.rf.7040b90e0d7a57943b1c3fb11a717418.jpg\n",
            "\n",
            "image 1/1 /content/M_G-DS-1-4/train/images/Im261_ACRIMA_jpg.rf.7040b90e0d7a57943b1c3fb11a717418.jpg: 640x640 1 cup, 1 disc, 31.4ms\n",
            "Speed: 1.4ms preprocess, 31.4ms inference, 3.4ms postprocess per image at shape (1, 3, 640, 640)\n",
            "VCDR: 0.4044943820224719\n",
            "HCDR: 0.5205479452054794\n",
            "CDAR: 0.21063059458273367\n",
            "Processing /content/M_G-DS-1-4/train/images/008_jpg.rf.5665f059b0f35966e827b1c04d760547.jpg\n",
            "\n",
            "image 1/1 /content/M_G-DS-1-4/train/images/008_jpg.rf.5665f059b0f35966e827b1c04d760547.jpg: 640x640 1 cup, 1 disc, 31.0ms\n",
            "Speed: 1.4ms preprocess, 31.0ms inference, 1.8ms postprocess per image at shape (1, 3, 640, 640)\n",
            "VCDR: 0.5901639344262295\n",
            "HCDR: 0.6896551724137931\n",
            "CDAR: 0.41114306422576047\n",
            "Processing /content/M_G-DS-1-4/train/images/drishtiGS_051_g_jpg.rf.6f751f63a9c586daa4a9f2462379c63d.jpg\n",
            "\n",
            "image 1/1 /content/M_G-DS-1-4/train/images/drishtiGS_051_g_jpg.rf.6f751f63a9c586daa4a9f2462379c63d.jpg: 640x640 1 cup, 1 disc, 32.1ms\n",
            "Speed: 1.4ms preprocess, 32.1ms inference, 1.9ms postprocess per image at shape (1, 3, 640, 640)\n",
            "VCDR: 0.694006309148265\n",
            "HCDR: 0.6956521739130435\n",
            "CDAR: 0.4841823645825698\n",
            "Processing /content/M_G-DS-1-4/train/images/023_jpg.rf.f3b3d88a815ca2c22f3a66c1dd9584db.jpg\n",
            "\n",
            "image 1/1 /content/M_G-DS-1-4/train/images/023_jpg.rf.f3b3d88a815ca2c22f3a66c1dd9584db.jpg: 640x640 1 cup, 1 disc, 31.8ms\n",
            "Speed: 1.5ms preprocess, 31.8ms inference, 1.9ms postprocess per image at shape (1, 3, 640, 640)\n",
            "VCDR: 0.5573770491803278\n",
            "HCDR: 0.6551724137931034\n",
            "CDAR: 0.35549014238773274\n",
            "Processing /content/M_G-DS-1-4/train/images/SHMC_105_g_jpg.rf.afdecf08e67f02ffe4690c5c29d2933d.jpg\n",
            "\n",
            "image 1/1 /content/M_G-DS-1-4/train/images/SHMC_105_g_jpg.rf.afdecf08e67f02ffe4690c5c29d2933d.jpg: 640x640 1 cup, 1 disc, 32.7ms\n",
            "Speed: 1.4ms preprocess, 32.7ms inference, 2.1ms postprocess per image at shape (1, 3, 640, 640)\n",
            "VCDR: 0.6947890818858561\n",
            "HCDR: 0.6923076923076923\n",
            "CDAR: 0.4833348907619564\n",
            "Processing /content/M_G-DS-1-4/train/images/SHMC_119_jpg.rf.7b4310da45650ddf88d3545efa0a3709.jpg\n",
            "\n",
            "image 1/1 /content/M_G-DS-1-4/train/images/SHMC_119_jpg.rf.7b4310da45650ddf88d3545efa0a3709.jpg: 640x640 1 cup, 1 disc, 35.1ms\n",
            "Speed: 2.8ms preprocess, 35.1ms inference, 2.1ms postprocess per image at shape (1, 3, 640, 640)\n",
            "VCDR: 0.5879518072289157\n",
            "HCDR: 0.6306306306306306\n",
            "CDAR: 0.37891259859379883\n",
            "Processing /content/M_G-DS-1-4/train/images/SHMC_22_g_jpg.rf.cd1cba43c1572c5389bcdbfc6baba2e1.jpg\n",
            "\n",
            "image 1/1 /content/M_G-DS-1-4/train/images/SHMC_22_g_jpg.rf.cd1cba43c1572c5389bcdbfc6baba2e1.jpg: 640x640 1 cup, 1 disc, 32.0ms\n",
            "Speed: 1.5ms preprocess, 32.0ms inference, 3.7ms postprocess per image at shape (1, 3, 640, 640)\n",
            "VCDR: 0.5523809523809524\n",
            "HCDR: 0.5918367346938775\n",
            "CDAR: 0.33373205741626794\n",
            "Processing /content/M_G-DS-1-4/train/images/Im612_g_ACRIMA_jpg.rf.1edcb8738029f78e8057fa86924f231d.jpg\n",
            "\n",
            "image 1/1 /content/M_G-DS-1-4/train/images/Im612_g_ACRIMA_jpg.rf.1edcb8738029f78e8057fa86924f231d.jpg: 640x640 1 cup, 1 disc, 31.3ms\n",
            "Speed: 1.8ms preprocess, 31.3ms inference, 2.4ms postprocess per image at shape (1, 3, 640, 640)\n",
            "VCDR: 0.6237623762376238\n",
            "HCDR: 0.66\n",
            "CDAR: 0.4299490731309839\n",
            "Processing /content/M_G-DS-1-4/train/images/Im193_ACRIMA_jpg.rf.47ce74a25f7fca89423397575af9eaec.jpg\n",
            "\n",
            "image 1/1 /content/M_G-DS-1-4/train/images/Im193_ACRIMA_jpg.rf.47ce74a25f7fca89423397575af9eaec.jpg: 640x640 1 cup, 1 disc, 32.2ms\n",
            "Speed: 1.5ms preprocess, 32.2ms inference, 2.2ms postprocess per image at shape (1, 3, 640, 640)\n",
            "VCDR: 0.48484848484848486\n",
            "HCDR: 0.4819277108433735\n",
            "CDAR: 0.23837819801960766\n",
            "Processing /content/M_G-DS-1-4/train/images/SHMC_145_g_jpg.rf.0de88f4a49f69b5ea094d1fbe2ab37d0.jpg\n",
            "\n",
            "image 1/1 /content/M_G-DS-1-4/train/images/SHMC_145_g_jpg.rf.0de88f4a49f69b5ea094d1fbe2ab37d0.jpg: 640x640 1 cup, 1 disc, 30.9ms\n",
            "Speed: 1.8ms preprocess, 30.9ms inference, 2.2ms postprocess per image at shape (1, 3, 640, 640)\n",
            "VCDR: 0.6486486486486487\n",
            "HCDR: 0.7431192660550459\n",
            "CDAR: 0.49542702735120764\n",
            "Processing /content/M_G-DS-1-4/train/images/550_g_jpg.rf.da63c8af360cd495a02b96b71e4eef03.jpg\n",
            "\n",
            "image 1/1 /content/M_G-DS-1-4/train/images/550_g_jpg.rf.da63c8af360cd495a02b96b71e4eef03.jpg: 640x640 1 cup, 1 disc, 33.0ms\n",
            "Speed: 1.5ms preprocess, 33.0ms inference, 2.6ms postprocess per image at shape (1, 3, 640, 640)\n",
            "VCDR: 0.6666666666666666\n",
            "HCDR: 0.6229508196721312\n",
            "CDAR: 0.4158780618743355\n",
            "Processing /content/M_G-DS-1-4/train/images/SHMC_90_g_jpg.rf.626d315b8b6f64ae94767d3d6db5d827.jpg\n",
            "\n",
            "image 1/1 /content/M_G-DS-1-4/train/images/SHMC_90_g_jpg.rf.626d315b8b6f64ae94767d3d6db5d827.jpg: 640x640 1 cup, 1 disc, 31.0ms\n",
            "Speed: 1.6ms preprocess, 31.0ms inference, 2.3ms postprocess per image at shape (1, 3, 640, 640)\n",
            "VCDR: 0.6021505376344086\n",
            "HCDR: 0.675\n",
            "CDAR: 0.3978617324766044\n",
            "Processing /content/M_G-DS-1-4/train/images/Im618_g_ACRIMA_jpg.rf.59583d041da2f2fbcb2aa31655bfe0ce.jpg\n",
            "\n",
            "image 1/1 /content/M_G-DS-1-4/train/images/Im618_g_ACRIMA_jpg.rf.59583d041da2f2fbcb2aa31655bfe0ce.jpg: 640x640 1 cup, 1 disc, 32.5ms\n",
            "Speed: 1.6ms preprocess, 32.5ms inference, 3.6ms postprocess per image at shape (1, 3, 640, 640)\n",
            "VCDR: 0.7319587628865979\n",
            "HCDR: 0.7142857142857143\n",
            "CDAR: 0.5765340906419413\n",
            "Processing /content/M_G-DS-1-4/train/images/207_jpg.rf.89acabeb331edcf8fd309a593489f807.jpg\n",
            "\n",
            "image 1/1 /content/M_G-DS-1-4/train/images/207_jpg.rf.89acabeb331edcf8fd309a593489f807.jpg: 640x640 1 cup, 1 disc, 31.2ms\n",
            "Speed: 1.8ms preprocess, 31.2ms inference, 1.9ms postprocess per image at shape (1, 3, 640, 640)\n",
            "VCDR: 0.5\n",
            "HCDR: 0.625\n",
            "CDAR: 0.32800588107166195\n",
            "Processing /content/M_G-DS-1-4/train/images/086_g_jpg.rf.3e960fda6f6014628bf60d18529129d1.jpg\n",
            "\n",
            "image 1/1 /content/M_G-DS-1-4/train/images/086_g_jpg.rf.3e960fda6f6014628bf60d18529129d1.jpg: 640x640 1 cup, 1 disc, 31.8ms\n",
            "Speed: 1.4ms preprocess, 31.8ms inference, 1.8ms postprocess per image at shape (1, 3, 640, 640)\n",
            "VCDR: 0.6774193548387096\n",
            "HCDR: 0.6727272727272727\n",
            "CDAR: 0.46864207848390627\n",
            "Processing /content/M_G-DS-1-4/train/images/053_jpg.rf.9e5603e2197585c13767a2fb3256d014.jpg\n",
            "\n",
            "image 1/1 /content/M_G-DS-1-4/train/images/053_jpg.rf.9e5603e2197585c13767a2fb3256d014.jpg: 640x640 1 cup, 1 disc, 31.6ms\n",
            "Speed: 1.5ms preprocess, 31.6ms inference, 1.8ms postprocess per image at shape (1, 3, 640, 640)\n",
            "VCDR: 0.5079365079365079\n",
            "HCDR: 0.6363636363636364\n",
            "CDAR: 0.3248546771864071\n",
            "Processing /content/M_G-DS-1-4/train/images/SHMC_99_g_jpg.rf.bfe29facebcc6a3d8a43c0992b4b81da.jpg\n",
            "\n",
            "image 1/1 /content/M_G-DS-1-4/train/images/SHMC_99_g_jpg.rf.bfe29facebcc6a3d8a43c0992b4b81da.jpg: 640x640 1 cup, 1 disc, 32.1ms\n",
            "Speed: 1.3ms preprocess, 32.1ms inference, 1.8ms postprocess per image at shape (1, 3, 640, 640)\n",
            "VCDR: 0.7156862745098039\n",
            "HCDR: 0.6818181818181818\n",
            "CDAR: 0.5238033438516216\n",
            "Processing /content/M_G-DS-1-4/train/images/drishtiGS_030_g_jpg.rf.c57610eee959caf23cd3b97357a0f629.jpg\n",
            "\n",
            "image 1/1 /content/M_G-DS-1-4/train/images/drishtiGS_030_g_jpg.rf.c57610eee959caf23cd3b97357a0f629.jpg: 640x640 1 cup, 1 disc, 31.8ms\n",
            "Speed: 1.4ms preprocess, 31.8ms inference, 1.7ms postprocess per image at shape (1, 3, 640, 640)\n",
            "VCDR: 0.6966292134831461\n",
            "HCDR: 0.6875\n",
            "CDAR: 0.5014724537876042\n",
            "Processing /content/M_G-DS-1-4/train/images/drishtiGS_045_g_jpg.rf.9e1138ac847028c47389d3f32d7aaca9.jpg\n",
            "\n",
            "image 1/1 /content/M_G-DS-1-4/train/images/drishtiGS_045_g_jpg.rf.9e1138ac847028c47389d3f32d7aaca9.jpg: 640x640 1 cup, 1 disc, 31.9ms\n",
            "Speed: 1.5ms preprocess, 31.9ms inference, 1.9ms postprocess per image at shape (1, 3, 640, 640)\n",
            "VCDR: 0.6538461538461539\n",
            "HCDR: 0.6710526315789473\n",
            "CDAR: 0.45560312925828833\n",
            "Processing /content/M_G-DS-1-4/train/images/012_jpg.rf.9fd8edaa09319854320e368cfec9f49c.jpg\n",
            "\n",
            "image 1/1 /content/M_G-DS-1-4/train/images/012_jpg.rf.9fd8edaa09319854320e368cfec9f49c.jpg: 640x640 1 cup, 1 disc, 32.1ms\n",
            "Speed: 1.5ms preprocess, 32.1ms inference, 2.5ms postprocess per image at shape (1, 3, 640, 640)\n",
            "VCDR: 0.4507042253521127\n",
            "HCDR: 0.5098039215686274\n",
            "CDAR: 0.23002075375221825\n",
            "Processing /content/M_G-DS-1-4/train/images/SHMC_46_jpg.rf.d04e749428d30cfd3273e92bcd4239bd.jpg\n",
            "\n",
            "image 1/1 /content/M_G-DS-1-4/train/images/SHMC_46_jpg.rf.d04e749428d30cfd3273e92bcd4239bd.jpg: 640x640 1 cup, 1 disc, 31.6ms\n",
            "Speed: 1.6ms preprocess, 31.6ms inference, 3.9ms postprocess per image at shape (1, 3, 640, 640)\n",
            "VCDR: 0.6262626262626263\n",
            "HCDR: 0.6145833333333334\n",
            "CDAR: 0.39623297050059475\n",
            "Processing /content/M_G-DS-1-4/train/images/SHMC_125_jpg.rf.e2b22b2f224e137dc276c3a843571bf3.jpg\n",
            "\n",
            "image 1/1 /content/M_G-DS-1-4/train/images/SHMC_125_jpg.rf.e2b22b2f224e137dc276c3a843571bf3.jpg: 640x640 1 cup, 1 disc, 34.8ms\n",
            "Speed: 2.1ms preprocess, 34.8ms inference, 3.4ms postprocess per image at shape (1, 3, 640, 640)\n",
            "VCDR: 0.6476190476190476\n",
            "HCDR: 0.6730769230769231\n",
            "CDAR: 0.44485672368005647\n",
            "Processing /content/M_G-DS-1-4/train/images/065_jpg.rf.01944046ab9991fc49a5f4c4b1ed8363.jpg\n",
            "\n",
            "image 1/1 /content/M_G-DS-1-4/train/images/065_jpg.rf.01944046ab9991fc49a5f4c4b1ed8363.jpg: 640x640 1 cup, 1 disc, 31.0ms\n",
            "Speed: 2.2ms preprocess, 31.0ms inference, 3.0ms postprocess per image at shape (1, 3, 640, 640)\n",
            "VCDR: 0.4406779661016949\n",
            "HCDR: 0.49572649572649574\n",
            "CDAR: 0.2229980205146662\n",
            "Processing /content/M_G-DS-1-4/train/images/SHMC_62_jpg.rf.485fe72cc608d1eb449e54f4fdadc387.jpg\n",
            "\n",
            "image 1/1 /content/M_G-DS-1-4/train/images/SHMC_62_jpg.rf.485fe72cc608d1eb449e54f4fdadc387.jpg: 640x640 1 cup, 1 disc, 31.4ms\n",
            "Speed: 1.9ms preprocess, 31.4ms inference, 2.4ms postprocess per image at shape (1, 3, 640, 640)\n",
            "VCDR: 0.5833333333333334\n",
            "HCDR: 0.6091954022988506\n",
            "CDAR: 0.3678241834540352\n",
            "Processing /content/M_G-DS-1-4/train/images/SHMC_50_jpg.rf.f6f4ee61f55b629f0499aea9b18b13bc.jpg\n",
            "\n",
            "image 1/1 /content/M_G-DS-1-4/train/images/SHMC_50_jpg.rf.f6f4ee61f55b629f0499aea9b18b13bc.jpg: 640x640 1 cup, 1 disc, 31.4ms\n",
            "Speed: 1.8ms preprocess, 31.4ms inference, 2.5ms postprocess per image at shape (1, 3, 640, 640)\n",
            "VCDR: 0.6276595744680851\n",
            "HCDR: 0.6\n",
            "CDAR: 0.39780426952397013\n",
            "Processing /content/M_G-DS-1-4/train/images/drishtiGS_044_g_jpg.rf.4c8a248402e3e09f6f0d4cf1941c8acc.jpg\n",
            "\n",
            "image 1/1 /content/M_G-DS-1-4/train/images/drishtiGS_044_g_jpg.rf.4c8a248402e3e09f6f0d4cf1941c8acc.jpg: 640x640 1 cup, 1 disc, 32.0ms\n",
            "Speed: 1.9ms preprocess, 32.0ms inference, 6.0ms postprocess per image at shape (1, 3, 640, 640)\n",
            "VCDR: 0.7558139534883721\n",
            "HCDR: 0.6666666666666666\n",
            "CDAR: 0.5151539708265802\n",
            "Processing /content/M_G-DS-1-4/train/images/drishtiGS_100_jpg.rf.abe5957969c0c655ccc8318bc34bdcf7.jpg\n",
            "\n",
            "image 1/1 /content/M_G-DS-1-4/train/images/drishtiGS_100_jpg.rf.abe5957969c0c655ccc8318bc34bdcf7.jpg: 640x640 1 cup, 1 disc, 36.0ms\n",
            "Speed: 1.9ms preprocess, 36.0ms inference, 2.8ms postprocess per image at shape (1, 3, 640, 640)\n",
            "VCDR: 0.40476190476190477\n",
            "HCDR: 0.45454545454545453\n",
            "CDAR: 0.19050772345817363\n",
            "Processing /content/M_G-DS-1-4/train/images/SHMC_86_jpg.rf.c295df4a64b6e7dc57cd32bfad45d502.jpg\n",
            "\n",
            "image 1/1 /content/M_G-DS-1-4/train/images/SHMC_86_jpg.rf.c295df4a64b6e7dc57cd32bfad45d502.jpg: 640x640 1 cup, 1 disc, 34.7ms\n",
            "Speed: 5.9ms preprocess, 34.7ms inference, 3.1ms postprocess per image at shape (1, 3, 640, 640)\n",
            "VCDR: 0.6881720430107527\n",
            "HCDR: 0.7021276595744681\n",
            "CDAR: 0.49291727101435523\n",
            "Processing /content/M_G-DS-1-4/train/images/drishtiGS_070_g_jpg.rf.7c22e83a46f7ae9a4a6363b508845cb0.jpg\n",
            "\n",
            "image 1/1 /content/M_G-DS-1-4/train/images/drishtiGS_070_g_jpg.rf.7c22e83a46f7ae9a4a6363b508845cb0.jpg: 640x640 1 cup, 1 disc, 30.6ms\n",
            "Speed: 2.1ms preprocess, 30.6ms inference, 2.7ms postprocess per image at shape (1, 3, 640, 640)\n",
            "VCDR: 0.8202247191011236\n",
            "HCDR: 0.6666666666666666\n",
            "CDAR: 0.5603289035582965\n",
            "Processing /content/M_G-DS-1-4/train/images/SHMC_71_jpg.rf.d4c2e14bb15bf282ec3e93c6d45c7ebf.jpg\n",
            "\n",
            "image 1/1 /content/M_G-DS-1-4/train/images/SHMC_71_jpg.rf.d4c2e14bb15bf282ec3e93c6d45c7ebf.jpg: 640x640 1 cup, 1 disc, 32.6ms\n",
            "Speed: 2.5ms preprocess, 32.6ms inference, 2.6ms postprocess per image at shape (1, 3, 640, 640)\n",
            "VCDR: 0.5102040816326531\n",
            "HCDR: 0.57\n",
            "CDAR: 0.29089433263263054\n",
            "Processing /content/M_G-DS-1-4/train/images/002_jpg.rf.1fb8853bfc18b937e2c2b83974ef59c5.jpg\n",
            "\n",
            "image 1/1 /content/M_G-DS-1-4/train/images/002_jpg.rf.1fb8853bfc18b937e2c2b83974ef59c5.jpg: 640x640 1 cup, 1 disc, 31.3ms\n",
            "Speed: 2.0ms preprocess, 31.3ms inference, 2.6ms postprocess per image at shape (1, 3, 640, 640)\n",
            "VCDR: 0.6575342465753424\n",
            "HCDR: 0.7017543859649122\n",
            "CDAR: 0.4436950340540898\n",
            "Processing /content/M_G-DS-1-4/train/images/056_jpg.rf.203d40819a2ee48c6e67c8aee6afbee2.jpg\n",
            "\n",
            "image 1/1 /content/M_G-DS-1-4/train/images/056_jpg.rf.203d40819a2ee48c6e67c8aee6afbee2.jpg: 640x640 1 cup, 1 disc, 32.7ms\n",
            "Speed: 1.9ms preprocess, 32.7ms inference, 3.4ms postprocess per image at shape (1, 3, 640, 640)\n",
            "VCDR: 0.5355648535564853\n",
            "HCDR: 0.5686274509803921\n",
            "CDAR: 0.2970937217370176\n",
            "Processing /content/M_G-DS-1-4/train/images/drishtiGS_072_jpg.rf.725a0d3bb8f38291f43294807a72e3f9.jpg\n",
            "\n",
            "image 1/1 /content/M_G-DS-1-4/train/images/drishtiGS_072_jpg.rf.725a0d3bb8f38291f43294807a72e3f9.jpg: 640x640 1 cup, 1 disc, 39.1ms\n",
            "Speed: 2.1ms preprocess, 39.1ms inference, 3.2ms postprocess per image at shape (1, 3, 640, 640)\n",
            "VCDR: 0.5402298850574713\n",
            "HCDR: 0.5375\n",
            "CDAR: 0.31494770525317767\n",
            "Processing /content/M_G-DS-1-4/train/images/646_g_jpg.rf.fb15da5be1462c50eb71235dd5731ab8.jpg\n",
            "\n",
            "image 1/1 /content/M_G-DS-1-4/train/images/646_g_jpg.rf.fb15da5be1462c50eb71235dd5731ab8.jpg: 640x640 1 cup, 1 disc, 37.5ms\n",
            "Speed: 2.0ms preprocess, 37.5ms inference, 3.3ms postprocess per image at shape (1, 3, 640, 640)\n",
            "VCDR: 0.6307692307692307\n",
            "HCDR: 0.6617647058823529\n",
            "CDAR: 0.42954945977616005\n",
            "Processing /content/M_G-DS-1-4/train/images/572_g_jpg.rf.da5cba4ca7af142ec79c9beb5f538f2d.jpg\n",
            "\n",
            "image 1/1 /content/M_G-DS-1-4/train/images/572_g_jpg.rf.da5cba4ca7af142ec79c9beb5f538f2d.jpg: 640x640 1 cup, 1 disc, 32.6ms\n",
            "Speed: 2.0ms preprocess, 32.6ms inference, 2.3ms postprocess per image at shape (1, 3, 640, 640)\n",
            "VCDR: 0.7681159420289855\n",
            "HCDR: 0.8648648648648649\n",
            "CDAR: 0.648041374366327\n",
            "Processing /content/M_G-DS-1-4/train/images/Im301_ACRIMA_jpg.rf.062034f5749e44cfff433fc0747b13af.jpg\n",
            "\n",
            "image 1/1 /content/M_G-DS-1-4/train/images/Im301_ACRIMA_jpg.rf.062034f5749e44cfff433fc0747b13af.jpg: 640x640 1 cup, 1 disc, 31.4ms\n",
            "Speed: 1.9ms preprocess, 31.4ms inference, 2.2ms postprocess per image at shape (1, 3, 640, 640)\n",
            "VCDR: 0.44680851063829785\n",
            "HCDR: 0.5333333333333333\n",
            "CDAR: 0.2347314958017746\n",
            "Processing /content/M_G-DS-1-4/train/images/SHMC_31_jpg.rf.0a6da33ee7e4b5204d2a0ead51e1810d.jpg\n",
            "\n",
            "image 1/1 /content/M_G-DS-1-4/train/images/SHMC_31_jpg.rf.0a6da33ee7e4b5204d2a0ead51e1810d.jpg: 640x640 1 cup, 1 disc, 32.1ms\n",
            "Speed: 1.9ms preprocess, 32.1ms inference, 2.3ms postprocess per image at shape (1, 3, 640, 640)\n",
            "VCDR: 0.5740740740740741\n",
            "HCDR: 0.5490196078431373\n",
            "CDAR: 0.3176274924394336\n",
            "Processing /content/M_G-DS-1-4/train/images/Im667_g_ACRIMA_jpg.rf.e3049e74ec42ab03d00313883714da78.jpg\n",
            "\n",
            "image 1/1 /content/M_G-DS-1-4/train/images/Im667_g_ACRIMA_jpg.rf.e3049e74ec42ab03d00313883714da78.jpg: 640x640 1 cup, 1 disc, 31.4ms\n",
            "Speed: 1.9ms preprocess, 31.4ms inference, 2.5ms postprocess per image at shape (1, 3, 640, 640)\n",
            "VCDR: 0.7111111111111111\n",
            "HCDR: 0.6818181818181818\n",
            "CDAR: 0.5254371625303413\n",
            "Processing /content/M_G-DS-1-4/train/images/Im192_ACRIMA_jpg.rf.9151d3b3bdbd86e94ab7f3719a32b795.jpg\n",
            "\n",
            "image 1/1 /content/M_G-DS-1-4/train/images/Im192_ACRIMA_jpg.rf.9151d3b3bdbd86e94ab7f3719a32b795.jpg: 640x640 1 cup, 1 disc, 31.7ms\n",
            "Speed: 2.2ms preprocess, 31.7ms inference, 4.3ms postprocess per image at shape (1, 3, 640, 640)\n",
            "VCDR: 0.4943820224719101\n",
            "HCDR: 0.5180722891566265\n",
            "CDAR: 0.2619097378812711\n",
            "Processing /content/M_G-DS-1-4/train/images/Im262_ACRIMA_jpg.rf.ff92af7da129f6955cd8d32df2c0a016.jpg\n",
            "\n",
            "image 1/1 /content/M_G-DS-1-4/train/images/Im262_ACRIMA_jpg.rf.ff92af7da129f6955cd8d32df2c0a016.jpg: 640x640 1 cup, 1 disc, 30.6ms\n",
            "Speed: 1.9ms preprocess, 30.6ms inference, 2.3ms postprocess per image at shape (1, 3, 640, 640)\n",
            "VCDR: 0.4479166666666667\n",
            "HCDR: 0.5\n",
            "CDAR: 0.23005490076468924\n",
            "Processing /content/M_G-DS-1-4/train/images/SHMC_98_g_jpg.rf.a060b76eed19da3d18a280ed37ce8f15.jpg\n",
            "\n",
            "image 1/1 /content/M_G-DS-1-4/train/images/SHMC_98_g_jpg.rf.a060b76eed19da3d18a280ed37ce8f15.jpg: 640x640 1 cup, 1 disc, 31.6ms\n",
            "Speed: 1.9ms preprocess, 31.6ms inference, 2.2ms postprocess per image at shape (1, 3, 640, 640)\n",
            "VCDR: 0.7448979591836735\n",
            "HCDR: 0.719626168224299\n",
            "CDAR: 0.5598781028796266\n",
            "Processing /content/M_G-DS-1-4/train/images/Im634_g_ACRIMA_jpg.rf.9ca2a6a5fb574c99a9b530a5030dd874.jpg\n",
            "\n",
            "image 1/1 /content/M_G-DS-1-4/train/images/Im634_g_ACRIMA_jpg.rf.9ca2a6a5fb574c99a9b530a5030dd874.jpg: 640x640 1 cup, 1 disc, 30.6ms\n",
            "Speed: 4.4ms preprocess, 30.6ms inference, 2.3ms postprocess per image at shape (1, 3, 640, 640)\n",
            "VCDR: 0.6666666666666666\n",
            "HCDR: 0.7052631578947368\n",
            "CDAR: 0.4934602718905683\n",
            "Processing /content/M_G-DS-1-4/train/images/204_jpg.rf.d5bc47a9a29497a18878f04c9ffc99d5.jpg\n",
            "\n",
            "image 1/1 /content/M_G-DS-1-4/train/images/204_jpg.rf.d5bc47a9a29497a18878f04c9ffc99d5.jpg: 640x640 1 cup, 1 disc, 32.9ms\n",
            "Speed: 1.9ms preprocess, 32.9ms inference, 2.5ms postprocess per image at shape (1, 3, 640, 640)\n",
            "VCDR: 0.5248868778280543\n",
            "HCDR: 0.5576923076923077\n",
            "CDAR: 0.30078642622573026\n",
            "Processing /content/M_G-DS-1-4/train/images/SHMC_85_g_jpg.rf.8ee238c12b793042c70c3a9862ebea77.jpg\n",
            "\n",
            "image 1/1 /content/M_G-DS-1-4/train/images/SHMC_85_g_jpg.rf.8ee238c12b793042c70c3a9862ebea77.jpg: 640x640 1 cup, 1 disc, 32.0ms\n",
            "Speed: 1.9ms preprocess, 32.0ms inference, 2.2ms postprocess per image at shape (1, 3, 640, 640)\n",
            "VCDR: 0.6868686868686869\n",
            "HCDR: 0.7128712871287128\n",
            "CDAR: 0.49640875817892677\n",
            "Processing /content/M_G-DS-1-4/train/images/SHMC_120_jpg.rf.fceadca94aed45c29487eb533ae0a360.jpg\n",
            "\n",
            "image 1/1 /content/M_G-DS-1-4/train/images/SHMC_120_jpg.rf.fceadca94aed45c29487eb533ae0a360.jpg: 640x640 1 cup, 1 disc, 30.4ms\n",
            "Speed: 6.3ms preprocess, 30.4ms inference, 2.3ms postprocess per image at shape (1, 3, 640, 640)\n",
            "VCDR: 0.5995085995085995\n",
            "HCDR: 0.6272727272727273\n",
            "CDAR: 0.3798664645356901\n",
            "Processing /content/M_G-DS-1-4/train/images/Im138_ACRIMA_jpg.rf.478e97673f04b7d121348f2c249244b5.jpg\n",
            "\n",
            "image 1/1 /content/M_G-DS-1-4/train/images/Im138_ACRIMA_jpg.rf.478e97673f04b7d121348f2c249244b5.jpg: 640x640 1 cup, 1 disc, 33.3ms\n",
            "Speed: 1.9ms preprocess, 33.3ms inference, 2.6ms postprocess per image at shape (1, 3, 640, 640)\n",
            "VCDR: 0.4235294117647059\n",
            "HCDR: 0.5287356321839081\n",
            "CDAR: 0.22975617847072483\n",
            "Processing /content/M_G-DS-1-4/train/images/Im657_g_ACRIMA_jpg.rf.5b2b892f647fc647016b154d901be0db.jpg\n",
            "\n",
            "image 1/1 /content/M_G-DS-1-4/train/images/Im657_g_ACRIMA_jpg.rf.5b2b892f647fc647016b154d901be0db.jpg: 640x640 1 cup, 1 disc, 37.4ms\n",
            "Speed: 2.2ms preprocess, 37.4ms inference, 3.1ms postprocess per image at shape (1, 3, 640, 640)\n",
            "VCDR: 0.6699029126213593\n",
            "HCDR: 0.723404255319149\n",
            "CDAR: 0.5048430345282785\n",
            "Processing /content/M_G-DS-1-4/train/images/SHMC_24_g_jpg.rf.1bce67d4885d5e390acba4be07a06861.jpg\n",
            "\n",
            "image 1/1 /content/M_G-DS-1-4/train/images/SHMC_24_g_jpg.rf.1bce67d4885d5e390acba4be07a06861.jpg: 640x640 1 cup, 1 disc, 29.6ms\n",
            "Speed: 2.0ms preprocess, 29.6ms inference, 2.8ms postprocess per image at shape (1, 3, 640, 640)\n",
            "VCDR: 0.5773195876288659\n",
            "HCDR: 0.6041666666666666\n",
            "CDAR: 0.34823941747491605\n",
            "Processing /content/M_G-DS-1-4/train/images/SHMC_107_g_jpg.rf.aa0beaf035abd07ad8647be658d2e2cd.jpg\n",
            "\n",
            "image 1/1 /content/M_G-DS-1-4/train/images/SHMC_107_g_jpg.rf.aa0beaf035abd07ad8647be658d2e2cd.jpg: 640x640 1 cup, 1 disc, 32.0ms\n",
            "Speed: 2.2ms preprocess, 32.0ms inference, 2.6ms postprocess per image at shape (1, 3, 640, 640)\n",
            "VCDR: 0.6896551724137931\n",
            "HCDR: 0.6464646464646465\n",
            "CDAR: 0.46201549322858004\n",
            "Processing /content/M_G-DS-1-4/train/images/drishtiGS_062_g_jpg.rf.96d70d0b171694031500548807c6044b.jpg\n",
            "\n",
            "image 1/1 /content/M_G-DS-1-4/train/images/drishtiGS_062_g_jpg.rf.96d70d0b171694031500548807c6044b.jpg: 640x640 1 cup, 1 disc, 30.5ms\n",
            "Speed: 2.2ms preprocess, 30.5ms inference, 3.6ms postprocess per image at shape (1, 3, 640, 640)\n",
            "VCDR: 0.7065527065527065\n",
            "HCDR: 0.7\n",
            "CDAR: 0.5273108183149073\n",
            "Processing /content/M_G-DS-1-4/train/images/Im103_ACRIMA_jpg.rf.0bf0df874eb096e4ebc3f46e50611178.jpg\n",
            "\n",
            "image 1/1 /content/M_G-DS-1-4/train/images/Im103_ACRIMA_jpg.rf.0bf0df874eb096e4ebc3f46e50611178.jpg: 640x640 1 cup, 1 disc, 37.3ms\n",
            "Speed: 1.9ms preprocess, 37.3ms inference, 3.5ms postprocess per image at shape (1, 3, 640, 640)\n",
            "VCDR: 0.43209876543209874\n",
            "HCDR: 0.5056179775280899\n",
            "CDAR: 0.2159747619978224\n",
            "Processing /content/M_G-DS-1-4/train/images/drishtiGS_071_g_jpg.rf.ec8296ac9480ecd05a86b0321019ef24.jpg\n",
            "\n",
            "image 1/1 /content/M_G-DS-1-4/train/images/drishtiGS_071_g_jpg.rf.ec8296ac9480ecd05a86b0321019ef24.jpg: 640x640 1 cup, 1 disc, 36.9ms\n",
            "Speed: 2.0ms preprocess, 36.9ms inference, 2.7ms postprocess per image at shape (1, 3, 640, 640)\n",
            "VCDR: 0.6853932584269663\n",
            "HCDR: 0.6875\n",
            "CDAR: 0.4762305109903809\n",
            "Processing /content/M_G-DS-1-4/train/images/270_g_jpg.rf.bba60ef781fc2b8685f9bd81a89ce923.jpg\n",
            "\n",
            "image 1/1 /content/M_G-DS-1-4/train/images/270_g_jpg.rf.bba60ef781fc2b8685f9bd81a89ce923.jpg: 640x640 1 cup, 1 disc, 31.9ms\n",
            "Speed: 1.9ms preprocess, 31.9ms inference, 2.5ms postprocess per image at shape (1, 3, 640, 640)\n",
            "VCDR: 0.625\n",
            "HCDR: 0.6984126984126984\n",
            "CDAR: 0.4369274992661869\n",
            "Processing /content/M_G-DS-1-4/train/images/429_g_jpg.rf.e750e43f8036659171624f91eb34a9e2.jpg\n",
            "\n",
            "image 1/1 /content/M_G-DS-1-4/train/images/429_g_jpg.rf.e750e43f8036659171624f91eb34a9e2.jpg: 640x640 1 cup, 1 disc, 31.1ms\n",
            "Speed: 2.1ms preprocess, 31.1ms inference, 3.0ms postprocess per image at shape (1, 3, 640, 640)\n",
            "VCDR: 0.6440677966101694\n",
            "HCDR: 0.7358490566037735\n",
            "CDAR: 0.47003392868574356\n",
            "Processing /content/M_G-DS-1-4/train/images/SHMC_139_jpg.rf.3f4e3918e41e01d507a95ca1dfa13d80.jpg\n",
            "\n",
            "image 1/1 /content/M_G-DS-1-4/train/images/SHMC_139_jpg.rf.3f4e3918e41e01d507a95ca1dfa13d80.jpg: 640x640 1 cup, 1 disc, 32.3ms\n",
            "Speed: 2.1ms preprocess, 32.3ms inference, 2.2ms postprocess per image at shape (1, 3, 640, 640)\n",
            "VCDR: 0.6292134831460674\n",
            "HCDR: 0.6067415730337079\n",
            "CDAR: 0.3971336863410545\n",
            "Processing /content/M_G-DS-1-4/train/images/drishtiGS_088_g_jpg.rf.12077259e48d918a84f2f7487680b6fb.jpg\n",
            "\n",
            "image 1/1 /content/M_G-DS-1-4/train/images/drishtiGS_088_g_jpg.rf.12077259e48d918a84f2f7487680b6fb.jpg: 640x640 1 cup, 1 disc, 31.8ms\n",
            "Speed: 3.3ms preprocess, 31.8ms inference, 2.3ms postprocess per image at shape (1, 3, 640, 640)\n",
            "VCDR: 0.5512820512820513\n",
            "HCDR: 0.6\n",
            "CDAR: 0.34412579652286795\n",
            "Processing /content/M_G-DS-1-4/train/images/drishtiGS_067_g_jpg.rf.4a311a8d19c9b9ef8fa06e47c25dce85.jpg\n",
            "\n",
            "image 1/1 /content/M_G-DS-1-4/train/images/drishtiGS_067_g_jpg.rf.4a311a8d19c9b9ef8fa06e47c25dce85.jpg: 640x640 1 cup, 1 disc, 32.9ms\n",
            "Speed: 2.2ms preprocess, 32.9ms inference, 2.3ms postprocess per image at shape (1, 3, 640, 640)\n",
            "VCDR: 0.6046511627906976\n",
            "HCDR: 0.6744186046511628\n",
            "CDAR: 0.41240152617276493\n",
            "Processing /content/M_G-DS-1-4/train/images/drishtiGS_042_jpg.rf.ec663eb5a4a474178615de8b7241363d.jpg\n",
            "\n",
            "image 1/1 /content/M_G-DS-1-4/train/images/drishtiGS_042_jpg.rf.ec663eb5a4a474178615de8b7241363d.jpg: 640x640 1 cup, 1 disc, 31.2ms\n",
            "Speed: 2.2ms preprocess, 31.2ms inference, 2.1ms postprocess per image at shape (1, 3, 640, 640)\n",
            "VCDR: 0.5111111111111111\n",
            "HCDR: 0.5168539325842697\n",
            "CDAR: 0.2608026600297868\n",
            "Processing /content/M_G-DS-1-4/train/images/126_jpg.rf.e5b2ac56a193210180bc4bf24f23915e.jpg\n",
            "\n",
            "image 1/1 /content/M_G-DS-1-4/train/images/126_jpg.rf.e5b2ac56a193210180bc4bf24f23915e.jpg: 640x640 1 cup, 1 disc, 35.3ms\n",
            "Speed: 2.1ms preprocess, 35.3ms inference, 2.9ms postprocess per image at shape (1, 3, 640, 640)\n",
            "VCDR: 0.4375\n",
            "HCDR: 0.5242718446601942\n",
            "CDAR: 0.25084690675900345\n",
            "Processing /content/M_G-DS-1-4/train/images/SHMC_68_jpg.rf.ac97fe40ec133dc10ad75838239ceb2c.jpg\n",
            "\n",
            "image 1/1 /content/M_G-DS-1-4/train/images/SHMC_68_jpg.rf.ac97fe40ec133dc10ad75838239ceb2c.jpg: 640x640 1 cup, 1 disc, 31.2ms\n",
            "Speed: 1.9ms preprocess, 31.2ms inference, 3.0ms postprocess per image at shape (1, 3, 640, 640)\n",
            "VCDR: 0.5798319327731093\n",
            "HCDR: 0.7\n",
            "CDAR: 0.4054984435195955\n",
            "Processing /content/M_G-DS-1-4/train/images/drishtiGS_098_jpg.rf.9b3603e236150723d671b5ac1c76e0af.jpg\n",
            "\n",
            "image 1/1 /content/M_G-DS-1-4/train/images/drishtiGS_098_jpg.rf.9b3603e236150723d671b5ac1c76e0af.jpg: 640x640 1 cup, 1 disc, 31.9ms\n",
            "Speed: 1.9ms preprocess, 31.9ms inference, 2.0ms postprocess per image at shape (1, 3, 640, 640)\n",
            "VCDR: 0.6847826086956522\n",
            "HCDR: 0.5934065934065934\n",
            "CDAR: 0.4018330393941843\n",
            "Processing /content/M_G-DS-1-4/train/images/Im204_ACRIMA_jpg.rf.0506f7484a0b4dfb66e3d105c02bcf8d.jpg\n",
            "\n",
            "image 1/1 /content/M_G-DS-1-4/train/images/Im204_ACRIMA_jpg.rf.0506f7484a0b4dfb66e3d105c02bcf8d.jpg: 640x640 1 cup, 1 disc, 31.3ms\n",
            "Speed: 2.0ms preprocess, 31.3ms inference, 2.8ms postprocess per image at shape (1, 3, 640, 640)\n",
            "VCDR: 0.5742574257425742\n",
            "HCDR: 0.5728155339805825\n",
            "CDAR: 0.3458123943242045\n",
            "Processing /content/M_G-DS-1-4/train/images/drishtiGS_093_jpg.rf.949dd6df1c13f30fd80333ebb443b747.jpg\n",
            "\n",
            "image 1/1 /content/M_G-DS-1-4/train/images/drishtiGS_093_jpg.rf.949dd6df1c13f30fd80333ebb443b747.jpg: 640x640 1 cup, 1 disc, 34.1ms\n",
            "Speed: 1.9ms preprocess, 34.1ms inference, 3.7ms postprocess per image at shape (1, 3, 640, 640)\n",
            "VCDR: 0.49411764705882355\n",
            "HCDR: 0.6987951807228916\n",
            "CDAR: 0.3537168060277497\n",
            "Processing /content/M_G-DS-1-4/train/images/drishtiGS_048_g_jpg.rf.770c76095487fc02f95f1eca2a898f99.jpg\n",
            "\n",
            "image 1/1 /content/M_G-DS-1-4/train/images/drishtiGS_048_g_jpg.rf.770c76095487fc02f95f1eca2a898f99.jpg: 640x640 1 cup, 1 disc, 31.3ms\n",
            "Speed: 4.5ms preprocess, 31.3ms inference, 2.7ms postprocess per image at shape (1, 3, 640, 640)\n",
            "VCDR: 0.6934673366834171\n",
            "HCDR: 0.6914893617021277\n",
            "CDAR: 0.45495106259197154\n",
            "Processing /content/M_G-DS-1-4/train/images/Im610_g_ACRIMA_jpg.rf.2c123d74ea84a9aa4e6cb30d094a72d8.jpg\n",
            "\n",
            "image 1/1 /content/M_G-DS-1-4/train/images/Im610_g_ACRIMA_jpg.rf.2c123d74ea84a9aa4e6cb30d094a72d8.jpg: 640x640 1 cup, 1 disc, 39.2ms\n",
            "Speed: 1.9ms preprocess, 39.2ms inference, 3.3ms postprocess per image at shape (1, 3, 640, 640)\n",
            "VCDR: 0.69\n",
            "HCDR: 0.7291666666666666\n",
            "CDAR: 0.4717904559745279\n",
            "Processing /content/M_G-DS-1-4/train/images/SHMC_51_jpg.rf.446cfc4cd72c39e7eff45f2be0aa87d9.jpg\n",
            "\n",
            "image 1/1 /content/M_G-DS-1-4/train/images/SHMC_51_jpg.rf.446cfc4cd72c39e7eff45f2be0aa87d9.jpg: 640x640 1 cup, 1 disc, 36.4ms\n",
            "Speed: 5.0ms preprocess, 36.4ms inference, 3.4ms postprocess per image at shape (1, 3, 640, 640)\n",
            "VCDR: 0.6176470588235294\n",
            "HCDR: 0.6804123711340206\n",
            "CDAR: 0.4233504170435132\n",
            "Processing /content/M_G-DS-1-4/train/images/drishtiGS_084_g_jpg.rf.42ec76b7f21bfd04105de27f70b8fa40.jpg\n",
            "\n",
            "image 1/1 /content/M_G-DS-1-4/train/images/drishtiGS_084_g_jpg.rf.42ec76b7f21bfd04105de27f70b8fa40.jpg: 640x640 1 cup, 1 disc, 33.1ms\n",
            "Speed: 4.6ms preprocess, 33.1ms inference, 2.8ms postprocess per image at shape (1, 3, 640, 640)\n",
            "VCDR: 0.6811145510835913\n",
            "HCDR: 0.6590909090909091\n",
            "CDAR: 0.4369126919697964\n",
            "Processing /content/M_G-DS-1-4/train/images/Im205_ACRIMA_jpg.rf.7cea54c7686a497e1a079b47a7417801.jpg\n",
            "\n",
            "image 1/1 /content/M_G-DS-1-4/train/images/Im205_ACRIMA_jpg.rf.7cea54c7686a497e1a079b47a7417801.jpg: 640x640 1 cup, 1 disc, 38.2ms\n",
            "Speed: 3.3ms preprocess, 38.2ms inference, 3.1ms postprocess per image at shape (1, 3, 640, 640)\n",
            "VCDR: 0.5490196078431373\n",
            "HCDR: 0.6363636363636364\n",
            "CDAR: 0.33697919984710456\n",
            "Processing /content/M_G-DS-1-4/train/images/Im629_g_ACRIMA_jpg.rf.34ca2da439d6889b2efd3d8c4bfb7cf5.jpg\n",
            "\n",
            "image 1/1 /content/M_G-DS-1-4/train/images/Im629_g_ACRIMA_jpg.rf.34ca2da439d6889b2efd3d8c4bfb7cf5.jpg: 640x640 1 cup, 1 disc, 32.2ms\n",
            "Speed: 2.3ms preprocess, 32.2ms inference, 2.8ms postprocess per image at shape (1, 3, 640, 640)\n",
            "VCDR: 0.7339449541284404\n",
            "HCDR: 0.7096774193548387\n",
            "CDAR: 0.5256680987402607\n",
            "Processing /content/M_G-DS-1-4/train/images/Im104_ACRIMA_jpg.rf.58d3ea38d0569ca3ea0bca6c95f3ac02.jpg\n",
            "\n",
            "image 1/1 /content/M_G-DS-1-4/train/images/Im104_ACRIMA_jpg.rf.58d3ea38d0569ca3ea0bca6c95f3ac02.jpg: 640x640 1 cup, 1 disc, 34.9ms\n",
            "Speed: 2.2ms preprocess, 34.9ms inference, 3.2ms postprocess per image at shape (1, 3, 640, 640)\n",
            "VCDR: 0.47674418604651164\n",
            "HCDR: 0.48314606741573035\n",
            "CDAR: 0.23353986943040703\n",
            "Processing /content/M_G-DS-1-4/train/images/Im197_ACRIMA_jpg.rf.5fdf0f47cfa27b808d1c3da1d5f74f0a.jpg\n",
            "\n",
            "image 1/1 /content/M_G-DS-1-4/train/images/Im197_ACRIMA_jpg.rf.5fdf0f47cfa27b808d1c3da1d5f74f0a.jpg: 640x640 1 cup, 1 disc, 35.1ms\n",
            "Speed: 1.9ms preprocess, 35.1ms inference, 2.7ms postprocess per image at shape (1, 3, 640, 640)\n",
            "VCDR: 0.49\n",
            "HCDR: 0.6\n",
            "CDAR: 0.3045707537749529\n",
            "Processing /content/M_G-DS-1-4/train/images/drishtiGS_069_g_jpg.rf.2aadbefb03bbcfb6deb974d05d454540.jpg\n",
            "\n",
            "image 1/1 /content/M_G-DS-1-4/train/images/drishtiGS_069_g_jpg.rf.2aadbefb03bbcfb6deb974d05d454540.jpg: 640x640 1 cup, 1 disc, 31.6ms\n",
            "Speed: 2.3ms preprocess, 31.6ms inference, 2.5ms postprocess per image at shape (1, 3, 640, 640)\n",
            "VCDR: 0.7904761904761904\n",
            "HCDR: 0.7647058823529411\n",
            "CDAR: 0.5892733367422306\n",
            "Processing /content/M_G-DS-1-4/train/images/SHMC_89_g_jpg.rf.a52ed7655beb3a358ed9791f059d5443.jpg\n",
            "\n",
            "image 1/1 /content/M_G-DS-1-4/train/images/SHMC_89_g_jpg.rf.a52ed7655beb3a358ed9791f059d5443.jpg: 640x640 1 cup, 1 disc, 31.9ms\n",
            "Speed: 1.9ms preprocess, 31.9ms inference, 2.5ms postprocess per image at shape (1, 3, 640, 640)\n",
            "VCDR: 0.6831683168316832\n",
            "HCDR: 0.7058823529411765\n",
            "CDAR: 0.48962677911683605\n",
            "Processing /content/M_G-DS-1-4/train/images/drishtiGS_059_g_jpg.rf.8da2eb50d3117b7e8b584ea7b12cc0a5.jpg\n",
            "\n",
            "image 1/1 /content/M_G-DS-1-4/train/images/drishtiGS_059_g_jpg.rf.8da2eb50d3117b7e8b584ea7b12cc0a5.jpg: 640x640 1 cup, 1 disc, 31.5ms\n",
            "Speed: 2.0ms preprocess, 31.5ms inference, 2.5ms postprocess per image at shape (1, 3, 640, 640)\n",
            "VCDR: 0.7349397590361446\n",
            "HCDR: 0.6623376623376623\n",
            "CDAR: 0.4849607266500391\n",
            "Processing /content/M_G-DS-1-4/train/images/drishtiGS_029_g_jpg.rf.a6fd5f626b6819aac98dfb717d556a9b.jpg\n",
            "\n",
            "image 1/1 /content/M_G-DS-1-4/train/images/drishtiGS_029_g_jpg.rf.a6fd5f626b6819aac98dfb717d556a9b.jpg: 640x640 1 cup, 1 disc, 31.1ms\n",
            "Speed: 1.9ms preprocess, 31.1ms inference, 2.6ms postprocess per image at shape (1, 3, 640, 640)\n",
            "VCDR: 0.632183908045977\n",
            "HCDR: 0.725\n",
            "CDAR: 0.48620559881886344\n",
            "Processing /content/M_G-DS-1-4/train/images/SHMC_5_g_jpg.rf.3883667851dc50b099b1a722b4a0991d.jpg\n",
            "\n",
            "image 1/1 /content/M_G-DS-1-4/train/images/SHMC_5_g_jpg.rf.3883667851dc50b099b1a722b4a0991d.jpg: 640x640 1 cup, 1 disc, 32.2ms\n",
            "Speed: 2.0ms preprocess, 32.2ms inference, 2.7ms postprocess per image at shape (1, 3, 640, 640)\n",
            "VCDR: 0.6153846153846154\n",
            "HCDR: 0.6210526315789474\n",
            "CDAR: 0.3816217633992607\n",
            "Processing /content/M_G-DS-1-4/train/images/SHMC_121_jpg.rf.ba40938172589bf54fc8e141c7b81153.jpg\n",
            "\n",
            "image 1/1 /content/M_G-DS-1-4/train/images/SHMC_121_jpg.rf.ba40938172589bf54fc8e141c7b81153.jpg: 640x640 1 cup, 1 disc, 32.6ms\n",
            "Speed: 2.0ms preprocess, 32.6ms inference, 2.7ms postprocess per image at shape (1, 3, 640, 640)\n",
            "VCDR: 0.5855855855855856\n",
            "HCDR: 0.6460176991150443\n",
            "CDAR: 0.381277095081326\n",
            "Processing /content/M_G-DS-1-4/train/images/011_jpg.rf.5b113465bc3f4cad4a8342d578f634fb.jpg\n",
            "\n",
            "image 1/1 /content/M_G-DS-1-4/train/images/011_jpg.rf.5b113465bc3f4cad4a8342d578f634fb.jpg: 640x640 1 cup, 1 disc, 31.5ms\n",
            "Speed: 2.0ms preprocess, 31.5ms inference, 2.5ms postprocess per image at shape (1, 3, 640, 640)\n",
            "VCDR: 0.5740740740740741\n",
            "HCDR: 0.5925925925925926\n",
            "CDAR: 0.34793889528672317\n",
            "Processing /content/M_G-DS-1-4/train/images/299_jpg.rf.7a2d142851fe8cf67b85b5792a1ce805.jpg\n",
            "\n",
            "image 1/1 /content/M_G-DS-1-4/train/images/299_jpg.rf.7a2d142851fe8cf67b85b5792a1ce805.jpg: 640x640 1 cup, 1 disc, 32.2ms\n",
            "Speed: 1.9ms preprocess, 32.2ms inference, 2.7ms postprocess per image at shape (1, 3, 640, 640)\n",
            "VCDR: 0.5263157894736842\n",
            "HCDR: 0.6071428571428571\n",
            "CDAR: 0.31962706797395557\n",
            "Processing /content/M_G-DS-1-4/train/images/SHMC_111_jpg.rf.d9dbefe4b0e5857b6a5d3cf039242789.jpg\n",
            "\n",
            "image 1/1 /content/M_G-DS-1-4/train/images/SHMC_111_jpg.rf.d9dbefe4b0e5857b6a5d3cf039242789.jpg: 640x640 1 cup, 1 disc, 31.3ms\n",
            "Speed: 2.2ms preprocess, 31.3ms inference, 2.9ms postprocess per image at shape (1, 3, 640, 640)\n",
            "VCDR: 0.6545454545454545\n",
            "HCDR: 0.696969696969697\n",
            "CDAR: 0.46939378525156716\n",
            "Processing /content/M_G-DS-1-4/train/images/024_jpg.rf.2090f0f2b12a23879c12cf7ad3032085.jpg\n",
            "\n",
            "image 1/1 /content/M_G-DS-1-4/train/images/024_jpg.rf.2090f0f2b12a23879c12cf7ad3032085.jpg: 640x640 1 cup, 1 disc, 31.8ms\n",
            "Speed: 2.1ms preprocess, 31.8ms inference, 2.7ms postprocess per image at shape (1, 3, 640, 640)\n",
            "VCDR: 0.5483870967741935\n",
            "HCDR: 0.6896551724137931\n",
            "CDAR: 0.3740127504346739\n",
            "Processing /content/M_G-DS-1-4/train/images/626_g_jpg.rf.b861de914bbd49c0d80f24a3dac2932a.jpg\n",
            "\n",
            "image 1/1 /content/M_G-DS-1-4/train/images/626_g_jpg.rf.b861de914bbd49c0d80f24a3dac2932a.jpg: 640x640 1 cup, 1 disc, 33.0ms\n",
            "Speed: 1.9ms preprocess, 33.0ms inference, 3.0ms postprocess per image at shape (1, 3, 640, 640)\n",
            "VCDR: 0.7794117647058824\n",
            "HCDR: 0.7794117647058824\n",
            "CDAR: 0.6108213305748175\n",
            "Processing /content/M_G-DS-1-4/train/images/450_jpg.rf.b9997727436b62dcf1cef7d3d8e3559b.jpg\n",
            "\n",
            "image 1/1 /content/M_G-DS-1-4/train/images/450_jpg.rf.b9997727436b62dcf1cef7d3d8e3559b.jpg: 640x640 1 cup, 1 disc, 31.4ms\n",
            "Speed: 2.1ms preprocess, 31.4ms inference, 3.4ms postprocess per image at shape (1, 3, 640, 640)\n",
            "VCDR: 0.543859649122807\n",
            "HCDR: 0.5892857142857143\n",
            "CDAR: 0.33488570652384836\n",
            "Processing /content/M_G-DS-1-4/train/images/SHMC_151_jpg.rf.f6f07254286001bad971e3d88eff1a7d.jpg\n",
            "\n",
            "image 1/1 /content/M_G-DS-1-4/train/images/SHMC_151_jpg.rf.f6f07254286001bad971e3d88eff1a7d.jpg: 640x640 1 cup, 1 disc, 35.8ms\n",
            "Speed: 3.1ms preprocess, 35.8ms inference, 2.7ms postprocess per image at shape (1, 3, 640, 640)\n",
            "VCDR: 0.5963302752293578\n",
            "HCDR: 0.6306306306306306\n",
            "CDAR: 0.38499091318338696\n",
            "Processing /content/M_G-DS-1-4/train/images/Im187_ACRIMA_jpg.rf.1e0c73349eee70cbc1289f4ec4149007.jpg\n",
            "\n",
            "image 1/1 /content/M_G-DS-1-4/train/images/Im187_ACRIMA_jpg.rf.1e0c73349eee70cbc1289f4ec4149007.jpg: 640x640 1 cup, 1 disc, 36.7ms\n",
            "Speed: 2.1ms preprocess, 36.7ms inference, 3.0ms postprocess per image at shape (1, 3, 640, 640)\n",
            "VCDR: 0.5319148936170213\n",
            "HCDR: 0.5208333333333334\n",
            "CDAR: 0.2759975423033282\n",
            "Processing /content/M_G-DS-1-4/train/images/SHMC_112_jpg.rf.97447ed0565b1136c5cd5abfde04bb29.jpg\n",
            "\n",
            "image 1/1 /content/M_G-DS-1-4/train/images/SHMC_112_jpg.rf.97447ed0565b1136c5cd5abfde04bb29.jpg: 640x640 1 cup, 1 disc, 36.6ms\n",
            "Speed: 2.0ms preprocess, 36.6ms inference, 3.9ms postprocess per image at shape (1, 3, 640, 640)\n",
            "VCDR: 0.6605504587155964\n",
            "HCDR: 0.696969696969697\n",
            "CDAR: 0.4714144233366346\n",
            "Processing /content/M_G-DS-1-4/train/images/457_g_jpg.rf.e2bd72b77423c3e2411b71f514dacce5.jpg\n",
            "\n",
            "image 1/1 /content/M_G-DS-1-4/train/images/457_g_jpg.rf.e2bd72b77423c3e2411b71f514dacce5.jpg: 640x640 1 cup, 1 disc, 36.0ms\n",
            "Speed: 1.8ms preprocess, 36.0ms inference, 2.9ms postprocess per image at shape (1, 3, 640, 640)\n",
            "VCDR: 0.6842105263157895\n",
            "HCDR: 0.6785714285714286\n",
            "CDAR: 0.4644486620329056\n",
            "Processing /content/M_G-DS-1-4/train/images/SHMC_141_jpg.rf.340c5a4aad00f87e522ecf14f19d985c.jpg\n",
            "\n",
            "image 1/1 /content/M_G-DS-1-4/train/images/SHMC_141_jpg.rf.340c5a4aad00f87e522ecf14f19d985c.jpg: 640x640 1 cup, 1 disc, 38.6ms\n",
            "Speed: 2.8ms preprocess, 38.6ms inference, 2.9ms postprocess per image at shape (1, 3, 640, 640)\n",
            "VCDR: 0.631578947368421\n",
            "HCDR: 0.6136363636363636\n",
            "CDAR: 0.4070579597518939\n",
            "Processing /content/M_G-DS-1-4/train/images/SHMC_25_g_jpg.rf.581a01e4d63643e99bdad62bda50a0ff.jpg\n",
            "\n",
            "image 1/1 /content/M_G-DS-1-4/train/images/SHMC_25_g_jpg.rf.581a01e4d63643e99bdad62bda50a0ff.jpg: 640x640 1 cup, 1 disc, 30.8ms\n",
            "Speed: 2.2ms preprocess, 30.8ms inference, 1.8ms postprocess per image at shape (1, 3, 640, 640)\n",
            "VCDR: 0.54\n",
            "HCDR: 0.5670103092783505\n",
            "CDAR: 0.32184406146871564\n",
            "Processing /content/M_G-DS-1-4/train/images/SHMC_84_g_jpg.rf.7eca6c5523042682f81bd0d97a6477da.jpg\n",
            "\n",
            "image 1/1 /content/M_G-DS-1-4/train/images/SHMC_84_g_jpg.rf.7eca6c5523042682f81bd0d97a6477da.jpg: 640x640 1 cup, 1 disc, 31.8ms\n",
            "Speed: 2.1ms preprocess, 31.8ms inference, 1.8ms postprocess per image at shape (1, 3, 640, 640)\n",
            "VCDR: 0.6804123711340206\n",
            "HCDR: 0.7157894736842105\n",
            "CDAR: 0.49038432153257105\n",
            "Processing /content/M_G-DS-1-4/train/images/Im470_g_ACRIMA_jpg.rf.e97368c31149ef7bfc7fbb8594b90d17.jpg\n",
            "\n",
            "image 1/1 /content/M_G-DS-1-4/train/images/Im470_g_ACRIMA_jpg.rf.e97368c31149ef7bfc7fbb8594b90d17.jpg: 640x640 1 cup, 1 disc, 32.6ms\n",
            "Speed: 1.6ms preprocess, 32.6ms inference, 1.9ms postprocess per image at shape (1, 3, 640, 640)\n",
            "VCDR: 0.6555555555555556\n",
            "HCDR: 0.6526315789473685\n",
            "CDAR: 0.44429166082035454\n",
            "Processing /content/M_G-DS-1-4/train/images/SHMC_81_jpg.rf.706dadcb9da17e78e36ed898052045f7.jpg\n",
            "\n",
            "image 1/1 /content/M_G-DS-1-4/train/images/SHMC_81_jpg.rf.706dadcb9da17e78e36ed898052045f7.jpg: 640x640 1 cup, 1 disc, 32.0ms\n",
            "Speed: 1.6ms preprocess, 32.0ms inference, 1.8ms postprocess per image at shape (1, 3, 640, 640)\n",
            "VCDR: 0.6788511749347258\n",
            "HCDR: 0.6511627906976745\n",
            "CDAR: 0.4602297611427416\n",
            "Processing /content/M_G-DS-1-4/train/images/Im698_g_ACRIMA_jpg.rf.16b6d78125033facb56feee3e272c1b0.jpg\n",
            "\n",
            "image 1/1 /content/M_G-DS-1-4/train/images/Im698_g_ACRIMA_jpg.rf.16b6d78125033facb56feee3e272c1b0.jpg: 640x640 1 cup, 1 disc, 32.0ms\n",
            "Speed: 1.7ms preprocess, 32.0ms inference, 2.3ms postprocess per image at shape (1, 3, 640, 640)\n",
            "VCDR: 0.5747126436781609\n",
            "HCDR: 0.6375\n",
            "CDAR: 0.368425260705189\n",
            "Processing /content/M_G-DS-1-4/train/images/drishtiGS_089_jpg.rf.e70b81f92ddd9e322bd6a630dd2d11aa.jpg\n",
            "\n",
            "image 1/1 /content/M_G-DS-1-4/train/images/drishtiGS_089_jpg.rf.e70b81f92ddd9e322bd6a630dd2d11aa.jpg: 640x640 1 cup, 1 disc, 32.6ms\n",
            "Speed: 2.0ms preprocess, 32.6ms inference, 2.0ms postprocess per image at shape (1, 3, 640, 640)\n",
            "VCDR: 0.4318181818181818\n",
            "HCDR: 0.4868421052631579\n",
            "CDAR: 0.22616393364019946\n",
            "Processing /content/M_G-DS-1-4/train/images/Im119_ACRIMA_jpg.rf.f249eae5d5974db4a16d446711eddfd7.jpg\n",
            "\n",
            "image 1/1 /content/M_G-DS-1-4/train/images/Im119_ACRIMA_jpg.rf.f249eae5d5974db4a16d446711eddfd7.jpg: 640x640 1 cup, 1 disc, 31.7ms\n",
            "Speed: 1.6ms preprocess, 31.7ms inference, 1.8ms postprocess per image at shape (1, 3, 640, 640)\n",
            "VCDR: 0.5189873417721519\n",
            "HCDR: 0.5975609756097561\n",
            "CDAR: 0.3118658234538538\n",
            "Processing /content/M_G-DS-1-4/train/images/454_jpg.rf.30b28b9c28c9a00f43f2d0acd7bac738.jpg\n",
            "\n",
            "image 1/1 /content/M_G-DS-1-4/train/images/454_jpg.rf.30b28b9c28c9a00f43f2d0acd7bac738.jpg: 640x640 1 cup, 1 disc, 32.5ms\n",
            "Speed: 2.1ms preprocess, 32.5ms inference, 1.8ms postprocess per image at shape (1, 3, 640, 640)\n",
            "VCDR: 0.5689655172413793\n",
            "HCDR: 0.5614035087719298\n",
            "CDAR: 0.32774403285139875\n",
            "Processing /content/M_G-DS-1-4/train/images/Im100_ACRIMA_jpg.rf.d7a714d87b928c6fb4e14eacd6f918af.jpg\n",
            "\n",
            "image 1/1 /content/M_G-DS-1-4/train/images/Im100_ACRIMA_jpg.rf.d7a714d87b928c6fb4e14eacd6f918af.jpg: 640x640 1 cup, 1 disc, 31.4ms\n",
            "Speed: 2.1ms preprocess, 31.4ms inference, 1.8ms postprocess per image at shape (1, 3, 640, 640)\n",
            "VCDR: 0.4024390243902439\n",
            "HCDR: 0.4634146341463415\n",
            "CDAR: 0.19258702881476053\n",
            "Processing /content/M_G-DS-1-4/train/images/drishtiGS_053_g_jpg.rf.52be85d6a136b6db9aafb888e4c1885a.jpg\n",
            "\n",
            "image 1/1 /content/M_G-DS-1-4/train/images/drishtiGS_053_g_jpg.rf.52be85d6a136b6db9aafb888e4c1885a.jpg: 640x640 1 cup, 1 disc, 33.0ms\n",
            "Speed: 2.2ms preprocess, 33.0ms inference, 1.9ms postprocess per image at shape (1, 3, 640, 640)\n",
            "VCDR: 0.8444444444444444\n",
            "HCDR: 0.7115902964959568\n",
            "CDAR: 0.554718826405868\n",
            "Processing /content/M_G-DS-1-4/train/images/drishtiGS_082_g_jpg.rf.caa0076ddd3d717d42c4eaaf241ee1ec.jpg\n",
            "\n",
            "image 1/1 /content/M_G-DS-1-4/train/images/drishtiGS_082_g_jpg.rf.caa0076ddd3d717d42c4eaaf241ee1ec.jpg: 640x640 1 cup, 1 disc, 31.7ms\n",
            "Speed: 2.0ms preprocess, 31.7ms inference, 1.8ms postprocess per image at shape (1, 3, 640, 640)\n",
            "VCDR: 0.8668730650154799\n",
            "HCDR: 0.625\n",
            "CDAR: 0.5322429703817096\n",
            "Processing /content/M_G-DS-1-4/train/images/drishtiGS_092_jpg.rf.c5603085367252cbe3140da7c28cc2ed.jpg\n",
            "\n",
            "image 1/1 /content/M_G-DS-1-4/train/images/drishtiGS_092_jpg.rf.c5603085367252cbe3140da7c28cc2ed.jpg: 640x640 1 cup, 1 disc, 32.6ms\n",
            "Speed: 1.5ms preprocess, 32.6ms inference, 2.1ms postprocess per image at shape (1, 3, 640, 640)\n",
            "VCDR: 0.5465116279069767\n",
            "HCDR: 0.5875\n",
            "CDAR: 0.3286409341550438\n",
            "Processing /content/M_G-DS-1-4/train/images/Im294_ACRIMA_jpg.rf.a178197c54dca9b151cada1882a77b6d.jpg\n",
            "\n",
            "image 1/1 /content/M_G-DS-1-4/train/images/Im294_ACRIMA_jpg.rf.a178197c54dca9b151cada1882a77b6d.jpg: 640x640 1 cup, 1 disc, 32.0ms\n",
            "Speed: 2.7ms preprocess, 32.0ms inference, 1.9ms postprocess per image at shape (1, 3, 640, 640)\n",
            "VCDR: 0.46078431372549017\n",
            "HCDR: 0.5164835164835165\n",
            "CDAR: 0.2529523086899558\n",
            "Processing /content/M_G-DS-1-4/train/images/298_jpg.rf.d0ae49cdddbbf3a6b087bd796a02671a.jpg\n",
            "\n",
            "image 1/1 /content/M_G-DS-1-4/train/images/298_jpg.rf.d0ae49cdddbbf3a6b087bd796a02671a.jpg: 640x640 1 cup, 1 disc, 32.1ms\n",
            "Speed: 2.1ms preprocess, 32.1ms inference, 2.3ms postprocess per image at shape (1, 3, 640, 640)\n",
            "VCDR: 0.5573770491803278\n",
            "HCDR: 0.6428571428571429\n",
            "CDAR: 0.36409969326942143\n",
            "Processing /content/M_G-DS-1-4/train/images/644_g_jpg.rf.bfc08441c773040424db3bb1a590bb83.jpg\n",
            "\n",
            "image 1/1 /content/M_G-DS-1-4/train/images/644_g_jpg.rf.bfc08441c773040424db3bb1a590bb83.jpg: 640x640 1 cup, 1 disc, 32.2ms\n",
            "Speed: 2.0ms preprocess, 32.2ms inference, 2.6ms postprocess per image at shape (1, 3, 640, 640)\n",
            "VCDR: 0.6470588235294118\n",
            "HCDR: 0.6911764705882353\n",
            "CDAR: 0.4546598095172898\n",
            "Processing /content/M_G-DS-1-4/train/images/050_g_jpg.rf.e9e1d7448596fe8b78afb0df292d86d7.jpg\n",
            "\n",
            "image 1/1 /content/M_G-DS-1-4/train/images/050_g_jpg.rf.e9e1d7448596fe8b78afb0df292d86d7.jpg: 640x640 1 cup, 1 disc, 30.7ms\n",
            "Speed: 1.8ms preprocess, 30.7ms inference, 3.0ms postprocess per image at shape (1, 3, 640, 640)\n",
            "VCDR: 0.8245614035087719\n",
            "HCDR: 0.7083333333333334\n",
            "CDAR: 0.557751433596934\n",
            "Processing /content/M_G-DS-1-4/train/images/588_g_jpg.rf.fb30873b139e59b62fc4cb5e0d5ddda8.jpg\n",
            "\n",
            "image 1/1 /content/M_G-DS-1-4/train/images/588_g_jpg.rf.fb30873b139e59b62fc4cb5e0d5ddda8.jpg: 640x640 1 cup, 1 disc, 31.6ms\n",
            "Speed: 1.9ms preprocess, 31.6ms inference, 2.9ms postprocess per image at shape (1, 3, 640, 640)\n",
            "VCDR: 0.6833333333333333\n",
            "HCDR: 0.7878787878787878\n",
            "CDAR: 0.5148316381949245\n",
            "Processing /content/M_G-DS-1-4/train/images/drishtiGS_097_jpg.rf.9d90a2151a142698b447eac835477fbf.jpg\n",
            "\n",
            "image 1/1 /content/M_G-DS-1-4/train/images/drishtiGS_097_jpg.rf.9d90a2151a142698b447eac835477fbf.jpg: 640x640 1 cup, 1 disc, 32.4ms\n",
            "Speed: 2.0ms preprocess, 32.4ms inference, 3.8ms postprocess per image at shape (1, 3, 640, 640)\n",
            "VCDR: 0.5578947368421052\n",
            "HCDR: 0.6\n",
            "CDAR: 0.3392142094424529\n",
            "Processing /content/M_G-DS-1-4/train/images/Im286_ACRIMA_jpg.rf.3c5f18808ce12ac8988f7ffac04e0d9e.jpg\n",
            "\n",
            "image 1/1 /content/M_G-DS-1-4/train/images/Im286_ACRIMA_jpg.rf.3c5f18808ce12ac8988f7ffac04e0d9e.jpg: 640x640 1 cup, 1 disc, 35.4ms\n",
            "Speed: 2.2ms preprocess, 35.4ms inference, 2.3ms postprocess per image at shape (1, 3, 640, 640)\n",
            "VCDR: 0.5454545454545454\n",
            "HCDR: 0.6057692307692307\n",
            "CDAR: 0.34615641466773095\n",
            "Processing /content/M_G-DS-1-4/train/images/155_jpg.rf.c1db196d69b1facb0815e5bc54ed4482.jpg\n",
            "\n",
            "image 1/1 /content/M_G-DS-1-4/train/images/155_jpg.rf.c1db196d69b1facb0815e5bc54ed4482.jpg: 640x640 1 cup, 1 disc, 30.1ms\n",
            "Speed: 2.1ms preprocess, 30.1ms inference, 2.4ms postprocess per image at shape (1, 3, 640, 640)\n",
            "VCDR: 0.5\n",
            "HCDR: 0.58\n",
            "CDAR: 0.2958437685481419\n",
            "Processing /content/M_G-DS-1-4/train/images/507_g_jpg.rf.311e4bfbd55344fd3ff16cb34fdf7a73.jpg\n",
            "\n",
            "image 1/1 /content/M_G-DS-1-4/train/images/507_g_jpg.rf.311e4bfbd55344fd3ff16cb34fdf7a73.jpg: 640x640 1 cup, 1 disc, 32.0ms\n",
            "Speed: 2.1ms preprocess, 32.0ms inference, 2.3ms postprocess per image at shape (1, 3, 640, 640)\n",
            "VCDR: 0.7964601769911505\n",
            "HCDR: 0.7093596059113301\n",
            "CDAR: 0.5392821285140562\n",
            "Processing /content/M_G-DS-1-4/train/images/Im295_ACRIMA_jpg.rf.5651c544b995ebf8dae31cc5c2d286ef.jpg\n",
            "\n",
            "image 1/1 /content/M_G-DS-1-4/train/images/Im295_ACRIMA_jpg.rf.5651c544b995ebf8dae31cc5c2d286ef.jpg: 640x640 1 cup, 1 disc, 31.9ms\n",
            "Speed: 2.0ms preprocess, 31.9ms inference, 1.9ms postprocess per image at shape (1, 3, 640, 640)\n",
            "VCDR: 0.4842105263157895\n",
            "HCDR: 0.5476190476190477\n",
            "CDAR: 0.2614116704816805\n",
            "Processing /content/M_G-DS-1-4/train/images/drishtiGS_099_jpg.rf.f3f8477fd669c6ae5233d94df0733999.jpg\n",
            "\n",
            "image 1/1 /content/M_G-DS-1-4/train/images/drishtiGS_099_jpg.rf.f3f8477fd669c6ae5233d94df0733999.jpg: 640x640 1 cup, 1 disc, 33.9ms\n",
            "Speed: 1.6ms preprocess, 33.9ms inference, 1.9ms postprocess per image at shape (1, 3, 640, 640)\n",
            "VCDR: 0.5714285714285714\n",
            "HCDR: 0.5555555555555556\n",
            "CDAR: 0.3298446276708957\n",
            "Processing /content/M_G-DS-1-4/train/images/556_g_jpg.rf.b5678ecfa0efcb29cd5b43b6929d08c1.jpg\n",
            "\n",
            "image 1/1 /content/M_G-DS-1-4/train/images/556_g_jpg.rf.b5678ecfa0efcb29cd5b43b6929d08c1.jpg: 640x640 1 cup, 1 disc, 31.5ms\n",
            "Speed: 2.2ms preprocess, 31.5ms inference, 2.5ms postprocess per image at shape (1, 3, 640, 640)\n",
            "VCDR: 0.6956521739130435\n",
            "HCDR: 0.7479674796747967\n",
            "CDAR: 0.5196605266434859\n",
            "Processing /content/M_G-DS-1-4/train/images/drishtiGS_074_g_jpg.rf.4d2bb587fc875a48f2a0d797d72f87a4.jpg\n",
            "\n",
            "image 1/1 /content/M_G-DS-1-4/train/images/drishtiGS_074_g_jpg.rf.4d2bb587fc875a48f2a0d797d72f87a4.jpg: 640x640 1 cup, 1 disc, 31.7ms\n",
            "Speed: 1.5ms preprocess, 31.7ms inference, 2.0ms postprocess per image at shape (1, 3, 640, 640)\n",
            "VCDR: 0.9047619047619048\n",
            "HCDR: 0.6309523809523809\n",
            "CDAR: 0.581482627195312\n",
            "Processing /content/M_G-DS-1-4/train/images/Im490_g_ACRIMA_jpg.rf.e5248d1a23173d50f22eeb5ff98808fe.jpg\n",
            "\n",
            "image 1/1 /content/M_G-DS-1-4/train/images/Im490_g_ACRIMA_jpg.rf.e5248d1a23173d50f22eeb5ff98808fe.jpg: 640x640 1 cup, 1 disc, 31.6ms\n",
            "Speed: 2.5ms preprocess, 31.6ms inference, 2.3ms postprocess per image at shape (1, 3, 640, 640)\n",
            "VCDR: 0.7582417582417582\n",
            "HCDR: 0.7582417582417582\n",
            "CDAR: 0.5925920442207088\n",
            "Processing /content/M_G-DS-1-4/train/images/073_jpg.rf.2dfd0b665d193d69bb54cec8f34c306d.jpg\n",
            "\n",
            "image 1/1 /content/M_G-DS-1-4/train/images/073_jpg.rf.2dfd0b665d193d69bb54cec8f34c306d.jpg: 640x640 1 cup, 1 disc, 31.7ms\n",
            "Speed: 1.9ms preprocess, 31.7ms inference, 1.7ms postprocess per image at shape (1, 3, 640, 640)\n",
            "VCDR: 0.46551724137931033\n",
            "HCDR: 0.5581395348837209\n",
            "CDAR: 0.26010061718790517\n",
            "Processing /content/M_G-DS-1-4/train/images/drishtiGS_034_g_jpg.rf.133a0c06016e50cf079719eefe873eeb.jpg\n",
            "\n",
            "image 1/1 /content/M_G-DS-1-4/train/images/drishtiGS_034_g_jpg.rf.133a0c06016e50cf079719eefe873eeb.jpg: 640x640 1 cup, 1 disc, 32.6ms\n",
            "Speed: 1.8ms preprocess, 32.6ms inference, 1.7ms postprocess per image at shape (1, 3, 640, 640)\n",
            "VCDR: 0.6629213483146067\n",
            "HCDR: 0.6470588235294118\n",
            "CDAR: 0.4492208518972902\n",
            "Processing /content/M_G-DS-1-4/train/images/SHMC_129_jpg.rf.dc156335249474a6153a1050216dfedd.jpg\n",
            "\n",
            "image 1/1 /content/M_G-DS-1-4/train/images/SHMC_129_jpg.rf.dc156335249474a6153a1050216dfedd.jpg: 640x640 1 cup, 1 disc, 31.9ms\n",
            "Speed: 1.9ms preprocess, 31.9ms inference, 1.8ms postprocess per image at shape (1, 3, 640, 640)\n",
            "VCDR: 0.6111111111111112\n",
            "HCDR: 0.6886792452830188\n",
            "CDAR: 0.4333055076994121\n",
            "Processing /content/M_G-DS-1-4/train/images/257_jpg.rf.c8f3ffe280523fd307ca88e271735e22.jpg\n",
            "\n",
            "image 1/1 /content/M_G-DS-1-4/train/images/257_jpg.rf.c8f3ffe280523fd307ca88e271735e22.jpg: 640x640 1 cup, 1 disc, 34.5ms\n",
            "Speed: 1.3ms preprocess, 34.5ms inference, 1.8ms postprocess per image at shape (1, 3, 640, 640)\n",
            "VCDR: 0.5645161290322581\n",
            "HCDR: 0.6101694915254238\n",
            "CDAR: 0.360466589132112\n",
            "Processing /content/M_G-DS-1-4/train/images/Im549_g_ACRIMA_jpg.rf.33107f4bef7019505874ff0d120762d2.jpg\n",
            "\n",
            "image 1/1 /content/M_G-DS-1-4/train/images/Im549_g_ACRIMA_jpg.rf.33107f4bef7019505874ff0d120762d2.jpg: 640x640 1 cup, 1 disc, 31.8ms\n",
            "Speed: 1.4ms preprocess, 31.8ms inference, 2.0ms postprocess per image at shape (1, 3, 640, 640)\n",
            "VCDR: 0.7787610619469026\n",
            "HCDR: 0.7676767676767676\n",
            "CDAR: 0.5914384146688685\n",
            "Processing /content/M_G-DS-1-4/train/images/SHMC_128_jpg.rf.c0011ad0c86fce6f0b251d1db970177f.jpg\n",
            "\n",
            "image 1/1 /content/M_G-DS-1-4/train/images/SHMC_128_jpg.rf.c0011ad0c86fce6f0b251d1db970177f.jpg: 640x640 1 cup, 1 disc, 31.5ms\n",
            "Speed: 2.0ms preprocess, 31.5ms inference, 1.9ms postprocess per image at shape (1, 3, 640, 640)\n",
            "VCDR: 0.6371681415929203\n",
            "HCDR: 0.7102803738317757\n",
            "CDAR: 0.45225670292682596\n",
            "Processing /content/M_G-DS-1-4/train/images/061_jpg.rf.f18b6e336cab014fb9e6e466fb7b7ca0.jpg\n",
            "\n",
            "image 1/1 /content/M_G-DS-1-4/train/images/061_jpg.rf.f18b6e336cab014fb9e6e466fb7b7ca0.jpg: 640x640 1 cup, 1 disc, 32.0ms\n",
            "Speed: 1.5ms preprocess, 32.0ms inference, 1.8ms postprocess per image at shape (1, 3, 640, 640)\n",
            "VCDR: 0.509090909090909\n",
            "HCDR: 0.5555555555555556\n",
            "CDAR: 0.2905679371382232\n",
            "Processing /content/M_G-DS-1-4/train/images/303_jpg.rf.85edf5de3e5a6d6b48dcb1de2ac50df8.jpg\n",
            "\n",
            "image 1/1 /content/M_G-DS-1-4/train/images/303_jpg.rf.85edf5de3e5a6d6b48dcb1de2ac50df8.jpg: 640x640 1 cup, 1 disc, 31.7ms\n",
            "Speed: 2.0ms preprocess, 31.7ms inference, 2.3ms postprocess per image at shape (1, 3, 640, 640)\n",
            "VCDR: 0.5142857142857142\n",
            "HCDR: 0.6415094339622641\n",
            "CDAR: 0.33540282782674136\n",
            "Processing /content/M_G-DS-1-4/train/images/SHMC_79_jpg.rf.46886e6834d3a0d3b3ca5a9c7592f04c.jpg\n",
            "\n",
            "image 1/1 /content/M_G-DS-1-4/train/images/SHMC_79_jpg.rf.46886e6834d3a0d3b3ca5a9c7592f04c.jpg: 640x640 1 cup, 1 disc, 34.8ms\n",
            "Speed: 1.9ms preprocess, 34.8ms inference, 2.2ms postprocess per image at shape (1, 3, 640, 640)\n",
            "VCDR: 0.46153846153846156\n",
            "HCDR: 0.6049382716049383\n",
            "CDAR: 0.28366044034130034\n",
            "Processing /content/M_G-DS-1-4/train/images/Im198_ACRIMA_jpg.rf.1b7ddd85da82b3088dba4439e27ff462.jpg\n",
            "\n",
            "image 1/1 /content/M_G-DS-1-4/train/images/Im198_ACRIMA_jpg.rf.1b7ddd85da82b3088dba4439e27ff462.jpg: 640x640 1 cup, 1 disc, 30.8ms\n",
            "Speed: 2.0ms preprocess, 30.8ms inference, 2.3ms postprocess per image at shape (1, 3, 640, 640)\n",
            "VCDR: 0.5894736842105263\n",
            "HCDR: 0.5\n",
            "CDAR: 0.2979801262800262\n",
            "Processing /content/M_G-DS-1-4/train/images/drishtiGS_031_g_jpg.rf.30d7c914a48e28fc0534f80eb67b4e50.jpg\n",
            "\n",
            "image 1/1 /content/M_G-DS-1-4/train/images/drishtiGS_031_g_jpg.rf.30d7c914a48e28fc0534f80eb67b4e50.jpg: 640x640 1 cup, 1 disc, 32.5ms\n",
            "Speed: 2.0ms preprocess, 32.5ms inference, 2.4ms postprocess per image at shape (1, 3, 640, 640)\n",
            "VCDR: 0.5925925925925926\n",
            "HCDR: 0.7738095238095238\n",
            "CDAR: 0.4518384840965486\n",
            "Processing /content/M_G-DS-1-4/train/images/641_g_jpg.rf.468d3f64e293332176914f795e4c4b63.jpg\n",
            "\n",
            "image 1/1 /content/M_G-DS-1-4/train/images/641_g_jpg.rf.468d3f64e293332176914f795e4c4b63.jpg: 640x640 1 cup, 1 disc, 31.7ms\n",
            "Speed: 2.0ms preprocess, 31.7ms inference, 2.5ms postprocess per image at shape (1, 3, 640, 640)\n",
            "VCDR: 0.6515151515151515\n",
            "HCDR: 0.6666666666666666\n",
            "CDAR: 0.48148298135136774\n",
            "Processing /content/M_G-DS-1-4/train/images/474_g_jpg.rf.8b2cf20263c2196003138e3581c6b1d0.jpg\n",
            "\n",
            "image 1/1 /content/M_G-DS-1-4/train/images/474_g_jpg.rf.8b2cf20263c2196003138e3581c6b1d0.jpg: 640x640 1 cup, 1 disc, 31.6ms\n",
            "Speed: 1.8ms preprocess, 31.6ms inference, 3.4ms postprocess per image at shape (1, 3, 640, 640)\n",
            "VCDR: 0.6206896551724138\n",
            "HCDR: 0.6122448979591837\n",
            "CDAR: 0.3805911513021615\n",
            "Processing /content/M_G-DS-1-4/train/images/Im576_g_ACRIMA_jpg.rf.3d5e51c8f100ab955c8a37d74ee9bc58.jpg\n",
            "\n",
            "image 1/1 /content/M_G-DS-1-4/train/images/Im576_g_ACRIMA_jpg.rf.3d5e51c8f100ab955c8a37d74ee9bc58.jpg: 640x640 1 cup, 1 disc, 30.8ms\n",
            "Speed: 3.5ms preprocess, 30.8ms inference, 2.0ms postprocess per image at shape (1, 3, 640, 640)\n",
            "VCDR: 0.7565217391304347\n",
            "HCDR: 0.875\n",
            "CDAR: 0.6401344719206004\n",
            "Processing /content/M_G-DS-1-4/train/images/Im635_g_ACRIMA_jpg.rf.a93bbdbe9f55731d170734b0c8994184.jpg\n",
            "\n",
            "image 1/1 /content/M_G-DS-1-4/train/images/Im635_g_ACRIMA_jpg.rf.a93bbdbe9f55731d170734b0c8994184.jpg: 640x640 1 cup, 1 disc, 31.2ms\n",
            "Speed: 1.4ms preprocess, 31.2ms inference, 1.7ms postprocess per image at shape (1, 3, 640, 640)\n",
            "VCDR: 0.6559139784946236\n",
            "HCDR: 0.6976744186046512\n",
            "CDAR: 0.5113773292593708\n",
            "Processing /content/M_G-DS-1-4/train/images/SHMC_54_jpg.rf.ecca78e9fc87f22c4baff6b970e24173.jpg\n",
            "\n",
            "image 1/1 /content/M_G-DS-1-4/train/images/SHMC_54_jpg.rf.ecca78e9fc87f22c4baff6b970e24173.jpg: 640x640 1 cup, 1 disc, 32.4ms\n",
            "Speed: 1.9ms preprocess, 32.4ms inference, 2.0ms postprocess per image at shape (1, 3, 640, 640)\n",
            "VCDR: 0.6288659793814433\n",
            "HCDR: 0.6565656565656566\n",
            "CDAR: 0.4178345056573778\n",
            "Processing /content/M_G-DS-1-4/train/images/127_jpg.rf.9978b876b89064c5057ebd2653136a21.jpg\n",
            "\n",
            "image 1/1 /content/M_G-DS-1-4/train/images/127_jpg.rf.9978b876b89064c5057ebd2653136a21.jpg: 640x640 1 cup, 1 disc, 31.6ms\n",
            "Speed: 1.9ms preprocess, 31.6ms inference, 2.8ms postprocess per image at shape (1, 3, 640, 640)\n",
            "VCDR: 0.47540983606557374\n",
            "HCDR: 0.54\n",
            "CDAR: 0.26334543589466725\n",
            "Processing /content/M_G-DS-1-4/train/images/593_g_jpg.rf.abde13532b548dfed8a773c4b5284787.jpg\n",
            "\n",
            "image 1/1 /content/M_G-DS-1-4/train/images/593_g_jpg.rf.abde13532b548dfed8a773c4b5284787.jpg: 640x640 1 cup, 1 disc, 31.9ms\n",
            "Speed: 1.9ms preprocess, 31.9ms inference, 1.8ms postprocess per image at shape (1, 3, 640, 640)\n",
            "VCDR: 0.6349206349206349\n",
            "HCDR: 0.711864406779661\n",
            "CDAR: 0.4872833396213853\n",
            "Processing /content/M_G-DS-1-4/train/images/drishtiGS_091_jpg.rf.7197bb291344a5f28ff3ea35635b5c7a.jpg\n",
            "\n",
            "image 1/1 /content/M_G-DS-1-4/train/images/drishtiGS_091_jpg.rf.7197bb291344a5f28ff3ea35635b5c7a.jpg: 640x640 1 cup, 1 disc, 32.1ms\n",
            "Speed: 2.0ms preprocess, 32.1ms inference, 1.8ms postprocess per image at shape (1, 3, 640, 640)\n",
            "VCDR: 0.5128205128205128\n",
            "HCDR: 0.5223367697594502\n",
            "CDAR: 0.2793526054822715\n",
            "Processing /content/M_G-DS-1-4/train/images/drishtiGS_055_g_jpg.rf.5d9061d028dae05436bceba9c952d4c9.jpg\n",
            "\n",
            "image 1/1 /content/M_G-DS-1-4/train/images/drishtiGS_055_g_jpg.rf.5d9061d028dae05436bceba9c952d4c9.jpg: 640x640 1 cup, 1 disc, 31.4ms\n",
            "Speed: 3.6ms preprocess, 31.4ms inference, 1.8ms postprocess per image at shape (1, 3, 640, 640)\n",
            "VCDR: 0.7916666666666666\n",
            "HCDR: 0.7794117647058824\n",
            "CDAR: 0.6317259074786808\n",
            "Processing /content/M_G-DS-1-4/train/images/SHMC_113_jpg.rf.a11ba3c4b54e5fcdbd9585f59db5d61a.jpg\n",
            "\n",
            "image 1/1 /content/M_G-DS-1-4/train/images/SHMC_113_jpg.rf.a11ba3c4b54e5fcdbd9585f59db5d61a.jpg: 640x640 1 cup, 1 disc, 33.0ms\n",
            "Speed: 1.4ms preprocess, 33.0ms inference, 1.8ms postprocess per image at shape (1, 3, 640, 640)\n",
            "VCDR: 0.6880733944954128\n",
            "HCDR: 0.7058823529411765\n",
            "CDAR: 0.4793542545470224\n",
            "Processing /content/M_G-DS-1-4/train/images/drishtiGS_060_g_jpg.rf.01a985e4ec61def370a6bbf3d74b7dbf.jpg\n",
            "\n",
            "image 1/1 /content/M_G-DS-1-4/train/images/drishtiGS_060_g_jpg.rf.01a985e4ec61def370a6bbf3d74b7dbf.jpg: 640x640 1 cup, 1 disc, 31.4ms\n",
            "Speed: 2.3ms preprocess, 31.4ms inference, 1.8ms postprocess per image at shape (1, 3, 640, 640)\n",
            "VCDR: 0.8314606741573034\n",
            "HCDR: 0.6970588235294117\n",
            "CDAR: 0.5638778541029288\n",
            "Processing /content/M_G-DS-1-4/train/images/087_g_jpg.rf.aae5265264d1e3f01436a53d0d7e8e02.jpg\n",
            "\n",
            "image 1/1 /content/M_G-DS-1-4/train/images/087_g_jpg.rf.aae5265264d1e3f01436a53d0d7e8e02.jpg: 640x640 1 cup, 1 disc, 32.4ms\n",
            "Speed: 1.9ms preprocess, 32.4ms inference, 2.0ms postprocess per image at shape (1, 3, 640, 640)\n",
            "VCDR: 0.5901639344262295\n",
            "HCDR: 0.6274509803921569\n",
            "CDAR: 0.37856533319541774\n",
            "Processing /content/M_G-DS-1-4/train/images/SHMC_110_jpg.rf.87f72a8214a377d46c52ff09303e3864.jpg\n",
            "\n",
            "image 1/1 /content/M_G-DS-1-4/train/images/SHMC_110_jpg.rf.87f72a8214a377d46c52ff09303e3864.jpg: 640x640 1 cup, 1 disc, 31.9ms\n",
            "Speed: 1.4ms preprocess, 31.9ms inference, 1.8ms postprocess per image at shape (1, 3, 640, 640)\n",
            "VCDR: 0.6545454545454545\n",
            "HCDR: 0.6875\n",
            "CDAR: 0.46190274515843377\n",
            "Processing /content/M_G-DS-1-4/train/images/SHMC_130_jpg.rf.12d06e22ff4d4c56c41af6f90cba6f3b.jpg\n",
            "\n",
            "image 1/1 /content/M_G-DS-1-4/train/images/SHMC_130_jpg.rf.12d06e22ff4d4c56c41af6f90cba6f3b.jpg: 640x640 1 cup, 1 disc, 31.8ms\n",
            "Speed: 2.1ms preprocess, 31.8ms inference, 2.0ms postprocess per image at shape (1, 3, 640, 640)\n",
            "VCDR: 0.5961538461538461\n",
            "HCDR: 0.7115384615384616\n",
            "CDAR: 0.4457405614714424\n",
            "Processing /content/M_G-DS-1-4/train/images/drishtiGS_040_g_jpg.rf.3aba0c27d0fb92f94720c9372b9dfd15.jpg\n",
            "\n",
            "image 1/1 /content/M_G-DS-1-4/train/images/drishtiGS_040_g_jpg.rf.3aba0c27d0fb92f94720c9372b9dfd15.jpg: 640x640 1 cup, 1 disc, 31.9ms\n",
            "Speed: 1.5ms preprocess, 31.9ms inference, 1.8ms postprocess per image at shape (1, 3, 640, 640)\n",
            "VCDR: 0.7391304347826086\n",
            "HCDR: 0.654320987654321\n",
            "CDAR: 0.4803283653795941\n",
            "Processing /content/M_G-DS-1-4/train/images/Im666_g_ACRIMA_jpg.rf.7abb53aeb683b189cea43a3e4389c401.jpg\n",
            "\n",
            "image 1/1 /content/M_G-DS-1-4/train/images/Im666_g_ACRIMA_jpg.rf.7abb53aeb683b189cea43a3e4389c401.jpg: 640x640 1 cup, 1 disc, 31.3ms\n",
            "Speed: 1.9ms preprocess, 31.3ms inference, 1.9ms postprocess per image at shape (1, 3, 640, 640)\n",
            "VCDR: 0.7755102040816326\n",
            "HCDR: 0.7553191489361702\n",
            "CDAR: 0.6174976120587761\n",
            "Processing /content/M_G-DS-1-4/train/images/229_g_jpg.rf.751d4540a8a90dac007502c872574cf8.jpg\n",
            "\n",
            "image 1/1 /content/M_G-DS-1-4/train/images/229_g_jpg.rf.751d4540a8a90dac007502c872574cf8.jpg: 640x640 1 cup, 1 disc, 32.5ms\n",
            "Speed: 2.2ms preprocess, 32.5ms inference, 2.6ms postprocess per image at shape (1, 3, 640, 640)\n",
            "VCDR: 0.7138047138047138\n",
            "HCDR: 0.6923076923076923\n",
            "CDAR: 0.4905445885506128\n",
            "Processing /content/M_G-DS-1-4/train/images/SHMC_35_jpg.rf.6e54a196389ed314c31b55fcc11667f8.jpg\n",
            "\n",
            "image 1/1 /content/M_G-DS-1-4/train/images/SHMC_35_jpg.rf.6e54a196389ed314c31b55fcc11667f8.jpg: 640x640 1 cup, 1 disc, 31.8ms\n",
            "Speed: 2.0ms preprocess, 31.8ms inference, 2.3ms postprocess per image at shape (1, 3, 640, 640)\n",
            "VCDR: 0.5520833333333334\n",
            "HCDR: 0.6483516483516484\n",
            "CDAR: 0.3440568929035686\n",
            "Processing /content/M_G-DS-1-4/train/images/Im671_g_ACRIMA_jpg.rf.e528d507c9cac9c0d6fbbfdb060b787f.jpg\n",
            "\n",
            "image 1/1 /content/M_G-DS-1-4/train/images/Im671_g_ACRIMA_jpg.rf.e528d507c9cac9c0d6fbbfdb060b787f.jpg: 640x640 1 cup, 1 disc, 32.5ms\n",
            "Speed: 2.1ms preprocess, 32.5ms inference, 2.5ms postprocess per image at shape (1, 3, 640, 640)\n",
            "VCDR: 0.7386363636363636\n",
            "HCDR: 0.7555555555555555\n",
            "CDAR: 0.5517315222711698\n",
            "Processing /content/M_G-DS-1-4/train/images/drishtiGS_068_g_jpg.rf.ee7cca946d973b2a48390d4c676f7bd8.jpg\n",
            "\n",
            "image 1/1 /content/M_G-DS-1-4/train/images/drishtiGS_068_g_jpg.rf.ee7cca946d973b2a48390d4c676f7bd8.jpg: 640x640 1 cup, 1 disc, 31.6ms\n",
            "Speed: 1.9ms preprocess, 31.6ms inference, 2.6ms postprocess per image at shape (1, 3, 640, 640)\n",
            "VCDR: 0.785377358490566\n",
            "HCDR: 0.82\n",
            "CDAR: 0.6228372917619575\n",
            "Processing /content/M_G-DS-1-4/train/images/drishtiGS_057_jpg.rf.5b2508895b1f32356381a0caa8cba8f5.jpg\n",
            "\n",
            "image 1/1 /content/M_G-DS-1-4/train/images/drishtiGS_057_jpg.rf.5b2508895b1f32356381a0caa8cba8f5.jpg: 640x640 1 cup, 1 disc, 32.3ms\n",
            "Speed: 2.3ms preprocess, 32.3ms inference, 2.3ms postprocess per image at shape (1, 3, 640, 640)\n",
            "VCDR: 0.617363344051447\n",
            "HCDR: 0.5352112676056338\n",
            "CDAR: 0.35038241273765813\n",
            "Processing /content/M_G-DS-1-4/train/images/Im637_g_ACRIMA_jpg.rf.dfbe759f37dadab49c39585b088821d6.jpg\n",
            "\n",
            "image 1/1 /content/M_G-DS-1-4/train/images/Im637_g_ACRIMA_jpg.rf.dfbe759f37dadab49c39585b088821d6.jpg: 640x640 1 cup, 1 disc, 31.4ms\n",
            "Speed: 2.3ms preprocess, 31.4ms inference, 2.6ms postprocess per image at shape (1, 3, 640, 640)\n",
            "VCDR: 0.47959183673469385\n",
            "HCDR: 0.627906976744186\n",
            "CDAR: 0.29593155716743386\n",
            "Processing /content/M_G-DS-1-4/train/images/063_jpg.rf.8a8f2a6adff44d434be10ae8922c4d12.jpg\n",
            "\n",
            "image 1/1 /content/M_G-DS-1-4/train/images/063_jpg.rf.8a8f2a6adff44d434be10ae8922c4d12.jpg: 640x640 1 cup, 1 disc, 32.0ms\n",
            "Speed: 1.8ms preprocess, 32.0ms inference, 3.1ms postprocess per image at shape (1, 3, 640, 640)\n",
            "VCDR: 0.46551724137931033\n",
            "HCDR: 0.5106382978723404\n",
            "CDAR: 0.23439138590608982\n",
            "Processing /content/M_G-DS-1-4/train/images/514_g_jpg.rf.25fe81fdba88e2e8203e05fba1f13aba.jpg\n",
            "\n",
            "image 1/1 /content/M_G-DS-1-4/train/images/514_g_jpg.rf.25fe81fdba88e2e8203e05fba1f13aba.jpg: 640x640 1 cup, 1 disc, 31.5ms\n",
            "Speed: 1.9ms preprocess, 31.5ms inference, 1.8ms postprocess per image at shape (1, 3, 640, 640)\n",
            "VCDR: 0.5692307692307692\n",
            "HCDR: 0.6379310344827587\n",
            "CDAR: 0.3775506876121107\n",
            "Processing /content/M_G-DS-1-4/train/images/SHMC_115_jpg.rf.adc202fa2c031a64da92489158dfd350.jpg\n",
            "\n",
            "image 1/1 /content/M_G-DS-1-4/train/images/SHMC_115_jpg.rf.adc202fa2c031a64da92489158dfd350.jpg: 640x640 1 cup, 1 disc, 31.9ms\n",
            "Speed: 1.6ms preprocess, 31.9ms inference, 2.1ms postprocess per image at shape (1, 3, 640, 640)\n",
            "VCDR: 0.6442307692307693\n",
            "HCDR: 0.6728971962616822\n",
            "CDAR: 0.43717526607672197\n",
            "Processing /content/M_G-DS-1-4/train/images/396_jpg.rf.81968ea847196e0731ec8709d9c9102b.jpg\n",
            "\n",
            "image 1/1 /content/M_G-DS-1-4/train/images/396_jpg.rf.81968ea847196e0731ec8709d9c9102b.jpg: 640x640 1 cup, 1 disc, 31.7ms\n",
            "Speed: 2.0ms preprocess, 31.7ms inference, 1.8ms postprocess per image at shape (1, 3, 640, 640)\n",
            "VCDR: 0.6296296296296297\n",
            "HCDR: 0.6226415094339622\n",
            "CDAR: 0.3852199724076422\n",
            "Processing /content/M_G-DS-1-4/train/images/Im468_g_ACRIMA_jpg.rf.ec54939dc57087ffd881e846534ab18b.jpg\n",
            "\n",
            "image 1/1 /content/M_G-DS-1-4/train/images/Im468_g_ACRIMA_jpg.rf.ec54939dc57087ffd881e846534ab18b.jpg: 640x640 1 cup, 1 disc, 32.9ms\n",
            "Speed: 1.9ms preprocess, 32.9ms inference, 2.2ms postprocess per image at shape (1, 3, 640, 640)\n",
            "VCDR: 0.7368421052631579\n",
            "HCDR: 0.7647058823529411\n",
            "CDAR: 0.5677521715919353\n",
            "Processing /content/M_G-DS-1-4/train/images/Im409_g_ACRIMA_jpg.rf.9165330c0650d7492b630ab02d012e08.jpg\n",
            "\n",
            "image 1/1 /content/M_G-DS-1-4/train/images/Im409_g_ACRIMA_jpg.rf.9165330c0650d7492b630ab02d012e08.jpg: 640x640 1 cup, 1 disc, 31.9ms\n",
            "Speed: 2.1ms preprocess, 31.9ms inference, 1.9ms postprocess per image at shape (1, 3, 640, 640)\n",
            "VCDR: 0.59375\n",
            "HCDR: 0.6634615384615384\n",
            "CDAR: 0.42254595820737073\n",
            "Processing /content/M_G-DS-1-4/train/images/drishtiGS_064_g_jpg.rf.6097f340d205bab4c4163f539fc2287f.jpg\n",
            "\n",
            "image 1/1 /content/M_G-DS-1-4/train/images/drishtiGS_064_g_jpg.rf.6097f340d205bab4c4163f539fc2287f.jpg: 640x640 1 cup, 1 disc, 31.9ms\n",
            "Speed: 2.1ms preprocess, 31.9ms inference, 1.9ms postprocess per image at shape (1, 3, 640, 640)\n",
            "VCDR: 0.6632653061224489\n",
            "HCDR: 0.6385542168674698\n",
            "CDAR: 0.4412606874102057\n",
            "Processing /content/M_G-DS-1-4/train/images/drishtiGS_016_g_jpg.rf.f6d106249e397ea4528b5a1c227dd2be.jpg\n",
            "\n",
            "image 1/1 /content/M_G-DS-1-4/train/images/drishtiGS_016_g_jpg.rf.f6d106249e397ea4528b5a1c227dd2be.jpg: 640x640 1 cup, 1 disc, 31.7ms\n",
            "Speed: 2.9ms preprocess, 31.7ms inference, 1.9ms postprocess per image at shape (1, 3, 640, 640)\n",
            "VCDR: 0.7654320987654321\n",
            "HCDR: 0.6623376623376623\n",
            "CDAR: 0.48135371631242396\n",
            "Processing /content/M_G-DS-1-4/train/images/Im675_g_ACRIMA_jpg.rf.19c43358a1e96dbdd69bb8fb914d03e6.jpg\n",
            "\n",
            "image 1/1 /content/M_G-DS-1-4/train/images/Im675_g_ACRIMA_jpg.rf.19c43358a1e96dbdd69bb8fb914d03e6.jpg: 640x640 1 cup, 1 disc, 32.5ms\n",
            "Speed: 2.0ms preprocess, 32.5ms inference, 1.8ms postprocess per image at shape (1, 3, 640, 640)\n",
            "VCDR: 0.6904761904761905\n",
            "HCDR: 0.7631578947368421\n",
            "CDAR: 0.5620061117191899\n",
            "Processing /content/M_G-DS-1-4/train/images/Im139_ACRIMA_jpg.rf.7842ba08000ffb763716f84f8cb2085c.jpg\n",
            "\n",
            "image 1/1 /content/M_G-DS-1-4/train/images/Im139_ACRIMA_jpg.rf.7842ba08000ffb763716f84f8cb2085c.jpg: 640x640 1 cup, 1 disc, 31.3ms\n",
            "Speed: 2.4ms preprocess, 31.3ms inference, 2.2ms postprocess per image at shape (1, 3, 640, 640)\n",
            "VCDR: 0.5053763440860215\n",
            "HCDR: 0.5913978494623656\n",
            "CDAR: 0.3106550424128181\n",
            "Processing /content/M_G-DS-1-4/train/images/Im180_ACRIMA_jpg.rf.d4885ac682e69c3ee4da2ae261df2ca4.jpg\n",
            "\n",
            "image 1/1 /content/M_G-DS-1-4/train/images/Im180_ACRIMA_jpg.rf.d4885ac682e69c3ee4da2ae261df2ca4.jpg: 640x640 1 cup, 1 disc, 33.1ms\n",
            "Speed: 2.7ms preprocess, 33.1ms inference, 2.1ms postprocess per image at shape (1, 3, 640, 640)\n",
            "VCDR: 0.5196078431372549\n",
            "HCDR: 0.5392156862745098\n",
            "CDAR: 0.27211572988211563\n",
            "Processing /content/M_G-DS-1-4/train/images/206_jpg.rf.d8eb6f168417373cd97723c6fb513bca.jpg\n",
            "\n",
            "image 1/1 /content/M_G-DS-1-4/train/images/206_jpg.rf.d8eb6f168417373cd97723c6fb513bca.jpg: 640x640 1 cup, 1 disc, 31.2ms\n",
            "Speed: 1.9ms preprocess, 31.2ms inference, 2.0ms postprocess per image at shape (1, 3, 640, 640)\n",
            "VCDR: 0.5352112676056338\n",
            "HCDR: 0.5882352941176471\n",
            "CDAR: 0.3262990715788229\n",
            "Processing /content/M_G-DS-1-4/train/images/drishtiGS_096_jpg.rf.02be3b6611754c90320193f914d7331c.jpg\n",
            "\n",
            "image 1/1 /content/M_G-DS-1-4/train/images/drishtiGS_096_jpg.rf.02be3b6611754c90320193f914d7331c.jpg: 640x640 1 cup, 1 disc, 32.7ms\n",
            "Speed: 2.0ms preprocess, 32.7ms inference, 2.1ms postprocess per image at shape (1, 3, 640, 640)\n",
            "VCDR: 0.4305555555555556\n",
            "HCDR: 0.4805194805194805\n",
            "CDAR: 0.23326363809161757\n",
            "Processing /content/M_G-DS-1-4/train/images/SHMC_52_jpg.rf.7cd822a6f072c35931a910191f0d9f44.jpg\n",
            "\n",
            "image 1/1 /content/M_G-DS-1-4/train/images/SHMC_52_jpg.rf.7cd822a6f072c35931a910191f0d9f44.jpg: 640x640 1 cup, 1 disc, 31.4ms\n",
            "Speed: 2.2ms preprocess, 31.4ms inference, 2.2ms postprocess per image at shape (1, 3, 640, 640)\n",
            "VCDR: 0.5918367346938775\n",
            "HCDR: 0.6534653465346535\n",
            "CDAR: 0.41806356830993474\n",
            "Processing /content/M_G-DS-1-4/train/images/013_jpg.rf.83470b9af7a07efcc8c39bb9714bcaf7.jpg\n",
            "\n",
            "image 1/1 /content/M_G-DS-1-4/train/images/013_jpg.rf.83470b9af7a07efcc8c39bb9714bcaf7.jpg: 640x640 1 cup, 1 disc, 32.6ms\n",
            "Speed: 1.9ms preprocess, 32.6ms inference, 2.5ms postprocess per image at shape (1, 3, 640, 640)\n",
            "VCDR: 0.49019607843137253\n",
            "HCDR: 0.5274725274725275\n",
            "CDAR: 0.2521514479724894\n",
            "Processing /content/M_G-DS-1-4/train/images/069_g_jpg.rf.2543fe47ea408edecb99612bfdb5cb86.jpg\n",
            "\n",
            "image 1/1 /content/M_G-DS-1-4/train/images/069_g_jpg.rf.2543fe47ea408edecb99612bfdb5cb86.jpg: 640x640 1 cup, 1 disc, 32.2ms\n",
            "Speed: 2.3ms preprocess, 32.2ms inference, 2.6ms postprocess per image at shape (1, 3, 640, 640)\n",
            "VCDR: 0.6086956521739131\n",
            "HCDR: 0.7131782945736435\n",
            "CDAR: 0.4364957610012111\n",
            "Processing /content/M_G-DS-1-4/train/images/drishtiGS_094_jpg.rf.c507fb161262ca6027fb8c8ad249c61c.jpg\n",
            "\n",
            "image 1/1 /content/M_G-DS-1-4/train/images/drishtiGS_094_jpg.rf.c507fb161262ca6027fb8c8ad249c61c.jpg: 640x640 1 cup, 1 disc, 32.2ms\n",
            "Speed: 2.1ms preprocess, 32.2ms inference, 2.5ms postprocess per image at shape (1, 3, 640, 640)\n",
            "VCDR: 0.45454545454545453\n",
            "HCDR: 0.5714285714285714\n",
            "CDAR: 0.24718575480249116\n",
            "Processing /content/M_G-DS-1-4/train/images/209_jpg.rf.99e36efd6b65e74a9d1ceaf81d0ab801.jpg\n",
            "\n",
            "image 1/1 /content/M_G-DS-1-4/train/images/209_jpg.rf.99e36efd6b65e74a9d1ceaf81d0ab801.jpg: 640x640 1 cup, 1 disc, 30.8ms\n",
            "Speed: 2.1ms preprocess, 30.8ms inference, 2.1ms postprocess per image at shape (1, 3, 640, 640)\n",
            "VCDR: 0.5084745762711864\n",
            "HCDR: 0.6530612244897959\n",
            "CDAR: 0.32453984379267026\n",
            "Processing /content/M_G-DS-1-4/train/images/SHMC_69_jpg.rf.710332d0cf64b320fa41426a96877e36.jpg\n",
            "\n",
            "image 1/1 /content/M_G-DS-1-4/train/images/SHMC_69_jpg.rf.710332d0cf64b320fa41426a96877e36.jpg: 640x640 1 cup, 1 disc, 31.2ms\n",
            "Speed: 2.1ms preprocess, 31.2ms inference, 2.3ms postprocess per image at shape (1, 3, 640, 640)\n",
            "VCDR: 0.5948275862068966\n",
            "HCDR: 0.6808510638297872\n",
            "CDAR: 0.408642742289139\n",
            "Processing /content/M_G-DS-1-4/train/images/Im559_g_ACRIMA_jpg.rf.b60cb50c442844213e32415103fb5bb4.jpg\n",
            "\n",
            "image 1/1 /content/M_G-DS-1-4/train/images/Im559_g_ACRIMA_jpg.rf.b60cb50c442844213e32415103fb5bb4.jpg: 640x640 1 cup, 1 disc, 32.6ms\n",
            "Speed: 1.9ms preprocess, 32.6ms inference, 2.6ms postprocess per image at shape (1, 3, 640, 640)\n",
            "VCDR: 0.7472222222222222\n",
            "HCDR: 0.6907216494845361\n",
            "CDAR: 0.5534714406791436\n",
            "Processing /content/M_G-DS-1-4/train/images/Im505_g_ACRIMA_jpg.rf.5f632e46381fd2d6db30e5f6f8e8b263.jpg\n",
            "\n",
            "image 1/1 /content/M_G-DS-1-4/train/images/Im505_g_ACRIMA_jpg.rf.5f632e46381fd2d6db30e5f6f8e8b263.jpg: 640x640 1 cup, 1 disc, 31.3ms\n",
            "Speed: 2.1ms preprocess, 31.3ms inference, 1.9ms postprocess per image at shape (1, 3, 640, 640)\n",
            "VCDR: 0.8375\n",
            "HCDR: 0.6631578947368421\n",
            "CDAR: 0.5470666301749023\n",
            "Processing /content/M_G-DS-1-4/train/images/drishtiGS_095_jpg.rf.19d9337372e759db04b0e4d9b9feba55.jpg\n",
            "\n",
            "image 1/1 /content/M_G-DS-1-4/train/images/drishtiGS_095_jpg.rf.19d9337372e759db04b0e4d9b9feba55.jpg: 640x640 1 cup, 1 disc, 33.3ms\n",
            "Speed: 1.8ms preprocess, 33.3ms inference, 2.0ms postprocess per image at shape (1, 3, 640, 640)\n",
            "VCDR: 0.5194805194805194\n",
            "HCDR: 0.6267123287671232\n",
            "CDAR: 0.3354690914217241\n",
            "Processing /content/M_G-DS-1-4/train/images/SHMC_53_jpg.rf.f5d82c0cf17228f63c86d28c8abe1335.jpg\n",
            "\n",
            "image 1/1 /content/M_G-DS-1-4/train/images/SHMC_53_jpg.rf.f5d82c0cf17228f63c86d28c8abe1335.jpg: 640x640 1 cup, 1 disc, 31.6ms\n",
            "Speed: 2.1ms preprocess, 31.6ms inference, 1.8ms postprocess per image at shape (1, 3, 640, 640)\n",
            "VCDR: 0.5995085995085995\n",
            "HCDR: 0.696969696969697\n",
            "CDAR: 0.42051854462851995\n",
            "Processing /content/M_G-DS-1-4/train/images/Im082_ACRIMA_jpg.rf.559aca85fe49295a99c1de6238714a22.jpg\n",
            "\n",
            "image 1/1 /content/M_G-DS-1-4/train/images/Im082_ACRIMA_jpg.rf.559aca85fe49295a99c1de6238714a22.jpg: 640x640 1 cup, 1 disc, 32.4ms\n",
            "Speed: 1.8ms preprocess, 32.4ms inference, 1.8ms postprocess per image at shape (1, 3, 640, 640)\n",
            "VCDR: 0.4725274725274725\n",
            "HCDR: 0.5222222222222223\n",
            "CDAR: 0.2728137213412661\n",
            "Processing /content/M_G-DS-1-4/train/images/SHMC_131_g_jpg.rf.394b44ea2c50d5c996ba46469efcc01c.jpg\n",
            "\n",
            "image 1/1 /content/M_G-DS-1-4/train/images/SHMC_131_g_jpg.rf.394b44ea2c50d5c996ba46469efcc01c.jpg: 640x640 1 cup, 1 disc, 32.3ms\n",
            "Speed: 2.0ms preprocess, 32.3ms inference, 2.3ms postprocess per image at shape (1, 3, 640, 640)\n",
            "VCDR: 0.7575757575757576\n",
            "HCDR: 0.6818181818181818\n",
            "CDAR: 0.540389254083117\n",
            "Processing /content/M_G-DS-1-4/train/images/SHMC_42_jpg.rf.1f295289bbfce671cda3080a74c67cf6.jpg\n",
            "\n",
            "image 1/1 /content/M_G-DS-1-4/train/images/SHMC_42_jpg.rf.1f295289bbfce671cda3080a74c67cf6.jpg: 640x640 1 cup, 1 disc, 31.2ms\n",
            "Speed: 1.7ms preprocess, 31.2ms inference, 4.3ms postprocess per image at shape (1, 3, 640, 640)\n",
            "VCDR: 0.6730769230769231\n",
            "HCDR: 0.5963302752293578\n",
            "CDAR: 0.4220549206133172\n",
            "Processing /content/M_G-DS-1-4/train/images/drishtiGS_056_g_jpg.rf.7578f15def3855d617a3d83b2fd7aaaf.jpg\n",
            "\n",
            "image 1/1 /content/M_G-DS-1-4/train/images/drishtiGS_056_g_jpg.rf.7578f15def3855d617a3d83b2fd7aaaf.jpg: 640x640 1 cup, 1 disc, 31.4ms\n",
            "Speed: 2.1ms preprocess, 31.4ms inference, 1.9ms postprocess per image at shape (1, 3, 640, 640)\n",
            "VCDR: 0.5061728395061729\n",
            "HCDR: 0.5769230769230769\n",
            "CDAR: 0.2934276206322795\n",
            "Processing /content/M_G-DS-1-4/train/images/drishtiGS_087_g_jpg.rf.34cc5a45f0f0a01f96821f78e23d8d95.jpg\n",
            "\n",
            "image 1/1 /content/M_G-DS-1-4/train/images/drishtiGS_087_g_jpg.rf.34cc5a45f0f0a01f96821f78e23d8d95.jpg: 640x640 1 cup, 1 disc, 33.1ms\n",
            "Speed: 2.0ms preprocess, 33.1ms inference, 2.0ms postprocess per image at shape (1, 3, 640, 640)\n",
            "VCDR: 0.8674698795180723\n",
            "HCDR: 0.7468354430379747\n",
            "CDAR: 0.6320207627066026\n",
            "Processing /content/M_G-DS-1-4/train/images/drishtiGS_073_g_jpg.rf.840acb9a8378a1414c110fcd8e80dd45.jpg\n",
            "\n",
            "image 1/1 /content/M_G-DS-1-4/train/images/drishtiGS_073_g_jpg.rf.840acb9a8378a1414c110fcd8e80dd45.jpg: 640x640 1 cup, 1 disc, 31.3ms\n",
            "Speed: 2.0ms preprocess, 31.3ms inference, 1.9ms postprocess per image at shape (1, 3, 640, 640)\n",
            "VCDR: 0.7528089887640449\n",
            "HCDR: 0.6941176470588235\n",
            "CDAR: 0.5807173755701807\n",
            "Processing /content/M_G-DS-1-4/train/images/SHMC_122_jpg.rf.bdc9112e8356ff6f70eed1d4c2976e67.jpg\n",
            "\n",
            "image 1/1 /content/M_G-DS-1-4/train/images/SHMC_122_jpg.rf.bdc9112e8356ff6f70eed1d4c2976e67.jpg: 640x640 1 cup, 1 disc, 32.3ms\n",
            "Speed: 2.0ms preprocess, 32.3ms inference, 1.9ms postprocess per image at shape (1, 3, 640, 640)\n",
            "VCDR: 0.580952380952381\n",
            "HCDR: 0.6574074074074074\n",
            "CDAR: 0.3872492294005831\n",
            "Processing /content/M_G-DS-1-4/train/images/624_g_jpg.rf.153955902c402b1b3ae0a37f40fe28ec.jpg\n",
            "\n",
            "image 1/1 /content/M_G-DS-1-4/train/images/624_g_jpg.rf.153955902c402b1b3ae0a37f40fe28ec.jpg: 640x640 1 cup, 1 disc, 32.4ms\n",
            "Speed: 2.1ms preprocess, 32.4ms inference, 1.8ms postprocess per image at shape (1, 3, 640, 640)\n",
            "VCDR: 0.7323943661971831\n",
            "HCDR: 0.7058823529411765\n",
            "CDAR: 0.5129590277955571\n",
            "Processing /content/M_G-DS-1-4/train/images/Im697_g_ACRIMA_jpg.rf.8f0de2a90aeba31da279a32578f5b9ea.jpg\n",
            "\n",
            "image 1/1 /content/M_G-DS-1-4/train/images/Im697_g_ACRIMA_jpg.rf.8f0de2a90aeba31da279a32578f5b9ea.jpg: 640x640 1 cup, 1 disc, 31.6ms\n",
            "Speed: 1.9ms preprocess, 31.6ms inference, 1.9ms postprocess per image at shape (1, 3, 640, 640)\n",
            "VCDR: 0.8842105263157894\n",
            "HCDR: 0.8064516129032258\n",
            "CDAR: 0.7012483357013287\n",
            "Processing /content/M_G-DS-1-4/train/images/185_jpg.rf.5a53053a7c991e9b6600a4d759c3233d.jpg\n",
            "\n",
            "image 1/1 /content/M_G-DS-1-4/train/images/185_jpg.rf.5a53053a7c991e9b6600a4d759c3233d.jpg: 640x640 1 cup, 1 disc, 32.1ms\n",
            "Speed: 2.0ms preprocess, 32.1ms inference, 2.0ms postprocess per image at shape (1, 3, 640, 640)\n",
            "VCDR: 0.559322033898305\n",
            "HCDR: 0.5849056603773585\n",
            "CDAR: 0.3247648740604665\n",
            "Processing /content/M_G-DS-1-4/train/images/drishtiGS_043_g_jpg.rf.687cf9161c50ab67c5d6599fd8bca715.jpg\n",
            "\n",
            "image 1/1 /content/M_G-DS-1-4/train/images/drishtiGS_043_g_jpg.rf.687cf9161c50ab67c5d6599fd8bca715.jpg: 640x640 1 cup, 1 disc, 31.6ms\n",
            "Speed: 1.8ms preprocess, 31.6ms inference, 1.8ms postprocess per image at shape (1, 3, 640, 640)\n",
            "VCDR: 0.7411764705882353\n",
            "HCDR: 0.675\n",
            "CDAR: 0.514516021745309\n",
            "Processing /content/M_G-DS-1-4/train/images/drishtiGS_038_g_jpg.rf.e637a18d181eab330fbb8eaf321b5605.jpg\n",
            "\n",
            "image 1/1 /content/M_G-DS-1-4/train/images/drishtiGS_038_g_jpg.rf.e637a18d181eab330fbb8eaf321b5605.jpg: 640x640 1 cup, 1 disc, 32.3ms\n",
            "Speed: 2.3ms preprocess, 32.3ms inference, 2.6ms postprocess per image at shape (1, 3, 640, 640)\n",
            "VCDR: 0.6582278481012658\n",
            "HCDR: 0.6578947368421053\n",
            "CDAR: 0.4230938046604257\n",
            "Processing /content/M_G-DS-1-4/train/images/SHMC_36_jpg.rf.1767dc73a4ee6d26d25fef765538a147.jpg\n",
            "\n",
            "image 1/1 /content/M_G-DS-1-4/train/images/SHMC_36_jpg.rf.1767dc73a4ee6d26d25fef765538a147.jpg: 640x640 1 cup, 1 disc, 31.6ms\n",
            "Speed: 2.1ms preprocess, 31.6ms inference, 2.7ms postprocess per image at shape (1, 3, 640, 640)\n",
            "VCDR: 0.553030303030303\n",
            "HCDR: 0.6555555555555556\n",
            "CDAR: 0.3717826199200156\n",
            "Processing /content/M_G-DS-1-4/train/images/Im611_g_ACRIMA_jpg.rf.1bd1cac1c0ed984b995aab97ac801ccc.jpg\n",
            "\n",
            "image 1/1 /content/M_G-DS-1-4/train/images/Im611_g_ACRIMA_jpg.rf.1bd1cac1c0ed984b995aab97ac801ccc.jpg: 640x640 1 cup, 1 disc, 32.0ms\n",
            "Speed: 2.1ms preprocess, 32.0ms inference, 2.4ms postprocess per image at shape (1, 3, 640, 640)\n",
            "VCDR: 0.61\n",
            "HCDR: 0.6421052631578947\n",
            "CDAR: 0.38970461503106507\n",
            "Processing /content/M_G-DS-1-4/train/images/SHMC_64_jpg.rf.53694031cdbbd6b3f538a23fda81d32e.jpg\n",
            "\n",
            "image 1/1 /content/M_G-DS-1-4/train/images/SHMC_64_jpg.rf.53694031cdbbd6b3f538a23fda81d32e.jpg: 640x640 1 cup, 1 disc, 30.8ms\n",
            "Speed: 1.8ms preprocess, 30.8ms inference, 2.4ms postprocess per image at shape (1, 3, 640, 640)\n",
            "VCDR: 0.5826086956521739\n",
            "HCDR: 0.6320754716981132\n",
            "CDAR: 0.3626032404538153\n",
            "Processing /content/M_G-DS-1-4/train/images/drishtiGS_075_jpg.rf.1438f057145b28c32ba01d1616905106.jpg\n",
            "\n",
            "image 1/1 /content/M_G-DS-1-4/train/images/drishtiGS_075_jpg.rf.1438f057145b28c32ba01d1616905106.jpg: 640x640 1 cup, 1 disc, 32.3ms\n",
            "Speed: 2.5ms preprocess, 32.3ms inference, 2.7ms postprocess per image at shape (1, 3, 640, 640)\n",
            "VCDR: 0.6494845360824743\n",
            "HCDR: 0.6404494382022472\n",
            "CDAR: 0.41113647368057\n",
            "Processing /content/M_G-DS-1-4/train/images/SHMC_49_jpg.rf.81818ee7d0cc17c32c650081ea566cdc.jpg\n",
            "\n",
            "image 1/1 /content/M_G-DS-1-4/train/images/SHMC_49_jpg.rf.81818ee7d0cc17c32c650081ea566cdc.jpg: 640x640 1 cup, 1 disc, 31.1ms\n",
            "Speed: 2.1ms preprocess, 31.1ms inference, 2.0ms postprocess per image at shape (1, 3, 640, 640)\n",
            "VCDR: 0.65\n",
            "HCDR: 0.6565656565656566\n",
            "CDAR: 0.442475249113461\n",
            "Processing /content/M_G-DS-1-4/train/images/278_g_jpg.rf.6c8de454668c54bb51e287de07af28e4.jpg\n",
            "\n",
            "image 1/1 /content/M_G-DS-1-4/train/images/278_g_jpg.rf.6c8de454668c54bb51e287de07af28e4.jpg: 640x640 1 cup, 1 disc, 31.4ms\n",
            "Speed: 2.2ms preprocess, 31.4ms inference, 2.0ms postprocess per image at shape (1, 3, 640, 640)\n",
            "VCDR: 0.7\n",
            "HCDR: 0.6833333333333333\n",
            "CDAR: 0.4962976747830516\n",
            "Processing /content/M_G-DS-1-4/train/images/094_g_jpg.rf.7c95186f5906a26f6a58a515b90cd64f.jpg\n",
            "\n",
            "image 1/1 /content/M_G-DS-1-4/train/images/094_g_jpg.rf.7c95186f5906a26f6a58a515b90cd64f.jpg: 640x640 1 cup, 1 disc, 32.3ms\n",
            "Speed: 2.0ms preprocess, 32.3ms inference, 3.3ms postprocess per image at shape (1, 3, 640, 640)\n",
            "VCDR: 0.6386554621848739\n",
            "HCDR: 0.6278026905829597\n",
            "CDAR: 0.4081496325985304\n",
            "Processing /content/M_G-DS-1-4/train/images/drishtiGS_032_g_jpg.rf.cc04f0c2411e85dba969c277d9f4c2d3.jpg\n",
            "\n",
            "image 1/1 /content/M_G-DS-1-4/train/images/drishtiGS_032_g_jpg.rf.cc04f0c2411e85dba969c277d9f4c2d3.jpg: 640x640 1 cup, 1 disc, 31.2ms\n",
            "Speed: 2.0ms preprocess, 31.2ms inference, 2.1ms postprocess per image at shape (1, 3, 640, 640)\n",
            "VCDR: 0.625\n",
            "HCDR: 0.7553191489361702\n",
            "CDAR: 0.48352928980228\n",
            "Processing /content/M_G-DS-1-4/train/images/Im222_ACRIMA_jpg.rf.8d6518c9b98ac81b425009c91d594bc0.jpg\n",
            "\n",
            "image 1/1 /content/M_G-DS-1-4/train/images/Im222_ACRIMA_jpg.rf.8d6518c9b98ac81b425009c91d594bc0.jpg: 640x640 1 cup, 1 disc, 31.9ms\n",
            "Speed: 2.6ms preprocess, 31.9ms inference, 1.9ms postprocess per image at shape (1, 3, 640, 640)\n",
            "VCDR: 0.66\n",
            "HCDR: 0.7416413373860182\n",
            "CDAR: 0.5210723259461771\n",
            "Processing /content/M_G-DS-1-4/train/images/SHMC_78_jpg.rf.fe9d37795695925ae322f74d35bc45b5.jpg\n",
            "\n",
            "image 1/1 /content/M_G-DS-1-4/train/images/SHMC_78_jpg.rf.fe9d37795695925ae322f74d35bc45b5.jpg: 640x640 1 cup, 1 disc, 31.4ms\n",
            "Speed: 1.9ms preprocess, 31.4ms inference, 1.9ms postprocess per image at shape (1, 3, 640, 640)\n",
            "VCDR: 0.4782608695652174\n",
            "HCDR: 0.5822784810126582\n",
            "CDAR: 0.28272135481480254\n",
            "Processing /content/M_G-DS-1-4/train/images/549_g_jpg.rf.5f656e5c95ce81e3a83915c169988e9a.jpg\n",
            "\n",
            "image 1/1 /content/M_G-DS-1-4/train/images/549_g_jpg.rf.5f656e5c95ce81e3a83915c169988e9a.jpg: 640x640 1 cup, 1 disc, 31.6ms\n",
            "Speed: 2.0ms preprocess, 31.6ms inference, 2.5ms postprocess per image at shape (1, 3, 640, 640)\n",
            "VCDR: 0.6984126984126984\n",
            "HCDR: 0.6825396825396826\n",
            "CDAR: 0.45292017908280563\n",
            "Processing /content/M_G-DS-1-4/train/images/SHMC_117_jpg.rf.71ea607b8b6e5fad74c56afb8f6be333.jpg\n",
            "\n",
            "image 1/1 /content/M_G-DS-1-4/train/images/SHMC_117_jpg.rf.71ea607b8b6e5fad74c56afb8f6be333.jpg: 640x640 1 cup, 1 disc, 31.3ms\n",
            "Speed: 1.8ms preprocess, 31.3ms inference, 2.2ms postprocess per image at shape (1, 3, 640, 640)\n",
            "VCDR: 0.6336633663366337\n",
            "HCDR: 0.6634615384615384\n",
            "CDAR: 0.4401481400710325\n",
            "Processing /content/M_G-DS-1-4/train/images/Im531_g_ACRIMA_jpg.rf.93a7c9b4a5fd311f2875c8fc3fa43934.jpg\n",
            "\n",
            "image 1/1 /content/M_G-DS-1-4/train/images/Im531_g_ACRIMA_jpg.rf.93a7c9b4a5fd311f2875c8fc3fa43934.jpg: 640x640 1 cup, 1 disc, 31.7ms\n",
            "Speed: 2.2ms preprocess, 31.7ms inference, 2.1ms postprocess per image at shape (1, 3, 640, 640)\n",
            "VCDR: 0.7475728155339806\n",
            "HCDR: 0.6701030927835051\n",
            "CDAR: 0.543754710627175\n",
            "Processing /content/M_G-DS-1-4/train/images/Im188_ACRIMA_jpg.rf.f7b2ba5023bd37cda650f36130144b9e.jpg\n",
            "\n",
            "image 1/1 /content/M_G-DS-1-4/train/images/Im188_ACRIMA_jpg.rf.f7b2ba5023bd37cda650f36130144b9e.jpg: 640x640 1 cup, 1 disc, 31.2ms\n",
            "Speed: 2.0ms preprocess, 31.2ms inference, 2.0ms postprocess per image at shape (1, 3, 640, 640)\n",
            "VCDR: 0.43333333333333335\n",
            "HCDR: 0.532608695652174\n",
            "CDAR: 0.24232352240865732\n",
            "Processing /content/M_G-DS-1-4/train/images/480_g_jpg.rf.84d021eb6dd26bb9580b249ba6e3fb0b.jpg\n",
            "\n",
            "image 1/1 /content/M_G-DS-1-4/train/images/480_g_jpg.rf.84d021eb6dd26bb9580b249ba6e3fb0b.jpg: 640x640 1 cup, 1 disc, 31.7ms\n",
            "Speed: 1.9ms preprocess, 31.7ms inference, 2.9ms postprocess per image at shape (1, 3, 640, 640)\n",
            "VCDR: 0.5344827586206896\n",
            "HCDR: 0.6229508196721312\n",
            "CDAR: 0.32508760364986294\n",
            "Processing /content/M_G-DS-1-4/train/images/Im290_ACRIMA_jpg.rf.5bb732ff98bc545dbb7e85bc200bebe1.jpg\n",
            "\n",
            "image 1/1 /content/M_G-DS-1-4/train/images/Im290_ACRIMA_jpg.rf.5bb732ff98bc545dbb7e85bc200bebe1.jpg: 640x640 1 cup, 1 disc, 32.1ms\n",
            "Speed: 2.1ms preprocess, 32.1ms inference, 1.9ms postprocess per image at shape (1, 3, 640, 640)\n",
            "VCDR: 0.574468085106383\n",
            "HCDR: 0.6\n",
            "CDAR: 0.35637425652270943\n",
            "Processing /content/M_G-DS-1-4/train/images/drishtiGS_061_g_jpg.rf.13e8602bf0ce7adf0c1873fce906c02c.jpg\n",
            "\n",
            "image 1/1 /content/M_G-DS-1-4/train/images/drishtiGS_061_g_jpg.rf.13e8602bf0ce7adf0c1873fce906c02c.jpg: 640x640 1 cup, 1 disc, 31.6ms\n",
            "Speed: 2.0ms preprocess, 31.6ms inference, 1.9ms postprocess per image at shape (1, 3, 640, 640)\n",
            "VCDR: 0.8571428571428571\n",
            "HCDR: 0.6818181818181818\n",
            "CDAR: 0.6050769956324714\n",
            "Processing /content/M_G-DS-1-4/train/images/SHMC_83_jpg.rf.0f09f183ff25e17ba7277418fce04f0a.jpg\n",
            "\n",
            "image 1/1 /content/M_G-DS-1-4/train/images/SHMC_83_jpg.rf.0f09f183ff25e17ba7277418fce04f0a.jpg: 640x640 1 cup, 1 disc, 32.0ms\n",
            "Speed: 2.0ms preprocess, 32.0ms inference, 2.2ms postprocess per image at shape (1, 3, 640, 640)\n",
            "VCDR: 0.6170212765957447\n",
            "HCDR: 0.5747126436781609\n",
            "CDAR: 0.37135721045494013\n",
            "Processing /content/M_G-DS-1-4/train/images/Im285_ACRIMA_jpg.rf.ac034248f23d48a28c3f77632c010f93.jpg\n",
            "\n",
            "image 1/1 /content/M_G-DS-1-4/train/images/Im285_ACRIMA_jpg.rf.ac034248f23d48a28c3f77632c010f93.jpg: 640x640 1 cup, 1 disc, 31.5ms\n",
            "Speed: 2.2ms preprocess, 31.5ms inference, 2.7ms postprocess per image at shape (1, 3, 640, 640)\n",
            "VCDR: 0.59\n",
            "HCDR: 0.5681818181818182\n",
            "CDAR: 0.34369211485341566\n",
            "Processing /content/M_G-DS-1-4/train/images/Im638_g_ACRIMA_jpg.rf.bc86f5bda9a4e5c5508786b3d3f714e9.jpg\n",
            "\n",
            "image 1/1 /content/M_G-DS-1-4/train/images/Im638_g_ACRIMA_jpg.rf.bc86f5bda9a4e5c5508786b3d3f714e9.jpg: 640x640 1 cup, 1 disc, 31.4ms\n",
            "Speed: 1.8ms preprocess, 31.4ms inference, 2.4ms postprocess per image at shape (1, 3, 640, 640)\n",
            "VCDR: 0.5108695652173914\n",
            "HCDR: 0.6395348837209303\n",
            "CDAR: 0.3209176206861109\n",
            "Processing /content/M_G-DS-1-4/train/images/228_g_jpg.rf.6460ffe6adec21d4b979984e651f039c.jpg\n",
            "\n",
            "image 1/1 /content/M_G-DS-1-4/train/images/228_g_jpg.rf.6460ffe6adec21d4b979984e651f039c.jpg: 640x640 1 cup, 1 disc, 32.4ms\n",
            "Speed: 2.7ms preprocess, 32.4ms inference, 2.7ms postprocess per image at shape (1, 3, 640, 640)\n",
            "VCDR: 0.5910652920962199\n",
            "HCDR: 0.6923076923076923\n",
            "CDAR: 0.41160585744831285\n",
            "Processing /content/M_G-DS-1-4/train/images/SHMC_143_jpg.rf.3663e734b34d2e6841812d437cc48842.jpg\n",
            "\n",
            "image 1/1 /content/M_G-DS-1-4/train/images/SHMC_143_jpg.rf.3663e734b34d2e6841812d437cc48842.jpg: 640x640 1 cup, 1 disc, 31.5ms\n",
            "Speed: 2.2ms preprocess, 31.5ms inference, 2.4ms postprocess per image at shape (1, 3, 640, 640)\n",
            "VCDR: 0.7933884297520661\n",
            "HCDR: 0.7565217391304347\n",
            "CDAR: 0.6248390442807068\n",
            "Processing /content/M_G-DS-1-4/train/images/Im276_ACRIMA_jpg.rf.281f1d18e0b03e72154f05a84d76af32.jpg\n",
            "\n",
            "image 1/1 /content/M_G-DS-1-4/train/images/Im276_ACRIMA_jpg.rf.281f1d18e0b03e72154f05a84d76af32.jpg: 640x640 1 cup, 1 disc, 32.9ms\n",
            "Speed: 2.0ms preprocess, 32.9ms inference, 2.7ms postprocess per image at shape (1, 3, 640, 640)\n",
            "VCDR: 0.49038461538461536\n",
            "HCDR: 0.5\n",
            "CDAR: 0.2511865381849561\n",
            "Processing /content/M_G-DS-1-4/train/images/drishtiGS_083_g_jpg.rf.8e13c8eb3623ef73553795aa3b4f7289.jpg\n",
            "\n",
            "image 1/1 /content/M_G-DS-1-4/train/images/drishtiGS_083_g_jpg.rf.8e13c8eb3623ef73553795aa3b4f7289.jpg: 640x640 1 cup, 1 disc, 33.7ms\n",
            "Speed: 2.2ms preprocess, 33.7ms inference, 2.6ms postprocess per image at shape (1, 3, 640, 640)\n",
            "VCDR: 0.6179775280898876\n",
            "HCDR: 0.6593406593406593\n",
            "CDAR: 0.4204387529753031\n",
            "Processing /content/M_G-DS-1-4/train/images/458_g_jpg.rf.f17b15f370c98c8df1494a7dd35a144f.jpg\n",
            "\n",
            "image 1/1 /content/M_G-DS-1-4/train/images/458_g_jpg.rf.f17b15f370c98c8df1494a7dd35a144f.jpg: 640x640 1 cup, 1 disc, 34.9ms\n",
            "Speed: 2.2ms preprocess, 34.9ms inference, 2.2ms postprocess per image at shape (1, 3, 640, 640)\n",
            "VCDR: 0.7142857142857143\n",
            "HCDR: 0.7169811320754716\n",
            "CDAR: 0.4889727417619093\n",
            "Processing /content/M_G-DS-1-4/train/images/drishtiGS_079_g_jpg.rf.6a71254f80f653a1b7643485fed0f9a7.jpg\n",
            "\n",
            "image 1/1 /content/M_G-DS-1-4/train/images/drishtiGS_079_g_jpg.rf.6a71254f80f653a1b7643485fed0f9a7.jpg: 640x640 1 cup, 1 disc, 33.9ms\n",
            "Speed: 2.0ms preprocess, 33.9ms inference, 2.1ms postprocess per image at shape (1, 3, 640, 640)\n",
            "VCDR: 0.7191011235955056\n",
            "HCDR: 0.6590909090909091\n",
            "CDAR: 0.4771093611842174\n",
            "Processing /content/M_G-DS-1-4/train/images/Im599_g_ACRIMA_jpg.rf.9fc853afee08bda2ca590f7b104fa363.jpg\n",
            "\n",
            "image 1/1 /content/M_G-DS-1-4/train/images/Im599_g_ACRIMA_jpg.rf.9fc853afee08bda2ca590f7b104fa363.jpg: 640x640 1 cup, 1 disc, 32.4ms\n",
            "Speed: 2.1ms preprocess, 32.4ms inference, 3.6ms postprocess per image at shape (1, 3, 640, 640)\n",
            "VCDR: 0.6274509803921569\n",
            "HCDR: 0.6631578947368421\n",
            "CDAR: 0.4100936307373881\n",
            "Processing /content/M_G-DS-1-4/train/images/SHMC_38_jpg.rf.5bac020248a13d9bf39a215189d6ad30.jpg\n",
            "\n",
            "image 1/1 /content/M_G-DS-1-4/train/images/SHMC_38_jpg.rf.5bac020248a13d9bf39a215189d6ad30.jpg: 640x640 1 cup, 1 disc, 31.1ms\n",
            "Speed: 2.1ms preprocess, 31.1ms inference, 1.9ms postprocess per image at shape (1, 3, 640, 640)\n",
            "VCDR: 0.5425531914893617\n",
            "HCDR: 0.6153846153846154\n",
            "CDAR: 0.35580800437418836\n",
            "Processing /content/M_G-DS-1-4/train/images/drishtiGS_078_jpg.rf.4ec0984fddfdb3bb2c3489cc01f4f290.jpg\n",
            "\n",
            "image 1/1 /content/M_G-DS-1-4/train/images/drishtiGS_078_jpg.rf.4ec0984fddfdb3bb2c3489cc01f4f290.jpg: 640x640 1 cup, 1 disc, 34.7ms\n",
            "Speed: 1.9ms preprocess, 34.7ms inference, 2.0ms postprocess per image at shape (1, 3, 640, 640)\n",
            "VCDR: 0.5763688760806917\n",
            "HCDR: 0.6097560975609756\n",
            "CDAR: 0.3436642341670856\n",
            "Processing /content/M_G-DS-1-4/train/images/Im477_g_ACRIMA_jpg.rf.c2abc6043d7976abeb446bd96624b3eb.jpg\n",
            "\n",
            "image 1/1 /content/M_G-DS-1-4/train/images/Im477_g_ACRIMA_jpg.rf.c2abc6043d7976abeb446bd96624b3eb.jpg: 640x640 1 cup, 1 disc, 33.0ms\n",
            "Speed: 2.0ms preprocess, 33.0ms inference, 2.2ms postprocess per image at shape (1, 3, 640, 640)\n",
            "VCDR: 0.7291666666666666\n",
            "HCDR: 0.7386363636363636\n",
            "CDAR: 0.5547601658065171\n",
            "Processing /content/M_G-DS-1-4/train/images/SHMC_134_jpg.rf.ba0a3a8528d3d795a3c973cf20660245.jpg\n",
            "\n",
            "image 1/1 /content/M_G-DS-1-4/train/images/SHMC_134_jpg.rf.ba0a3a8528d3d795a3c973cf20660245.jpg: 640x640 1 cup, 1 disc, 32.2ms\n",
            "Speed: 2.6ms preprocess, 32.2ms inference, 2.1ms postprocess per image at shape (1, 3, 640, 640)\n",
            "VCDR: 0.62\n",
            "HCDR: 0.6698113207547169\n",
            "CDAR: 0.44220838425575665\n",
            "Processing /content/M_G-DS-1-4/train/images/drishtiGS_049_g_jpg.rf.0a9f7e012248047c529369ef187081df.jpg\n",
            "\n",
            "image 1/1 /content/M_G-DS-1-4/train/images/drishtiGS_049_g_jpg.rf.0a9f7e012248047c529369ef187081df.jpg: 640x640 1 cup, 1 disc, 32.4ms\n",
            "Speed: 2.1ms preprocess, 32.4ms inference, 2.2ms postprocess per image at shape (1, 3, 640, 640)\n",
            "VCDR: 0.75\n",
            "HCDR: 0.7078651685393258\n",
            "CDAR: 0.5239087265954117\n",
            "Processing /content/M_G-DS-1-4/train/images/Im236_ACRIMA_jpg.rf.49cd0d8dfcb47b076644ddfe21bc82e8.jpg\n",
            "\n",
            "image 1/1 /content/M_G-DS-1-4/train/images/Im236_ACRIMA_jpg.rf.49cd0d8dfcb47b076644ddfe21bc82e8.jpg: 640x640 1 cup, 1 disc, 34.5ms\n",
            "Speed: 2.1ms preprocess, 34.5ms inference, 2.3ms postprocess per image at shape (1, 3, 640, 640)\n",
            "VCDR: 0.6041666666666666\n",
            "HCDR: 0.6559139784946236\n",
            "CDAR: 0.4010101325575896\n",
            "Processing /content/M_G-DS-1-4/train/images/SHMC_127_jpg.rf.8d966d40b905727e09a980a50eee96dc.jpg\n",
            "\n",
            "image 1/1 /content/M_G-DS-1-4/train/images/SHMC_127_jpg.rf.8d966d40b905727e09a980a50eee96dc.jpg: 640x640 1 cup, 1 disc, 31.5ms\n",
            "Speed: 2.0ms preprocess, 31.5ms inference, 2.0ms postprocess per image at shape (1, 3, 640, 640)\n",
            "VCDR: 0.6272727272727273\n",
            "HCDR: 0.7029702970297029\n",
            "CDAR: 0.4502717499107391\n",
            "Processing /content/M_G-DS-1-4/train/images/drishtiGS_047_jpg.rf.318c7cc5acf137214726e9a76636fe58.jpg\n",
            "\n",
            "image 1/1 /content/M_G-DS-1-4/train/images/drishtiGS_047_jpg.rf.318c7cc5acf137214726e9a76636fe58.jpg: 640x640 1 cup, 1 disc, 31.9ms\n",
            "Speed: 1.8ms preprocess, 31.9ms inference, 2.0ms postprocess per image at shape (1, 3, 640, 640)\n",
            "VCDR: 0.44155844155844154\n",
            "HCDR: 0.5405405405405406\n",
            "CDAR: 0.22804171173419863\n",
            "Processing /content/M_G-DS-1-4/train/images/Im172_ACRIMA_jpg.rf.13a7ad9f80372f12fb93ca4536b59edc.jpg\n",
            "\n",
            "image 1/1 /content/M_G-DS-1-4/train/images/Im172_ACRIMA_jpg.rf.13a7ad9f80372f12fb93ca4536b59edc.jpg: 640x640 1 cup, 1 disc, 31.6ms\n",
            "Speed: 1.9ms preprocess, 31.6ms inference, 1.9ms postprocess per image at shape (1, 3, 640, 640)\n",
            "VCDR: 0.4895833333333333\n",
            "HCDR: 0.5632183908045977\n",
            "CDAR: 0.25900075367122144\n",
            "Processing /content/M_G-DS-1-4/train/images/drishtiGS_054_g_jpg.rf.317f79375382f55fb874eb0f551cce6b.jpg\n",
            "\n",
            "image 1/1 /content/M_G-DS-1-4/train/images/drishtiGS_054_g_jpg.rf.317f79375382f55fb874eb0f551cce6b.jpg: 640x640 1 cup, 1 disc, 32.6ms\n",
            "Speed: 2.4ms preprocess, 32.6ms inference, 1.9ms postprocess per image at shape (1, 3, 640, 640)\n",
            "VCDR: 0.7402597402597403\n",
            "HCDR: 0.7205882352941176\n",
            "CDAR: 0.5584331679614594\n",
            "Processing /content/M_G-DS-1-4/train/images/drishtiGS_080_g_jpg.rf.bbb95f046db7b2ed2cf8ae2c71d734ac.jpg\n",
            "\n",
            "image 1/1 /content/M_G-DS-1-4/train/images/drishtiGS_080_g_jpg.rf.bbb95f046db7b2ed2cf8ae2c71d734ac.jpg: 640x640 1 cup, 1 disc, 31.7ms\n",
            "Speed: 2.4ms preprocess, 31.7ms inference, 1.9ms postprocess per image at shape (1, 3, 640, 640)\n",
            "VCDR: 0.6428571428571429\n",
            "HCDR: 0.625\n",
            "CDAR: 0.40583151830253633\n",
            "Processing /content/M_G-DS-1-4/train/images/302_jpg.rf.312acc12110cc1e8d8da4c4f968dd1bb.jpg\n",
            "\n",
            "image 1/1 /content/M_G-DS-1-4/train/images/302_jpg.rf.312acc12110cc1e8d8da4c4f968dd1bb.jpg: 640x640 1 cup, 1 disc, 32.1ms\n",
            "Speed: 2.0ms preprocess, 32.1ms inference, 2.4ms postprocess per image at shape (1, 3, 640, 640)\n",
            "VCDR: 0.5384615384615384\n",
            "HCDR: 0.64\n",
            "CDAR: 0.3422961883580029\n",
            "Processing /content/M_G-DS-1-4/train/images/drishtiGS_063_g_jpg.rf.382c574d808db44515a985f374c058fc.jpg\n",
            "\n",
            "image 1/1 /content/M_G-DS-1-4/train/images/drishtiGS_063_g_jpg.rf.382c574d808db44515a985f374c058fc.jpg: 640x640 1 cup, 1 disc, 31.3ms\n",
            "Speed: 2.1ms preprocess, 31.3ms inference, 2.3ms postprocess per image at shape (1, 3, 640, 640)\n",
            "VCDR: 0.78125\n",
            "HCDR: 0.8383838383838383\n",
            "CDAR: 0.6525817835155195\n",
            "Processing /content/M_G-DS-1-4/train/images/drishtiGS_077_g_jpg.rf.96e9a530047ebc942b349e8d51c61de4.jpg\n",
            "\n",
            "image 1/1 /content/M_G-DS-1-4/train/images/drishtiGS_077_g_jpg.rf.96e9a530047ebc942b349e8d51c61de4.jpg: 640x640 1 cup, 1 disc, 32.6ms\n",
            "Speed: 2.2ms preprocess, 32.6ms inference, 2.5ms postprocess per image at shape (1, 3, 640, 640)\n",
            "VCDR: 0.673469387755102\n",
            "HCDR: 0.7411764705882353\n",
            "CDAR: 0.5063735861241367\n",
            "Processing /content/M_G-DS-1-4/train/images/SHMC_48_jpg.rf.33a623d12b0a8e62a7865da775717d5d.jpg\n",
            "\n",
            "image 1/1 /content/M_G-DS-1-4/train/images/SHMC_48_jpg.rf.33a623d12b0a8e62a7865da775717d5d.jpg: 640x640 1 cup, 1 disc, 31.4ms\n",
            "Speed: 2.1ms preprocess, 31.4ms inference, 2.5ms postprocess per image at shape (1, 3, 640, 640)\n",
            "VCDR: 0.6185567010309279\n",
            "HCDR: 0.5714285714285714\n",
            "CDAR: 0.37075803942352076\n",
            "Processing /content/M_G-DS-1-4/train/images/026_jpg.rf.bd08adadb705da438f9f196c4a2d7eba.jpg\n",
            "\n",
            "image 1/1 /content/M_G-DS-1-4/train/images/026_jpg.rf.bd08adadb705da438f9f196c4a2d7eba.jpg: 640x640 1 cup, 1 disc, 31.3ms\n",
            "Speed: 2.4ms preprocess, 31.3ms inference, 2.4ms postprocess per image at shape (1, 3, 640, 640)\n",
            "VCDR: 0.5740740740740741\n",
            "HCDR: 0.6666666666666666\n",
            "CDAR: 0.38831363844094796\n",
            "Processing /content/M_G-DS-1-4/train/images/drishtiGS_018_jpg.rf.71519a28937a4831d47b28145ef1f190.jpg\n",
            "\n",
            "image 1/1 /content/M_G-DS-1-4/train/images/drishtiGS_018_jpg.rf.71519a28937a4831d47b28145ef1f190.jpg: 640x640 1 cup, 1 disc, 32.8ms\n",
            "Speed: 1.9ms preprocess, 32.8ms inference, 2.3ms postprocess per image at shape (1, 3, 640, 640)\n",
            "VCDR: 0.5375\n",
            "HCDR: 0.675\n",
            "CDAR: 0.3966972265909701\n",
            "Processing /content/M_G-DS-1-4/train/images/SHMC_70_jpg.rf.e08b125bcac3cfab67cc0cc170b9f9ad.jpg\n",
            "\n",
            "image 1/1 /content/M_G-DS-1-4/train/images/SHMC_70_jpg.rf.e08b125bcac3cfab67cc0cc170b9f9ad.jpg: 640x640 1 cup, 1 disc, 31.1ms\n",
            "Speed: 1.7ms preprocess, 31.1ms inference, 2.0ms postprocess per image at shape (1, 3, 640, 640)\n",
            "VCDR: 0.5480769230769231\n",
            "HCDR: 0.5656565656565656\n",
            "CDAR: 0.3303090887280579\n",
            "Processing /content/M_G-DS-1-4/train/images/Im647_g_ACRIMA_jpg.rf.c49b2033d3bcc4a88b7d06a00b675c9b.jpg\n",
            "\n",
            "image 1/1 /content/M_G-DS-1-4/train/images/Im647_g_ACRIMA_jpg.rf.c49b2033d3bcc4a88b7d06a00b675c9b.jpg: 640x640 1 cup, 1 disc, 32.6ms\n",
            "Speed: 2.2ms preprocess, 32.6ms inference, 1.9ms postprocess per image at shape (1, 3, 640, 640)\n",
            "VCDR: 0.6190476190476191\n",
            "HCDR: 0.6063829787234043\n",
            "CDAR: 0.3883925942749472\n",
            "Processing /content/M_G-DS-1-4/train/images/Im237_ACRIMA_jpg.rf.1d4cd31cef437f148e519c42d99b3858.jpg\n",
            "\n",
            "image 1/1 /content/M_G-DS-1-4/train/images/Im237_ACRIMA_jpg.rf.1d4cd31cef437f148e519c42d99b3858.jpg: 640x640 1 cup, 1 disc, 32.2ms\n",
            "Speed: 2.0ms preprocess, 32.2ms inference, 3.1ms postprocess per image at shape (1, 3, 640, 640)\n",
            "VCDR: 0.5533980582524272\n",
            "HCDR: 0.6310679611650486\n",
            "CDAR: 0.3537857051481204\n",
            "Processing /content/M_G-DS-1-4/train/images/SHMC_45_jpg.rf.496c0734535373ecf6b59ed02068bf66.jpg\n",
            "\n",
            "image 1/1 /content/M_G-DS-1-4/train/images/SHMC_45_jpg.rf.496c0734535373ecf6b59ed02068bf66.jpg: 640x640 1 cup, 1 disc, 32.0ms\n",
            "Speed: 2.0ms preprocess, 32.0ms inference, 2.0ms postprocess per image at shape (1, 3, 640, 640)\n",
            "VCDR: 0.6486486486486487\n",
            "HCDR: 0.6403508771929824\n",
            "CDAR: 0.4623313395898852\n",
            "Processing /content/M_G-DS-1-4/train/images/SHMC_102_g_jpg.rf.67b91d866f46ade68f5434b20b4cbbbc.jpg\n",
            "\n",
            "image 1/1 /content/M_G-DS-1-4/train/images/SHMC_102_g_jpg.rf.67b91d866f46ade68f5434b20b4cbbbc.jpg: 640x640 1 cup, 1 disc, 31.6ms\n",
            "Speed: 2.0ms preprocess, 31.6ms inference, 2.2ms postprocess per image at shape (1, 3, 640, 640)\n",
            "VCDR: 0.6847826086956522\n",
            "HCDR: 0.6382978723404256\n",
            "CDAR: 0.45742077046621576\n",
            "Processing /content/M_G-DS-1-4/train/images/Im525_g_ACRIMA_jpg.rf.ceec570764e7d430b8c10823eddc3824.jpg\n",
            "\n",
            "image 1/1 /content/M_G-DS-1-4/train/images/Im525_g_ACRIMA_jpg.rf.ceec570764e7d430b8c10823eddc3824.jpg: 640x640 1 cup, 1 disc, 32.6ms\n",
            "Speed: 2.5ms preprocess, 32.6ms inference, 2.7ms postprocess per image at shape (1, 3, 640, 640)\n",
            "VCDR: 0.6630434782608695\n",
            "HCDR: 0.7282608695652174\n",
            "CDAR: 0.486764836625162\n",
            "Processing /content/M_G-DS-1-4/train/images/drishtiGS_085_jpg.rf.e50dfb9e299e75ddf56979bd203bf206.jpg\n",
            "\n",
            "image 1/1 /content/M_G-DS-1-4/train/images/drishtiGS_085_jpg.rf.e50dfb9e299e75ddf56979bd203bf206.jpg: 640x640 1 cup, 1 disc, 31.6ms\n",
            "Speed: 1.9ms preprocess, 31.6ms inference, 2.2ms postprocess per image at shape (1, 3, 640, 640)\n",
            "VCDR: 0.6086956521739131\n",
            "HCDR: 0.6823529411764706\n",
            "CDAR: 0.42662604801333126\n",
            "Processing /content/M_G-DS-1-4/train/images/SHMC_33_jpg.rf.e25312d052e967b15e4436f38171662c.jpg\n",
            "\n",
            "image 1/1 /content/M_G-DS-1-4/train/images/SHMC_33_jpg.rf.e25312d052e967b15e4436f38171662c.jpg: 640x640 1 cup, 1 disc, 32.9ms\n",
            "Speed: 2.5ms preprocess, 32.9ms inference, 1.9ms postprocess per image at shape (1, 3, 640, 640)\n",
            "VCDR: 0.55\n",
            "HCDR: 0.6444444444444445\n",
            "CDAR: 0.36599457772309935\n",
            "Processing /content/M_G-DS-1-4/train/images/drishtiGS_076_g_jpg.rf.6719bc491b59f4f34bcb5e0c3791b388.jpg\n",
            "\n",
            "image 1/1 /content/M_G-DS-1-4/train/images/drishtiGS_076_g_jpg.rf.6719bc491b59f4f34bcb5e0c3791b388.jpg: 640x640 1 cup, 1 disc, 31.4ms\n",
            "Speed: 2.0ms preprocess, 31.4ms inference, 2.3ms postprocess per image at shape (1, 3, 640, 640)\n",
            "VCDR: 0.6736842105263158\n",
            "HCDR: 0.7058823529411765\n",
            "CDAR: 0.4829525151864057\n",
            "Features saved to /content/train.csv\n"
          ]
        }
      ]
    },
    {
      "cell_type": "markdown",
      "source": [
        "**RESULT FOR COMBINING ALL THREE FEATURES IN SVM CLASSIFIER**"
      ],
      "metadata": {
        "id": "8MYAdsB6_Ft1"
      }
    },
    {
      "cell_type": "code",
      "source": [
        "# Load the CSV files\n",
        "train_df = pd.read_csv('/content/train.csv')\n",
        "valid_df = pd.read_csv('/content/valid.csv')\n",
        "test_df = pd.read_csv('/content/test.csv')\n",
        "\n",
        "# Combine train and valid dataframes for training\n",
        "test_valid_df = pd.concat([test_df, valid_df], ignore_index=True)\n",
        "\n",
        "# Function to assign labels based on filename\n",
        "def assign_label(filename):\n",
        "    if '_g' in filename:\n",
        "        return 1  # Glaucoma\n",
        "    else:\n",
        "        return 0  # Non-glaucoma\n",
        "\n",
        "# Apply the function to create labels\n",
        "train_df['Label'] = train_df['Image'].apply(assign_label)\n",
        "test_valid_df['Label'] = test_valid_df['Image'].apply(assign_label)\n",
        "\n",
        "# Extract features and labels\n",
        "X_train = train_df[['VCDR', 'HCDR', 'CDAR']]\n",
        "y_train = train_df['Label']\n",
        "\n",
        "X_test = test_valid_df[['VCDR', 'HCDR', 'CDAR']]\n",
        "y_test = test_valid_df['Label']\n",
        "\n",
        "# Standardize the features\n",
        "scaler = StandardScaler()\n",
        "X_train_scaled = scaler.fit_transform(X_train)\n",
        "X_test_scaled = scaler.transform(X_test)\n",
        "\n",
        "# Create and train the SVM classifier\n",
        "svm_classifier = SVC(kernel='rbf', C=1.0, gamma='scale', probability=True, random_state=42)\n",
        "svm_classifier.fit(X_train_scaled, y_train)\n",
        "\n",
        "# Predict on test data\n",
        "y_pred = svm_classifier.predict(X_test_scaled)\n",
        "y_proba = svm_classifier.predict_proba(X_test_scaled)[:, 1]\n",
        "\n",
        "# Calculate metrics\n",
        "accuracy = accuracy_score(y_test, y_pred)\n",
        "cm = confusion_matrix(y_test, y_pred)\n",
        "tn, fp, fn, tp = cm.ravel()\n",
        "sensitivity = tp / (tp + fn)  # Recall for positive class\n",
        "specificity = tn / (tn + fp)\n",
        "precision = tp / (tp + fp)\n",
        "f1 = 2 * (precision * sensitivity) / (precision + sensitivity)\n",
        "auc = roc_auc_score(y_test, y_proba)\n",
        "\n",
        "# Print the metrics\n",
        "print(f'Accuracy: {accuracy*100:.2f}%')\n",
        "print(f'Sensitivity (Recall): {sensitivity:.2f}')\n",
        "print(f'Specificity: {specificity:.2f}')\n",
        "print(f'Precision: {precision:.2f}')\n",
        "print(f'F1 Score: {f1:.2f}')\n",
        "print(f'AUC: {auc:.2f}\\n')\n",
        "\n",
        "# Classification report\n",
        "print('Classification Report:')\n",
        "print(classification_report(y_test, y_pred, target_names=['Non-Glaucoma', 'Glaucoma']))\n",
        "\n",
        "# Confusion Matrix Heatmap\n",
        "plt.figure(figsize=(6, 4))\n",
        "sns.heatmap(cm, annot=True, fmt='d', cmap='Blues',\n",
        "            xticklabels=['Non-Glaucoma', 'Glaucoma'],\n",
        "            yticklabels=['Non-Glaucoma', 'Glaucoma'])\n",
        "plt.ylabel('Actual')\n",
        "plt.xlabel('Predicted')\n",
        "plt.title('Confusion Matrix')\n",
        "plt.show()\n",
        "\n",
        "# ROC Curve\n",
        "fpr, tpr, thresholds = roc_curve(y_test, y_proba)\n",
        "plt.figure(figsize=(6, 4))\n",
        "plt.plot(fpr, tpr, color='darkorange', lw=2, label=f'AUC = {auc:.2f}')\n",
        "plt.plot([0, 1], [0, 1], color='navy', lw=2, linestyle='--')\n",
        "plt.xlim([-0.01, 1.0])\n",
        "plt.ylim([0.0, 1.05])\n",
        "plt.xlabel('False Positive Rate')\n",
        "plt.ylabel('True Positive Rate')\n",
        "plt.title('Receiver Operating Characteristic (ROC) Curve')\n",
        "plt.legend(loc=\"lower right\")\n",
        "plt.show()"
      ],
      "metadata": {
        "colab": {
          "base_uri": "https://localhost:8080/",
          "height": 1000
        },
        "id": "LhLThcKF5oMU",
        "outputId": "ccb18a93-48c1-44fa-dc9e-6016332a3e22"
      },
      "execution_count": null,
      "outputs": [
        {
          "output_type": "stream",
          "name": "stdout",
          "text": [
            "Accuracy: 89.17%\n",
            "Sensitivity (Recall): 0.90\n",
            "Specificity: 0.89\n",
            "Precision: 0.88\n",
            "F1 Score: 0.89\n",
            "AUC: 0.93\n",
            "\n",
            "Classification Report:\n",
            "              precision    recall  f1-score   support\n",
            "\n",
            "Non-Glaucoma       0.90      0.89      0.89        61\n",
            "    Glaucoma       0.88      0.90      0.89        59\n",
            "\n",
            "    accuracy                           0.89       120\n",
            "   macro avg       0.89      0.89      0.89       120\n",
            "weighted avg       0.89      0.89      0.89       120\n",
            "\n"
          ]
        },
        {
          "output_type": "display_data",
          "data": {
            "text/plain": [
              "<Figure size 600x400 with 2 Axes>"
            ],
            "image/png": "[encoded data removed]"
          },
          "metadata": {}
        },
        {
          "output_type": "display_data",
          "data": {
            "text/plain": [
              "<Figure size 600x400 with 1 Axes>"
            ],
            "image/png": "[encoded data removed]"
          },
          "metadata": {}
        }
      ]
    },
    {
      "cell_type": "markdown",
      "source": [
        "**RESULT FOR SVM CLASSIFIER USING ALL COMBINATION OF THE FEATURES**"
      ],
      "metadata": {
        "id": "ahU91QZgQZ5d"
      }
    },
    {
      "cell_type": "code",
      "source": [
        "import pandas as pd\n",
        "import numpy as np\n",
        "from sklearn.svm import SVC\n",
        "from sklearn.preprocessing import StandardScaler\n",
        "from sklearn.metrics import (\n",
        "    accuracy_score,\n",
        "    confusion_matrix,\n",
        "    roc_auc_score,\n",
        "    classification_report,\n",
        "    roc_curve\n",
        ")\n",
        "import matplotlib.pyplot as plt\n",
        "import seaborn as sns\n",
        "\n",
        "# Load the CSV files\n",
        "train_df = pd.read_csv('/content/train.csv')\n",
        "valid_df = pd.read_csv('/content/valid.csv')\n",
        "test_df = pd.read_csv('/content/test.csv')\n",
        "\n",
        "# Combine train and valid dataframes for training\n",
        "test_valid_df = pd.concat([test_df, valid_df], ignore_index=True)\n",
        "\n",
        "# Function to assign labels based on filename\n",
        "def assign_label(filename):\n",
        "    return 1 if '_g' in filename else 0\n",
        "\n",
        "# Apply the function to create labels\n",
        "train_df['Label'] = train_df['Image'].apply(assign_label)\n",
        "test_valid_df['Label'] = test_valid_df['Image'].apply(assign_label)\n",
        "\n",
        "# Feature combinations to test\n",
        "feature_combinations = {\n",
        "    'VCDR, HCDR, CDAR': ['VCDR', 'HCDR', 'CDAR'],\n",
        "    'HCDR': ['HCDR'],\n",
        "    'VCDR': ['VCDR'],\n",
        "    'CDAR': ['CDAR'],\n",
        "    'HCDR, VCDR': ['HCDR', 'VCDR'],\n",
        "    'HCDR, CDAR': ['HCDR', 'CDAR'],\n",
        "    'CDAR, VCDR': ['CDAR', 'VCDR']\n",
        "}\n",
        "\n",
        "# Dictionary to store results\n",
        "results = []\n",
        "\n",
        "# Loop through each feature combination\n",
        "for name, features in feature_combinations.items():\n",
        "    # Extract features and labels\n",
        "    X_train = train_df[features]\n",
        "    y_train = train_df['Label']\n",
        "    X_test = test_valid_df[features]\n",
        "    y_test = test_valid_df['Label']\n",
        "\n",
        "    # Standardize the features\n",
        "    scaler = StandardScaler()\n",
        "    X_train_scaled = scaler.fit_transform(X_train)\n",
        "    X_test_scaled = scaler.transform(X_test)\n",
        "\n",
        "    # Train the SVM classifier\n",
        "    svm_classifier = SVC(kernel='rbf', C=1.0, gamma='scale', probability=True, random_state=42)\n",
        "    svm_classifier.fit(X_train_scaled, y_train)\n",
        "\n",
        "    # Predict on test data\n",
        "    y_pred = svm_classifier.predict(X_test_scaled)\n",
        "    y_proba = svm_classifier.predict_proba(X_test_scaled)[:, 1]\n",
        "\n",
        "    # Calculate metrics\n",
        "    accuracy = accuracy_score(y_test, y_pred)\n",
        "    cm = confusion_matrix(y_test, y_pred)\n",
        "    tn, fp, fn, tp = cm.ravel()\n",
        "    sensitivity = tp / (tp + fn)\n",
        "    specificity = tn / (tn + fp)\n",
        "    precision = tp / (tp + fp)\n",
        "    f1 = 2 * (precision * sensitivity) / (precision + sensitivity)\n",
        "    auc = roc_auc_score(y_test, y_proba)\n",
        "\n",
        "    # Store results\n",
        "    results.append({\n",
        "        'Features': name,\n",
        "        'Accuracy': accuracy,\n",
        "        'Sensitivity': sensitivity,\n",
        "        'Specificity': specificity,\n",
        "        'Precision': precision,\n",
        "        'F1 Score': f1,\n",
        "        'AUC': auc\n",
        "    })\n",
        "\n",
        "# Convert results to DataFrame and display\n",
        "results_df = pd.DataFrame(results)\n",
        "\n",
        "# Display the results\n",
        "print(results_df)\n"
      ],
      "metadata": {
        "colab": {
          "base_uri": "https://localhost:8080/"
        },
        "id": "ih8-_ubWQjuq",
        "outputId": "9e370767-28e7-4ddb-c663-4ac890e5733a"
      },
      "execution_count": null,
      "outputs": [
        {
          "output_type": "stream",
          "name": "stdout",
          "text": [
            "           Features  Accuracy  Sensitivity  Specificity  Precision  F1 Score  \\\n",
            "0  VCDR, HCDR, CDAR  0.891667     0.898305     0.885246   0.883333  0.890756   \n",
            "1              HCDR  0.816667     0.881356     0.754098   0.776119  0.825397   \n",
            "2              VCDR  0.900000     0.881356     0.918033   0.912281  0.896552   \n",
            "3              CDAR  0.875000     0.881356     0.868852   0.866667  0.873950   \n",
            "4        HCDR, VCDR  0.883333     0.881356     0.885246   0.881356  0.881356   \n",
            "5        HCDR, CDAR  0.875000     0.881356     0.868852   0.866667  0.873950   \n",
            "6        CDAR, VCDR  0.900000     0.898305     0.901639   0.898305  0.898305   \n",
            "\n",
            "        AUC  \n",
            "0  0.931370  \n",
            "1  0.919700  \n",
            "2  0.904696  \n",
            "3  0.918588  \n",
            "4  0.934148  \n",
            "5  0.934148  \n",
            "6  0.910809  \n"
          ]
        }
      ]
    },
    {
      "cell_type": "markdown",
      "source": [
        "**RESULT FOR COMBINING ALL THREE FEATURES IN SVM CLASSIFIER (3-fold) **"
      ],
      "metadata": {
        "id": "DvTBV4Im-1PH"
      }
    },
    {
      "cell_type": "code",
      "source": [
        "# Load the CSV files\n",
        "train_df = pd.read_csv('/content/train.csv')\n",
        "valid_df = pd.read_csv('/content/valid.csv')\n",
        "test_df = pd.read_csv('/content/test.csv')\n",
        "\n",
        "# Combine train and valid dataframes for training\n",
        "test_valid_df = pd.concat([test_df, valid_df], ignore_index=True)\n",
        "\n",
        "# Function to assign labels based on filename\n",
        "def assign_label(filename):\n",
        "    return 1 if '_g' in filename else 0\n",
        "\n",
        "# Apply the function to create labels\n",
        "train_df['Label'] = train_df['Image'].apply(assign_label)\n",
        "test_valid_df['Label'] = test_valid_df['Image'].apply(assign_label)\n",
        "\n",
        "# Define feature set and label for training and test sets\n",
        "X = train_df[['VCDR', 'HCDR', 'CDAR']]\n",
        "y = train_df['Label']\n",
        "X_test = test_valid_df[['VCDR', 'HCDR', 'CDAR']]\n",
        "y_test = test_valid_df['Label']\n",
        "\n",
        "# Define k-fold cross-validation (Stratified to preserve class distribution)\n",
        "kf = StratifiedKFold(n_splits=3, shuffle=True, random_state=42)\n",
        "\n",
        "# Initialize lists to store metrics for each fold\n",
        "accuracy_list = []\n",
        "auc_list = []\n",
        "sensitivity_list = []\n",
        "specificity_list = []\n",
        "precision_list = []\n",
        "f1_list = []\n",
        "\n",
        "# Perform k-fold cross-validation\n",
        "for train_index, val_index in kf.split(X, y):\n",
        "    # Split into training and validation sets for this fold\n",
        "    X_train, X_val = X.iloc[train_index], X.iloc[val_index]\n",
        "    y_train, y_val = y.iloc[train_index], y.iloc[val_index]\n",
        "\n",
        "    # Standardize the features using training set statistics\n",
        "    scaler = StandardScaler()\n",
        "    X_train_scaled = scaler.fit_transform(X_train)\n",
        "    X_val_scaled = scaler.transform(X_val)\n",
        "\n",
        "    # Train the SVM classifier\n",
        "    svm_classifier = SVC(kernel='rbf', C=1.0, gamma='scale', probability=True, random_state=42)\n",
        "    svm_classifier.fit(X_train_scaled, y_train)\n",
        "\n",
        "    # Predict on the validation set\n",
        "    y_val_pred = svm_classifier.predict(X_val_scaled)\n",
        "    y_val_proba = svm_classifier.predict_proba(X_val_scaled)[:, 1]\n",
        "\n",
        "    # Calculate metrics for this fold\n",
        "    accuracy = accuracy_score(y_val, y_val_pred)\n",
        "    cm = confusion_matrix(y_val, y_val_pred)\n",
        "    tn, fp, fn, tp = cm.ravel()\n",
        "    sensitivity = tp / (tp + fn)  # Recall for positive class\n",
        "    specificity = tn / (tn + fp)\n",
        "    precision = tp / (tp + fp)\n",
        "    f1 = 2 * (precision * sensitivity) / (precision + sensitivity)\n",
        "    auc = roc_auc_score(y_val, y_val_proba)\n",
        "\n",
        "    # Store metrics\n",
        "    accuracy_list.append(accuracy)\n",
        "    auc_list.append(auc)\n",
        "    sensitivity_list.append(sensitivity)\n",
        "    specificity_list.append(specificity)\n",
        "    precision_list.append(precision)\n",
        "    f1_list.append(f1)\n",
        "\n",
        "# Average metrics across folds\n",
        "print('Average Metrics across all folds:')\n",
        "print(f'Accuracy: {np.mean(accuracy_list)*100:.2f}%')\n",
        "print(f'Sensitivity (Recall): {np.mean(sensitivity_list):.2f}')\n",
        "print(f'Specificity: {np.mean(specificity_list):.2f}')\n",
        "print(f'Precision: {np.mean(precision_list):.2f}')\n",
        "print(f'F1 Score: {np.mean(f1_list):.2f}')\n",
        "print(f'AUC: {np.mean(auc_list):.2f}\\n')\n",
        "\n",
        "# Now, train on the entire training set and evaluate on the test set\n",
        "scaler = StandardScaler()\n",
        "X_train_valid_scaled = scaler.fit_transform(X)\n",
        "X_test_scaled = scaler.transform(X_test)  # Use the same scaler for test set\n",
        "\n",
        "svm_classifier.fit(X_train_valid_scaled, y)  # Train on full training data\n",
        "\n",
        "# Predict on the test data\n",
        "y_test_pred = svm_classifier.predict(X_test_scaled)\n",
        "y_test_proba = svm_classifier.predict_proba(X_test_scaled)[:, 1]\n",
        "\n",
        "# Calculate metrics on test set\n",
        "accuracy_test = accuracy_score(y_test, y_test_pred)\n",
        "cm_test = confusion_matrix(y_test, y_test_pred)\n",
        "tn, fp, fn, tp = cm_test.ravel()\n",
        "sensitivity_test = tp / (tp + fn)\n",
        "specificity_test = tn / (tn + fp)\n",
        "precision_test = tp / (tp + fp)\n",
        "f1_test = 2 * (precision_test * sensitivity_test) / (precision_test + sensitivity_test)\n",
        "auc_test = roc_auc_score(y_test, y_test_proba)\n",
        "\n",
        "# Print test set metrics\n",
        "print(f'Test Set Metrics:')\n",
        "print(f'Accuracy: {accuracy_test*100:.2f}%')\n",
        "print(f'Sensitivity (Recall): {sensitivity_test:.2f}')\n",
        "print(f'Specificity: {specificity_test:.2f}')\n",
        "print(f'Precision: {precision_test:.2f}')\n",
        "print(f'F1 Score: {f1_test:.2f}')\n",
        "print(f'AUC: {auc_test:.2f}\\n')\n",
        "\n",
        "# Classification report for test set\n",
        "print('Classification Report (Test Set):')\n",
        "print(classification_report(y_test, y_test_pred, target_names=['Non-Glaucoma', 'Glaucoma']))\n",
        "\n",
        "# Confusion Matrix Heatmap for test set\n",
        "plt.figure(figsize=(6, 4))\n",
        "sns.heatmap(cm_test, annot=True, fmt='d', cmap='Blues',\n",
        "            xticklabels=['Non-Glaucoma', 'Glaucoma'],\n",
        "            yticklabels=['Non-Glaucoma', 'Glaucoma'])\n",
        "plt.ylabel('Actual')\n",
        "plt.xlabel('Predicted')\n",
        "plt.title('Confusion Matrix (Test Set)')\n",
        "plt.show()\n",
        "\n",
        "# ROC Curve for test set\n",
        "fpr, tpr, thresholds = roc_curve(y_test, y_test_proba)\n",
        "plt.figure(figsize=(6, 4))\n",
        "plt.plot(fpr, tpr, color='darkorange', lw=2, label=f'AUC = {auc_test:.2f}')\n",
        "plt.plot([0, 1], [0, 1], color='navy', lw=2, linestyle='--')\n",
        "plt.xlim([-0.01, 1.0])\n",
        "plt.ylim([0.0, 1.05])\n",
        "plt.xlabel('False Positive Rate')\n",
        "plt.ylabel('True Positive Rate')\n",
        "plt.title('Receiver Operating Characteristic (ROC) Curve (Test Set)')\n",
        "plt.legend(loc=\"lower right\")\n",
        "plt.show()\n"
      ],
      "metadata": {
        "colab": {
          "base_uri": "https://localhost:8080/",
          "height": 1000
        },
        "id": "YFm24QY1S3yC",
        "outputId": "876c86cb-240c-4fe5-f983-68842a393bc9"
      },
      "execution_count": null,
      "outputs": [
        {
          "output_type": "stream",
          "name": "stdout",
          "text": [
            "Average Metrics across all folds:\n",
            "Accuracy: 82.51%\n",
            "Sensitivity (Recall): 0.79\n",
            "Specificity: 0.86\n",
            "Precision: 0.85\n",
            "F1 Score: 0.82\n",
            "AUC: 0.88\n",
            "\n",
            "Test Set Metrics:\n",
            "Accuracy: 89.17%\n",
            "Sensitivity (Recall): 0.90\n",
            "Specificity: 0.89\n",
            "Precision: 0.88\n",
            "F1 Score: 0.89\n",
            "AUC: 0.93\n",
            "\n",
            "Classification Report (Test Set):\n",
            "              precision    recall  f1-score   support\n",
            "\n",
            "Non-Glaucoma       0.90      0.89      0.89        61\n",
            "    Glaucoma       0.88      0.90      0.89        59\n",
            "\n",
            "    accuracy                           0.89       120\n",
            "   macro avg       0.89      0.89      0.89       120\n",
            "weighted avg       0.89      0.89      0.89       120\n",
            "\n"
          ]
        },
        {
          "output_type": "display_data",
          "data": {
            "text/plain": [
              "<Figure size 600x400 with 2 Axes>"
            ],
            "image/png": "[encoded data removed]"
          },
          "metadata": {}
        },
        {
          "output_type": "display_data",
          "data": {
            "text/plain": [
              "<Figure size 600x400 with 1 Axes>"
            ],
            "image/png": "[encoded data removed]"
          },
          "metadata": {}
        }
      ]
    },
    {
      "cell_type": "code",
      "source": [
        "# Load the CSV files\n",
        "train_df = pd.read_csv('/content/train.csv')\n",
        "valid_df = pd.read_csv('/content/valid.csv')\n",
        "test_df = pd.read_csv('/content/test.csv')\n",
        "\n",
        "# Combine train and valid dataframes for training\n",
        "test_valid_df = pd.concat([test_df, valid_df], ignore_index=True)\n",
        "\n",
        "# Function to assign labels based on filename\n",
        "def assign_label(filename):\n",
        "    return 1 if '_g' in filename else 0\n",
        "\n",
        "# Apply the function to create labels\n",
        "train_df['Label'] = train_df['Image'].apply(assign_label)\n",
        "test_valid_df['Label'] = test_valid_df['Image'].apply(assign_label)\n",
        "\n",
        "# Define feature combinations\n",
        "feature_combinations = {\n",
        "    'HCDR, VCDR, CDAR': ['HCDR', 'VCDR', 'CDAR'],\n",
        "    'HCDR': ['HCDR'],\n",
        "    'VCDR': ['VCDR'],\n",
        "    'CDAR': ['CDAR'],\n",
        "    'HCDR, VCDR': ['HCDR', 'VCDR'],\n",
        "    'HCDR, CDAR': ['HCDR', 'CDAR'],\n",
        "    'CDAR, VCDR': ['CDAR', 'VCDR']\n",
        "}\n",
        "\n",
        "# Dictionary to store final results\n",
        "results_summary = []\n",
        "\n",
        "# Define k-fold cross-validation (Stratified to preserve class distribution)\n",
        "kf = StratifiedKFold(n_splits=3, shuffle=True, random_state=42)\n",
        "\n",
        "# Loop through each feature combination\n",
        "for name, features in feature_combinations.items():\n",
        "    # Extract features and labels\n",
        "    X = train_df[features]\n",
        "    y = train_df['Label']\n",
        "    X_test = test_valid_df[features]\n",
        "    y_test = test_valid_df['Label']\n",
        "\n",
        "    # Initialize lists to store metrics for each fold\n",
        "    accuracy_list = []\n",
        "    auc_list = []\n",
        "    sensitivity_list = []\n",
        "    specificity_list = []\n",
        "    precision_list = []\n",
        "    f1_list = []\n",
        "\n",
        "    # Perform k-fold cross-validation\n",
        "    for train_index, val_index in kf.split(X, y):\n",
        "        # Split into training and validation sets for this fold\n",
        "        X_train, X_val = X.iloc[train_index], X.iloc[val_index]\n",
        "        y_train, y_val = y.iloc[train_index], y.iloc[val_index]\n",
        "\n",
        "        # Standardize the features\n",
        "        scaler = StandardScaler()\n",
        "        X_train_scaled = scaler.fit_transform(X_train)\n",
        "        X_val_scaled = scaler.transform(X_val)\n",
        "\n",
        "        # Train the SVM classifier\n",
        "        svm_classifier = SVC(kernel='rbf', C=1.0, gamma='scale', probability=True, random_state=42)\n",
        "        svm_classifier.fit(X_train_scaled, y_train)\n",
        "\n",
        "        # Predict on the validation set\n",
        "        y_val_pred = svm_classifier.predict(X_val_scaled)\n",
        "        y_val_proba = svm_classifier.predict_proba(X_val_scaled)[:, 1]\n",
        "\n",
        "        # Calculate metrics for this fold\n",
        "        accuracy = accuracy_score(y_val, y_val_pred)\n",
        "        cm = confusion_matrix(y_val, y_val_pred)\n",
        "        tn, fp, fn, tp = cm.ravel()\n",
        "        sensitivity = tp / (tp + fn)\n",
        "        specificity = tn / (tn + fp)\n",
        "        precision = tp / (tp + fp)\n",
        "        f1 = 2 * (precision * sensitivity) / (precision + sensitivity)\n",
        "        auc = roc_auc_score(y_val, y_val_proba)\n",
        "\n",
        "        # Store metrics for each fold\n",
        "        accuracy_list.append(accuracy)\n",
        "        auc_list.append(auc)\n",
        "        sensitivity_list.append(sensitivity)\n",
        "        specificity_list.append(specificity)\n",
        "        precision_list.append(precision)\n",
        "        f1_list.append(f1)\n",
        "\n",
        "\n",
        "\n",
        "    # Average metrics across folds\n",
        "    avg_accuracy = np.mean(accuracy_list)\n",
        "    avg_auc = np.mean(auc_list)\n",
        "    avg_sensitivity = np.mean(sensitivity_list)\n",
        "    avg_specificity = np.mean(specificity_list)\n",
        "    avg_precision = np.mean(precision_list)\n",
        "    avg_f1 = np.mean(f1_list)\n",
        "\n",
        "    # Standardize and evaluate on test set\n",
        "    scaler = StandardScaler()\n",
        "    X_train_scaled = scaler.fit_transform(X)\n",
        "    X_test_scaled = scaler.transform(X_test)\n",
        "    svm_classifier.fit(X_train_scaled, y)  # Train on full train data\n",
        "\n",
        "    # Predict on the test data\n",
        "    y_test_pred = svm_classifier.predict(X_test_scaled)\n",
        "    y_test_proba = svm_classifier.predict_proba(X_test_scaled)[:, 1]\n",
        "\n",
        "    # Test set metrics\n",
        "    test_accuracy = accuracy_score(y_test, y_test_pred)\n",
        "    cm_test = confusion_matrix(y_test, y_test_pred)\n",
        "    tn, fp, fn, tp = cm_test.ravel()\n",
        "    test_sensitivity = tp / (tp + fn)\n",
        "    test_specificity = tn / (tn + fp)\n",
        "    test_precision = tp / (tp + fp)\n",
        "    test_f1 = 2 * (test_precision * test_sensitivity) / (test_precision + test_sensitivity)\n",
        "    test_auc = roc_auc_score(y_test, y_test_proba)\n",
        "\n",
        "    # Append results\n",
        "    results_summary.append({\n",
        "        'Features': name,\n",
        "        'CV Accuracy': avg_accuracy,\n",
        "        'CV Sensitivity': avg_sensitivity,\n",
        "        'CV Specificity': avg_specificity,\n",
        "        'CV Precision': avg_precision,\n",
        "        'CV F1 Score': avg_f1,\n",
        "        'CV AUC': avg_auc,\n",
        "        'Test Accuracy': test_accuracy,\n",
        "        'Test Sensitivity': test_sensitivity,\n",
        "        'Test Specificity': test_specificity,\n",
        "        'Test Precision': test_precision,\n",
        "        'Test F1 Score': test_f1,\n",
        "        'Test AUC': test_auc\n",
        "    })\n",
        "\n",
        "pd.set_option(\"display.max_columns\", None)\n",
        "pd.set_option(\"display.float_format\", \"{:.4f}\".format)\n",
        "pd.set_option(\"display.colheader_justify\", \"center\")\n",
        "pd.set_option(\"display.width\", 1000)\n",
        "\n",
        "\n",
        "display(results_df)\n",
        "results_df = pd.DataFrame(results_summary)\n"
      ],
      "metadata": {
        "colab": {
          "base_uri": "https://localhost:8080/",
          "height": 303
        },
        "id": "PUT907l1RJTU",
        "outputId": "b6cd0d1a-2270-4a09-eb12-6250f7673b71"
      },
      "execution_count": null,
      "outputs": [
        {
          "output_type": "display_data",
          "data": {
            "text/plain": [
              "       Features      CV Accuracy  CV Sensitivity  CV Specificity  CV Precision  CV F1 Score  CV AUC  Test Accuracy  Test Sensitivity  Test Specificity  Test Precision  Test F1 Score  Test AUC\n",
              "0  HCDR, VCDR, CDAR    0.8251         0.7899          0.8596         0.8494       0.8170     0.8816     0.8917           0.8983            0.8852           0.8833         0.8908       0.9314 \n",
              "1              HCDR    0.7610         0.8261          0.6978         0.7267       0.7725     0.8129     0.8167           0.8814            0.7541           0.7761         0.8254       0.9197 \n",
              "2              VCDR    0.8143         0.7754          0.8524         0.8390       0.8046     0.8730     0.9000           0.8814            0.9180           0.9123         0.8966       0.9047 \n",
              "3              CDAR    0.8179         0.7826          0.8524         0.8399       0.8093     0.8842     0.8750           0.8814            0.8689           0.8667         0.8739       0.9186 \n",
              "4        HCDR, VCDR    0.8251         0.8043          0.8453         0.8375       0.8194     0.8748     0.8833           0.8814            0.8852           0.8814         0.8814       0.9341 \n",
              "5        HCDR, CDAR    0.8037         0.7899          0.8175         0.8139       0.7996     0.8816     0.8750           0.8814            0.8689           0.8667         0.8739       0.9341 \n",
              "6        CDAR, VCDR    0.8179         0.7754          0.8595         0.8464       0.8082     0.8709     0.9000           0.8983            0.9016           0.8983         0.8983       0.9108 "
            ],
            "text/html": [
              "\n",
              "  <div id=\"df-3b9a0d65-e0f2-4f4c-a1cc-53c9b6e186d6\" class=\"colab-df-container\">\n",
              "    <div>\n",
              "<style scoped>\n",
              "    .dataframe tbody tr th:only-of-type {\n",
              "        vertical-align: middle;\n",
              "    }\n",
              "\n",
              "    .dataframe tbody tr th {\n",
              "        vertical-align: top;\n",
              "    }\n",
              "\n",
              "    .dataframe thead th {\n",
              "        text-align: right;\n",
              "    }\n",
              "</style>\n",
              "<table border=\"1\" class=\"dataframe\">\n",
              "  <thead>\n",
              "    <tr style=\"text-align: center;\">\n",
              "      <th></th>\n",
              "      <th>Features</th>\n",
              "      <th>CV Accuracy</th>\n",
              "      <th>CV Sensitivity</th>\n",
              "      <th>CV Specificity</th>\n",
              "      <th>CV Precision</th>\n",
              "      <th>CV F1 Score</th>\n",
              "      <th>CV AUC</th>\n",
              "      <th>Test Accuracy</th>\n",
              "      <th>Test Sensitivity</th>\n",
              "      <th>Test Specificity</th>\n",
              "      <th>Test Precision</th>\n",
              "      <th>Test F1 Score</th>\n",
              "      <th>Test AUC</th>\n",
              "    </tr>\n",
              "  </thead>\n",
              "  <tbody>\n",
              "    <tr>\n",
              "      <th>0</th>\n",
              "      <td>HCDR, VCDR, CDAR</td>\n",
              "      <td>0.8251</td>\n",
              "      <td>0.7899</td>\n",
              "      <td>0.8596</td>\n",
              "      <td>0.8494</td>\n",
              "      <td>0.8170</td>\n",
              "      <td>0.8816</td>\n",
              "      <td>0.8917</td>\n",
              "      <td>0.8983</td>\n",
              "      <td>0.8852</td>\n",
              "      <td>0.8833</td>\n",
              "      <td>0.8908</td>\n",
              "      <td>0.9314</td>\n",
              "    </tr>\n",
              "    <tr>\n",
              "      <th>1</th>\n",
              "      <td>HCDR</td>\n",
              "      <td>0.7610</td>\n",
              "      <td>0.8261</td>\n",
              "      <td>0.6978</td>\n",
              "      <td>0.7267</td>\n",
              "      <td>0.7725</td>\n",
              "      <td>0.8129</td>\n",
              "      <td>0.8167</td>\n",
              "      <td>0.8814</td>\n",
              "      <td>0.7541</td>\n",
              "      <td>0.7761</td>\n",
              "      <td>0.8254</td>\n",
              "      <td>0.9197</td>\n",
              "    </tr>\n",
              "    <tr>\n",
              "      <th>2</th>\n",
              "      <td>VCDR</td>\n",
              "      <td>0.8143</td>\n",
              "      <td>0.7754</td>\n",
              "      <td>0.8524</td>\n",
              "      <td>0.8390</td>\n",
              "      <td>0.8046</td>\n",
              "      <td>0.8730</td>\n",
              "      <td>0.9000</td>\n",
              "      <td>0.8814</td>\n",
              "      <td>0.9180</td>\n",
              "      <td>0.9123</td>\n",
              "      <td>0.8966</td>\n",
              "      <td>0.9047</td>\n",
              "    </tr>\n",
              "    <tr>\n",
              "      <th>3</th>\n",
              "      <td>CDAR</td>\n",
              "      <td>0.8179</td>\n",
              "      <td>0.7826</td>\n",
              "      <td>0.8524</td>\n",
              "      <td>0.8399</td>\n",
              "      <td>0.8093</td>\n",
              "      <td>0.8842</td>\n",
              "      <td>0.8750</td>\n",
              "      <td>0.8814</td>\n",
              "      <td>0.8689</td>\n",
              "      <td>0.8667</td>\n",
              "      <td>0.8739</td>\n",
              "      <td>0.9186</td>\n",
              "    </tr>\n",
              "    <tr>\n",
              "      <th>4</th>\n",
              "      <td>HCDR, VCDR</td>\n",
              "      <td>0.8251</td>\n",
              "      <td>0.8043</td>\n",
              "      <td>0.8453</td>\n",
              "      <td>0.8375</td>\n",
              "      <td>0.8194</td>\n",
              "      <td>0.8748</td>\n",
              "      <td>0.8833</td>\n",
              "      <td>0.8814</td>\n",
              "      <td>0.8852</td>\n",
              "      <td>0.8814</td>\n",
              "      <td>0.8814</td>\n",
              "      <td>0.9341</td>\n",
              "    </tr>\n",
              "    <tr>\n",
              "      <th>5</th>\n",
              "      <td>HCDR, CDAR</td>\n",
              "      <td>0.8037</td>\n",
              "      <td>0.7899</td>\n",
              "      <td>0.8175</td>\n",
              "      <td>0.8139</td>\n",
              "      <td>0.7996</td>\n",
              "      <td>0.8816</td>\n",
              "      <td>0.8750</td>\n",
              "      <td>0.8814</td>\n",
              "      <td>0.8689</td>\n",
              "      <td>0.8667</td>\n",
              "      <td>0.8739</td>\n",
              "      <td>0.9341</td>\n",
              "    </tr>\n",
              "    <tr>\n",
              "      <th>6</th>\n",
              "      <td>CDAR, VCDR</td>\n",
              "      <td>0.8179</td>\n",
              "      <td>0.7754</td>\n",
              "      <td>0.8595</td>\n",
              "      <td>0.8464</td>\n",
              "      <td>0.8082</td>\n",
              "      <td>0.8709</td>\n",
              "      <td>0.9000</td>\n",
              "      <td>0.8983</td>\n",
              "      <td>0.9016</td>\n",
              "      <td>0.8983</td>\n",
              "      <td>0.8983</td>\n",
              "      <td>0.9108</td>\n",
              "    </tr>\n",
              "  </tbody>\n",
              "</table>\n",
              "</div>\n",
              "    <div class=\"colab-df-buttons\">\n",
              "\n",
              "  <div class=\"colab-df-container\">\n",
              "    <button class=\"colab-df-convert\" onclick=\"convertToInteractive('df-3b9a0d65-e0f2-4f4c-a1cc-53c9b6e186d6')\"\n",
              "            title=\"Convert this dataframe to an interactive table.\"\n",
              "            style=\"display:none;\">\n",
              "\n",
              "  <svg xmlns=\"http://www.w3.org/2000/svg\" height=\"24px\" viewBox=\"0 -960 960 960\">\n",
              "    <path d=\"M120-120v-720h720v720H120Zm60-500h600v-160H180v160Zm220 220h160v-160H400v160Zm0 220h160v-160H400v160ZM180-400h160v-160H180v160Zm440 0h160v-160H620v160ZM180-180h160v-160H180v160Zm440 0h160v-160H620v160Z\"/>\n",
              "  </svg>\n",
              "    </button>\n",
              "\n",
              "  <style>\n",
              "    .colab-df-container {\n",
              "      display:flex;\n",
              "      gap: 12px;\n",
              "    }\n",
              "\n",
              "    .colab-df-convert {\n",
              "      background-color: #E8F0FE;\n",
              "      border: none;\n",
              "      border-radius: 50%;\n",
              "      cursor: pointer;\n",
              "      display: none;\n",
              "      fill: #1967D2;\n",
              "      height: 32px;\n",
              "      padding: 0 0 0 0;\n",
              "      width: 32px;\n",
              "    }\n",
              "\n",
              "    .colab-df-convert:hover {\n",
              "      background-color: #E2EBFA;\n",
              "      box-shadow: 0px 1px 2px rgba(60, 64, 67, 0.3), 0px 1px 3px 1px rgba(60, 64, 67, 0.15);\n",
              "      fill: #174EA6;\n",
              "    }\n",
              "\n",
              "    .colab-df-buttons div {\n",
              "      margin-bottom: 4px;\n",
              "    }\n",
              "\n",
              "    [theme=dark] .colab-df-convert {\n",
              "      background-color: #3B4455;\n",
              "      fill: #D2E3FC;\n",
              "    }\n",
              "\n",
              "    [theme=dark] .colab-df-convert:hover {\n",
              "      background-color: #434B5C;\n",
              "      box-shadow: 0px 1px 3px 1px rgba(0, 0, 0, 0.15);\n",
              "      filter: drop-shadow(0px 1px 2px rgba(0, 0, 0, 0.3));\n",
              "      fill: #FFFFFF;\n",
              "    }\n",
              "  </style>\n",
              "\n",
              "    <script>\n",
              "      const buttonEl =\n",
              "        document.querySelector('#df-3b9a0d65-e0f2-4f4c-a1cc-53c9b6e186d6 button.colab-df-convert');\n",
              "      buttonEl.style.display =\n",
              "        google.colab.kernel.accessAllowed ? 'block' : 'none';\n",
              "\n",
              "      async function convertToInteractive(key) {\n",
              "        const element = document.querySelector('#df-3b9a0d65-e0f2-4f4c-a1cc-53c9b6e186d6');\n",
              "        const dataTable =\n",
              "          await google.colab.kernel.invokeFunction('convertToInteractive',\n",
              "                                                    [key], {});\n",
              "        if (!dataTable) return;\n",
              "\n",
              "        const docLinkHtml = 'Like what you see? Visit the ' +\n",
              "          '<a target=\"_blank\" href=https://colab.research.google.com/notebooks/data_table.ipynb>data table notebook</a>'\n",
              "          + ' to learn more about interactive tables.';\n",
              "        element.innerHTML = '';\n",
              "        dataTable['output_type'] = 'display_data';\n",
              "        await google.colab.output.renderOutput(dataTable, element);\n",
              "        const docLink = document.createElement('div');\n",
              "        docLink.innerHTML = docLinkHtml;\n",
              "        element.appendChild(docLink);\n",
              "      }\n",
              "    </script>\n",
              "  </div>\n",
              "\n",
              "\n",
              "<div id=\"df-03cf1ff2-5c55-4cfd-94a9-604782dfdac4\">\n",
              "  <button class=\"colab-df-quickchart\" onclick=\"quickchart('df-03cf1ff2-5c55-4cfd-94a9-604782dfdac4')\"\n",
              "            title=\"Suggest charts\"\n",
              "            style=\"display:none;\">\n",
              "\n",
              "<svg xmlns=\"http://www.w3.org/2000/svg\" height=\"24px\"viewBox=\"0 0 24 24\"\n",
              "     width=\"24px\">\n",
              "    <g>\n",
              "        <path d=\"M19 3H5c-1.1 0-2 .9-2 2v14c0 1.1.9 2 2 2h14c1.1 0 2-.9 2-2V5c0-1.1-.9-2-2-2zM9 17H7v-7h2v7zm4 0h-2V7h2v10zm4 0h-2v-4h2v4z\"/>\n",
              "    </g>\n",
              "</svg>\n",
              "  </button>\n",
              "\n",
              "<style>\n",
              "  .colab-df-quickchart {\n",
              "      --bg-color: #E8F0FE;\n",
              "      --fill-color: #1967D2;\n",
              "      --hover-bg-color: #E2EBFA;\n",
              "      --hover-fill-color: #174EA6;\n",
              "      --disabled-fill-color: #AAA;\n",
              "      --disabled-bg-color: #DDD;\n",
              "  }\n",
              "\n",
              "  [theme=dark] .colab-df-quickchart {\n",
              "      --bg-color: #3B4455;\n",
              "      --fill-color: #D2E3FC;\n",
              "      --hover-bg-color: #434B5C;\n",
              "      --hover-fill-color: #FFFFFF;\n",
              "      --disabled-bg-color: #3B4455;\n",
              "      --disabled-fill-color: #666;\n",
              "  }\n",
              "\n",
              "  .colab-df-quickchart {\n",
              "    background-color: var(--bg-color);\n",
              "    border: none;\n",
              "    border-radius: 50%;\n",
              "    cursor: pointer;\n",
              "    display: none;\n",
              "    fill: var(--fill-color);\n",
              "    height: 32px;\n",
              "    padding: 0;\n",
              "    width: 32px;\n",
              "  }\n",
              "\n",
              "  .colab-df-quickchart:hover {\n",
              "    background-color: var(--hover-bg-color);\n",
              "    box-shadow: 0 1px 2px rgba(60, 64, 67, 0.3), 0 1px 3px 1px rgba(60, 64, 67, 0.15);\n",
              "    fill: var(--button-hover-fill-color);\n",
              "  }\n",
              "\n",
              "  .colab-df-quickchart-complete:disabled,\n",
              "  .colab-df-quickchart-complete:disabled:hover {\n",
              "    background-color: var(--disabled-bg-color);\n",
              "    fill: var(--disabled-fill-color);\n",
              "    box-shadow: none;\n",
              "  }\n",
              "\n",
              "  .colab-df-spinner {\n",
              "    border: 2px solid var(--fill-color);\n",
              "    border-color: transparent;\n",
              "    border-bottom-color: var(--fill-color);\n",
              "    animation:\n",
              "      spin 1s steps(1) infinite;\n",
              "  }\n",
              "\n",
              "  @keyframes spin {\n",
              "    0% {\n",
              "      border-color: transparent;\n",
              "      border-bottom-color: var(--fill-color);\n",
              "      border-left-color: var(--fill-color);\n",
              "    }\n",
              "    20% {\n",
              "      border-color: transparent;\n",
              "      border-left-color: var(--fill-color);\n",
              "      border-top-color: var(--fill-color);\n",
              "    }\n",
              "    30% {\n",
              "      border-color: transparent;\n",
              "      border-left-color: var(--fill-color);\n",
              "      border-top-color: var(--fill-color);\n",
              "      border-right-color: var(--fill-color);\n",
              "    }\n",
              "    40% {\n",
              "      border-color: transparent;\n",
              "      border-right-color: var(--fill-color);\n",
              "      border-top-color: var(--fill-color);\n",
              "    }\n",
              "    60% {\n",
              "      border-color: transparent;\n",
              "      border-right-color: var(--fill-color);\n",
              "    }\n",
              "    80% {\n",
              "      border-color: transparent;\n",
              "      border-right-color: var(--fill-color);\n",
              "      border-bottom-color: var(--fill-color);\n",
              "    }\n",
              "    90% {\n",
              "      border-color: transparent;\n",
              "      border-bottom-color: var(--fill-color);\n",
              "    }\n",
              "  }\n",
              "</style>\n",
              "\n",
              "  <script>\n",
              "    async function quickchart(key) {\n",
              "      const quickchartButtonEl =\n",
              "        document.querySelector('#' + key + ' button');\n",
              "      quickchartButtonEl.disabled = true;  // To prevent multiple clicks.\n",
              "      quickchartButtonEl.classList.add('colab-df-spinner');\n",
              "      try {\n",
              "        const charts = await google.colab.kernel.invokeFunction(\n",
              "            'suggestCharts', [key], {});\n",
              "      } catch (error) {\n",
              "        console.error('Error during call to suggestCharts:', error);\n",
              "      }\n",
              "      quickchartButtonEl.classList.remove('colab-df-spinner');\n",
              "      quickchartButtonEl.classList.add('colab-df-quickchart-complete');\n",
              "    }\n",
              "    (() => {\n",
              "      let quickchartButtonEl =\n",
              "        document.querySelector('#df-03cf1ff2-5c55-4cfd-94a9-604782dfdac4 button');\n",
              "      quickchartButtonEl.style.display =\n",
              "        google.colab.kernel.accessAllowed ? 'block' : 'none';\n",
              "    })();\n",
              "  </script>\n",
              "</div>\n",
              "\n",
              "  <div id=\"id_12ea2b3c-798f-464e-92f4-8b707f1dceb0\">\n",
              "    <style>\n",
              "      .colab-df-generate {\n",
              "        background-color: #E8F0FE;\n",
              "        border: none;\n",
              "        border-radius: 50%;\n",
              "        cursor: pointer;\n",
              "        display: none;\n",
              "        fill: #1967D2;\n",
              "        height: 32px;\n",
              "        padding: 0 0 0 0;\n",
              "        width: 32px;\n",
              "      }\n",
              "\n",
              "      .colab-df-generate:hover {\n",
              "        background-color: #E2EBFA;\n",
              "        box-shadow: 0px 1px 2px rgba(60, 64, 67, 0.3), 0px 1px 3px 1px rgba(60, 64, 67, 0.15);\n",
              "        fill: #174EA6;\n",
              "      }\n",
              "\n",
              "      [theme=dark] .colab-df-generate {\n",
              "        background-color: #3B4455;\n",
              "        fill: #D2E3FC;\n",
              "      }\n",
              "\n",
              "      [theme=dark] .colab-df-generate:hover {\n",
              "        background-color: #434B5C;\n",
              "        box-shadow: 0px 1px 3px 1px rgba(0, 0, 0, 0.15);\n",
              "        filter: drop-shadow(0px 1px 2px rgba(0, 0, 0, 0.3));\n",
              "        fill: #FFFFFF;\n",
              "      }\n",
              "    </style>\n",
              "    <button class=\"colab-df-generate\" onclick=\"generateWithVariable('results_df')\"\n",
              "            title=\"Generate code using this dataframe.\"\n",
              "            style=\"display:none;\">\n",
              "\n",
              "  <svg xmlns=\"http://www.w3.org/2000/svg\" height=\"24px\"viewBox=\"0 0 24 24\"\n",
              "       width=\"24px\">\n",
              "    <path d=\"M7,19H8.4L18.45,9,17,7.55,7,17.6ZM5,21V16.75L18.45,3.32a2,2,0,0,1,2.83,0l1.4,1.43a1.91,1.91,0,0,1,.58,1.4,1.91,1.91,0,0,1-.58,1.4L9.25,21ZM18.45,9,17,7.55Zm-12,3A5.31,5.31,0,0,0,4.9,8.1,5.31,5.31,0,0,0,1,6.5,5.31,5.31,0,0,0,4.9,4.9,5.31,5.31,0,0,0,6.5,1,5.31,5.31,0,0,0,8.1,4.9,5.31,5.31,0,0,0,12,6.5,5.46,5.46,0,0,0,6.5,12Z\"/>\n",
              "  </svg>\n",
              "    </button>\n",
              "    <script>\n",
              "      (() => {\n",
              "      const buttonEl =\n",
              "        document.querySelector('#id_12ea2b3c-798f-464e-92f4-8b707f1dceb0 button.colab-df-generate');\n",
              "      buttonEl.style.display =\n",
              "        google.colab.kernel.accessAllowed ? 'block' : 'none';\n",
              "\n",
              "      buttonEl.onclick = () => {\n",
              "        google.colab.notebook.generateWithVariable('results_df');\n",
              "      }\n",
              "      })();\n",
              "    </script>\n",
              "  </div>\n",
              "\n",
              "    </div>\n",
              "  </div>\n"
            ],
            "application/vnd.google.colaboratory.intrinsic+json": {
              "type": "dataframe",
              "variable_name": "results_df",
              "summary": "{\n  \"name\": \"results_df\",\n  \"rows\": 7,\n  \"fields\": [\n    {\n      \"column\": \"Features\",\n      \"properties\": {\n        \"dtype\": \"string\",\n        \"num_unique_values\": 7,\n        \"samples\": [\n          \"HCDR, VCDR, CDAR\",\n          \"HCDR\",\n          \"HCDR, CDAR\"\n        ],\n        \"semantic_type\": \"\",\n        \"description\": \"\"\n      }\n    },\n    {\n      \"column\": \"CV Accuracy\",\n      \"properties\": {\n        \"dtype\": \"number\",\n        \"std\": 0.022504808215092133,\n        \"min\": 0.7610005338213987,\n        \"max\": 0.8251353618546481,\n        \"num_unique_values\": 7,\n        \"samples\": [\n          0.8251353618546481,\n          0.7610005338213987,\n          0.8037062457103638\n        ],\n        \"semantic_type\": \"\",\n        \"description\": \"\"\n      }\n    },\n    {\n      \"column\": \"CV Sensitivity\",\n      \"properties\": {\n        \"dtype\": \"number\",\n        \"std\": 0.018098680527181995,\n        \"min\": 0.7753623188405797,\n        \"max\": 0.8260869565217391,\n        \"num_unique_values\": 5,\n        \"samples\": [\n          0.8260869565217391,\n          0.8043478260869565,\n          0.7753623188405797\n        ],\n        \"semantic_type\": \"\",\n        \"description\": \"\"\n      }\n    },\n    {\n      \"column\": \"CV Specificity\",\n      \"properties\": {\n        \"dtype\": \"number\",\n        \"std\": 0.05847147460875372,\n        \"min\": 0.6978427895981087,\n        \"max\": 0.8596335697399526,\n        \"num_unique_values\": 6,\n        \"samples\": [\n          0.8596335697399526,\n          0.6978427895981087,\n          0.8594858156028368\n        ],\n        \"semantic_type\": \"\",\n        \"description\": \"\"\n      }\n    },\n    {\n      \"column\": \"CV Precision\",\n      \"properties\": {\n        \"dtype\": \"number\",\n        \"std\": 0.043491707615122735,\n        \"min\": 0.7266554433221101,\n        \"max\": 0.8493685905585219,\n        \"num_unique_values\": 7,\n        \"samples\": [\n          0.8493685905585219,\n          0.7266554433221101,\n          0.8139279078409514\n        ],\n        \"semantic_type\": \"\",\n        \"description\": \"\"\n      }\n    },\n    {\n      \"column\": \"CV F1 Score\",\n      \"properties\": {\n        \"dtype\": \"number\",\n        \"std\": 0.015627479649187027,\n        \"min\": 0.7724808651077875,\n        \"max\": 0.8194017758589753,\n        \"num_unique_values\": 7,\n        \"samples\": [\n          0.8170356213834475,\n          0.7724808651077875,\n          0.7995701903949985\n        ],\n        \"semantic_type\": \"\",\n        \"description\": \"\"\n      }\n    },\n    {\n      \"column\": \"CV AUC\",\n      \"properties\": {\n        \"dtype\": \"number\",\n        \"std\": 0.02499827302272039,\n        \"min\": 0.812891869668003,\n        \"max\": 0.8842249974303629,\n        \"num_unique_values\": 7,\n        \"samples\": [\n          0.8816425120772946,\n          0.812891869668003,\n          0.8816039675197862\n        ],\n        \"semantic_type\": \"\",\n        \"description\": \"\"\n      }\n    },\n    {\n      \"column\": \"Test Accuracy\",\n      \"properties\": {\n        \"dtype\": \"number\",\n        \"std\": 0.028752731639264773,\n        \"min\": 0.8166666666666667,\n        \"max\": 0.9,\n        \"num_unique_values\": 5,\n        \"samples\": [\n          0.8166666666666667,\n          0.8833333333333333,\n          0.9\n        ],\n        \"semantic_type\": \"\",\n        \"description\": \"\"\n      }\n    },\n    {\n      \"column\": \"Test Sensitivity\",\n      \"properties\": {\n        \"dtype\": \"number\",\n        \"std\": 0.008270339601258789,\n        \"min\": 0.8813559322033898,\n        \"max\": 0.8983050847457628,\n        \"num_unique_values\": 2,\n        \"samples\": [\n          0.8813559322033898,\n          0.8983050847457628\n        ],\n        \"semantic_type\": \"\",\n        \"description\": \"\"\n      }\n    },\n    {\n      \"column\": \"Test Specificity\",\n      \"properties\": {\n        \"dtype\": \"number\",\n        \"std\": 0.053540759405096804,\n        \"min\": 0.7540983606557377,\n        \"max\": 0.9180327868852459,\n        \"num_unique_values\": 5,\n        \"samples\": [\n          0.7540983606557377,\n          0.9016393442622951\n        ],\n        \"semantic_type\": \"\",\n        \"description\": \"\"\n      }\n    },\n    {\n      \"column\": \"Test Precision\",\n      \"properties\": {\n        \"dtype\": \"number\",\n        \"std\": 0.044210459485375685,\n        \"min\": 0.7761194029850746,\n        \"max\": 0.9122807017543859,\n        \"num_unique_values\": 6,\n        \"samples\": [\n          0.8833333333333333,\n          0.7761194029850746\n        ],\n        \"semantic_type\": \"\",\n        \"description\": \"\"\n      }\n    },\n    {\n      \"column\": \"Test F1 Score\",\n      \"properties\": {\n        \"dtype\": \"number\",\n        \"std\": 0.024918720201205734,\n        \"min\": 0.8253968253968255,\n        \"max\": 0.8983050847457628,\n        \"num_unique_values\": 6,\n        \"samples\": [\n          0.8907563025210085,\n          0.8253968253968255\n        ],\n        \"semantic_type\": \"\",\n        \"description\": \"\"\n      }\n    },\n    {\n      \"column\": \"Test AUC\",\n      \"properties\": {\n        \"dtype\": \"number\",\n        \"std\": 0.011722713592513999,\n        \"min\": 0.9046957488191165,\n        \"max\": 0.9341483745484858,\n        \"num_unique_values\": 7,\n        \"samples\": [\n          0.9313698249513753,\n          0.9196999166435121\n        ],\n        \"semantic_type\": \"\",\n        \"description\": \"\"\n      }\n    }\n  ]\n}"
            }
          },
          "metadata": {}
        }
      ]
    }
  ]
}